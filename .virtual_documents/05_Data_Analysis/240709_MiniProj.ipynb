!pip install pandas matplotlib seaborn


import pandas as pd
import numpy as np
import matplotlib.pylab as plt
import koreanize_matplotlib 
import seaborn as sns

data = pd.read_table('data/mini.csv',sep=',')
data


sns.set(style="whitegrid")


df = pd.read_csv('data/mini.csv')
print(df.head())


print(df.isnull().sum())


data_CV_target = data[['average_login_time', 'total_completed_courses']]
print(data_CV_target.head())


import matplotlib.pyplot as plt
import matplotlib.font_manager as fm

# 한글 폰트 설정 (Windows에서 맑은 고딕 폰트 사용)
font_path = 'C:/Windows/Fonts/malgun.ttf'  # 사용자 시스템에 맞는 경로로 수정
fontprop = fm.FontProperties(fname=font_path)

plt.rcParams['font.family'] = fontprop.get_name()
plt.rcParams['axes.unicode_minus'] = False  # 마이너스 기호 깨짐 방지


data_CV_target.plot(kind='bar', rot=0)
plt.title('사용자의 일반적인 로그인 시간과 완료한 총 코스 수의 관계')
plt.xlabel('사용자의 일반적인 로그인 시간')
plt.ylabel('완료한 총 코스 수')

plt.show()


counts = data_CV_target.groupby('total_completed_courses')['average_login_time'].value_counts().unstack(fill_value=0)
counts





pip install seaborn --upgrade


df1 = df.preferred_difficulty_level.value_counts()
df1


df1 = df.preferred_difficulty_level.value_counts()
df1.plot.pie(autopct='%.2f%%')
plt.title('선호하는 난이도')
plt.show()


# 선호하는 난이도별 사용자 비율 계산
difficulty_counts = data['preferred_difficulty_level'].value_counts(normalize=True) * 100
difficulty_counts?


# 선호하는 난이도별 구독 연장 비율 계산
difficulty_target = data.groupby('preferred_difficulty_level')['target'].mean() * 100
difficulty_target?


# 데이터프레임 변환
difficulty_df = pd.DataFrame({
    'User Percentage': difficulty_counts,
    'Renewal Rate': difficulty_target
}).reset_index().rename(columns={'index': 'Difficulty Level?'})
difficulty_df








data_sub_target = data[['recent_login_time', 'target']]
data_sub_target


sub_counts = data_sub_target.groupby('recent_login_time')['target'].value_counts().unstack(fill_value=0)
sub_counts


sub_counts.plot(kind='bar', rot=0)
plt.title('사용자가 마지막으로 로그인한 시간과 구독 연장의 관계')
plt.xlabel('사용자가 마지막으로 로그인한 시간 (일)')
plt.ylabel('구독 연장 고객수')


plt.show()





data_sub_target = data[['subscription_type', 'target']]
data_sub_target


sub_counts = data_sub_target.groupby('subscription_type')['target'].value_counts().unstack(fill_value=0)
sub_counts


sub_counts.plot(kind='bar', rot=0)
plt.title('구독 유형과 구독 연장의 관계')
plt.xlabel('구독 유형')
plt.ylabel('구독 연장 고객수')


plt.show()





data_sub_target = data[['recent_learning_achievement', 'target']]
data_sub_target


sub_counts = data_sub_target.groupby('recent_learning_achievement')['target'].value_counts().unstack(fill_value=0)
sub_counts


sub_counts.plot(kind='bar', rot=0)
plt.title('최근 학습 성취도와 구독 연장의 관계')
plt.xlabel('최근 학습 성취도')
plt.ylabel('구독 연장 고객수')


plt.show()


sub_counts.plot(kind='line', rot=0)
plt.title('최근 학습 성취도와 구독 연장의 관계')
plt.xlabel('최근 학습 성취도')
plt.ylabel('구독 연장 고객수')


plt.show()





# 두 변수 간의 상관 계수 계산
correlation_matrix = data[['recent_learning_achievement', 'target']].corr()


# 히트맵으로 시각화
plt.figure(figsize=(6, 4))
sns.heatmap(correlation_matrix, annot=True, cmap='coolwarm', vmin=-1, vmax=1, )
plt.title('최근 학습 성취도와 구독 연장의 관계')
plt.show()





# 피벗 테이블 생성: subscription_duration과 payment_pattern 조합에 대한 target 평균값 계산
pivot_table = data.pivot_table(values='target', index='subscription_duration', columns='payment_pattern', aggfunc='mean')


# 피벗 테이블 생성: subscription_duration과 payment_pattern 조합에 대한 target 평균값 계산
pivot_table = data.pivot_table(values='target', index='subscription_duration', columns='payment_pattern', aggfunc='mean', fill_value=0)



# 히트맵으로 시각화
plt.figure(figsize=(12, 8))
sns.heatmap(pivot_table, annot=True, cmap='coolwarm', vmin=0, vmax=1)
plt.title('Heatmap of Target=1 Rate by Subscription Duration and Payment Pattern')
plt.xlabel('Payment Pattern')
plt.ylabel('Subscription Duration')
plt.show()


df_freq = data[['average_login_time', 'total_completed_courses', 'recent_login_time', 'recent_learning_achievement', 'payment_pattern', 'abandoned_learning_sessions', 'monthly_active_learning_days', 'target']]


corr = df_freq.corr()
new_index = {'average_login_time': '일반적인 로그인 시간', 'total_completed_courses': '완료한 총 코스 수', 'recent_login_time': '마지막 로그인 시간 (일)', 'recent_learning_achievement': '최근 학습 성취도', 'payment_pattern': '결제 패턴', 'abandoned_learning_sessions': '중단된 학습 세션 수', 'monthly_active_learning_days': '월간 활동적인 학습 일수', 'target': '서비스 구독 연장'}
new_columns = {'average_login_time': '일반적인 로그인 시간', 'total_completed_courses': '완료한 총 코스 수', 'recent_login_time': '마지막 로그인 시간 (일)', 'recent_learning_achievement': '최근 학습 성취도', 'payment_pattern': '결제 패턴', 'abandoned_learning_sessions': '중단된 학습 세션 수', 'monthly_active_learning_days': '월간 활동적인 학습 일수', 'target': '서비스 구독 연장'}
corr = corr.rename(columns=new_columns, index=new_index)
corr


import seaborn as sns
from sklearn.ensemble import RandomForestClassifier
from sklearn.model_selection import train_test_split
from sklearn.metrics import accuracy_score

plt.figure(figsize=(11, 9))
sns.heatmap(corr, annot=True, fmt=".1%", cmap='YlOrBr')
plt.xticks(rotation= -15)
plt.yticks(rotation= 0)
plt.show()





data[['preferred_difficulty_level', 'target']]


data['preferred_difficulty_level'].sort_values


data['preferred_difficulty_level'].value_counts()


data[data['preferred_difficulty_level']=='Low']['target'].value_counts()


data[data['preferred_difficulty_level']=='Medium']['target'].value_counts()


data[data['preferred_difficulty_level']=='High']['target'].value_counts()


# 전체 유저 수
total_users = len(data)

# 각 난이도별 유저 수
difficulty_counts = data['preferred_difficulty_level'].value_counts()

# 전체 구독 연장(target=1) 유저 수
total_target_1 = data[data['target'] == 1].shape[0]

# 전체 구독 취소(target=0) 유저 수
total_target_0 = data[data['target'] == 0].shape[0]

# 각 난이도별 구독 연장(target=1) 유저 수
target_1_counts = data[data['target'] == 1]['preferred_difficulty_level'].value_counts()

# 각 난이도별 구독 취소(target=0) 유저 수
target_0_counts = data[data['target'] == 0]['preferred_difficulty_level'].value_counts()

# A: 각 난이도 유저 수 / 전체 유저 수 * 100
A = (difficulty_counts / total_users) * 100

# B: 각 난이도에서 구독 연장(target==1) 비율 / 전체 구독 연장(target==1) 유저 수 * 100
B = (target_1_counts / total_target_1) * 100

# C: 각 난이도에서 구독 취소(target==0) 비율 / 전체 구독 취소(target==0) 유저 수 * 100
C = (target_0_counts / total_target_0) * 100

# 데이터프레임으로 변환
difficulty_df = pd.DataFrame({
    'A': A,
    'B': B,
    'C': C
}).reset_index().rename(columns={'index': 'preferred_difficulty_level'})

# 결측값 처리 (B와 C에서 Nan 값은 0으로 대체)
difficulty_df = difficulty_df.fillna(0)


import matplotlib.pyplot as plt

# 막대 그래프로 시각화
ax = difficulty_df.set_index('preferred_difficulty_level').plot(kind='bar', rot=0, figsize=(10, 6))
plt.title('선호하는 난이도별 A, B, C 비율')
plt.xlabel('선호하는 난이도')
plt.ylabel('비율 (%)')
plt.legend(['A: 각 난이도 유저 수 비율', 'B: 구독 연장 비율', 'C: 구독 취소 비율'])
plt.show()









# 전체 유저 수
total_users = len(data)

# 각 난이도별 유저 수
difficulty_counts = data['preferred_difficulty_level'].value_counts()

# 각 난이도별 구독 연장(target==1) 유저 수
target_1_counts = data[data['target'] == 1]['preferred_difficulty_level'].value_counts()

# 각 난이도별 구독 취소(target==0) 유저 수
target_0_counts = data[data['target'] == 0]['preferred_difficulty_level'].value_counts()

# A: 각 난이도 유저 수 / 전체 유저 수 * 100
A = (difficulty_counts / total_users) * 100

# B: 각 난이도에서 구독 연장(target==1) 비율
B = (target_1_counts / difficulty_counts) * 100

# C: 각 난이도에서 구독 취소(target==0) 비율
C = (target_0_counts / difficulty_counts) * 100

# 데이터프레임으로 변환
difficulty_df = pd.DataFrame({
    'A': A,
    'B': B,
    'C': C
}).reset_index().rename(columns={'index': 'preferred_difficulty_level'})

# 결측값 처리 (B와 C에서 Nan 값은 0으로 대체)
difficulty_df = difficulty_df.fillna(0)


import matplotlib.pyplot as plt

# 막대 그래프로 시각화
ax = difficulty_df.set_index('preferred_difficulty_level').plot(kind='bar', rot=0, figsize=(10, 6))
plt.title('b선호하는 난이도별 A, B, C 비율')
plt.xlabel('선호하는 난이도')
plt.ylabel('비율 (%)')
plt.legend(['A: 각 난이도 유저 수 비율', 'B: 해당 난이도에서 구독 연장 비율', 'C: 해당 난이도에서 구독 취소 비율'])
plt.show()









# 전체 유저 수
total_users = len(data)

# 각 난이도별 유저 수
difficulty_counts = data['preferred_difficulty_level'].value_counts()

# 각 난이도별 구독 연장(target==1) 유저 수
target_1_counts = data[data['target'] == 1]['preferred_difficulty_level'].value_counts()

# 각 난이도별 구독 취소(target==0) 유저 수
target_0_counts = data[data['target'] == 0]['preferred_difficulty_level'].value_counts()

# A: 각 난이도 유저 수
A = difficulty_counts

# B: 각 난이도에서 구독 연장(target==1)인원
B = target_1_counts

# C: 각 난이도에서 구독 취소(target==0)인원
C = target_0_counts

# 데이터프레임으로 변환
difficulty_df = pd.DataFrame({
    'A': A,
    'B': B,
    'C': C
}).reset_index().rename(columns={'index': 'preferred_difficulty_level'})

# 결측값 처리 (B와 C에서 Nan 값은 0으로 대체)
difficulty_df = difficulty_df.fillna(0)


import matplotlib.pyplot as plt

# 막대 그래프로 시각화
ax = difficulty_df.set_index('preferred_difficulty_level').plot(kind='bar', rot=0, figsize=(10, 6))
plt.title('선호하는 난이도별 A, B, C 분석')
plt.xlabel('선호하는 난이도')
plt.ylabel('유저수')
plt.legend(['A: 각 난이도 유저 수', 'B: 해당 난이도에서 구독 연장 유저 수', 'C: 해당 난이도에서 구독 취소 유저 수'])
plt.show()


ax = difficulty_df.set_index('preferred_difficulty_level').plot(kind='line', rot=0, figsize=(10, 6))
plt.title('선호하는 난이도별 A, B, C 분석')
plt.xlabel('선호하는 난이도')
plt.ylabel('유저수')
plt.legend(['A: 각 난이도 유저 수', 'B: 해당 난이도에서 구독 연장 유저 수', 'C: 해당 난이도에서 구독 취소 유저 수'])
plt.show()





# 각 난이도별 유저 수 계산
difficulty_counts = data['preferred_difficulty_level'].value_counts(normalize=False)


# 전체 유저 수
total_users = len(data)



# A: 각 난이도 유저 수 / 전체 유저 수 * 100
A = (difficulty_counts / total_users) * 100

# 각 난이도별 target이 1인 유저 수
target_1_counts = data[data['target'] == 1]['preferred_difficulty_level'].value_counts(normalize=False)

# 각 난이도별 target이 0인 유저 수
target_0_counts = data[data['target'] == 0]['preferred_difficulty_level'].value_counts(normalize=False)

# B: A / target이 1인 유저 수 * 100
B = (target_1_counts / difficulty_counts) * 100

# C: A / target이 0인 유저 수 * 100
C = (target_0_counts / difficulty_counts) * 100

# 데이터프레임으로 변환
difficulty_df = pd.DataFrame({
    'A': A,
    'B': B,
    'C': C
}).reset_index().rename(columns={'index': 'preferred_difficulty_level'})

# 결측값 처리 (B와 C에서 Nan 값은 0으로 대체)
difficulty_df = difficulty_df.fillna(0)

target_1_counts.value_counts()


# 막대 그래프로 시각화
difficulty_df.set_index('preferred_difficulty_level').plot(kind='bar', rot=0)
plt.title('선호하는 난이도별 A, B, C 비율')
plt.xlabel('선호하는 난이도')
plt.ylabel('비율 (%)')
plt.legend(['A: 각 난이도 유저 수 비율', 'B: 구독 연장 비율', 'C: 구독 취소 비율'])
plt.show()


# 완료한 총 코스 수의 분포를 확인합니다.
plt.figure(figsize=(10, 6))
sns.histplot(data['total_completed_courses'], bins=30, kde=True, color="green")
plt.title('완료한 총 코스 분포')
plt.xlabel('완료한 총 코스 수')
plt.ylabel('빈도수')
plt.show()



# 사용자의 일반적인 로그인 시간의 분포를 확인합니다.
plt.figure(figsize=(10, 6))
sns.histplot(data['average_login_time'], bins=30, kde=True, color="green")
plt.title('사용자의 일반적인 로그인 시간 분포')
plt.xlabel('사용자의 일반적인 로그인 시간')
plt.ylabel('분류')
plt.show()



df1 = df.average_login_time.value_counts()
df1


# 구독 기간의 분포를 확인합니다.
plt.figure(figsize=(10, 6))
sns.histplot(data['subscription_duration'], bins=30, kde=True)
plt.title('사용자가 서비스에 가입한 기간 분포')
plt.xlabel('사용자가 서비스에 가입한 기간 (월)')
plt.ylabel('빈도수')
plt.show()


# 월간 활성 학습 일수의 분포를 확인합니다.
plt.figure(figsize=(10, 6))
sns.histplot(data['monthly_active_learning_days'], bins=30, kde=True, color="green")
plt.title('월간 활성 학습 일수 분포')
plt.xlabel('월간 활성 학습 일수')
plt.ylabel('빈도수')
plt.show()


data.subscription_type?


df_freq = data[['average_login_time', 'total_completed_courses', 'recent_login_time', 'recent_learning_achievement', 'average_time_per_learning_session', 'abandoned_learning_sessions', 'community_engagement_level', 'monthly_active_learning_days']]


#수정된 가설에 대한 히트맵
corr = df_freq.corr()
new_index = {'average_login_time': '일반적인 로그인 시간', 'total_completed_courses': '완료한 총 코스 수', 'recent_login_time': '마지막 로그인 시간 (일)', 'recent_learning_achievement': '최근 학습 성취도', 'average_time_per_learning_session': '각 학습 세션에 소요된 평균 시간 (분)', 'abandoned_learning_sessions': '중단된 학습 세션 수', 'community_engagement_level': '커뮤니티 참여도', 'monthly_active_learning_days': '월간 활동적인 학습 일수'}
new_columns = {'average_login_time': '일반적인 로그인 시간', 'total_completed_courses': '완료한 총 코스 수', 'recent_login_time': '마지막 로그인 시간 (일)', 'recent_learning_achievement': '최근 학습 성취도', 'average_time_per_learning_session': '각 학습 세션에 소요된 평균 시간 (분)', 'abandoned_learning_sessions': '중단된 학습 세션 수', 'community_engagement_level': '커뮤니티 참여도', 'monthly_active_learning_days': '월간 활동적인 학습 일수'}
corr = corr.rename(columns=new_columns, index=new_index)
corr


plt.figure(figsize=(11, 9))
sns.heatmap(corr, annot=True, fmt=".1%", cmap='YlOrBr')
plt.xticks(rotation=45, ha='right', fontsize=10)
plt.yticks(rotation= 0)
plt.show()


plt.figure(figsize=(10, 6))
sns.histplot(data['average_time_per_learning_session'], bins=50, kde=True, color="navy")
plt.title('각 학습 세션에 소요된 평균 시간 분포')
plt.xlabel('각 학습 세션에 소요된 평균 시간 (분)')
plt.ylabel('빈도수')
plt.xlim(0, 200) # 이상치가 많을 것으로 예상되므로 x축 범위를 제한합니다.
plt.show()
