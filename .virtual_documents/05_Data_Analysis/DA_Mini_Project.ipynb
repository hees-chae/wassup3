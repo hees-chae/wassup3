


import pandas as pd
import numpy as np
import matplotlib.pylab as plt
import koreanize_matplotlib 

data = pd.read_table('data/mini.csv',sep=',')
data


df = pd.read_csv('data/mini.csv')
df.nunique()












