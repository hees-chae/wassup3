





pip list


pip install bs4


pip install lxml





from bs4 import BeautifulSoup
import lxml


BeautifulSoup?


# sample
html = '''
<div id=prices >
    <table >
        <tr class=bb>
            <th class="bb lm lft">Date
            <th class="rgt bb">Open
            <th class="rgt bb">High
            <th class="rgt bb">Low
            <th class="rgt bb">Close
            <th class="rgt bb rm">Volume
        <tr>
            <td class="lm">Feb 28, 2014
            <td class="rgt">100.71
            <td class="rgt">100.71
            <td class="rgt">100.71
            <td class="rgt">100.71
            <td class="rgt rm">0
     </table>
'''


# Lxml 의 HTML 파서
BeautifulSoup(html, 'lxml')


# 파이썬 표준 html 파서
BeautifulSoup(html, 'html.parser')





pwd


html_file = open('sample/market.html', encoding='utf-8')
html_file


html_src = html_file.read()
html_file.close()


html_src


print(html_src)


# DOM 구조로 변환(구문 분석)
soup = BeautifulSoup(html_src, 'lxml')


type(soup)


soup


## 메서드를 이용



soup.select('p')


soup.select_one('p')


## css 셀렉터 문법
soup.select('#orange') #id속성


soup.select_one('#orange') #id속성


soup.select('.price') # class 속성


type(soup.select('.price'))


# AND 관계
soup.select('p#orange')


# OR관계
soup.select('a, store')


soup.select('.fruit.best')


soup.select('.fruit.best>a') # > = 자식관계


type(soup.select('.fruit.best a')[0])


soup.select('.fruit.best a')[0].txt


mylist = soup.select('.fruit.best a)[0]



























