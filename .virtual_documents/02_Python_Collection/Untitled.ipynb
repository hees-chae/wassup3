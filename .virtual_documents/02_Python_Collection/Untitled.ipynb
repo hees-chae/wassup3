


url = 'http://naver.com'
driver = webdriver.Chrome(options=options)
driver.get(url)
time.sleep(2)





title = driver.title
url = driver.current_url
handle = driver.current_window_handle
print(title, url, handle)


# 셀레니움 라이브러리 설치
!pip install selenium


from selenium import webdriver
from selenium.webdriver.common.by import By
from selenium.webdriver.chrome.options import Options
import time

options = Options()
# options.add_argument("--start-maximized")
# options.add_argument("--headless=new") 
options.add_experimental_option("detach", True) #특정함수안에서  드라이버 생성시 함수종료될 때 브라우저 같이 종료되는 문제 대응


url = 'http://naver.com'
driver = webdriver.Chrome(options=options) # 객체 생성

driver.get(url) # 실행 

time.sleep(2) 





from selenium import webdriver
from selenium.webdriver.common.by import By
from selenium.webdriver.chrome.options import Options
import time

options = Options()
options.add_argument("--headless=new") 
# options.add_argument('--window-size= x, y') #실행되는 브라우저 크기를 지정할 수 있습니다.
# options.add_argument('--start-maximized') #브라우저가 최대화된 상태로 실행됩니다.
# options.add_argument('--start-fullscreen') #브라우저가 풀스크린 모드(F11)로 실행됩니다.
# options.add_argument('--blink-settings=imagesEnabled=false') #브라우저에서 이미지 로딩을 하지 않습니다.
# options.add_argument('--mute-audio') #브라우저에 음소거 옵션을 적용합니다.
# options.add_argument('incognito') #시크릿 모드의 브라우저가 실행됩니다.
options.add_experimental_option("detach", True) #특정함수안에서  드라이버 생성시 함수종료될 때 브라우저 같이 종료되는 문제 대응


url = 'http://naver.com'
driver = webdriver.Chrome(options=options)
driver.get(url)
time.sleep(2)


print(driver.title)


driver.quit() # 탭 닫기





from selenium import webdriver
from selenium.webdriver.common.by import By
from selenium.webdriver.chrome.options import Options
import time

options = Options()
# options.add_argument("--start-maximized")
# options.add_argument("--headless=new") 
options.add_experimental_option("detach", True) #

url = 'http://naver.com'
driver = webdriver.Chrome(options=options)
driver.get(url)
time.sleep(2)











driver.set_window_size(800, 600)






position = driver.get_window_position()
x = position.get('x')
y = position.get('y')

print("x : "+str(x)+" "+"y : "+str(y))


driver.set_window_position(200,200)


# 창 크기 최대화
driver.maximize_window()


# 창 크기 최소화
driver.minimize_window()


# 전체 화면
driver.fullscreen_window()


# 스크린 샷
driver.save_screenshot('./image.png')


driver.close()





from selenium import webdriver
from selenium.webdriver.common.by import By
from selenium.webdriver.chrome.options import Options
import time, random, pandas as pd

options = Options()
options.add_argument('--window-size=974,1047')
options.add_argument('--window-position=-7,0')
options.add_experimental_option("detach", True)


# 웹드라이버 로드
driver = webdriver.Chrome( options = options)


# 조건 설정
where = 'blog'
query = '인공지능'
dateform = '20240101to20240625'
url = f'https://search.naver.com/search.naver?ssc=tab.blog.all&query=%EC%9D%B8%EA%B3%B5%EC%A7%80%EB%8A%A5&sm=tab_opt&nso=so%3Ar%2Cp%3Afrom20240101to20240625'
# url = f'https://search.naver.com/search.naver?where={where}&query={query}&sm=tab_op&nso=so:r,p:from{dateform}'
fname = f'{where}_{query}_{dateform}'


# url 접속
driver.get(url)
time.sleep(random.randint(2,3))





#네이버 뷰는 최대 1050까지만 노출
# 스크롤 10번
for i in range(10):
    driver.execute_script('window.scrollTo(0, document.body.scrollHeight);')
    time.sleep(random.randint(2, 3))


# get_view()
views = driver.find_elements(By.CSS_SELECTOR, '.lst_view .bx')
result = []

for view in views:
    con_dict = {}
    con_dict['title'] = view.find_element(By.CSS_SELECTOR, '.title_link').text
    con_dict['text'] = view.find_element(By.CSS_SELECTOR, '.dsc_link').text
    con_dict['date'] = view.find_element(By.CSS_SELECTOR, '.sub').text
    result.append(con_dict)
    print(con_dict)
    
print('완료')


views = driver.find_elements(By.CSS_SELECTOR, '.lst_view .view_wrap')
result = []

for view in views:
    con_dict = {}
    con_dict['title'] = view.find_element(By.CSS_SELECTOR, '.title_link').text.strip()
    con_dict['text'] = view.find_element(By.CSS_SELECTOR, '.dsc_link').text.strip()
    con_dict['date'] = view.find_element(By.CSS_SELECTOR, '.sub').text.strip()
    result.append(con_dict)
    print(con_dict)

print('완료')


#저장된 게시물 리스트를 데이터프레임으로 변환후 csv로 저장
df = pd.DataFrame(result)
df


#데이터 프레임 저장
# csv는 sep 쉼표가 반드시 있어야 한글이 안깨짐
df.to_csv(f'./naver_{fname}.csv', sep=',', encoding='utf-8-sig')


from selenium import webdriver
from selenium.webdriver.common.by import By
from selenium.webdriver.chrome.options import Options
import time, random, pandas as pd

options = Options()
options.add_argument('--window-size=974,1047')
options.add_argument('--window-position=-7,0')
options.add_experimental_option("detach", True)

driver = webdriver.Chrome( options = options)
url = 'https://play.google.com/store/apps/details?id=com.estsoft.picnic'
driver.get(url)
time.sleep(random.randint(2,3))


# 리뷰 더보기 클릭
xpath = '//*[@id="yDmH0d"]/c-wiz[2]/div/div/div[1]/div/div[2]/div/div[1]/div[1]/c-wiz[5]/section/div/div[2]/div[5]/div/div/button/span'
driver.find_element(By.XPATH, xpath).click()
time.sleep(random.randint(2, 3))


#
