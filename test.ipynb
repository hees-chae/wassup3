{
 "cells": [
  {
   "cell_type": "code",
   "execution_count": 4,
   "id": "edd5e42e-1703-4492-9d63-bae0fbaa3abe",
   "metadata": {},
   "outputs": [
    {
     "name": "stdout",
     "output_type": "stream",
     "text": [
      "hello\n"
     ]
    }
   ],
   "source": [
    "print(\"hello\")"
   ]
  },
  {
   "cell_type": "markdown",
   "id": "be143f81-1611-4c99-b23a-b98ceb75cf98",
   "metadata": {},
   "source": [
    "##ㅇㄹㅇㄹㄹㅇㄹ"
   ]
  },
  {
   "cell_type": "markdown",
   "id": "dcc46508-9a6a-4873-98ca-9ba300f1fc42",
   "metadata": {},
   "source": [
    "*빨강\n",
    "    *녹색\n",
    "        *파랑\n",
    "    "
   ]
  },
  {
   "cell_type": "markdown",
   "id": "30eb2ac0-8e92-49fd-bc89-4012c656f919",
   "metadata": {},
   "source": [
    "+빨강\n",
    "    +파랑\n",
    "        +초록"
   ]
  },
  {
   "cell_type": "markdown",
   "id": "9868147b-6f4b-4d67-8f8f-ec677b4cac53",
   "metadata": {},
   "source": [
    "# this is\n",
    "## this is\n",
    "### this is\n"
   ]
  },
  {
   "cell_type": "markdown",
   "id": "5af9e45b-4bf4-4d22-a144-46c3fb164512",
   "metadata": {},
   "source": [
    "Link: [google][googlelink]\n",
    "[googlelink]: https:google.com \"Go google\""
   ]
  },
  {
   "cell_type": "code",
   "execution_count": null,
   "id": "ddb61288-c46e-45eb-a0ca-183bdc23ea37",
   "metadata": {},
   "outputs": [],
   "source": []
  }
 ],
 "metadata": {
  "kernelspec": {
   "display_name": "Python 3 (ipykernel)",
   "language": "python",
   "name": "python3"
  },
  "language_info": {
   "codemirror_mode": {
    "name": "ipython",
    "version": 3
   },
   "file_extension": ".py",
   "mimetype": "text/x-python",
   "name": "python",
   "nbconvert_exporter": "python",
   "pygments_lexer": "ipython3",
   "version": "3.11.7"
  }
 },
 "nbformat": 4,
 "nbformat_minor": 5
}
