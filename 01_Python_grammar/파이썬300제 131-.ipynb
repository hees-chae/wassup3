{
 "cells": [
  {
   "cell_type": "markdown",
   "id": "9408df54-bff4-4e1b-a8bc-e46cd202c1f6",
   "metadata": {},
   "source": [
    "#131 \n",
    "사과\n",
    "귤 수박"
   ]
  },
  {
   "cell_type": "code",
   "execution_count": null,
   "id": "504554d9-90d5-454d-aaf0-bd70f1162311",
   "metadata": {},
   "outputs": [],
   "source": [
    "#132\n",
    "#####\n",
    "#####\n",
    "#####"
   ]
  },
  {
   "cell_type": "code",
   "execution_count": 4,
   "id": "7e08e9dc-2edd-4343-bbcc-a308875dad65",
   "metadata": {},
   "outputs": [
    {
     "name": "stdout",
     "output_type": "stream",
     "text": [
      "A\n",
      "B\n",
      "C\n"
     ]
    }
   ],
   "source": [
    "#133\n",
    "print(\"A\")\n",
    "print(\"B\")\n",
    "print(\"C\")"
   ]
  },
  {
   "cell_type": "code",
   "execution_count": 6,
   "id": "9d902117-a7b8-4c5b-8366-01949ac10bb1",
   "metadata": {},
   "outputs": [
    {
     "name": "stdout",
     "output_type": "stream",
     "text": [
      "출력: A\n",
      "출력: B\n",
      "출력: C\n"
     ]
    }
   ],
   "source": [
    "#134\n",
    "print(\"출력:\", \"A\")\n",
    "print(\"출력:\", \"B\")\n",
    "print(\"출력:\", \"C\")"
   ]
  },
  {
   "cell_type": "code",
   "execution_count": 8,
   "id": "4e699cd1-e6b6-4e69-9eab-5918e12886d1",
   "metadata": {},
   "outputs": [
    {
     "name": "stdout",
     "output_type": "stream",
     "text": [
      "변환: a\n",
      "변환: b\n",
      "변환: c\n"
     ]
    }
   ],
   "source": [
    "#135\n",
    "변수 = \"A\"\n",
    "b = 변수.lower()\n",
    "print(\"변환:\", b)\n",
    "변수 = \"B\"\n",
    "b = 변수.lower()\n",
    "print(\"변환:\", b)\n",
    "변수 = \"C\"\n",
    "b = 변수.lower()\n",
    "print(\"변환:\", b)"
   ]
  },
  {
   "cell_type": "code",
   "execution_count": 15,
   "id": "24cefa97-9585-43ba-8a46-68ef7a86f140",
   "metadata": {},
   "outputs": [
    {
     "name": "stdout",
     "output_type": "stream",
     "text": [
      "10\n",
      "20\n",
      "30\n"
     ]
    }
   ],
   "source": [
    "#136\n",
    "for 변수 in [10, 20, 30]:\n",
    "    print(변수)"
   ]
  },
  {
   "cell_type": "code",
   "execution_count": 14,
   "id": "16a63eb0-9aa9-4786-b80d-20c0eba9a61b",
   "metadata": {},
   "outputs": [
    {
     "name": "stdout",
     "output_type": "stream",
     "text": [
      "10\n",
      "20\n",
      "30\n"
     ]
    }
   ],
   "source": [
    "#137\n",
    "for 변수 in [10, 20, 30]:\n",
    "    print(변수)"
   ]
  },
  {
   "cell_type": "code",
   "execution_count": 19,
   "id": "3887a32b-bcd4-4336-9030-0e2559936264",
   "metadata": {},
   "outputs": [
    {
     "name": "stdout",
     "output_type": "stream",
     "text": [
      "10\n",
      "------\n",
      "20\n",
      "------\n",
      "30\n",
      "------\n"
     ]
    }
   ],
   "source": [
    "#138\n",
    "for 변수 in [10, 20, 30]:\n",
    "    print(변수)\n",
    "    print(\"------\")"
   ]
  },
  {
   "cell_type": "code",
   "execution_count": 22,
   "id": "e9e4e50b-bdc7-44c1-ad11-a08a093d0309",
   "metadata": {},
   "outputs": [
    {
     "name": "stdout",
     "output_type": "stream",
     "text": [
      "++++\n",
      "10\n",
      "20\n",
      "30\n"
     ]
    }
   ],
   "source": [
    "#139\n",
    "print(\"++++\")\n",
    "for 변수 in [10, 20, 30]:\n",
    "    print(변수)"
   ]
  },
  {
   "cell_type": "code",
   "execution_count": 24,
   "id": "ab64a1a5-7f2d-4421-b562-74b03a8d8680",
   "metadata": {},
   "outputs": [
    {
     "name": "stdout",
     "output_type": "stream",
     "text": [
      "-------\n",
      "-------\n",
      "-------\n",
      "-------\n"
     ]
    }
   ],
   "source": [
    "#140\n",
    "for 변수 in [1, 2, 3, 4]:\n",
    "    print(\"-------\")"
   ]
  },
  {
   "cell_type": "code",
   "execution_count": 26,
   "id": "7b7cdcd1-9a7e-452d-b5c4-076314fe265b",
   "metadata": {},
   "outputs": [
    {
     "name": "stdout",
     "output_type": "stream",
     "text": [
      "110\n",
      "210\n",
      "310\n"
     ]
    }
   ],
   "source": [
    "#141\n",
    "for 변수 in [100, 200, 300]:\n",
    "    print(변수 +10)"
   ]
  },
  {
   "cell_type": "code",
   "execution_count": 29,
   "id": "8501b672-3e95-4ff6-abe4-0e8dcb7e739d",
   "metadata": {},
   "outputs": [
    {
     "name": "stdout",
     "output_type": "stream",
     "text": [
      "오늘의 메뉴: 김밥\n",
      "오늘의 메뉴: 라면\n",
      "오늘의 메뉴: 튀김\n"
     ]
    }
   ],
   "source": [
    "#142\n",
    "리스트 = [\"김밥\", \"라면\", \"튀김\"]\n",
    "for 변수 in 리스트:\n",
    "    print(\"오늘의 메뉴:\",변수)"
   ]
  },
  {
   "cell_type": "code",
   "execution_count": 30,
   "id": "8e8dcb41-0480-4a8e-b926-b6fbd8538992",
   "metadata": {},
   "outputs": [
    {
     "name": "stdout",
     "output_type": "stream",
     "text": [
      "6\n",
      "4\n",
      "4\n"
     ]
    }
   ],
   "source": [
    "#143\n",
    "리스트 = [\"SK하이닉스\", \"삼성전자\", \"LG전자\"]\n",
    "for 변수 in 리스트:\n",
    "    길이 = len(변수)\n",
    "    print(길이)"
   ]
  },
  {
   "cell_type": "code",
   "execution_count": 32,
   "id": "940c11d4-113f-405e-a951-ec3f132d43aa",
   "metadata": {},
   "outputs": [
    {
     "name": "stdout",
     "output_type": "stream",
     "text": [
      "dog 3\n",
      "cat 3\n",
      "parrot 6\n"
     ]
    }
   ],
   "source": [
    "#144\n",
    "리스트 = ['dog', 'cat', 'parrot']\n",
    "for 동물 in 리스트:\n",
    "    글자수 = len(동물)\n",
    "    print(동물, 글자수)"
   ]
  },
  {
   "cell_type": "code",
   "execution_count": 33,
   "id": "bfde1cda-b787-4611-bdf2-8dd0118c3393",
   "metadata": {},
   "outputs": [
    {
     "name": "stdout",
     "output_type": "stream",
     "text": [
      "d\n",
      "c\n",
      "p\n"
     ]
    }
   ],
   "source": [
    "#145\n",
    "리스트 = ['dog', 'cat', 'parrot']\n",
    "for 동물 in 리스트:\n",
    "    print(동물[0])"
   ]
  },
  {
   "cell_type": "code",
   "execution_count": 43,
   "id": "0776d665-aee1-4ac6-84fd-b95252eb56c7",
   "metadata": {},
   "outputs": [
    {
     "name": "stdout",
     "output_type": "stream",
     "text": [
      "3 x 1\n",
      "3 x 2\n",
      "3 x 3\n"
     ]
    }
   ],
   "source": [
    "#146\n",
    "리스트 = [1, 2, 3]\n",
    "for num in 리스트:\n",
    "    print(\"3 x\", num)"
   ]
  },
  {
   "cell_type": "code",
   "execution_count": 40,
   "id": "cc52acf9-5a6f-46e2-8546-5f8d64201d65",
   "metadata": {},
   "outputs": [
    {
     "name": "stdout",
     "output_type": "stream",
     "text": [
      "3 x 1 = 3\n",
      "3 x 2 = 6\n",
      "3 x 3 = 9\n"
     ]
    }
   ],
   "source": [
    "#147\n",
    "리스트 = [1, 2, 3]\n",
    "for num in 리스트:\n",
    "    num1 = num * 3\n",
    "    print(\"3 x\", num, \"=\", num1)"
   ]
  },
  {
   "cell_type": "code",
   "execution_count": 49,
   "id": "abbb164e-5276-4b56-b329-51126bea5ec5",
   "metadata": {},
   "outputs": [
    {
     "name": "stdout",
     "output_type": "stream",
     "text": [
      "나\n",
      "다\n",
      "라\n"
     ]
    }
   ],
   "source": [
    "#148\n",
    "리스트 = [\"가\", \"나\", \"다\", \"라\"]\n",
    "for w in 리스트[1:]:\n",
    "    print(w)"
   ]
  },
  {
   "cell_type": "code",
   "execution_count": 55,
   "id": "3f5c66a6-4eef-496d-8f1e-05b35e8b35b4",
   "metadata": {},
   "outputs": [
    {
     "name": "stdout",
     "output_type": "stream",
     "text": [
      "가\n",
      "다\n"
     ]
    }
   ],
   "source": [
    "#149\n",
    "리스트 = [\"가\", \"나\", \"다\", \"라\"]\n",
    "for w in 리스트[::2]:\n",
    "    print(w)"
   ]
  },
  {
   "cell_type": "code",
   "execution_count": 56,
   "id": "c261c33a-d835-4f0c-a5e2-a93517c2543c",
   "metadata": {},
   "outputs": [
    {
     "name": "stdout",
     "output_type": "stream",
     "text": [
      "라\n",
      "다\n",
      "나\n",
      "가\n"
     ]
    }
   ],
   "source": [
    "#150\n",
    "리스트 = [\"가\", \"나\", \"다\", \"라\"]\n",
    "for w in 리스트[::-1]:\n",
    "    print(w)"
   ]
  },
  {
   "cell_type": "code",
   "execution_count": 62,
   "id": "f85ee204-95d0-49fd-a785-c50dcee8117e",
   "metadata": {},
   "outputs": [
    {
     "name": "stdout",
     "output_type": "stream",
     "text": [
      "-20\n",
      "-3\n"
     ]
    }
   ],
   "source": [
    "#151\n",
    "리스트 = [3, -20, -3, 44]\n",
    "for n in 리스트:\n",
    "    if n < 0:\n",
    "        print(n)"
   ]
  },
  {
   "cell_type": "code",
   "execution_count": 70,
   "id": "4267419b-7d23-454f-894d-521f297537d0",
   "metadata": {},
   "outputs": [
    {
     "name": "stdout",
     "output_type": "stream",
     "text": [
      "3\n"
     ]
    }
   ],
   "source": [
    "#152\n",
    "리스트 = [3, 100, 23, 44]\n",
    "for n in 리스트:\n",
    "    if n % 3 == 0:\n",
    "        print(n)"
   ]
  },
  {
   "cell_type": "code",
   "execution_count": 69,
   "id": "18bfcf22-94d5-4c3e-b1be-8c56ff3b2d1c",
   "metadata": {},
   "outputs": [
    {
     "name": "stdout",
     "output_type": "stream",
     "text": [
      "12\n",
      "18\n"
     ]
    }
   ],
   "source": [
    "#153\n",
    "리스트 = [13, 21, 12, 14, 30, 18]\n",
    "for n in 리스트:\n",
    "    if (n <20) and (n % 3 == 0):\n",
    "        print(n)"
   ]
  },
  {
   "cell_type": "code",
   "execution_count": 77,
   "id": "ecf66690-38ad-49b5-86df-6330a331d96d",
   "metadata": {},
   "outputs": [
    {
     "name": "stdout",
     "output_type": "stream",
     "text": [
      "study\n",
      "python\n",
      "language\n"
     ]
    }
   ],
   "source": [
    "#154\n",
    "리스트 = [\"I\", \"study\", \"python\", \"language\", \"!\"]\n",
    "for w in 리스트:\n",
    "    if len(w) >= 3:\n",
    "        print(w)"
   ]
  },
  {
   "cell_type": "code",
   "execution_count": 80,
   "id": "39c0d8e9-69a0-4245-b7ef-5c5a7ce824dc",
   "metadata": {},
   "outputs": [
    {
     "name": "stdout",
     "output_type": "stream",
     "text": [
      "A\n",
      "D\n"
     ]
    }
   ],
   "source": [
    "#155\n",
    "리스트 = [\"A\", \"b\", \"c\", \"D\"]\n",
    "for w in 리스트:\n",
    "   if w.isupper():\n",
    "       print(w)"
   ]
  },
  {
   "cell_type": "code",
   "execution_count": 84,
   "id": "a5e4272c-a5f6-44de-a071-abf27d19c9e6",
   "metadata": {},
   "outputs": [
    {
     "name": "stdout",
     "output_type": "stream",
     "text": [
      "b\n",
      "c\n"
     ]
    }
   ],
   "source": [
    "#156\n",
    "리스트 = [\"A\", \"b\", \"c\", \"D\"]\n",
    "for w in 리스트:\n",
    "    if w.isupper() != True:\n",
    "        print(w)"
   ]
  },
  {
   "cell_type": "code",
   "execution_count": 88,
   "id": "df65be3a-cebf-4205-97f7-6a7327f4f1fd",
   "metadata": {},
   "outputs": [
    {
     "name": "stdout",
     "output_type": "stream",
     "text": [
      "Dog\n",
      "Cat\n",
      "Parrot\n"
     ]
    }
   ],
   "source": [
    "#157\n",
    "리스트 = ['dog', 'cat', 'parrot']\n",
    "for w in 리스트:\n",
    "    print(w[0].upper() + w[1:])"
   ]
  },
  {
   "cell_type": "code",
   "execution_count": 92,
   "id": "8e327076-c1a6-49c3-a89e-562cf4165af2",
   "metadata": {},
   "outputs": [
    {
     "name": "stdout",
     "output_type": "stream",
     "text": [
      "hello\n",
      "ex01\n",
      "intro\n"
     ]
    }
   ],
   "source": [
    "#158\n",
    "리스트 = ['hello.py', 'ex01.py', 'intro.hwp']\n",
    "for w in 리스트:\n",
    "    w1 = w.split (\".\")[0]\n",
    "    print(w1)"
   ]
  },
  {
   "cell_type": "code",
   "execution_count": 97,
   "id": "273c952b-8502-4c5b-9652-7761bce3d834",
   "metadata": {},
   "outputs": [
    {
     "name": "stdout",
     "output_type": "stream",
     "text": [
      "intra.h\n",
      "define.h\n"
     ]
    }
   ],
   "source": [
    "#159\n",
    "리스트 = ['intra.h', 'intra.c', 'define.h', 'run.py']\n",
    "for w in 리스트:\n",
    "    w1 = w.split(\".\")\n",
    "    if w1[1] == \"h\":\n",
    "        print(w)"
   ]
  },
  {
   "cell_type": "code",
   "execution_count": 100,
   "id": "96acc644-b9ac-45d4-a694-8de8276693a8",
   "metadata": {},
   "outputs": [
    {
     "name": "stdout",
     "output_type": "stream",
     "text": [
      "intra.h\n",
      "intra.c\n",
      "define.h\n"
     ]
    }
   ],
   "source": [
    "#160\n",
    "리스트 = ['intra.h', 'intra.c', 'define.h', 'run.py']\n",
    "for w in 리스트:\n",
    "    w1 = w.split(\".\")\n",
    "    if (w1[1] == \"h\") or (w1[1] == \"c\"):\n",
    "        print(w)"
   ]
  }
 ],
 "metadata": {
  "kernelspec": {
   "display_name": "Python 3 (ipykernel)",
   "language": "python",
   "name": "python3"
  },
  "language_info": {
   "codemirror_mode": {
    "name": "ipython",
    "version": 3
   },
   "file_extension": ".py",
   "mimetype": "text/x-python",
   "name": "python",
   "nbconvert_exporter": "python",
   "pygments_lexer": "ipython3",
   "version": "3.11.7"
  }
 },
 "nbformat": 4,
 "nbformat_minor": 5
}
