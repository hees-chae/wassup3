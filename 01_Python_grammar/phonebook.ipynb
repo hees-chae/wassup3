{
 "cells": [
  {
   "cell_type": "code",
   "execution_count": null,
   "id": "5fb1a2d2-00f2-4192-bbb7-0056b994f3a9",
   "metadata": {},
   "outputs": [
    {
     "name": "stdout",
     "output_type": "stream",
     "text": [
      "-----전화번호부 프로그램-----\n",
      "1.추가   2.보기   3.검색   4.수정   5.삭제   9.종료\n"
     ]
    }
   ],
   "source": [
    "contact = {}\n",
    "\n",
    "while True:\n",
    "    print('-----전화번호부 프로그램-----')\n",
    "    print('1.추가   2.보기   3.검색   4.수정   5.삭제   9.종료')\n",
    "    menu = int(input('메뉴를 선택해주세요.(숫자only): ' ))\n",
    "\n",
    "    if menu == 1:\n",
    "        print('연락처를 추가합니다.')\n",
    "        new_name = input('이름: ')\n",
    "        new_tel = input('전화번호: ')\n",
    "        print(new_name, new_tel)\n",
    "        # contact[new_name] = new_tel\n",
    "        contact.setdefault(new_name, new_tel)\n",
    "\n",
    "    elif menu == 2: #완성\n",
    "        print('연락처를 조회합니다.')\n",
    "        # print(contact)\n",
    "        for name, tel in contact.items():\n",
    "            print(name, '=', tel )\n",
    "\n",
    "    elif menu == 3: # 완성\n",
    "        print('연락처를 검색합니다.')\n",
    "        search_name = input('검색 이름: ')\n",
    "        # print(contact[search_name])\n",
    "        print(contact.get(search_name, '없는 이름입니다.'))\n",
    "\n",
    "\n",
    "    elif menu == 4: # 완성\n",
    "        print('연락처를 수정합니다.')\n",
    "        mod_name = input('수정 이름 : ')\n",
    "\n",
    "        if mod_name in contact:\n",
    "            mod_tel = input('새 전화번호 : ')\n",
    "            contact[mod_name] = mod_tel\n",
    "        else :\n",
    "            print('등록되지 않은 이름입니다.')\n",
    "\n",
    "    elif menu == 5: # 완성\n",
    "        print('연락처를 삭제합니다.')\n",
    "        del_name = input('삭제 이름: ')\n",
    "\n",
    "        if del_name in contact:\n",
    "            del contact[del_name]\n",
    "        else :\n",
    "            print('등록되지 않은 이름입니다.')\n",
    "\n",
    "\n",
    "    elif menu == 9: # 완성\n",
    "        print('연락처를 종료합니다.')\n",
    "        break\n",
    "\n",
    "    else :\n",
    "        print('잘못된 입력입니다.')"
   ]
  },
  {
   "cell_type": "markdown",
   "id": "ce9b780b-764e-47ab-82cb-c7b3e13bb1cb",
   "metadata": {},
   "source": [
    "# 전화번호 프로그램 만들기 \"복습\"\n",
    "\n",
    "- 홍길동 010-123-4567\n",
    "- 기능1: 연락처추가\n",
    "- 기능2: 연락처 전체보기\n",
    "- 기능3: 검색, 이름을 입력받아서 전화번호 조회\n",
    "- 기능4: 수정, 이름을 입력받아서 전화번호 입력수정\n",
    "- 기능5: 삭제, 이름 입력받아서 삭제\n",
    "- 기능6: 프로그램 종"
   ]
  },
  {
   "cell_type": "code",
   "execution_count": null,
   "id": "ac51a5e7-99c5-4870-ab0a-feaec9450714",
   "metadata": {},
   "outputs": [],
   "source": [
    "## 요구사항 분석 및 설계\n",
    "1. I/O, 데이터 타입 : 문자열, 딕셔너리 K:V\n",
    "2. 데이터 : 사용자 입력 input()\n",
    "3. 구조 : 프로그램 while 반복 문, 기능 if 분기문\n",
    "4. 기능 + 인터페이스 정책\n",
    "- 1번 연락처 추가 : dict[key] = value\n",
    "- 2번 연락처 전체 보기 : print(dict)\n",
    "- 3번 검색 : get메서드, dict[key] + 편의기능(사전에 사용자가 존재하는지 확인 if user in dict)\n",
    "- 4번 수"
   ]
  },
  {
   "cell_type": "code",
   "execution_count": null,
   "id": "22187d28-e582-447b-b02c-6797bc47cb97",
   "metadata": {},
   "outputs": [],
   "source": []
  }
 ],
 "metadata": {
  "kernelspec": {
   "display_name": "Python 3 (ipykernel)",
   "language": "python",
   "name": "python3"
  },
  "language_info": {
   "codemirror_mode": {
    "name": "ipython",
    "version": 3
   },
   "file_extension": ".py",
   "mimetype": "text/x-python",
   "name": "python",
   "nbconvert_exporter": "python",
   "pygments_lexer": "ipython3",
   "version": "3.11.7"
  }
 },
 "nbformat": 4,
 "nbformat_minor": 5
}
