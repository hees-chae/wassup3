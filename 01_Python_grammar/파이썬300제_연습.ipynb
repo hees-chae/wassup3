{
 "cells": [
  {
   "cell_type": "markdown",
   "id": "a9e7bd67-6bd9-4afd-b588-ff303e1f5c15",
   "metadata": {},
   "source": [
    "# 초보자를 위한 파이썬 300제"
   ]
  },
  {
   "cell_type": "markdown",
   "id": "dc8a7ee4-1d35-441e-9470-7754e4f323a1",
   "metadata": {},
   "source": [
    "## 01. 파이썬 시작하기"
   ]
  },
  {
   "cell_type": "code",
   "execution_count": 14,
   "id": "a0e37c60-b950-4357-9ec5-19af9247aa24",
   "metadata": {},
   "outputs": [
    {
     "name": "stdout",
     "output_type": "stream",
     "text": [
      "Hello World\n"
     ]
    }
   ],
   "source": [
    "print(\"Hello World\")"
   ]
  },
  {
   "cell_type": "code",
   "execution_count": 15,
   "id": "c2036971-9827-4162-b02c-a6e5450b9436",
   "metadata": {},
   "outputs": [
    {
     "name": "stdout",
     "output_type": "stream",
     "text": [
      "신씨가 소리질렀다. 도둑이야.\n"
     ]
    }
   ],
   "source": [
    "print (\"신씨가 소리질렀다. \"\"도둑이야\"\".\")"
   ]
  },
  {
   "cell_type": "code",
   "execution_count": 16,
   "id": "910352d2-1d45-4cab-a91e-b0107e3f8c4e",
   "metadata": {},
   "outputs": [
    {
     "name": "stdout",
     "output_type": "stream",
     "text": [
      "신씨가 소리질렀다. 도둑이야.\n"
     ]
    }
   ],
   "source": [
    "print(\"신씨가 소리질렀다. \"\"도둑이야\"\".\")"
   ]
  },
  {
   "cell_type": "code",
   "execution_count": 17,
   "id": "79b75927-a0a6-4c08-8ba5-ee9044c1a809",
   "metadata": {},
   "outputs": [
    {
     "name": "stdout",
     "output_type": "stream",
     "text": [
      "신씨가 소리질렀다.\"도둑이야\"\n"
     ]
    }
   ],
   "source": [
    "print('신씨가 소리질렀다.\"도둑이야\"')"
   ]
  },
  {
   "cell_type": "code",
   "execution_count": 18,
   "id": "0f141060-38bd-462c-9946-6ee7e035e0e3",
   "metadata": {},
   "outputs": [
    {
     "name": "stdout",
     "output_type": "stream",
     "text": [
      "C:\\Windows\n"
     ]
    }
   ],
   "source": [
    "print(\"C:\\Windows\")"
   ]
  },
  {
   "cell_type": "code",
   "execution_count": 19,
   "id": "012c37c8-6131-4afd-83ff-d93a82f6171d",
   "metadata": {},
   "outputs": [
    {
     "name": "stdout",
     "output_type": "stream",
     "text": [
      "안녕하세요.\n",
      "만나서\t\t반갑습니다.\n"
     ]
    }
   ],
   "source": [
    "print(\"안녕하세요.\\n만나서\\t\\t반갑습니다.\")"
   ]
  },
  {
   "cell_type": "code",
   "execution_count": null,
   "id": "468f5a19-f22d-4260-8269-48d0adc6b486",
   "metadata": {},
   "outputs": [],
   "source": [
    "# \\n = 다음줄로\n",
    "# \\t = 탭 스페이스"
   ]
  },
  {
   "cell_type": "code",
   "execution_count": 21,
   "id": "8e15511f-142d-4d40-b59a-94f560379308",
   "metadata": {},
   "outputs": [
    {
     "name": "stdout",
     "output_type": "stream",
     "text": [
      "오늘은 일요일\n"
     ]
    }
   ],
   "source": [
    "print (\"오늘은\", \"일요일\")\n",
    "#오늘은 일요일"
   ]
  },
  {
   "cell_type": "code",
   "execution_count": 22,
   "id": "03999651-be36-4347-9a54-e97d186da7fd",
   "metadata": {},
   "outputs": [
    {
     "name": "stdout",
     "output_type": "stream",
     "text": [
      "오늘은 일요일\n"
     ]
    }
   ],
   "source": [
    "print (\"오늘은\",\"일요일\")"
   ]
  },
  {
   "cell_type": "code",
   "execution_count": 23,
   "id": "2c0557bd-6910-4132-a701-c0102ce7edcf",
   "metadata": {},
   "outputs": [
    {
     "name": "stdout",
     "output_type": "stream",
     "text": [
      "naver;kakao;sk;samsung\n"
     ]
    }
   ],
   "source": [
    "print(\"naver;kakao;sk;samsung\")"
   ]
  },
  {
   "cell_type": "code",
   "execution_count": 24,
   "id": "1a08f396-9e68-4fe2-b283-d26fce264c0f",
   "metadata": {},
   "outputs": [
    {
     "name": "stdout",
     "output_type": "stream",
     "text": [
      "naver kakao sk samsung\n"
     ]
    }
   ],
   "source": [
    "print(\"naver\", \"kakao\", \"sk\", \"samsung\")"
   ]
  },
  {
   "cell_type": "code",
   "execution_count": 25,
   "id": "287b077b-72f6-4367-84c1-b87e5acf3893",
   "metadata": {},
   "outputs": [
    {
     "name": "stdout",
     "output_type": "stream",
     "text": [
      "naver;kakao;sk;samsung\n"
     ]
    }
   ],
   "source": [
    "print(\"naver\", \"kakao\", \"sk\", \"samsung\", sep=\";\")"
   ]
  },
  {
   "cell_type": "code",
   "execution_count": 26,
   "id": "ac8da2da-96ca-4442-ab93-5b2df47467ba",
   "metadata": {},
   "outputs": [
    {
     "name": "stdout",
     "output_type": "stream",
     "text": [
      "naver/kakao/sk/samsung\n"
     ]
    }
   ],
   "source": [
    "print(\"naver\", \"kakao\", \"sk\", \"samsung\", sep=\"/\")"
   ]
  },
  {
   "cell_type": "code",
   "execution_count": 29,
   "id": "58ce9b78-7a45-4f7f-b4c0-fb0c1de14924",
   "metadata": {},
   "outputs": [
    {
     "name": "stdout",
     "output_type": "stream",
     "text": [
      "first\n",
      "second\n"
     ]
    }
   ],
   "source": [
    "print(\"first\");print(\"second\")"
   ]
  },
  {
   "cell_type": "code",
   "execution_count": 35,
   "id": "d29e0a33-e946-4ed9-99b0-52206522b57a",
   "metadata": {},
   "outputs": [
    {
     "name": "stdout",
     "output_type": "stream",
     "text": [
      "firstsecond\n"
     ]
    }
   ],
   "source": [
    "print(\"first\",end=\"\");print(\"second\")"
   ]
  },
  {
   "cell_type": "code",
   "execution_count": 38,
   "id": "1f209d6d-5b86-44b6-bd98-e6b75cccc8c5",
   "metadata": {},
   "outputs": [
    {
     "name": "stdout",
     "output_type": "stream",
     "text": [
      "1.6666666666666667\n"
     ]
    }
   ],
   "source": [
    "print(5/3)"
   ]
  },
  {
   "cell_type": "markdown",
   "id": "8e04d0f6-99f5-437e-8a9d-aa175cfd5e28",
   "metadata": {},
   "source": [
    "## 02. 파이썬 변수"
   ]
  },
  {
   "cell_type": "code",
   "execution_count": 40,
   "id": "2cd6c96d-96b6-4ef2-8c79-827c01c3a229",
   "metadata": {},
   "outputs": [
    {
     "name": "stdout",
     "output_type": "stream",
     "text": [
      "500000\n"
     ]
    }
   ],
   "source": [
    "# 011 변수 사용하기\n",
    "# 삼성전자라는 변수로 50,000원을 바인딩해보세요. 삼성전자 주식 10주를 보유하고 있을 때 총 평가금액을 출력하세요.\n",
    "삼성전자 = 50000\n",
    "총평가금액 = 삼성전자 * 10\n",
    "print(총평가금액)"
   ]
  },
  {
   "cell_type": "code",
   "execution_count": null,
   "id": "71aff084-c174-4b2d-abc7-297af00ef9dd",
   "metadata": {},
   "outputs": [],
   "source": [
    "# 012 변수 사용하기\n",
    "다음 표는 삼성전자의 일부 투자정보입니다. 변수를 사용해서 시가총액, 현재가, PER 등을 바인딩해보세요.\n",
    "\n",
    "항목\t값\n",
    "시가총액\t298조\n",
    "현재가\t50,000원\n",
    "PER\t15.79"
   ]
  },
  {
   "cell_type": "code",
   "execution_count": 44,
   "id": "9f1a9780-7c5f-4f34-ace0-0a62ea704ee9",
   "metadata": {},
   "outputs": [
    {
     "name": "stdout",
     "output_type": "stream",
     "text": [
      "298000000000000 <class 'int'>\n",
      "50000 <class 'int'>\n",
      "15.79 <class 'float'>\n"
     ]
    }
   ],
   "source": [
    "시가총액 = 298000000000000\n",
    "현재가 = 50000\n",
    "PER = 15.79\n",
    "print(시가총액, type(시가총액))\n",
    "print(현재가, type(현재가))\n",
    "print(PER, type(PER))"
   ]
  },
  {
   "cell_type": "code",
   "execution_count": 47,
   "id": "a46cf93a-236d-4923-b4fc-b73e358c98fe",
   "metadata": {},
   "outputs": [],
   "source": [
    "# 013 문자열 출력\n",
    "# 변수 s와 t에는 각각 문자열이 바인딩 되어있습니다.\n",
    "# >> s = \"hello\"\n",
    "# >> t = \"python\"\n",
    "# 두 변수를 이용하여 아래와 같이 출력해보세요.\n",
    "\n",
    "# 실행 예:\n",
    "# hello! python"
   ]
  },
  {
   "cell_type": "code",
   "execution_count": 50,
   "id": "7e9afb90-a630-486a-bacf-936074e7b6bb",
   "metadata": {},
   "outputs": [
    {
     "name": "stdout",
     "output_type": "stream",
     "text": [
      "hello! python\n"
     ]
    }
   ],
   "source": [
    "s = \"hello\"\n",
    "t = \"python\"\n",
    "print(s+\"!\", t)"
   ]
  },
  {
   "cell_type": "code",
   "execution_count": 51,
   "id": "6526da34-f263-4b02-8830-6b60f06264db",
   "metadata": {},
   "outputs": [
    {
     "data": {
      "text/plain": [
       "8"
      ]
     },
     "execution_count": 51,
     "metadata": {},
     "output_type": "execute_result"
    }
   ],
   "source": [
    "# 14 파이썬을 이용한 값 계산\n",
    "a=2\n",
    "b=2\n",
    "c=3\n",
    "a+b*c"
   ]
  },
  {
   "cell_type": "code",
   "execution_count": 53,
   "id": "10d303b1-c217-4534-b167-5e9314cf7aab",
   "metadata": {},
   "outputs": [
    {
     "name": "stdout",
     "output_type": "stream",
     "text": [
      "<class 'str'>\n"
     ]
    }
   ],
   "source": [
    "# 15 type 함수\n",
    "a = \"132\"\n",
    "print(type(a))"
   ]
  },
  {
   "cell_type": "code",
   "execution_count": 55,
   "id": "fa1be5ce-e540-4f0e-8af9-4c462cf23679",
   "metadata": {},
   "outputs": [
    {
     "name": "stdout",
     "output_type": "stream",
     "text": [
      "720 <class 'int'>\n"
     ]
    }
   ],
   "source": [
    "# 16 문자열을 정수로 변환\n",
    "num_str = \"720\"\n",
    "num_int = int(num_str)\n",
    "print(num_int, type(num_int))\n"
   ]
  },
  {
   "cell_type": "code",
   "execution_count": 60,
   "id": "31991708-c03a-47b3-94a9-7b57e7e34baa",
   "metadata": {},
   "outputs": [
    {
     "name": "stdout",
     "output_type": "stream",
     "text": [
      "100 <class 'str'>\n"
     ]
    }
   ],
   "source": [
    "# 17 정수를 문자열 100으로 변환\n",
    "num_int = 100\n",
    "result = str(num_int)\n",
    "print(result, type(result))"
   ]
  },
  {
   "cell_type": "code",
   "execution_count": 76,
   "id": "c71da0cf-f576-431a-a38e-86c413379f40",
   "metadata": {},
   "outputs": [],
   "source": [
    "del float"
   ]
  },
  {
   "cell_type": "code",
   "execution_count": 77,
   "id": "be8fe2f1-08e7-4358-9dd2-f66d76ee74d6",
   "metadata": {},
   "outputs": [
    {
     "name": "stdout",
     "output_type": "stream",
     "text": [
      "15.79 <class 'float'>\n"
     ]
    }
   ],
   "source": [
    "# 18문자열을 실수로 전환\n",
    "data = \"15.79\"\n",
    "data = float(data)\n",
    "print(data, type(data))"
   ]
  },
  {
   "cell_type": "code",
   "execution_count": 69,
   "id": "f2ed11f2-6c0e-42b1-bee0-287c95edc7d8",
   "metadata": {},
   "outputs": [
    {
     "name": "stdout",
     "output_type": "stream",
     "text": [
      "2017\n",
      "2018\n",
      "2019\n"
     ]
    }
   ],
   "source": [
    "# 19 문자열을 정수로 전환\n",
    "year = 2020\n",
    "print(int(year)-3)\n",
    "print(int(year)-2)\n",
    "print(int(year)-1)"
   ]
  },
  {
   "cell_type": "code",
   "execution_count": 72,
   "id": "a566c887-aeb1-4075-a25e-bc6dd7d9093e",
   "metadata": {},
   "outputs": [
    {
     "data": {
      "text/plain": [
       "1749024"
      ]
     },
     "execution_count": 72,
     "metadata": {},
     "output_type": "execute_result"
    }
   ],
   "source": [
    "# 20 파이썬 계산\n",
    "할부금 = 48584\n",
    "기간 = 36\n",
    "할부금 * 기간"
   ]
  },
  {
   "cell_type": "markdown",
   "id": "aeb354b9-bbc0-4cb9-9af6-62d96aac1abe",
   "metadata": {},
   "source": [
    "## 03. 파이썬 문자열"
   ]
  },
  {
   "cell_type": "code",
   "execution_count": 80,
   "id": "6206ae00-3722-472b-b810-d96a618d7cb4",
   "metadata": {},
   "outputs": [
    {
     "name": "stdout",
     "output_type": "stream",
     "text": [
      "p t\n"
     ]
    }
   ],
   "source": [
    "# 21 letter = 'python'\n",
    "letters = 'python'\n",
    "print(letters[0], letters[2])"
   ]
  },
  {
   "cell_type": "code",
   "execution_count": 88,
   "id": "930bb2e2-7520-4af7-9a65-6cfb9f6540c7",
   "metadata": {},
   "outputs": [
    {
     "name": "stdout",
     "output_type": "stream",
     "text": [
      "2210\n"
     ]
    }
   ],
   "source": [
    "# 22 문자열 슬라이싱\n",
    "num = \"24가 2210\"\n",
    "print(num[4:])"
   ]
  },
  {
   "cell_type": "code",
   "execution_count": 90,
   "id": "4fa06786-55e4-445d-8db9-4482652bf8a4",
   "metadata": {},
   "outputs": [
    {
     "name": "stdout",
     "output_type": "stream",
     "text": [
      "홀홀홀\n"
     ]
    }
   ],
   "source": [
    "# 23 문자열 인덱싱\n",
    "string = \"홀짝홀짝홀짝\"\n",
    "print(string[::2])"
   ]
  },
  {
   "cell_type": "code",
   "execution_count": 94,
   "id": "96273077-cfa8-45ac-8dc1-b032ea1d0339",
   "metadata": {},
   "outputs": [
    {
     "name": "stdout",
     "output_type": "stream",
     "text": [
      "NOHTYP\n"
     ]
    }
   ],
   "source": [
    "# 24 문자열 슬라이싱\n",
    "string = \"PYTHON\"\n",
    "print(string[::-1])"
   ]
  },
  {
   "cell_type": "code",
   "execution_count": 102,
   "id": "f637cde4-3910-4fec-a7f8-d1724e54d672",
   "metadata": {},
   "outputs": [
    {
     "name": "stdout",
     "output_type": "stream",
     "text": [
      "010 1111 2222\n"
     ]
    }
   ],
   "source": [
    "# 25 문자열 치환\n",
    "num = \"010-1111-2222\"\n",
    "num1 = num.replace(\"-\",\" \")\n",
    "print(num1)"
   ]
  },
  {
   "cell_type": "code",
   "execution_count": 115,
   "id": "d3503cbe-cdcf-4558-9714-974376760d70",
   "metadata": {},
   "outputs": [
    {
     "name": "stdout",
     "output_type": "stream",
     "text": [
      "01011112222\n"
     ]
    }
   ],
   "source": [
    "# 26 문자열 다루기\n",
    "num =\"010-1111-2222\"\n",
    "num1 = num.replace(\"-\",\"\")\n",
    "print(num1)"
   ]
  },
  {
   "cell_type": "code",
   "execution_count": 116,
   "id": "f2c04223-18f9-4a46-8bb1-e883555102cc",
   "metadata": {},
   "outputs": [
    {
     "name": "stdout",
     "output_type": "stream",
     "text": [
      "kr\n"
     ]
    }
   ],
   "source": [
    "# 27 문자열 다루기\n",
    "url = \"http://sharebook.kr\"\n",
    "print(url[-2:])"
   ]
  },
  {
   "cell_type": "code",
   "execution_count": 122,
   "id": "c66c0a8d-2941-4e51-977f-8d857944f25d",
   "metadata": {},
   "outputs": [],
   "source": [
    "del url"
   ]
  },
  {
   "cell_type": "code",
   "execution_count": 130,
   "id": "cd904083-12d3-460f-8c2f-acaac68734eb",
   "metadata": {},
   "outputs": [
    {
     "name": "stdout",
     "output_type": "stream",
     "text": [
      "kr\n"
     ]
    }
   ],
   "source": [
    "# 문자열로 표현된 url에서 '.'을 기준으로 분리한다. 분리된 url 중 마지막을 인덱싱하면 도메인만 출력할 수 있다.\n",
    "url = \"http://sharebook.kr\"\n",
    "url_split = url.split('.')\n",
    "print(url_split[-1])"
   ]
  },
  {
   "cell_type": "code",
   "execution_count": 133,
   "id": "6923fe99-826d-4248-8970-8b70f44c24f4",
   "metadata": {},
   "outputs": [
    {
     "name": "stdout",
     "output_type": "stream",
     "text": [
      "com\n"
     ]
    }
   ],
   "source": [
    "url = \"http://naver.com\"\n",
    "url_split = url.split('.')\n",
    "print(url_split[-1])"
   ]
  },
  {
   "cell_type": "code",
   "execution_count": 141,
   "id": "0199d603-6363-45bd-8450-99068760f60b",
   "metadata": {},
   "outputs": [
    {
     "ename": "TypeError",
     "evalue": "'str' object does not support item assignment",
     "output_type": "error",
     "traceback": [
      "\u001b[1;31m---------------------------------------------------------------------------\u001b[0m",
      "\u001b[1;31mTypeError\u001b[0m                                 Traceback (most recent call last)",
      "Cell \u001b[1;32mIn[141], line 3\u001b[0m\n\u001b[0;32m      1\u001b[0m \u001b[38;5;66;03m# 28 문자열은 immutable\u001b[39;00m\n\u001b[0;32m      2\u001b[0m lang \u001b[38;5;241m=\u001b[39m \u001b[38;5;124m'\u001b[39m\u001b[38;5;124mpython\u001b[39m\u001b[38;5;124m'\u001b[39m\n\u001b[1;32m----> 3\u001b[0m lang[\u001b[38;5;241m0\u001b[39m] \u001b[38;5;241m=\u001b[39m\u001b[38;5;124m'\u001b[39m\u001b[38;5;124mP\u001b[39m\u001b[38;5;124m'\u001b[39m\n\u001b[0;32m      4\u001b[0m \u001b[38;5;28mprint\u001b[39m(lang)\n",
      "\u001b[1;31mTypeError\u001b[0m: 'str' object does not support item assignment"
     ]
    }
   ],
   "source": [
    "# 28 문자열은 immutable\n",
    "lang = 'python'\n",
    "lang[0] ='P'\n",
    "print(lang)"
   ]
  },
  {
   "cell_type": "code",
   "execution_count": 150,
   "id": "b786b05a-f8d7-41dc-8ade-81a5dd11248b",
   "metadata": {},
   "outputs": [
    {
     "name": "stdout",
     "output_type": "stream",
     "text": [
      "Abcdfe2A354A32A\n"
     ]
    }
   ],
   "source": [
    "# 29 replace 메서드\n",
    "string = 'abcdfe2a354a32a'\n",
    "string1 = string.replace('a','A')\n",
    "print(string1)"
   ]
  },
  {
   "cell_type": "code",
   "execution_count": 149,
   "id": "aa6d94d1-0dd7-46fc-b7d6-499c5a7eda5b",
   "metadata": {},
   "outputs": [
    {
     "name": "stdout",
     "output_type": "stream",
     "text": [
      "aBcd\n"
     ]
    }
   ],
   "source": [
    "#30 replace 메서드\n",
    "string = 'abcd'\n",
    "string1 = string.replace('b', 'B')\n",
    "print(string1)"
   ]
  },
  {
   "cell_type": "code",
   "execution_count": 151,
   "id": "6d73f04a-4d9f-4231-ba48-c1c1706f4d41",
   "metadata": {},
   "outputs": [
    {
     "name": "stdout",
     "output_type": "stream",
     "text": [
      "34\n"
     ]
    }
   ],
   "source": [
    "#31 문자열 합치기\n",
    "a = \"3\"\n",
    "b = \"4\"\n",
    "print(a+b)"
   ]
  },
  {
   "cell_type": "code",
   "execution_count": 155,
   "id": "5693410f-69d7-4b61-83ec-cc90bed0ce44",
   "metadata": {},
   "outputs": [
    {
     "name": "stdout",
     "output_type": "stream",
     "text": [
      "HiHiHi\n"
     ]
    }
   ],
   "source": [
    "#32 문자열 곱하기\n",
    "print(\"Hi\" * 3)"
   ]
  },
  {
   "cell_type": "code",
   "execution_count": 157,
   "id": "38cf93d9-c5ef-479c-ab7d-8a0dfa348a7a",
   "metadata": {},
   "outputs": [
    {
     "name": "stdout",
     "output_type": "stream",
     "text": [
      "--------------------------------------------------------------------------------\n"
     ]
    }
   ],
   "source": [
    "#33 문자열 곱하기\n",
    "print(\"-\"*80)"
   ]
  },
  {
   "cell_type": "code",
   "execution_count": 175,
   "id": "5b79881e-9780-420a-8366-2ba97d675696",
   "metadata": {},
   "outputs": [
    {
     "name": "stdout",
     "output_type": "stream",
     "text": [
      "python java python java python java python java \n"
     ]
    }
   ],
   "source": [
    "#34 문자열 곱하기\n",
    "t1 = 'python'\n",
    "t2 = 'java'\n",
    "t3 = t1 + ' ' + t2 + ' '\n",
    "print(t3*4)"
   ]
  },
  {
   "cell_type": "code",
   "execution_count": 177,
   "id": "ef2b6298-4afb-419c-81cb-0df5ae3d37ec",
   "metadata": {},
   "outputs": [
    {
     "name": "stdout",
     "output_type": "stream",
     "text": [
      "이름: 김민수 나이: 10\n",
      "이름: 이철희 나이: 13\n"
     ]
    }
   ],
   "source": [
    "#35 문자열 출력 % formatting\n",
    "name1 = \"김민수\"\n",
    "age1 = 10\n",
    "name2 = \"이철희\"\n",
    "age2 = 13\n",
    "print(\"이름: %s 나이: %d\" % (name1, age1))\n",
    "print(\"이름: %s 나이: %d\" % (name2, age2))"
   ]
  },
  {
   "cell_type": "code",
   "execution_count": 178,
   "id": "854ab435-f159-4cac-8f2f-067a0827622d",
   "metadata": {},
   "outputs": [
    {
     "name": "stdout",
     "output_type": "stream",
     "text": [
      "이름: 김민수 나이: 10\n",
      "이름: 이철희 나이: 13\n"
     ]
    }
   ],
   "source": [
    "# 36 문자열 출력 format()\n",
    "name1 = \"김민수\"\n",
    "age1 = 10\n",
    "name2 = \"이철희\"\n",
    "age2 = 13\n",
    "print(\"이름: {} 나이: {}\".format(name1, age1))\n",
    "print(\"이름: {} 나이: {}\".format(name2, age2))"
   ]
  },
  {
   "cell_type": "code",
   "execution_count": 179,
   "id": "d38eef6a-b12d-4402-a506-69403ecc8bea",
   "metadata": {},
   "outputs": [
    {
     "name": "stdout",
     "output_type": "stream",
     "text": [
      "이름: 김민수 나이: 10\n",
      "이름: 이철희 나이: 13\n"
     ]
    }
   ],
   "source": [
    "#37 문자열 출력 f-string\n",
    "name1 = \"김민수\"\n",
    "age1 = 10\n",
    "name2 = \"이철희\"\n",
    "age2 = 13\n",
    "print(f\"이름: {name1} 나이: {age1}\")\n",
    "print(f\"이름: {name2} 나이: {age2}\")"
   ]
  },
  {
   "cell_type": "code",
   "execution_count": 183,
   "id": "dc399465-6480-4356-aa34-a211128d2fb2",
   "metadata": {},
   "outputs": [
    {
     "name": "stdout",
     "output_type": "stream",
     "text": [
      "5969782550 <class 'int'>\n"
     ]
    }
   ],
   "source": [
    "#38 컴마 제거하기\n",
    "상장주식수 = \"5,969,782,550\"\n",
    "상장주식수1 = 상장주식수.replace(',', '')\n",
    "타입변환 = int(상장주식수1)\n",
    "print(타입변환, type(타입변환))"
   ]
  },
  {
   "cell_type": "code",
   "execution_count": 186,
   "id": "cb400068-d317-4273-b5a6-996cb627da1b",
   "metadata": {},
   "outputs": [
    {
     "name": "stdout",
     "output_type": "stream",
     "text": [
      "2020/03\n"
     ]
    }
   ],
   "source": [
    "#39 문자열 슬라이싱\n",
    "분기 = \"2020/03(E) (IFRS연결)\"\n",
    "print(분기[:7])"
   ]
  },
  {
   "cell_type": "code",
   "execution_count": 187,
   "id": "f4951fee-bf44-44cb-9895-ca5de3c0e7e8",
   "metadata": {},
   "outputs": [
    {
     "name": "stdout",
     "output_type": "stream",
     "text": [
      "삼성전자\n"
     ]
    }
   ],
   "source": [
    "#40 strip 메서드\n",
    "data = \"   삼성전자   \"\n",
    "data1 = data.strip()\n",
    "print(data1)"
   ]
  },
  {
   "cell_type": "code",
   "execution_count": 188,
   "id": "52a30621-b48a-4128-8db7-9421bc998bc7",
   "metadata": {},
   "outputs": [
    {
     "name": "stdout",
     "output_type": "stream",
     "text": [
      "BTC_KRW\n"
     ]
    }
   ],
   "source": [
    "#41 upper 메서드\n",
    "ticker = \"btc_krw\"\n",
    "ticker1 = ticker.upper()\n",
    "print(ticker1)"
   ]
  },
  {
   "cell_type": "code",
   "execution_count": 189,
   "id": "136a4ba8-b278-41e5-bd54-68a2e52cb540",
   "metadata": {},
   "outputs": [
    {
     "name": "stdout",
     "output_type": "stream",
     "text": [
      "btc_krw\n"
     ]
    }
   ],
   "source": [
    "#42 lower 메서드\n",
    "ticker = \"BTC_KRW\"\n",
    "ticker1 = ticker.lower()\n",
    "print(ticker1)"
   ]
  },
  {
   "cell_type": "code",
   "execution_count": 191,
   "id": "bc2039ee-568f-4a3d-877f-e4117e792ed1",
   "metadata": {},
   "outputs": [
    {
     "name": "stdout",
     "output_type": "stream",
     "text": [
      "Hello\n"
     ]
    }
   ],
   "source": [
    "#43 capitalize 메서드\n",
    "word = \"hello\"\n",
    "word1 = word.capitalize()\n",
    "print(word1)"
   ]
  },
  {
   "cell_type": "code",
   "execution_count": 192,
   "id": "26f8ae5d-da8d-4b61-9410-af4b4c191c58",
   "metadata": {},
   "outputs": [
    {
     "data": {
      "text/plain": [
       "True"
      ]
     },
     "execution_count": 192,
     "metadata": {},
     "output_type": "execute_result"
    }
   ],
   "source": [
    "#44 endswith 메서드\n",
    "file_name = \"보고서.xlsx\"\n",
    "file_name.endswith(\"xlsx\")"
   ]
  },
  {
   "cell_type": "code",
   "execution_count": 194,
   "id": "37c43163-61f7-4f34-b2d1-617329445517",
   "metadata": {},
   "outputs": [
    {
     "data": {
      "text/plain": [
       "True"
      ]
     },
     "execution_count": 194,
     "metadata": {},
     "output_type": "execute_result"
    }
   ],
   "source": [
    "#45 endswith 메서드\n",
    "file_name = \"보고서.xlsx\"\n",
    "file_name.endswith((\"xlsx\", \"xls\"))"
   ]
  },
  {
   "cell_type": "code",
   "execution_count": 195,
   "id": "7ae40ff9-f52d-46b1-ad7a-6d496646b5ba",
   "metadata": {},
   "outputs": [
    {
     "data": {
      "text/plain": [
       "True"
      ]
     },
     "execution_count": 195,
     "metadata": {},
     "output_type": "execute_result"
    }
   ],
   "source": [
    "#46 startswith 메서드\n",
    "file_name = \"2020_보고서.xlsx\"\n",
    "file_name.startswith(\"2020\")"
   ]
  },
  {
   "cell_type": "code",
   "execution_count": 197,
   "id": "17331c61-acb0-4e0b-ae74-2c254dadb41c",
   "metadata": {},
   "outputs": [
    {
     "data": {
      "text/plain": [
       "['hello', 'world']"
      ]
     },
     "execution_count": 197,
     "metadata": {},
     "output_type": "execute_result"
    }
   ],
   "source": [
    "#47 split메서드\n",
    "a = \"hello world\"\n",
    "a.split()"
   ]
  },
  {
   "cell_type": "code",
   "execution_count": 200,
   "id": "a0a99cdb-a610-4b65-abc4-af2b60050e83",
   "metadata": {},
   "outputs": [
    {
     "data": {
      "text/plain": [
       "['btc', 'krw']"
      ]
     },
     "execution_count": 200,
     "metadata": {},
     "output_type": "execute_result"
    }
   ],
   "source": [
    "#48 split 메서드\n",
    "ticker = \"btc_krw\"\n",
    "ticker.split(\"_\")"
   ]
  },
  {
   "cell_type": "code",
   "execution_count": 202,
   "id": "02ed3003-f7f7-4d80-900c-0ffb23713b53",
   "metadata": {},
   "outputs": [
    {
     "data": {
      "text/plain": [
       "['2020', '05', '01']"
      ]
     },
     "execution_count": 202,
     "metadata": {},
     "output_type": "execute_result"
    }
   ],
   "source": [
    "#49 split 메서드\n",
    "date = \"2020-05-01\"\n",
    "date.split(\"-\")"
   ]
  },
  {
   "cell_type": "code",
   "execution_count": 203,
   "id": "f519748d-6c17-4061-a464-02772a837bad",
   "metadata": {},
   "outputs": [
    {
     "data": {
      "text/plain": [
       "['039490']"
      ]
     },
     "execution_count": 203,
     "metadata": {},
     "output_type": "execute_result"
    }
   ],
   "source": [
    "#50 rsplit 메서드\n",
    "data = \"039490      \"\n",
    "data.rsplit()"
   ]
  },
  {
   "cell_type": "markdown",
   "id": "61f423dd-1419-4ca0-b5d0-2839e69d56ff",
   "metadata": {},
   "source": [
    "## 04. 파이썬 리스트"
   ]
  },
  {
   "cell_type": "code",
   "execution_count": 207,
   "id": "de847df2-9427-442d-ac78-47d3b46168b6",
   "metadata": {},
   "outputs": [],
   "source": [
    "#51 리스트생성\n",
    "movie_rank = [\"닥터 스트레인지\", \"스플릿\", \"럭키\"]"
   ]
  },
  {
   "cell_type": "code",
   "execution_count": 210,
   "id": "580aa7ac-cab6-4ebc-952f-b562b0ff10d7",
   "metadata": {},
   "outputs": [
    {
     "name": "stdout",
     "output_type": "stream",
     "text": [
      "['닥터 스트레인지', '스플릿', '럭키', '배트맨']\n"
     ]
    }
   ],
   "source": [
    "#52 리스트에 원소 추가\n",
    "movie_rank = [\"닥터 스트레인지\", \"스플릿\", \"럭키\"]\n",
    "movie_rank.append(\"배트맨\")\n",
    "print(movie_rank)"
   ]
  },
  {
   "cell_type": "code",
   "execution_count": 216,
   "id": "33209f56-d195-4927-8b5c-87ce3eb14876",
   "metadata": {},
   "outputs": [
    {
     "name": "stdout",
     "output_type": "stream",
     "text": [
      "['닥터 스트레인지', '슈퍼맨', '스플릿', '럭키', '배트맨']\n"
     ]
    }
   ],
   "source": [
    "#53\n",
    "movie_rank = ['닥터 스트레인지', '스플릿', '럭키', '배트맨']\n",
    "movie_rank.insert(1, \"슈퍼맨\")\n",
    "print(movie_rank)"
   ]
  },
  {
   "cell_type": "code",
   "execution_count": 213,
   "id": "9226942c-18b4-4f87-a586-df7914c76f61",
   "metadata": {},
   "outputs": [
    {
     "name": "stdout",
     "output_type": "stream",
     "text": [
      "['닥터 스트레인지', '스플릿', '배트맨']\n"
     ]
    }
   ],
   "source": [
    "#54\n",
    "movie_rank = ['닥터 스트레인지', '스플릿', '럭키', '배트맨']\n",
    "movie_rank.remove(\"럭키\")\n",
    "print(movie_rank)"
   ]
  },
  {
   "cell_type": "code",
   "execution_count": 215,
   "id": "f4b06f5d-dd30-497d-abb4-227fdbf49f06",
   "metadata": {},
   "outputs": [
    {
     "name": "stdout",
     "output_type": "stream",
     "text": [
      "['닥터 스트레인지', '스플릿', '배트맨']\n"
     ]
    }
   ],
   "source": [
    "movie_rank = ['닥터 스트레인지', '스플릿', '럭키', '배트맨']\n",
    "del movie_rank[2]\n",
    "print(movie_rank)"
   ]
  },
  {
   "cell_type": "code",
   "execution_count": 220,
   "id": "2b021ba6-edc1-46a1-8df6-c335d8dcbac2",
   "metadata": {},
   "outputs": [
    {
     "name": "stdout",
     "output_type": "stream",
     "text": [
      "['닥터 스트레인지', '슈퍼맨']\n"
     ]
    }
   ],
   "source": [
    "#55\n",
    "movie_rank = ['닥터 스트레인지', '슈퍼맨', '스플릿', '배트맨']\n",
    "del movie_rank[2]\n",
    "del movie_rank[2]\n",
    "print(movie_rank)"
   ]
  },
  {
   "cell_type": "code",
   "execution_count": 226,
   "id": "81811115-a58c-4d19-bfda-54b79d9bab7f",
   "metadata": {},
   "outputs": [
    {
     "name": "stdout",
     "output_type": "stream",
     "text": [
      "['C', 'C++', 'JAVA', 'Python', 'Go', 'C#']\n"
     ]
    }
   ],
   "source": [
    "#56\n",
    "lang1 = [\"C\", \"C++\", \"JAVA\"]\n",
    "lang2 = [\"Python\", \"Go\", \"C#\"]\n",
    "langs = lang1 + lang2\n",
    "print(langs)"
   ]
  },
  {
   "cell_type": "code",
   "execution_count": 230,
   "id": "a0a9fb0d-dfa8-4338-9410-104d0b95fa05",
   "metadata": {},
   "outputs": [
    {
     "name": "stdout",
     "output_type": "stream",
     "text": [
      "max: 7\n",
      "min: 1\n"
     ]
    }
   ],
   "source": [
    "#57\n",
    "nums = [1, 2, 3, 4, 5, 6, 7]\n",
    "print(\"max:\", max(nums))\n",
    "print(\"min:\", min(nums))"
   ]
  },
  {
   "cell_type": "code",
   "execution_count": 232,
   "id": "977f7e10-f8fe-47c8-a682-e3242d8e4d1d",
   "metadata": {},
   "outputs": [
    {
     "name": "stdout",
     "output_type": "stream",
     "text": [
      "15\n"
     ]
    }
   ],
   "source": [
    "#58\n",
    "nums = [1, 2, 3, 4, 5]\n",
    "print(sum(nums))"
   ]
  },
  {
   "cell_type": "code",
   "execution_count": 234,
   "id": "05f3e710-9f4f-42ff-b8fe-b495803642e1",
   "metadata": {},
   "outputs": [
    {
     "name": "stdout",
     "output_type": "stream",
     "text": [
      "12\n"
     ]
    }
   ],
   "source": [
    "#59\n",
    "cook = [\"피자\", \"김밥\", \"만두\", \"양념치킨\", \"족발\", \"피자\", \"김치만두\", \"쫄면\", \"소시지\", \"라면\", \"팥빙수\", \"김치전\"]\n",
    "print(len(cook))"
   ]
  },
  {
   "cell_type": "code",
   "execution_count": 238,
   "id": "e333b919-b540-419a-b824-e36308d9110a",
   "metadata": {},
   "outputs": [
    {
     "name": "stdout",
     "output_type": "stream",
     "text": [
      "3.0\n"
     ]
    }
   ],
   "source": [
    "#60\n",
    "nums = [1, 2, 3, 4, 5]\n",
    "average = sum(nums) / len(nums)\n",
    "print(average)"
   ]
  },
  {
   "cell_type": "code",
   "execution_count": 239,
   "id": "2cf200ab-8967-48ab-a575-65218d944ca8",
   "metadata": {},
   "outputs": [
    {
     "name": "stdout",
     "output_type": "stream",
     "text": [
      "[100, 130, 140, 150, 160, 170]\n"
     ]
    }
   ],
   "source": [
    "#61\n",
    "price = ['20180728', 100, 130, 140, 150, 160, 170]\n",
    "del price[0]\n",
    "print(price)"
   ]
  },
  {
   "cell_type": "code",
   "execution_count": 240,
   "id": "49e239a4-3284-4f29-8609-a820a9860b04",
   "metadata": {},
   "outputs": [
    {
     "name": "stdout",
     "output_type": "stream",
     "text": [
      "[100, 130, 140, 150, 160, 170]\n"
     ]
    }
   ],
   "source": [
    "price = ['20180728', 100, 130, 140, 150, 160, 170]\n",
    "print(price[1:])"
   ]
  },
  {
   "cell_type": "code",
   "execution_count": 242,
   "id": "9fb8fb0a-b1f5-44fb-923f-7d9b08a9413b",
   "metadata": {},
   "outputs": [
    {
     "name": "stdout",
     "output_type": "stream",
     "text": [
      "[1, 3, 5, 7, 9]\n"
     ]
    }
   ],
   "source": [
    "#62\n",
    "nums = [1, 2, 3, 4, 5, 6, 7, 8, 9, 10]\n",
    "print(nums[::2])"
   ]
  },
  {
   "cell_type": "code",
   "execution_count": 244,
   "id": "e2b9e66c-df5c-4e33-841c-4cf4be6106e4",
   "metadata": {},
   "outputs": [
    {
     "name": "stdout",
     "output_type": "stream",
     "text": [
      "[2, 4, 6, 8, 10]\n"
     ]
    }
   ],
   "source": [
    "#63\n",
    "nums = [1, 2, 3, 4, 5, 6, 7, 8, 9, 10]\n",
    "print(nums[1::2])"
   ]
  },
  {
   "cell_type": "code",
   "execution_count": 245,
   "id": "a9170801-8a30-4907-96f8-d99186fe72f8",
   "metadata": {},
   "outputs": [
    {
     "name": "stdout",
     "output_type": "stream",
     "text": [
      "[5, 4, 3, 2, 1]\n"
     ]
    }
   ],
   "source": [
    "#64\n",
    "nums = [1, 2, 3, 4, 5]\n",
    "print(nums[::-1])"
   ]
  },
  {
   "cell_type": "code",
   "execution_count": 250,
   "id": "c90f9d2c-9152-4a3f-a755-e93842b7c7d2",
   "metadata": {},
   "outputs": [
    {
     "name": "stdout",
     "output_type": "stream",
     "text": [
      "삼성전자 Naver\n"
     ]
    }
   ],
   "source": [
    "#65\n",
    "interest = ['삼성전자', 'LG전자', 'Naver']\n",
    "print(interest[0], interest[2])"
   ]
  },
  {
   "cell_type": "code",
   "execution_count": 252,
   "id": "6d385227-179f-421d-b6fb-cefc3cfebde7",
   "metadata": {},
   "outputs": [
    {
     "name": "stdout",
     "output_type": "stream",
     "text": [
      "삼성전자 LG전자 Naver SK하이닉스 미래에셋대우\n"
     ]
    }
   ],
   "source": [
    "#66 join 메서드\n",
    "interest = ['삼성전자', 'LG전자', 'Naver', 'SK하이닉스', '미래에셋대우']\n",
    "print(\" \".join(interest))"
   ]
  },
  {
   "cell_type": "code",
   "execution_count": 253,
   "id": "a84cbfe2-1256-4f00-b923-d6ed011bb0ad",
   "metadata": {},
   "outputs": [
    {
     "name": "stdout",
     "output_type": "stream",
     "text": [
      "삼성전자/LG전자/Naver/SK하이닉스/미래에셋대우\n"
     ]
    }
   ],
   "source": [
    "#67 join 메서드\n",
    "interest = ['삼성전자', 'LG전자', 'Naver', 'SK하이닉스', '미래에셋대우']\n",
    "print(\"/\".join(interest))"
   ]
  },
  {
   "cell_type": "code",
   "execution_count": 260,
   "id": "51b2ba09-d6fa-4bbf-b982-0e23a0e308c9",
   "metadata": {},
   "outputs": [
    {
     "name": "stdout",
     "output_type": "stream",
     "text": [
      "삼성전자\n",
      "LG전자\n",
      "Naver\n",
      "SK하이닉스\n",
      "미래에셋대우\n"
     ]
    }
   ],
   "source": [
    "#68 join 메서드\n",
    "interest = ['삼성전자', 'LG전자', 'Naver', 'SK하이닉스', '미래에셋대우']\n",
    "print(\"\\n\".join(interest))"
   ]
  },
  {
   "cell_type": "code",
   "execution_count": 263,
   "id": "e0f27be1-2a1f-467b-800a-70af80a3a2ce",
   "metadata": {},
   "outputs": [
    {
     "name": "stdout",
     "output_type": "stream",
     "text": [
      "['삼성전자', 'LG전자', 'Naver']\n"
     ]
    }
   ],
   "source": [
    "#69 문자열 split 메서드\n",
    "string = \"삼성전자/LG전자/Naver\"\n",
    "interest = string.split(\"/\")\n",
    "print(interest)"
   ]
  },
  {
   "cell_type": "code",
   "execution_count": 264,
   "id": "1c904e78-0a0b-403a-9fff-7989da35f9db",
   "metadata": {},
   "outputs": [
    {
     "name": "stdout",
     "output_type": "stream",
     "text": [
      "[1, 2, 3, 4, 5, 9, 10]\n"
     ]
    }
   ],
   "source": [
    "#70\n",
    "data = [2, 4, 3, 1, 5, 10, 9]\n",
    "data.sort()\n",
    "print(data)"
   ]
  },
  {
   "cell_type": "code",
   "execution_count": 265,
   "id": "963ecdd2-21b2-4513-8a38-3d66b660a0c7",
   "metadata": {},
   "outputs": [
    {
     "name": "stdout",
     "output_type": "stream",
     "text": [
      "[1, 2, 3, 4, 5, 9, 10]\n"
     ]
    }
   ],
   "source": [
    "data = [2, 4, 3, 1, 5, 10, 9]\n",
    "data2 = sorted(data)\n",
    "print(data2)"
   ]
  },
  {
   "cell_type": "markdown",
   "id": "a0c8fed4-cc9b-48c7-9961-b0a46af81c1b",
   "metadata": {},
   "source": [
    "## 05. 파이썬 튜플"
   ]
  },
  {
   "cell_type": "code",
   "execution_count": 269,
   "id": "cffdfb6c-d9cc-4f14-83e0-155afbadf0da",
   "metadata": {},
   "outputs": [],
   "source": [
    "#71\n",
    "my_variable = ()"
   ]
  },
  {
   "cell_type": "code",
   "execution_count": 270,
   "id": "3f8dad0d-e43c-4f7f-8fa1-8b45d14b718b",
   "metadata": {},
   "outputs": [
    {
     "name": "stdout",
     "output_type": "stream",
     "text": [
      "<class 'tuple'>\n"
     ]
    }
   ],
   "source": [
    "print(type(my_variable))"
   ]
  },
  {
   "cell_type": "code",
   "execution_count": 271,
   "id": "fc79a51d-3883-4c59-92eb-5a124d775485",
   "metadata": {},
   "outputs": [],
   "source": [
    "#72\n",
    "movie_rank = (\"닥터 스트레인지\", \"스플릿\", \"럭키\")"
   ]
  },
  {
   "cell_type": "code",
   "execution_count": 273,
   "id": "4be35f8f-9933-47a7-945f-a178ff4a169c",
   "metadata": {},
   "outputs": [
    {
     "data": {
      "text/plain": [
       "int"
      ]
     },
     "execution_count": 273,
     "metadata": {},
     "output_type": "execute_result"
    }
   ],
   "source": [
    "#73\n",
    "my_tuple = (1)\n",
    "type(my_tuple)"
   ]
  },
  {
   "cell_type": "code",
   "execution_count": 275,
   "id": "34aa0c79-4d8c-455b-91cd-a276a88ff0ad",
   "metadata": {},
   "outputs": [
    {
     "ename": "SyntaxError",
     "evalue": "invalid syntax. Perhaps you forgot a comma? (4011687300.py, line 3)",
     "output_type": "error",
     "traceback": [
      "\u001b[1;36m  Cell \u001b[1;32mIn[275], line 3\u001b[1;36m\u001b[0m\n\u001b[1;33m    Traceback (most recent call last):\u001b[0m\n\u001b[1;37m               ^\u001b[0m\n\u001b[1;31mSyntaxError\u001b[0m\u001b[1;31m:\u001b[0m invalid syntax. Perhaps you forgot a comma?\n"
     ]
    }
   ],
   "source": [
    "#74  이해가 잘 가지 않는다\n",
    "t=(1,2,3)\n",
    "t[0]='a'\n",
    "Traceback (most recent call last):\n",
    "  File \"<pyshell#46>\", line 1, in <module>\n",
    "    t[0] = 'a'\n",
    "TypeError: 'tuple' object does not support item assignment"
   ]
  },
  {
   "cell_type": "code",
   "execution_count": 278,
   "id": "b498b56f-5f71-4756-9beb-88ead9cb422b",
   "metadata": {},
   "outputs": [
    {
     "data": {
      "text/plain": [
       "tuple"
      ]
     },
     "execution_count": 278,
     "metadata": {},
     "output_type": "execute_result"
    }
   ],
   "source": [
    "#75\n",
    "t = 1, 2, 3, 4\n",
    "type(t)"
   ]
  },
  {
   "cell_type": "code",
   "execution_count": 280,
   "id": "9157cd4c-3558-40d6-bcdd-2decbaf0c9dd",
   "metadata": {},
   "outputs": [
    {
     "name": "stdout",
     "output_type": "stream",
     "text": [
      "('A', 'B', 'C')\n"
     ]
    }
   ],
   "source": [
    "#76\n",
    "t = ('a', 'b', 'c')\n",
    "t = ('A', 'B', 'C')\n",
    "print(t)"
   ]
  },
  {
   "cell_type": "code",
   "execution_count": 285,
   "id": "2cf8c956-e77c-461b-a37a-be434911db18",
   "metadata": {},
   "outputs": [],
   "source": [
    "#77\n",
    "interest = ('삼성전자', 'LG전자', 'SK Hynix')\n",
    "data = list(interest)"
   ]
  },
  {
   "cell_type": "code",
   "execution_count": 286,
   "id": "2c5a267d-7eb3-4844-8a22-56b5ab189744",
   "metadata": {},
   "outputs": [],
   "source": [
    "#78\n",
    "interest = ('삼성전자', 'LG전자', 'SK Hynix')\n",
    "data = tuple(interest)"
   ]
  },
  {
   "cell_type": "code",
   "execution_count": 287,
   "id": "a513090d-0752-4ae3-893c-189700b52f40",
   "metadata": {},
   "outputs": [
    {
     "name": "stdout",
     "output_type": "stream",
     "text": [
      "apple banana cake\n"
     ]
    }
   ],
   "source": [
    "#79 튜플 언팩킹\n",
    "temp = ('apple', 'banana', 'cake')\n",
    "a, b, c = temp\n",
    "print(a, b, c)"
   ]
  },
  {
   "cell_type": "code",
   "execution_count": 289,
   "id": "e06e3ffd-376c-45be-99a6-1d91dff82fd3",
   "metadata": {},
   "outputs": [
    {
     "name": "stdout",
     "output_type": "stream",
     "text": [
      "(2, 4, 6, 8, 10, 12, 14, 16, 18, 20, 22, 24, 26, 28, 30, 32, 34, 36, 38, 40, 42, 44, 46, 48, 50, 52, 54, 56, 58, 60, 62, 64, 66, 68, 70, 72, 74, 76, 78, 80, 82, 84, 86, 88, 90, 92, 94, 96, 98)\n"
     ]
    }
   ],
   "source": [
    "#80 range 함수\n",
    "data = tuple(range(2, 100, 2))\n",
    "print( data )"
   ]
  },
  {
   "cell_type": "code",
   "execution_count": null,
   "id": "20b683fa-b5f0-4da6-99b1-80fc801e804d",
   "metadata": {},
   "outputs": [],
   "source": [
    "### 2024 06 12 03:17 부랴부랴 헐레벌떡 으쌰으쌰"
   ]
  },
  {
   "cell_type": "code",
   "execution_count": null,
   "id": "ba179e39-18a8-4a3c-8839-b8059d5c96b8",
   "metadata": {},
   "outputs": [],
   "source": []
  },
  {
   "cell_type": "markdown",
   "id": "56c5b2e3-c574-4e4d-ba25-52d90f559c36",
   "metadata": {},
   "source": [
    "## 파이썬 딕셔너리"
   ]
  },
  {
   "cell_type": "code",
   "execution_count": 5,
   "id": "b625bbc5-a9ca-42f7-9e47-c030b2858430",
   "metadata": {},
   "outputs": [
    {
     "data": {
      "text/plain": [
       "0"
      ]
     },
     "execution_count": 5,
     "metadata": {},
     "output_type": "execute_result"
    }
   ],
   "source": [
    "# 081 별 표현식\n",
    "a, b, *c = (0, 1, 2, 3, 4, 5)\n",
    "a"
   ]
  },
  {
   "cell_type": "code",
   "execution_count": 6,
   "id": "57a78da0-d050-42a0-a6a3-0ce58ed44f59",
   "metadata": {},
   "outputs": [
    {
     "data": {
      "text/plain": [
       "1"
      ]
     },
     "execution_count": 6,
     "metadata": {},
     "output_type": "execute_result"
    }
   ],
   "source": [
    "b"
   ]
  },
  {
   "cell_type": "code",
   "execution_count": 7,
   "id": "9e9ce0ff-a8a3-4df9-a341-a7652f530404",
   "metadata": {},
   "outputs": [
    {
     "data": {
      "text/plain": [
       "[2, 3, 4, 5]"
      ]
     },
     "execution_count": 7,
     "metadata": {},
     "output_type": "execute_result"
    }
   ],
   "source": [
    "c"
   ]
  },
  {
   "cell_type": "code",
   "execution_count": 10,
   "id": "ac242776-4a8d-41a9-b459-ee0db5d29812",
   "metadata": {},
   "outputs": [
    {
     "name": "stdout",
     "output_type": "stream",
     "text": [
      "[2, 3, 4, 5]\n"
     ]
    }
   ],
   "source": [
    "print(c)"
   ]
  },
  {
   "cell_type": "code",
   "execution_count": 12,
   "id": "201381b9-4b39-4490-99e2-a57d4120b762",
   "metadata": {},
   "outputs": [
    {
     "name": "stdout",
     "output_type": "stream",
     "text": [
      "[8.8, 8.9, 8.7, 9.2, 9.3, 9.7, 9.9, 9.5]\n"
     ]
    }
   ],
   "source": [
    "scores = [8.8, 8.9, 8.7, 9.2, 9.3, 9.7, 9.9, 9.5, 7.8, 9.4]\n",
    "*valid_scored,_,_=scores\n",
    "print(valid_scored)"
   ]
  },
  {
   "cell_type": "code",
   "execution_count": 13,
   "id": "74aa1326-5056-4b01-a06c-aa6a65fbe708",
   "metadata": {},
   "outputs": [
    {
     "name": "stdout",
     "output_type": "stream",
     "text": [
      "[8.7, 9.2, 9.3, 9.7, 9.9, 9.5, 7.8, 9.4]\n"
     ]
    }
   ],
   "source": [
    "# 082\n",
    "scores = [8.8, 8.9, 8.7, 9.2, 9.3, 9.7, 9.9, 9.5, 7.8, 9.4]\n",
    "_, _, *valid_score=scores\n",
    "print(valid_score)"
   ]
  },
  {
   "cell_type": "code",
   "execution_count": 14,
   "id": "e114f536-7f7c-4027-8c99-c69f8dd6725f",
   "metadata": {},
   "outputs": [
    {
     "name": "stdout",
     "output_type": "stream",
     "text": [
      "[8.9, 8.7, 9.2, 9.3, 9.7, 9.9, 9.5, 7.8]\n"
     ]
    }
   ],
   "source": [
    "# 083\n",
    "scores = [8.8, 8.9, 8.7, 9.2, 9.3, 9.7, 9.9, 9.5, 7.8, 9.4]\n",
    "_, *valid_score, _=scores\n",
    "print(valid_score)"
   ]
  },
  {
   "cell_type": "code",
   "execution_count": 15,
   "id": "0025d564-e8a1-4b21-aa55-1ac3cc82833f",
   "metadata": {},
   "outputs": [],
   "source": [
    "# 084 비어있는 딕셔너리\n",
    "temp = { }\n"
   ]
  },
  {
   "cell_type": "code",
   "execution_count": 16,
   "id": "49268cac-68a7-45f3-a48d-b3af566632f6",
   "metadata": {},
   "outputs": [
    {
     "name": "stdout",
     "output_type": "stream",
     "text": [
      "{'메로나': 1000, '폴라포': 1200, '빵빠레': 1800}\n"
     ]
    }
   ],
   "source": [
    "# 085\n",
    "ice_cream = {\"메로나\":1000, \"폴라포\":1200, \"빵빠레\":1800}\n",
    "print(ice_cream)"
   ]
  },
  {
   "cell_type": "code",
   "execution_count": 19,
   "id": "abadd55c-0fbf-40d7-b5ca-27ab984143e7",
   "metadata": {},
   "outputs": [
    {
     "name": "stdout",
     "output_type": "stream",
     "text": [
      "{'메로나': 1000, '폴라포': 1200, '빵빠레': 1800, '죠스바': 1200, '월드콘': 1500}\n"
     ]
    }
   ],
   "source": [
    "# 086\n",
    "ice_cream = {\"메로나\":1000, \"폴라포\":1200, \"빵빠레\":1800}\n",
    "ice_cream[\"죠스바\"] = 1200\n",
    "ice_cream[\"월드콘\"] = 1500\n",
    "print(ice_cream)"
   ]
  },
  {
   "cell_type": "code",
   "execution_count": 20,
   "id": "f95c21b4-f974-4fe5-96d7-e43400cc21a1",
   "metadata": {},
   "outputs": [
    {
     "name": "stdout",
     "output_type": "stream",
     "text": [
      "메로나 가격:  1000\n"
     ]
    }
   ],
   "source": [
    "# 087\n",
    "ice = {'메로나': 1000,\n",
    "       '폴로포': 1200,\n",
    "       '빵빠레': 1800,\n",
    "       '죠스바': 1200,\n",
    "       '월드콘': 1500}\n",
    "print(\"메로나 가격: \", ice[\"메로나\"])"
   ]
  },
  {
   "cell_type": "code",
   "execution_count": 27,
   "id": "2d33c76a-6933-4097-a7a7-200928770014",
   "metadata": {},
   "outputs": [
    {
     "name": "stdout",
     "output_type": "stream",
     "text": [
      "1300\n"
     ]
    }
   ],
   "source": [
    "# 088\n",
    "ice = {'메로나': 1000,\n",
    "       '폴로포': 1200,\n",
    "       '빵빠레': 1800,\n",
    "       '죠스바': 1200,\n",
    "       '월드콘': 1500}\n",
    "ice[\"메로나\"] = 1300\n",
    "print(ice[\"메로나\"])"
   ]
  },
  {
   "cell_type": "code",
   "execution_count": 28,
   "id": "8b673ac4-ac98-451a-95a6-48d1786b1bf8",
   "metadata": {},
   "outputs": [
    {
     "name": "stdout",
     "output_type": "stream",
     "text": [
      "{'폴로포': 1200, '빵빠레': 1800, '죠스바': 1200, '월드콘': 1500}\n"
     ]
    }
   ],
   "source": [
    "# 089\n",
    "ice = {'메로나': 1000,\n",
    "       '폴로포': 1200,\n",
    "       '빵빠레': 1800,\n",
    "       '죠스바': 1200,\n",
    "       '월드콘': 1500}\n",
    "del ice[\"메로나\"]\n",
    "print(ice)"
   ]
  },
  {
   "cell_type": "code",
   "execution_count": 29,
   "id": "3db1ee7a-030b-4b69-8ad5-a0609732fe31",
   "metadata": {},
   "outputs": [
    {
     "ename": "SyntaxError",
     "evalue": "invalid syntax (267941083.py, line 2)",
     "output_type": "error",
     "traceback": [
      "\u001b[1;36m  Cell \u001b[1;32mIn[29], line 2\u001b[1;36m\u001b[0m\n\u001b[1;33m    >> icecream = {'폴라포': 1200, '빵빠레': 1800, '월드콘': 1500, '메로나': 1000}\u001b[0m\n\u001b[1;37m    ^\u001b[0m\n\u001b[1;31mSyntaxError\u001b[0m\u001b[1;31m:\u001b[0m invalid syntax\n"
     ]
    }
   ],
   "source": [
    "# 090\n",
    ">> icecream = {'폴라포': 1200, '빵빠레': 1800, '월드콘': 1500, '메로나': 1000}\n",
    ">> icecream['누가바']\n",
    "Traceback (most recent call last):\n",
    "  File \"<pyshell#69>\", line 1, in <module>\n",
    "    icecream['누가바']\n",
    "KeyError: '누가바'\n"
   ]
  },
  {
   "cell_type": "code",
   "execution_count": 30,
   "id": "d3629083-7c8f-46a1-b4cd-744ccc8e4a12",
   "metadata": {},
   "outputs": [
    {
     "name": "stdout",
     "output_type": "stream",
     "text": [
      "{'메로나': [300, 20], '비비빅': [400, 3], '죠스바': [250, 100]}\n"
     ]
    }
   ],
   "source": [
    "# 091 딕셔너리 생성\n",
    "inventory={\"메로나\": [300,20], \"비비빅\": [400, 3], \"죠스바\": [250,100]}\n",
    "print(inventory)"
   ]
  },
  {
   "cell_type": "code",
   "execution_count": 36,
   "id": "1e53c570-b143-4a34-9b21-2fedd71afc2e",
   "metadata": {},
   "outputs": [
    {
     "name": "stdout",
     "output_type": "stream",
     "text": [
      "300 원\n"
     ]
    }
   ],
   "source": [
    "# 092 딕셔너리 인덱싱\n",
    "inventory = {\"메로나\": [300, 20],\n",
    "              \"비비빅\": [400, 3],\n",
    "              \"죠스바\": [250, 100]}\n",
    "print(inventory[\"메로나\"][0], \"원\")"
   ]
  },
  {
   "cell_type": "code",
   "execution_count": 45,
   "id": "ffd06594-ca20-4d85-8a23-d68d85469d48",
   "metadata": {},
   "outputs": [
    {
     "name": "stdout",
     "output_type": "stream",
     "text": [
      "20 개\n"
     ]
    }
   ],
   "source": [
    "# 093 딕셔너리 인덱싱\n",
    "inventory = {\"메로나\": [300, 20],\n",
    "              \"비비빅\": [400, 3],\n",
    "              \"죠스바\": [250, 100]}\n",
    "print(inventory[\"메로나\"][1], \"개\")"
   ]
  },
  {
   "cell_type": "code",
   "execution_count": 42,
   "id": "1c88a653-1ab1-4e80-bb39-09f526e91908",
   "metadata": {},
   "outputs": [
    {
     "name": "stdout",
     "output_type": "stream",
     "text": [
      "{'메로나': [300, 20], '비비빅': [400, 3], '죠스바': [250, 100], '월드콘': [500, 7]}\n"
     ]
    }
   ],
   "source": [
    "# 094 딕셔너리 추가\n",
    "inventory = {\"메로나\": [300, 20],\n",
    "              \"비비빅\": [400, 3],\n",
    "              \"죠스바\": [250, 100]}\n",
    "inventory[\"월드콘\"] = [500, 7]\n",
    "print(inventory)"
   ]
  },
  {
   "cell_type": "code",
   "execution_count": 51,
   "id": "93d59fa3-8042-40ed-b364-f38d9fcda660",
   "metadata": {},
   "outputs": [
    {
     "name": "stdout",
     "output_type": "stream",
     "text": [
      "['탱크보이', '폴라포', '빵빠레', '월드콘', '메로나']\n"
     ]
    }
   ],
   "source": [
    "# 095 딕셔너리 keys() 메서드\n",
    "icecream = {'탱크보이': 1200, '폴라포': 1200, '빵빠레': 1800, '월드콘': 1500, '메로나': 1000}\n",
    "ice = list(icecream.keys())\n",
    "print(ice)"
   ]
  },
  {
   "cell_type": "code",
   "execution_count": 52,
   "id": "13ca3ba6-5a3a-4262-89a8-34bb3f70113b",
   "metadata": {},
   "outputs": [
    {
     "data": {
      "text/plain": [
       "\u001b[1;31mDocstring:\u001b[0m D.keys() -> a set-like object providing a view on D's keys\n",
       "\u001b[1;31mType:\u001b[0m      builtin_function_or_method"
      ]
     },
     "metadata": {},
     "output_type": "display_data"
    }
   ],
   "source": [
    "icecream.keys?"
   ]
  },
  {
   "cell_type": "code",
   "execution_count": 58,
   "id": "6bc41b15-e55a-425c-b7ea-f430dae57970",
   "metadata": {},
   "outputs": [
    {
     "name": "stdout",
     "output_type": "stream",
     "text": [
      "[1200, 1200, 1800, 1500, 1000]\n"
     ]
    }
   ],
   "source": [
    "# 096 딕셔너리 values() 메서드\n",
    "icecream = {'탱크보이': 1200, '폴라포': 1200, '빵빠레': 1800, '월드콘': 1500, '메로나': 1000}\n",
    "price = list(icecream.values())\n",
    "print(price)"
   ]
  },
  {
   "cell_type": "code",
   "execution_count": 54,
   "id": "2b7b01bd-d6df-4818-a3ac-d6c860689bf8",
   "metadata": {},
   "outputs": [
    {
     "name": "stdout",
     "output_type": "stream",
     "text": [
      "6700\n"
     ]
    }
   ],
   "source": [
    "# 097 딕셔너리 values() 메서드\n",
    "icecream = {'탱크보이': 1200, '폴라포': 1200, '빵빠레': 1800, '월드콘': 1500, '메로나': 1000}\n",
    "print(sum(icecream.values()))"
   ]
  },
  {
   "cell_type": "code",
   "execution_count": 59,
   "id": "1a3b7424-57af-4e13-aa42-3c42caffc99d",
   "metadata": {},
   "outputs": [
    {
     "name": "stdout",
     "output_type": "stream",
     "text": [
      "{'탱크보이': 1200, '폴라포': 1200, '빵빠레': 1800, '월드콘': 1500, '메로나': 1000, '팥빙수': 2700, '아맛나': 1000}\n"
     ]
    }
   ],
   "source": [
    "# 098 딕셔너리 update 메서드\n",
    "icecream = {'탱크보이': 1200, '폴라포': 1200, '빵빠레': 1800, '월드콘': 1500, '메로나': 1000}\n",
    "new_product = {'팥빙수':2700, '아맛나':1000}\n",
    "icecream.update(new_product)\n",
    "print(icecream)"
   ]
  },
  {
   "cell_type": "code",
   "execution_count": 60,
   "id": "1f2594b9-b3af-4fd7-8ea0-bbf58fb60c56",
   "metadata": {},
   "outputs": [
    {
     "name": "stdout",
     "output_type": "stream",
     "text": [
      "{'apple': 300, 'pear': 250, 'peach': 400}\n"
     ]
    }
   ],
   "source": [
    "# 099 zip과 dict\n",
    "keys = (\"apple\", \"pear\", \"peach\")\n",
    "vals = (300, 250, 400)\n",
    "result = dict(zip(keys, vals))\n",
    "print(result)"
   ]
  },
  {
   "cell_type": "code",
   "execution_count": 62,
   "id": "3c312cac-739f-446d-bbdb-737ff4dc2f6a",
   "metadata": {},
   "outputs": [
    {
     "name": "stdout",
     "output_type": "stream",
     "text": [
      "{'09/05': 10500, '09/06': 10300, '09/07': 10100, '09/08': 10800, '09/09': 11000}\n"
     ]
    }
   ],
   "source": [
    "# 100 zip과 dict\n",
    "date = ['09/05', '09/06', '09/07', '09/08', '09/09']\n",
    "close_price = [10500, 10300, 10100, 10800, 11000]\n",
    "close_table = dict(zip(date, close_price))\n",
    "print(close_table)"
   ]
  },
  {
   "cell_type": "markdown",
   "id": "46e9cb9a-fe45-4c5b-9513-152611a8de35",
   "metadata": {},
   "source": [
    "## 07. 파이썬 분기문"
   ]
  },
  {
   "cell_type": "code",
   "execution_count": null,
   "id": "fd504eda-2342-44b5-9cd9-edf025fc7c20",
   "metadata": {},
   "outputs": [],
   "source": [
    "# 101\n",
    "파이썬에서 True 혹은 False를 갖는 데이터 타입은 'bool'"
   ]
  },
  {
   "cell_type": "code",
   "execution_count": 64,
   "id": "70d85c90-4b0f-4d37-a28c-e04bbda44d91",
   "metadata": {},
   "outputs": [
    {
     "name": "stdout",
     "output_type": "stream",
     "text": [
      "False\n"
     ]
    }
   ],
   "source": [
    "# 102\n",
    "print(3 == 5)"
   ]
  },
  {
   "cell_type": "code",
   "execution_count": 65,
   "id": "0f15c3b5-f325-4f29-9d46-b584c278c175",
   "metadata": {},
   "outputs": [
    {
     "name": "stdout",
     "output_type": "stream",
     "text": [
      "True\n"
     ]
    }
   ],
   "source": [
    "#  103\n",
    "print(3 < 5)"
   ]
  },
  {
   "cell_type": "code",
   "execution_count": 66,
   "id": "b44df850-a1b6-4e72-9acf-9476244f1439",
   "metadata": {},
   "outputs": [
    {
     "name": "stdout",
     "output_type": "stream",
     "text": [
      "True\n"
     ]
    }
   ],
   "source": [
    "# 104\n",
    "x = 4\n",
    "print(1 < x < 5)"
   ]
  },
  {
   "cell_type": "code",
   "execution_count": 73,
   "id": "e915af52-025d-4143-9008-6f4ee4a9f38a",
   "metadata": {},
   "outputs": [
    {
     "name": "stdout",
     "output_type": "stream",
     "text": [
      "True\n"
     ]
    }
   ],
   "source": [
    "# 105\n",
    "print ((3 == 3) and (4 != 3))"
   ]
  },
  {
   "cell_type": "code",
   "execution_count": 78,
   "id": "fc9bece8-68ac-482e-b2da-93feff06af74",
   "metadata": {},
   "outputs": [
    {
     "ename": "SyntaxError",
     "evalue": "expression cannot contain assignment, perhaps you meant \"==\"? (2490094452.py, line 2)",
     "output_type": "error",
     "traceback": [
      "\u001b[1;36m  Cell \u001b[1;32mIn[78], line 2\u001b[1;36m\u001b[0m\n\u001b[1;33m    print(3 => 4)\u001b[0m\n\u001b[1;37m          ^\u001b[0m\n\u001b[1;31mSyntaxError\u001b[0m\u001b[1;31m:\u001b[0m expression cannot contain assignment, perhaps you meant \"==\"?\n"
     ]
    }
   ],
   "source": [
    "# 106\n",
    "print(3 => 4)"
   ]
  },
  {
   "cell_type": "code",
   "execution_count": 81,
   "id": "a1e9a16c-4470-40e5-b74c-5a29b1dd0431",
   "metadata": {},
   "outputs": [],
   "source": [
    "# 107\n",
    "if 4 < 3:\n",
    "    print(\"Hello World\")"
   ]
  },
  {
   "cell_type": "code",
   "execution_count": 82,
   "id": "6954b7f0-f5ee-4dd0-ac0b-fcb8743860bd",
   "metadata": {},
   "outputs": [
    {
     "name": "stdout",
     "output_type": "stream",
     "text": [
      "Hi, there.\n"
     ]
    }
   ],
   "source": [
    "# 108\n",
    "if 4 < 3:\n",
    "    print(\"Hello World.\")\n",
    "else:\n",
    "    print(\"Hi, there.\")"
   ]
  },
  {
   "cell_type": "code",
   "execution_count": 83,
   "id": "534d8b4a-e6c4-466e-91cd-f9659bde82b7",
   "metadata": {},
   "outputs": [
    {
     "name": "stdout",
     "output_type": "stream",
     "text": [
      "1\n",
      "2\n",
      "4\n"
     ]
    }
   ],
   "source": [
    "# 109\n",
    "if True :\n",
    "    print (\"1\")\n",
    "    print (\"2\")\n",
    "else :\n",
    "    print(\"3\")\n",
    "print(\"4\")"
   ]
  },
  {
   "cell_type": "code",
   "execution_count": 84,
   "id": "004c7e7b-e59d-4943-9429-da26528f4702",
   "metadata": {},
   "outputs": [
    {
     "name": "stdout",
     "output_type": "stream",
     "text": [
      "3\n",
      "5\n"
     ]
    }
   ],
   "source": [
    "# 110\n",
    "if True :\n",
    "    if False:\n",
    "        print(\"1\")\n",
    "        print(\"2\")\n",
    "    else:\n",
    "        print(\"3\")\n",
    "else :\n",
    "    print(\"4\")\n",
    "print(\"5\")"
   ]
  },
  {
   "cell_type": "code",
   "execution_count": 86,
   "id": "9a859440-1c14-44a1-bbb9-77c862ec2253",
   "metadata": {},
   "outputs": [
    {
     "name": "stdin",
     "output_type": "stream",
     "text": [
      "입력:  가나\n"
     ]
    },
    {
     "name": "stdout",
     "output_type": "stream",
     "text": [
      "가나가나\n"
     ]
    }
   ],
   "source": [
    "# 111\n",
    "user = input(\"입력: \")\n",
    "print(user *2)"
   ]
  },
  {
   "cell_type": "code",
   "execution_count": 87,
   "id": "a14359b4-d91e-4d87-b129-cb8b03b71feb",
   "metadata": {},
   "outputs": [
    {
     "name": "stdin",
     "output_type": "stream",
     "text": [
      "입력:  40\n"
     ]
    },
    {
     "name": "stdout",
     "output_type": "stream",
     "text": [
      "50\n"
     ]
    }
   ],
   "source": [
    "# 112\n",
    "user = input(\"입력: \")\n",
    "\n",
    "print(int(user) +10)"
   ]
  },
  {
   "cell_type": "code",
   "execution_count": 89,
   "id": "9071e26d-2712-4c92-a16f-c6b64bacf57c",
   "metadata": {},
   "outputs": [
    {
     "name": "stdin",
     "output_type": "stream",
     "text": [
      " 5\n"
     ]
    },
    {
     "name": "stdout",
     "output_type": "stream",
     "text": [
      "홀수\n"
     ]
    }
   ],
   "source": [
    "# 113\n",
    "user = input(\"\")\n",
    "if int(user) %2 ==0:\n",
    "    print(\"짝수\")\n",
    "else:\n",
    "    print(\"홀수\")"
   ]
  },
  {
   "cell_type": "code",
   "execution_count": 93,
   "id": "2bdbfe8c-9129-422d-b5fd-2bd89037e35c",
   "metadata": {},
   "outputs": [
    {
     "name": "stdin",
     "output_type": "stream",
     "text": [
      "입력값:  280\n"
     ]
    },
    {
     "name": "stdout",
     "output_type": "stream",
     "text": [
      "255\n"
     ]
    }
   ],
   "source": [
    "#114\n",
    "user = input(\"입력값: \")\n",
    "num=20+int(user)\n",
    "if num > 255:\n",
    "    print(\"255\")\n",
    "else:\n",
    "    print(num)"
   ]
  },
  {
   "cell_type": "code",
   "execution_count": 99,
   "id": "dcc1e1b0-e018-4681-950f-16f4d3bc03ed",
   "metadata": {},
   "outputs": [
    {
     "name": "stdin",
     "output_type": "stream",
     "text": [
      "입력값:  300\n"
     ]
    },
    {
     "name": "stdout",
     "output_type": "stream",
     "text": [
      "255\n"
     ]
    }
   ],
   "source": [
    "#115\n",
    "user = input(\"입력값: \")\n",
    "num = int(user) - 20\n",
    "if num < 0:\n",
    "    print(0)\n",
    "elif num > 255:\n",
    "    print(255)\n",
    "else:print(num)"
   ]
  },
  {
   "cell_type": "code",
   "execution_count": 101,
   "id": "93955ce2-359b-4078-9d4f-83258c2309ce",
   "metadata": {},
   "outputs": [
    {
     "name": "stdin",
     "output_type": "stream",
     "text": [
      "현재시간:  03:00\n"
     ]
    },
    {
     "name": "stdout",
     "output_type": "stream",
     "text": [
      "정각입니다.\n"
     ]
    }
   ],
   "source": [
    "#116\n",
    "user = input(\"현재시간: \")\n",
    "if user[-2:] == \"00\":\n",
    "    print(\"정각입니다.\")\n",
    "else:\n",
    "    print(\"정각이 아닙니다.\")"
   ]
  },
  {
   "cell_type": "code",
   "execution_count": 106,
   "id": "6ad37f5b-639a-4452-8cc0-f2c68ef91131",
   "metadata": {},
   "outputs": [
    {
     "name": "stdin",
     "output_type": "stream",
     "text": [
      "장바구니에 있는 과일은:  망고\n"
     ]
    },
    {
     "name": "stdout",
     "output_type": "stream",
     "text": [
      "오답입니다.\n"
     ]
    }
   ],
   "source": [
    "#117\n",
    "fruit = [\"사과\", \"포도\", \"홍시\"]\n",
    "user = input(\"장바구니에 있는 과일은: \")\n",
    "if user in fruit:\n",
    "    print(\"정답입니다.\")\n",
    "else:\n",
    "    print(\"오답입니다.\")"
   ]
  },
  {
   "cell_type": "code",
   "execution_count": 111,
   "id": "2257b005-a402-45c8-8053-a5622ab59993",
   "metadata": {},
   "outputs": [
    {
     "name": "stdin",
     "output_type": "stream",
     "text": [
      "입력하신 종목은  samsung\n"
     ]
    },
    {
     "name": "stdout",
     "output_type": "stream",
     "text": [
      "투자 경고 종목이 아닙니다.\n"
     ]
    }
   ],
   "source": [
    "# 118\n",
    "warn_investment_list = [\"Microsoft\", \"Google\", \"Naver\", \"Kakao\", \"SAMSUNG\", \"LG\"]\n",
    "user = input(\"입력하신 종목은 \")\n",
    "if user in warn_investment_list:\n",
    "    print(\"투자 경고 종목입니다.\")\n",
    "else:\n",
    "    print(\"투자 경고 종목이 아닙니다.\")"
   ]
  },
  {
   "cell_type": "code",
   "execution_count": 118,
   "id": "0698f1d6-acbb-4f15-9159-48ce8b355f5b",
   "metadata": {},
   "outputs": [
    {
     "name": "stdin",
     "output_type": "stream",
     "text": [
      "스키장을 운영하지않는 계절은?  겨울\n"
     ]
    },
    {
     "name": "stdout",
     "output_type": "stream",
     "text": [
      "오답입니다.\n"
     ]
    }
   ],
   "source": [
    "# 119\n",
    "fruit = {\"봄\" : \"딸기\", \"여름\" : \"토마토\", \"가을\" : \"사과\"}\n",
    "user = input(\"스키장을 운영하지않는 계절은? \")\n",
    "if user in fruit.keys():\n",
    "    print(\"정답입니다.\")\n",
    "else:\n",
    "    print(\"오답입니다.\")"
   ]
  },
  {
   "cell_type": "code",
   "execution_count": 116,
   "id": "c6bd63df-9d73-4107-864b-792ff531c550",
   "metadata": {},
   "outputs": [
    {
     "name": "stdin",
     "output_type": "stream",
     "text": [
      "좋아하는 과일은?  배\n"
     ]
    },
    {
     "name": "stdout",
     "output_type": "stream",
     "text": [
      "오답입니다.\n"
     ]
    }
   ],
   "source": [
    "# 120\n",
    "fruit = {\"봄\" : \"딸기\", \"여름\" : \"토마토\", \"가을\" : \"사과\"}\n",
    "user = input(\"좋아하는 과일은? \")\n",
    "if user in fruit.values():\n",
    "    print(\"정답입니다.\")\n",
    "else:\n",
    "    print(\"오답입니다.\")"
   ]
  },
  {
   "cell_type": "code",
   "execution_count": 129,
   "id": "e854af9e-65e4-4004-b310-4300f87eb8df",
   "metadata": {},
   "outputs": [
    {
     "name": "stdin",
     "output_type": "stream",
     "text": [
      " ab\n"
     ]
    },
    {
     "name": "stdout",
     "output_type": "stream",
     "text": [
      "한 문자만 작성해주세요.\n"
     ]
    }
   ],
   "source": [
    "# 121\n",
    "\n",
    "user = input(\"\")\n",
    "\n",
    "if len(user) > 1:\n",
    "    print(\"한 문자만 작성해주세요.\")\n",
    "elif user.islower():\n",
    "    print(user.upper())\n",
    "else:\n",
    "    print(user.lower())\n"
   ]
  },
  {
   "cell_type": "code",
   "execution_count": 124,
   "id": "9dfb8654-9fee-43ad-b7ce-2887b7a526c6",
   "metadata": {},
   "outputs": [
    {
     "name": "stdin",
     "output_type": "stream",
     "text": [
      " aBc\n"
     ]
    },
    {
     "name": "stdout",
     "output_type": "stream",
     "text": [
      "abc\n"
     ]
    }
   ],
   "source": [
    "# 121\n",
    "\n",
    "user = input(\"\")\n",
    "\n",
    "if user.islower():\n",
    "    print(user.upper())\n",
    "else:\n",
    "    print(user.lower())\n"
   ]
  },
  {
   "cell_type": "code",
   "execution_count": 133,
   "id": "4c4279a9-19cd-4a81-9597-a9e4b7529c72",
   "metadata": {},
   "outputs": [
    {
     "name": "stdin",
     "output_type": "stream",
     "text": [
      "score:  59\n"
     ]
    },
    {
     "name": "stdout",
     "output_type": "stream",
     "text": [
      "grade is C\n"
     ]
    }
   ],
   "source": [
    "# 122\n",
    "score = input(\"score: \")\n",
    "\n",
    "score = int(score)\n",
    "if 81 <= score <= 100:\n",
    "    print(\"grade is A\")\n",
    "elif 61 <= score <= 80:\n",
    "    print(\"grade is B\")\n",
    "elif 41 <= score <= 60:\n",
    "    print(\"grade is C\")\n",
    "elif 21 <= score <= 40:\n",
    "    print(\"grade is D\")\n",
    "elif 1 <= score <= 20:\n",
    "    print(\"grade is E\")"
   ]
  },
  {
   "cell_type": "code",
   "execution_count": 134,
   "id": "892d4b2f-6feb-4fe6-ae62-8e572a5db1b2",
   "metadata": {},
   "outputs": [
    {
     "ename": "KeyboardInterrupt",
     "evalue": "Interrupted by user",
     "output_type": "error",
     "traceback": [
      "\u001b[1;31m---------------------------------------------------------------------------\u001b[0m",
      "\u001b[1;31mKeyboardInterrupt\u001b[0m                         Traceback (most recent call last)",
      "Cell \u001b[1;32mIn[134], line 3\u001b[0m\n\u001b[0;32m      1\u001b[0m \u001b[38;5;66;03m# 123\u001b[39;00m\n\u001b[0;32m      2\u001b[0m 환율 \u001b[38;5;241m=\u001b[39m {\u001b[38;5;124m\"\u001b[39m\u001b[38;5;124m달러\u001b[39m\u001b[38;5;124m\"\u001b[39m:\t\u001b[38;5;241m1167\u001b[39m, \u001b[38;5;124m\"\u001b[39m\u001b[38;5;124m엔\u001b[39m\u001b[38;5;124m\"\u001b[39m:\t\u001b[38;5;241m1.096\u001b[39m, \u001b[38;5;124m\"\u001b[39m\u001b[38;5;124m유로\u001b[39m\u001b[38;5;124m\"\u001b[39m:\t\u001b[38;5;241m1268\u001b[39m, \u001b[38;5;124m\"\u001b[39m\u001b[38;5;124m위안\u001b[39m\u001b[38;5;124m\"\u001b[39m:\t\u001b[38;5;241m171\u001b[39m}\n\u001b[1;32m----> 3\u001b[0m data \u001b[38;5;241m=\u001b[39m \u001b[38;5;28minput\u001b[39m(\u001b[38;5;124m\"\u001b[39m\u001b[38;5;124m입력: \u001b[39m\u001b[38;5;124m\"\u001b[39m)\n\u001b[0;32m      4\u001b[0m currency \u001b[38;5;241m=\u001b[39m data\u001b[38;5;241m.\u001b[39msplit()\n\u001b[0;32m      5\u001b[0m \u001b[38;5;28mprint\u001b[39m(currency)\n",
      "File \u001b[1;32m~\\anaconda3\\Lib\\site-packages\\ipykernel\\kernelbase.py:1262\u001b[0m, in \u001b[0;36mKernel.raw_input\u001b[1;34m(self, prompt)\u001b[0m\n\u001b[0;32m   1260\u001b[0m     msg \u001b[38;5;241m=\u001b[39m \u001b[38;5;124m\"\u001b[39m\u001b[38;5;124mraw_input was called, but this frontend does not support input requests.\u001b[39m\u001b[38;5;124m\"\u001b[39m\n\u001b[0;32m   1261\u001b[0m     \u001b[38;5;28;01mraise\u001b[39;00m StdinNotImplementedError(msg)\n\u001b[1;32m-> 1262\u001b[0m \u001b[38;5;28;01mreturn\u001b[39;00m \u001b[38;5;28mself\u001b[39m\u001b[38;5;241m.\u001b[39m_input_request(\n\u001b[0;32m   1263\u001b[0m     \u001b[38;5;28mstr\u001b[39m(prompt),\n\u001b[0;32m   1264\u001b[0m     \u001b[38;5;28mself\u001b[39m\u001b[38;5;241m.\u001b[39m_parent_ident[\u001b[38;5;124m\"\u001b[39m\u001b[38;5;124mshell\u001b[39m\u001b[38;5;124m\"\u001b[39m],\n\u001b[0;32m   1265\u001b[0m     \u001b[38;5;28mself\u001b[39m\u001b[38;5;241m.\u001b[39mget_parent(\u001b[38;5;124m\"\u001b[39m\u001b[38;5;124mshell\u001b[39m\u001b[38;5;124m\"\u001b[39m),\n\u001b[0;32m   1266\u001b[0m     password\u001b[38;5;241m=\u001b[39m\u001b[38;5;28;01mFalse\u001b[39;00m,\n\u001b[0;32m   1267\u001b[0m )\n",
      "File \u001b[1;32m~\\anaconda3\\Lib\\site-packages\\ipykernel\\kernelbase.py:1305\u001b[0m, in \u001b[0;36mKernel._input_request\u001b[1;34m(self, prompt, ident, parent, password)\u001b[0m\n\u001b[0;32m   1302\u001b[0m \u001b[38;5;28;01mexcept\u001b[39;00m \u001b[38;5;167;01mKeyboardInterrupt\u001b[39;00m:\n\u001b[0;32m   1303\u001b[0m     \u001b[38;5;66;03m# re-raise KeyboardInterrupt, to truncate traceback\u001b[39;00m\n\u001b[0;32m   1304\u001b[0m     msg \u001b[38;5;241m=\u001b[39m \u001b[38;5;124m\"\u001b[39m\u001b[38;5;124mInterrupted by user\u001b[39m\u001b[38;5;124m\"\u001b[39m\n\u001b[1;32m-> 1305\u001b[0m     \u001b[38;5;28;01mraise\u001b[39;00m \u001b[38;5;167;01mKeyboardInterrupt\u001b[39;00m(msg) \u001b[38;5;28;01mfrom\u001b[39;00m \u001b[38;5;28;01mNone\u001b[39;00m\n\u001b[0;32m   1306\u001b[0m \u001b[38;5;28;01mexcept\u001b[39;00m \u001b[38;5;167;01mException\u001b[39;00m:\n\u001b[0;32m   1307\u001b[0m     \u001b[38;5;28mself\u001b[39m\u001b[38;5;241m.\u001b[39mlog\u001b[38;5;241m.\u001b[39mwarning(\u001b[38;5;124m\"\u001b[39m\u001b[38;5;124mInvalid Message:\u001b[39m\u001b[38;5;124m\"\u001b[39m, exc_info\u001b[38;5;241m=\u001b[39m\u001b[38;5;28;01mTrue\u001b[39;00m)\n",
      "\u001b[1;31mKeyboardInterrupt\u001b[0m: Interrupted by user"
     ]
    }
   ],
   "source": [
    "# 123 다시보기다시보기다시보기!!!!!!!!!!!!!!!!!!!!!!!!!!!!!!!!!!!!!!!!!!!!!!!!!!!!!!!!!!!!!!!!!!!!!!\n",
    "환율 = {\"달러\":\t1167, \"엔\":\t1.096, \"유로\":\t1268, \"위안\":\t171}\n",
    "data = input(\"입력: \")\n",
    "tokens = data.split()\n",
    "amount, currency = tokens\n",
    "\n",
    "if currency = '달러'\n",
    "    print()"
   ]
  },
  {
   "cell_type": "code",
   "execution_count": 139,
   "id": "ac900a20-8238-4e63-bcfd-1d974e0923c7",
   "metadata": {},
   "outputs": [
    {
     "name": "stdin",
     "output_type": "stream",
     "text": [
      "input number1:  2\n",
      "input number2:  3\n",
      "input number3:  4\n"
     ]
    },
    {
     "name": "stdout",
     "output_type": "stream",
     "text": [
      "4\n"
     ]
    }
   ],
   "source": [
    "# 124\n",
    "num1 = input(\"input number1: \")\n",
    "num2 = input(\"input number2: \")\n",
    "num3 = input(\"input number3: \")\n",
    "num1 = int(num1)\n",
    "num2 = int(num2)\n",
    "num3 = int(num3)\n",
    "\n",
    "if num1 > num2 and num1 > num3:\n",
    "    print(num1)\n",
    "elif num2 > num1 and num2 > num3:\n",
    "    print(num2)\n",
    "else: print(num3)"
   ]
  },
  {
   "cell_type": "code",
   "execution_count": 146,
   "id": "22b44fd9-f4aa-4829-b1e8-3671a89ebfec",
   "metadata": {},
   "outputs": [
    {
     "name": "stdin",
     "output_type": "stream",
     "text": [
      "번호:  01927327637\n"
     ]
    },
    {
     "name": "stdout",
     "output_type": "stream",
     "text": [
      "당신은 LGU 사용자입니다.\n"
     ]
    }
   ],
   "source": [
    "#125\n",
    "num = input(\"번호: \")\n",
    "\n",
    "if num[:3] == \"011\":\n",
    "    print(\"당신은 SKT 사용자입니다.\")\n",
    "elif num[:3] == \"016\":\n",
    "    print(\"당신은 KT 사용자입니다.\")\n",
    "elif num[:3] == \"019\":\n",
    "    print(\"당신은 LGU 사용자입니다.\")\n",
    "else:\n",
    "    print(\"통신사를 알수 없는 사용자입니다.\")"
   ]
  },
  {
   "cell_type": "code",
   "execution_count": 151,
   "id": "47407fa9-928d-42ad-83be-2c2d3c1a8370",
   "metadata": {},
   "outputs": [
    {
     "name": "stdin",
     "output_type": "stream",
     "text": [
      "우편번호:  01299\n"
     ]
    },
    {
     "name": "stdout",
     "output_type": "stream",
     "text": [
      "강북구\n"
     ]
    }
   ],
   "source": [
    "#126\n",
    "zipcode = input(\"우편번호: \")\n",
    "\n",
    "if zipcode[:3] in [\"010\", \"011\", \"012\"]:\n",
    "    print(\"강북구\")\n",
    "elif zipcode[:3] in [\"014\", \"015\", \"016\"]:\n",
    "    print(\"도봉구\")\n",
    "else:\n",
    "    print(\"노원구\")"
   ]
  },
  {
   "cell_type": "code",
   "execution_count": 156,
   "id": "b4e64a19-4b64-4594-9f3d-481ec8a870e5",
   "metadata": {},
   "outputs": [
    {
     "name": "stdin",
     "output_type": "stream",
     "text": [
      "주민등록번호:  930831-2981234\n"
     ]
    },
    {
     "name": "stdout",
     "output_type": "stream",
     "text": [
      "여자\n"
     ]
    }
   ],
   "source": [
    "# 127\n",
    "number = input(\"주민등록번호: \")\n",
    "num = number.split(\"-\")[1]\n",
    "\n",
    "if num[0] == \"1\" or num[0] == 3:\n",
    "    print(\"남자\")\n",
    "else:\n",
    "    print(\"여자\")"
   ]
  },
  {
   "cell_type": "code",
   "execution_count": 163,
   "id": "ba9974b4-8b0c-4cf1-bb28-1c295b10be91",
   "metadata": {},
   "outputs": [
    {
     "name": "stdin",
     "output_type": "stream",
     "text": [
      "주민등록번호:  930831-1020000\n"
     ]
    },
    {
     "name": "stdout",
     "output_type": "stream",
     "text": [
      "서울 입니다.\n"
     ]
    }
   ],
   "source": [
    "# 128\n",
    "주민번호 = input(\"주민등록번호: \")\n",
    "주번 = 주민번호.split(\"-\")[1]\n",
    "\n",
    "if 0 <= int(주번[1:3]) <= 8:\n",
    "    print(\"서울 입니다.\")\n",
    "else:\n",
    "    print(\"서울이 아닙니다\")"
   ]
  },
  {
   "cell_type": "code",
   "execution_count": 166,
   "id": "a25e3820-eb6f-48ad-9cf5-6c4a12480e7e",
   "metadata": {},
   "outputs": [
    {
     "name": "stdin",
     "output_type": "stream",
     "text": [
      "주민등록번호:  930831-2929292\n"
     ]
    },
    {
     "ename": "ValueError",
     "evalue": "invalid literal for int() with base 10: '-'",
     "output_type": "error",
     "traceback": [
      "\u001b[1;31m---------------------------------------------------------------------------\u001b[0m",
      "\u001b[1;31mValueError\u001b[0m                                Traceback (most recent call last)",
      "Cell \u001b[1;32mIn[166], line 4\u001b[0m\n\u001b[0;32m      1\u001b[0m \u001b[38;5;66;03m# 129\u001b[39;00m\n\u001b[0;32m      3\u001b[0m num \u001b[38;5;241m=\u001b[39m \u001b[38;5;28minput\u001b[39m(\u001b[38;5;124m\"\u001b[39m\u001b[38;5;124m주민등록번호: \u001b[39m\u001b[38;5;124m\"\u001b[39m)\n\u001b[1;32m----> 4\u001b[0m calc1 \u001b[38;5;241m=\u001b[39m \u001b[38;5;28mint\u001b[39m(num[\u001b[38;5;241m0\u001b[39m]) \u001b[38;5;241m*\u001b[39m \u001b[38;5;241m2\u001b[39m \u001b[38;5;241m+\u001b[39m \u001b[38;5;28mint\u001b[39m(num[\u001b[38;5;241m1\u001b[39m]) \u001b[38;5;241m*\u001b[39m \u001b[38;5;241m3\u001b[39m \u001b[38;5;241m+\u001b[39m \u001b[38;5;28mint\u001b[39m(num[\u001b[38;5;241m2\u001b[39m]) \u001b[38;5;241m*\u001b[39m \u001b[38;5;241m4\u001b[39m \u001b[38;5;241m+\u001b[39m \u001b[38;5;28mint\u001b[39m(num[\u001b[38;5;241m3\u001b[39m]) \u001b[38;5;241m*\u001b[39m \u001b[38;5;241m5\u001b[39m \u001b[38;5;241m+\u001b[39m \u001b[38;5;28mint\u001b[39m(num[\u001b[38;5;241m4\u001b[39m]) \u001b[38;5;241m*\u001b[39m \u001b[38;5;241m6\u001b[39m \u001b[38;5;241m+\u001b[39m \u001b[38;5;28mint\u001b[39m(num[\u001b[38;5;241m5\u001b[39m]) \u001b[38;5;241m*\u001b[39m \u001b[38;5;241m7\u001b[39m \u001b[38;5;241m+\u001b[39m \u001b[38;5;28mint\u001b[39m(num[\u001b[38;5;241m6\u001b[39m]) \u001b[38;5;241m*\u001b[39m \u001b[38;5;241m8\u001b[39m \u001b[38;5;241m+\u001b[39m \u001b[38;5;28mint\u001b[39m(num[\u001b[38;5;241m7\u001b[39m]) \u001b[38;5;241m*\u001b[39m \u001b[38;5;241m9\u001b[39m \u001b[38;5;241m+\u001b[39m \u001b[38;5;28mint\u001b[39m(num[\u001b[38;5;241m8\u001b[39m]) \u001b[38;5;241m*\u001b[39m \u001b[38;5;241m2\u001b[39m \u001b[38;5;241m+\u001b[39m \u001b[38;5;28mint\u001b[39m(num[\u001b[38;5;241m9\u001b[39m]) \u001b[38;5;241m*\u001b[39m \u001b[38;5;241m3\u001b[39m \u001b[38;5;241m+\u001b[39m \u001b[38;5;28mint\u001b[39m(num[\u001b[38;5;241m10\u001b[39m]) \u001b[38;5;241m*\u001b[39m \u001b[38;5;241m3\u001b[39m \u001b[38;5;241m+\u001b[39m \u001b[38;5;28mint\u001b[39m(num[\u001b[38;5;241m11\u001b[39m]) \u001b[38;5;241m*\u001b[39m \u001b[38;5;241m4\u001b[39m \u001b[38;5;241m+\u001b[39m \u001b[38;5;28mint\u001b[39m(num[\u001b[38;5;241m12\u001b[39m]) \u001b[38;5;241m*\u001b[39m \u001b[38;5;241m5\u001b[39m\n\u001b[0;32m      5\u001b[0m calc2 \u001b[38;5;241m=\u001b[39m \u001b[38;5;241m11\u001b[39m\u001b[38;5;241m-\u001b[39m(calc1 \u001b[38;5;241m%\u001b[39m \u001b[38;5;241m11\u001b[39m)\n\u001b[0;32m      6\u001b[0m calc3 \u001b[38;5;241m=\u001b[39m \u001b[38;5;28mstr\u001b[39m(clac2)\n",
      "\u001b[1;31mValueError\u001b[0m: invalid literal for int() with base 10: '-'"
     ]
    }
   ],
   "source": [
    "# 129  해결안됨.........................................\n",
    "\n",
    "num = input(\"주민등록번호: \")\n",
    "calc1 = int(num[0]) * 2 + int(num[1]) * 3 + int(num[2]) * 4 + int(num[3]) * 5 + int(num[4]) * 6 + int(num[5]) * 7 + int(num[6]) * 8 + int(num[7]) * 9 + int(num[8]) * 2 + int(num[9]) * 3 + int(num[10]) * 3 + int(num[11]) * 4 + int(num[12]) * 5\n",
    "calc2 = 11-(calc1 % 11)\n",
    "calc3 = str(clac2)\n",
    "\n",
    "if num[-1] == calc3[-1]:\n",
    "    print(\"유효한 주민등록번호입니다.\")\n",
    "else:\n",
    "    print(\"유효하지 않은 주민등록번호입니다.\")"
   ]
  },
  {
   "cell_type": "code",
   "execution_count": 169,
   "id": "596561b3-13a8-48fe-b193-51f1f3dcb10d",
   "metadata": {},
   "outputs": [
    {
     "name": "stdin",
     "output_type": "stream",
     "text": [
      "주민등록번호:  930831-1000000\n"
     ]
    },
    {
     "name": "stdout",
     "output_type": "stream",
     "text": [
      "유효한 주민등록번호입니다.\n"
     ]
    }
   ],
   "source": [
    "num = input(\"주민등록번호: \")\n",
    "계산1 = int(num[0]) * 2 + int(num[1]) * 3 + int(num[2]) * 4 + int(num[3]) * 5 + int(num[4]) * 6 + \\\n",
    "        int(num[5]) * 7 + int(num[7]) * 8 + int(num[8]) * 9 + int(num[9]) * 2 + int(num[10])* 3 + \\\n",
    "        int(num[11])* 4 + int(num[12]) * 5\n",
    "계산2 = 11 - (계산1 % 11)\n",
    "계산3 = str(계산2)\n",
    "\n",
    "if num[-1] == 계산3[-1]:\n",
    "    print(\"유효한 주민등록번호입니다.\")\n",
    "else:\n",
    "    print(\"유효하지 않은 주민등록번호입니다.\")"
   ]
  },
  {
   "cell_type": "code",
   "execution_count": 168,
   "id": "89a78fac-fc43-4e12-b2e2-5a7c247779bd",
   "metadata": {},
   "outputs": [
    {
     "name": "stdout",
     "output_type": "stream",
     "text": [
      "상승장\n"
     ]
    }
   ],
   "source": [
    "# 130 \n",
    "\n",
    "import requests\n",
    "btc = requests.get(\"https://api.bithumb.com/public/ticker/\").json()['data']\n",
    "\n",
    "변동폭 = float(btc['max_price']) - float(btc['min_price'])\n",
    "시가 = float(btc['opening_price'])\n",
    "최고가 = float(btc['max_price'])\n",
    "\n",
    "if (시가+변동폭) > 최고가:\n",
    "    print(\"상승장\")\n",
    "else:\n",
    "    print(\"하락장\")"
   ]
  },
  {
   "cell_type": "code",
   "execution_count": null,
   "id": "c95551a6-262f-4317-b1b8-85a0e34b0fee",
   "metadata": {},
   "outputs": [],
   "source": [
    "# 2024.06.13 03:03 오늘도 최후의 2인... 분발하자~~~~~~~~~~~~"
   ]
  }
 ],
 "metadata": {
  "kernelspec": {
   "display_name": "Python 3 (ipykernel)",
   "language": "python",
   "name": "python3"
  },
  "language_info": {
   "codemirror_mode": {
    "name": "ipython",
    "version": 3
   },
   "file_extension": ".py",
   "mimetype": "text/x-python",
   "name": "python",
   "nbconvert_exporter": "python",
   "pygments_lexer": "ipython3",
   "version": "3.11.7"
  }
 },
 "nbformat": 4,
 "nbformat_minor": 5
}
