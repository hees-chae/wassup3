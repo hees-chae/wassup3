{
 "cells": [
  {
   "cell_type": "markdown",
   "id": "efcee8c7-3299-4590-93e1-1bfdfd49d863",
   "metadata": {},
   "source": [
    "# if 분기문"
   ]
  },
  {
   "cell_type": "code",
   "execution_count": 2,
   "id": "2a7296e1-b5c9-4a51-8351-b240dd4319da",
   "metadata": {},
   "outputs": [
    {
     "name": "stdout",
     "output_type": "stream",
     "text": [
      "택시를 타고 가라\n"
     ]
    }
   ],
   "source": [
    "money = True\n",
    "if money:\n",
    "    print(\"택시를 타고 가라\")\n",
    "else:\n",
    "    print(\"걸어 가라\")"
   ]
  },
  {
   "cell_type": "code",
   "execution_count": 3,
   "id": "b7706862-111d-4ac8-b977-a7e5187d1469",
   "metadata": {},
   "outputs": [
    {
     "ename": "IndentationError",
     "evalue": "unexpected indent (1841204671.py, line 5)",
     "output_type": "error",
     "traceback": [
      "\u001b[1;36m  Cell \u001b[1;32mIn[3], line 5\u001b[1;36m\u001b[0m\n\u001b[1;33m    print(\"가라\")\u001b[0m\n\u001b[1;37m    ^\u001b[0m\n\u001b[1;31mIndentationError\u001b[0m\u001b[1;31m:\u001b[0m unexpected indent\n"
     ]
    }
   ],
   "source": [
    "money = True\n",
    "if money:\n",
    "    print(\"택시를\")\n",
    "print(\"타고\")\n",
    "    print(\"가라\")"
   ]
  },
  {
   "cell_type": "code",
   "execution_count": 4,
   "id": "77cba7a8-1abc-4a1f-89fa-37c6dbee77fc",
   "metadata": {},
   "outputs": [
    {
     "ename": "IndentationError",
     "evalue": "unexpected indent (73570325.py, line 5)",
     "output_type": "error",
     "traceback": [
      "\u001b[1;36m  Cell \u001b[1;32mIn[4], line 5\u001b[1;36m\u001b[0m\n\u001b[1;33m    print(\"가라\")\u001b[0m\n\u001b[1;37m    ^\u001b[0m\n\u001b[1;31mIndentationError\u001b[0m\u001b[1;31m:\u001b[0m unexpected indent\n"
     ]
    }
   ],
   "source": [
    "money = True\n",
    "if money:\n",
    "    print(\"택시를\")\n",
    "    print(\"타고\")\n",
    "        print(\"가라\")"
   ]
  },
  {
   "cell_type": "markdown",
   "id": "da1a38d0-f997-4958-854e-9025c836c0e7",
   "metadata": {},
   "source": [
    "## 조건문이란 무엇인가?\n",
    "참과 거짓을 판단하는 문장"
   ]
  },
  {
   "cell_type": "code",
   "execution_count": 7,
   "id": "da8c82b9-1cc2-41a8-93a7-7cb7eada8e88",
   "metadata": {},
   "outputs": [
    {
     "data": {
      "text/plain": [
       "True"
      ]
     },
     "execution_count": 7,
     "metadata": {},
     "output_type": "execute_result"
    }
   ],
   "source": [
    "# 비교연산자\n",
    "x = 3\n",
    "y = 2\n",
    "x > y"
   ]
  },
  {
   "cell_type": "code",
   "execution_count": 10,
   "id": "66e2cf15-fd54-4dcc-93f9-5ed16c09072c",
   "metadata": {},
   "outputs": [
    {
     "name": "stdout",
     "output_type": "stream",
     "text": [
      "택시를 타고 가라\n"
     ]
    }
   ],
   "source": [
    "money = 4000\n",
    "if money >= 3000:\n",
    "    print(\"택시를 타고 가라\")\n",
    "else:\n",
    "    print(\"걸어 가라\")"
   ]
  },
  {
   "cell_type": "code",
   "execution_count": 18,
   "id": "80f9fcef-3289-40f1-9712-0514f9e555bd",
   "metadata": {},
   "outputs": [
    {
     "name": "stdout",
     "output_type": "stream",
     "text": [
      "택시를 타고 가라\n"
     ]
    }
   ],
   "source": [
    "money = 2000\n",
    "card = True\n",
    "\n",
    "if money >= 3000 or card:\n",
    "    print(\"택시를 타고 가라\")\n",
    "else:\n",
    "    print(\"걸어 가라\")"
   ]
  },
  {
   "cell_type": "markdown",
   "id": "98189d4e-a4ab-4844-bb21-3d3be4640024",
   "metadata": {},
   "source": [
    "## in, not in"
   ]
  },
  {
   "cell_type": "code",
   "execution_count": 23,
   "id": "0eb7400b-fe76-442d-9c0f-758ed3ec9eb5",
   "metadata": {},
   "outputs": [
    {
     "name": "stdout",
     "output_type": "stream",
     "text": [
      "택시를 타고 가라\n"
     ]
    }
   ],
   "source": [
    "주머니 = ['영수증', '돈', '차키']\n",
    "if '돈' in 주머니:\n",
    "    print(\"택시를 타고 가라\")\n",
    "else:\n",
    "   print(\"걸어 가라\")"
   ]
  },
  {
   "cell_type": "markdown",
   "id": "3b6da0fe-62db-44a8-a32f-eddd0c04791f",
   "metadata": {},
   "source": [
    "## 다양한 조건을 판단하는 elif"
   ]
  },
  {
   "cell_type": "code",
   "execution_count": 26,
   "id": "15390cf7-8c27-4959-90b5-79eb3cfe395f",
   "metadata": {},
   "outputs": [
    {
     "name": "stdout",
     "output_type": "stream",
     "text": [
      "걸어 가라\n"
     ]
    }
   ],
   "source": [
    "pocket = ['receipt', 'key']\n",
    "card = False\n",
    "\n",
    "if 'money' in pocket:\n",
    "    print(\"택시를 타고 가라\")\n",
    "else:\n",
    "    if 'card' in pocket:\n",
    "        print(\"택시를 타고 가라\")\n",
    "    else:\n",
    "        print(\"걸어 가라\")"
   ]
  },
  {
   "cell_type": "code",
   "execution_count": 27,
   "id": "dfbb4f98-e4d9-4281-83ec-b41463d0e1ab",
   "metadata": {},
   "outputs": [
    {
     "name": "stdout",
     "output_type": "stream",
     "text": [
      "걸어 가라\n"
     ]
    }
   ],
   "source": [
    "pocket = ['receipt', 'key']\n",
    "card = False\n",
    "\n",
    "if 'money' in pocket:\n",
    "    print(\"택시를 타고 가라\")\n",
    "elif 'card' in pocket:\n",
    "        print(\"택시를 타고 가라\")\n",
    "else:\n",
    "    print(\"걸어 가라\")"
   ]
  },
  {
   "cell_type": "code",
   "execution_count": 30,
   "id": "a95c58e1-7b68-425d-98eb-44ccc8ed645c",
   "metadata": {},
   "outputs": [
    {
     "name": "stdout",
     "output_type": "stream",
     "text": [
      "카드를 꺼내라\n"
     ]
    }
   ],
   "source": [
    "# if 문 한줄로 작성하기\n",
    "if 'money' in pocket:\n",
    "    pass \n",
    "else:\n",
    "    print(\"카드를 꺼내라\")"
   ]
  },
  {
   "cell_type": "code",
   "execution_count": null,
   "id": "9ebf7f62-5acd-4dc5-9710-51e5741de8e2",
   "metadata": {},
   "outputs": [],
   "source": []
  },
  {
   "cell_type": "markdown",
   "id": "7b3fd1a3-1fb9-4f6b-aeb6-1da72e960d0a",
   "metadata": {},
   "source": [
    "## 조건부 표현식"
   ]
  },
  {
   "cell_type": "code",
   "execution_count": 32,
   "id": "2563020b-3f3d-489b-a7bd-702c0a5886cb",
   "metadata": {},
   "outputs": [
    {
     "name": "stdout",
     "output_type": "stream",
     "text": [
      "success\n"
     ]
    }
   ],
   "source": [
    "score = 88\n",
    "if score >= 60:\n",
    "    message = \"success\"\n",
    "else:\n",
    "    message = \"failure\"\n",
    "print(message)"
   ]
  },
  {
   "cell_type": "code",
   "execution_count": 33,
   "id": "68a39e4a-389c-490c-9d9a-9601cf64cf3d",
   "metadata": {},
   "outputs": [
    {
     "name": "stdout",
     "output_type": "stream",
     "text": [
      "success\n"
     ]
    }
   ],
   "source": [
    "message = \"success\" if score >= 60 else \"failure\"\n",
    "print(message)"
   ]
  },
  {
   "cell_type": "code",
   "execution_count": null,
   "id": "8608aa78-8938-43f8-80ee-0cba50159ab5",
   "metadata": {},
   "outputs": [],
   "source": []
  },
  {
   "cell_type": "code",
   "execution_count": null,
   "id": "41901beb-fd3a-48a9-aada-69efc657e9ab",
   "metadata": {},
   "outputs": [],
   "source": []
  },
  {
   "cell_type": "code",
   "execution_count": null,
   "id": "1b08bfa0-89d4-408f-b4a4-f4ca7e319208",
   "metadata": {},
   "outputs": [],
   "source": []
  },
  {
   "cell_type": "markdown",
   "id": "f40f23df-ee04-454f-b19a-3997f16d6a86",
   "metadata": {},
   "source": [
    "## While 조건반복문"
   ]
  },
  {
   "cell_type": "code",
   "execution_count": 35,
   "id": "ba453f8c-437e-4cee-a9b9-2487812242bf",
   "metadata": {},
   "outputs": [
    {
     "name": "stdout",
     "output_type": "stream",
     "text": [
      "나무를 1번 찍었습니다.\n",
      "나무를 2번 찍었습니다.\n",
      "나무를 3번 찍었습니다.\n",
      "나무를 4번 찍었습니다.\n",
      "나무를 5번 찍었습니다.\n",
      "나무를 6번 찍었습니다.\n",
      "나무를 7번 찍었습니다.\n",
      "나무를 8번 찍었습니다.\n",
      "나무를 9번 찍었습니다.\n",
      "나무를 10번 찍었습니다.\n",
      "나무 넘어갑니다.\n"
     ]
    }
   ],
   "source": [
    "treeHit = 0\n",
    "while treeHit < 10:\n",
    "    treeHit = treeHit +1\n",
    "    print(\"나무를 %d번 찍었습니다.\" % treeHit)\n",
    "    if treeHit == 10:\n",
    "        print(\"나무 넘어갑니다.\")"
   ]
  },
  {
   "cell_type": "markdown",
   "id": "8e34c9ed-d7c7-474a-b13c-437f7a4b0687",
   "metadata": {},
   "source": [
    "## while문 만들기"
   ]
  },
  {
   "cell_type": "code",
   "execution_count": 37,
   "id": "dfc056e2-9e4a-413e-abe9-8bee2caeb4f2",
   "metadata": {},
   "outputs": [],
   "source": [
    "prompt = \"\"\"\n",
    "1. Add\n",
    "2. Del\n",
    "3. List\n",
    "4. Quit\n",
    "\n",
    "Enter number :\"\"\""
   ]
  },
  {
   "cell_type": "code",
   "execution_count": 38,
   "id": "40081515-5be7-4364-89ad-dade1ba7deaa",
   "metadata": {},
   "outputs": [
    {
     "name": "stdout",
     "output_type": "stream",
     "text": [
      "\n",
      "1. Add\n",
      "2. Del\n",
      "3. List\n",
      "4. Quit\n",
      "\n",
      "Enter number :\n"
     ]
    }
   ],
   "source": [
    "print(prompt)"
   ]
  },
  {
   "cell_type": "code",
   "execution_count": 41,
   "id": "04e6cc36-e9e6-4336-92bb-57fa757a66bb",
   "metadata": {},
   "outputs": [
    {
     "name": "stdout",
     "output_type": "stream",
     "text": [
      "\n",
      "1. Add\n",
      "2. Del\n",
      "3. List\n",
      "4. Quit\n",
      "\n",
      "Enter number :\n"
     ]
    },
    {
     "name": "stdin",
     "output_type": "stream",
     "text": [
      " 1\n"
     ]
    },
    {
     "name": "stdout",
     "output_type": "stream",
     "text": [
      "\n",
      "1. Add\n",
      "2. Del\n",
      "3. List\n",
      "4. Quit\n",
      "\n",
      "Enter number :\n"
     ]
    },
    {
     "name": "stdin",
     "output_type": "stream",
     "text": [
      " 2\n"
     ]
    },
    {
     "name": "stdout",
     "output_type": "stream",
     "text": [
      "\n",
      "1. Add\n",
      "2. Del\n",
      "3. List\n",
      "4. Quit\n",
      "\n",
      "Enter number :\n"
     ]
    },
    {
     "name": "stdin",
     "output_type": "stream",
     "text": [
      " 3\n"
     ]
    },
    {
     "name": "stdout",
     "output_type": "stream",
     "text": [
      "\n",
      "1. Add\n",
      "2. Del\n",
      "3. List\n",
      "4. Quit\n",
      "\n",
      "Enter number :\n"
     ]
    },
    {
     "name": "stdin",
     "output_type": "stream",
     "text": [
      " 4\n"
     ]
    }
   ],
   "source": [
    "number = 0\n",
    "while number != 4:\n",
    "    print(prompt)\n",
    "    number = int(input())"
   ]
  },
  {
   "cell_type": "markdown",
   "id": "0cdade2f-449b-43ff-881a-709e3a950efa",
   "metadata": {},
   "source": [
    "## while 문 강제로 빠져나가기"
   ]
  },
  {
   "cell_type": "code",
   "execution_count": 43,
   "id": "baf0fe4f-ed7d-4d8c-a3e5-4469fca8bd39",
   "metadata": {},
   "outputs": [
    {
     "name": "stdout",
     "output_type": "stream",
     "text": [
      "돈을 받았으니 커피를 줍니다.\n",
      "남은 커피의 양은 9입니다.\n",
      "돈을 받았으니 커피를 줍니다.\n",
      "남은 커피의 양은 8입니다.\n",
      "돈을 받았으니 커피를 줍니다.\n",
      "남은 커피의 양은 7입니다.\n",
      "돈을 받았으니 커피를 줍니다.\n",
      "남은 커피의 양은 6입니다.\n",
      "돈을 받았으니 커피를 줍니다.\n",
      "남은 커피의 양은 5입니다.\n",
      "돈을 받았으니 커피를 줍니다.\n",
      "남은 커피의 양은 4입니다.\n",
      "돈을 받았으니 커피를 줍니다.\n",
      "남은 커피의 양은 3입니다.\n",
      "돈을 받았으니 커피를 줍니다.\n",
      "남은 커피의 양은 2입니다.\n",
      "돈을 받았으니 커피를 줍니다.\n",
      "남은 커피의 양은 1입니다.\n",
      "돈을 받았으니 커피를 줍니다.\n",
      "남은 커피의 양은 0입니다.\n",
      "커피가 다 떨어져서 판매를 중지합니다.\n"
     ]
    }
   ],
   "source": [
    "coffee = 10\n",
    "money = 300\n",
    "\n",
    "while money :\n",
    "    print('돈을 받았으니 커피를 줍니다.')\n",
    "    coffee = coffee - 1\n",
    "    print(f'남은 커피의 양은 {coffee}입니다.')\n",
    "    if coffee == 0:\n",
    "        print('커피가 다 떨어져서 판매를 중지합니다.')\n",
    "        break"
   ]
  },
  {
   "cell_type": "code",
   "execution_count": null,
   "id": "d2ef4144-e388-460d-9d5c-7ed714cb2a79",
   "metadata": {},
   "outputs": [],
   "source": [
    "### quiz\n",
    "money를 사용자가 입력하고,\n",
    "커피 가격은 300원입니다.\n",
    "커피 가격이 일치하지 않으면 잔돈을 거슬러줍니다.\n",
    "커피 재고가 떨어지면 종료합니다."
   ]
  },
  {
   "cell_type": "code",
   "execution_count": null,
   "id": "166f615f-575b-4fbc-85ad-17d66df1ff5a",
   "metadata": {},
   "outputs": [],
   "source": []
  },
  {
   "cell_type": "code",
   "execution_count": null,
   "id": "e6732607-84ca-4809-aeed-8530cb34084a",
   "metadata": {},
   "outputs": [],
   "source": [
    "coffee = 10\n",
    "\n",
    "while True :\n",
    "    money = int(input('돈을 넣어주세요.'))\n",
    "    if money == 300:\n",
    "        print('300원 받았습니다. 커피를 줍니다.')\n",
    "    elif money > 300:\n",
    "        print('거스름돈을 주고 커피를 줍니다.')\n",
    "    else : # money <300\n",
    "        print('돈이 부족합니다. 커피를 주지 않습니다.')\n",
    "    if coffee == 0:\n",
    "        print('커피가 다 떨어졌습니다. 판매를 중지합니다.')\n",
    "        print()\n",
    "\n",
    "    break"
   ]
  },
  {
   "cell_type": "markdown",
   "id": "66aad04c-1273-4a9d-a16a-3128f3aba42e",
   "metadata": {},
   "source": [
    "## for loop 반복문"
   ]
  },
  {
   "cell_type": "code",
   "execution_count": 3,
   "id": "aee03c89-801d-488a-bc13-1216c93b7755",
   "metadata": {},
   "outputs": [
    {
     "name": "stdout",
     "output_type": "stream",
     "text": [
      "one\n",
      "two\n",
      "three\n"
     ]
    }
   ],
   "source": [
    "# 전형적인 for문\n",
    "test_list = ['one', 'two', 'three'] \n",
    "for i in test_list: \n",
    "    print(i)"
   ]
  },
  {
   "cell_type": "code",
   "execution_count": null,
   "id": "4e27b2b7-59ed-4fc7-9c61-997f79fa6c48",
   "metadata": {},
   "outputs": [],
   "source": [
    "# 다양한 for 문의 사용\n",
    "a = [(1,2), (3,4), (5,6)]\n",
    "for (first, last) in a:\n",
    "    print(first + last)"
   ]
  },
  {
   "cell_type": "code",
   "execution_count": 5,
   "id": "b8eac800-939b-4b7e-8325-6c861dafae64",
   "metadata": {},
   "outputs": [
    {
     "name": "stdout",
     "output_type": "stream",
     "text": [
      "1번 학생은 합격입니다.\n",
      "2번 학생은 불합격입니다.\n",
      "3번 학생은 합격입니다.\n",
      "4번 학생은 불합격입니다.\n",
      "5번 학생은 합격입니다.\n"
     ]
    }
   ],
   "source": [
    "# for 문의 응용\n",
    "marks = [90, 25, 67, 45, 80]\n",
    "number = 0\n",
    "for mark in marks:\n",
    "    number = number +1\n",
    "    if mark >= 60:\n",
    "        print(\"%d번 학생은 합격입니다.\" % number)\n",
    "    else:\n",
    "        print(\"%d번 학생은 불합격입니다.\" % number)"
   ]
  },
  {
   "cell_type": "code",
   "execution_count": 21,
   "id": "93303445-2b2f-4217-a5d7-55fce3786e90",
   "metadata": {},
   "outputs": [
    {
     "name": "stdout",
     "output_type": "stream",
     "text": [
      "1번 학생은 합격입니다.\n",
      "2번 학생은 불합격입니다.\n",
      "3번 학생은 합격입니다.\n",
      "4번 학생은 불합격입니다.\n",
      "5번 학생은 합격입니다.\n"
     ]
    }
   ],
   "source": [
    "marks = [90, 25, 67, 45, 80]\n",
    "number = 0\n",
    "for mark in marks:\n",
    "    number = number +1\n",
    "    if mark >= 60:\n",
    "        print(\"%d번 학생은 합격입니다.\" % number)\n",
    "    else:\n",
    "        print(\"%d번 학생은 불합격입니다.\" % number)"
   ]
  },
  {
   "cell_type": "code",
   "execution_count": 20,
   "id": "3e21b0b1-7d81-44c5-be78-f9dd1c0d006e",
   "metadata": {},
   "outputs": [
    {
     "name": "stdout",
     "output_type": "stream",
     "text": [
      "1번 학생 축하합니다. 합격입니다. \n",
      "3번 학생 축하합니다. 합격입니다. \n",
      "5번 학생 축하합니다. 합격입니다. \n"
     ]
    }
   ],
   "source": [
    "# for 문과 continue 문\n",
    "# marks2.py\n",
    "marks = [90, 25, 67, 45, 80]\n",
    "\n",
    "number = 0 \n",
    "for mark in marks: \n",
    "    number = number +1 \n",
    "    if mark < 60:\n",
    "        continue \n",
    "    print(\"%d번 학생 축하합니다. 합격입니다. \" % number)"
   ]
  },
  {
   "cell_type": "markdown",
   "id": "46567d9d-b19d-43d9-b711-a6a01674aea7",
   "metadata": {},
   "source": [
    "## for 문과 함께 자주 사용하는 range 함수"
   ]
  },
  {
   "cell_type": "code",
   "execution_count": 8,
   "id": "ff467b63-17ec-450d-a983-c719db7c84e3",
   "metadata": {},
   "outputs": [
    {
     "data": {
      "text/plain": [
       "\u001b[1;31mInit signature:\u001b[0m \u001b[0mrange\u001b[0m\u001b[1;33m(\u001b[0m\u001b[0mself\u001b[0m\u001b[1;33m,\u001b[0m \u001b[1;33m/\u001b[0m\u001b[1;33m,\u001b[0m \u001b[1;33m*\u001b[0m\u001b[0margs\u001b[0m\u001b[1;33m,\u001b[0m \u001b[1;33m**\u001b[0m\u001b[0mkwargs\u001b[0m\u001b[1;33m)\u001b[0m\u001b[1;33m\u001b[0m\u001b[1;33m\u001b[0m\u001b[0m\n",
       "\u001b[1;31mDocstring:\u001b[0m     \n",
       "range(stop) -> range object\n",
       "range(start, stop[, step]) -> range object\n",
       "\n",
       "Return an object that produces a sequence of integers from start (inclusive)\n",
       "to stop (exclusive) by step.  range(i, j) produces i, i+1, i+2, ..., j-1.\n",
       "start defaults to 0, and stop is omitted!  range(4) produces 0, 1, 2, 3.\n",
       "These are exactly the valid indices for a list of 4 elements.\n",
       "When step is given, it specifies the increment (or decrement).\n",
       "\u001b[1;31mType:\u001b[0m           type\n",
       "\u001b[1;31mSubclasses:\u001b[0m     "
      ]
     },
     "metadata": {},
     "output_type": "display_data"
    }
   ],
   "source": [
    "range?"
   ]
  },
  {
   "cell_type": "code",
   "execution_count": 11,
   "id": "e748c22b-9c0f-4ca6-ac32-f697f8e1d747",
   "metadata": {},
   "outputs": [
    {
     "data": {
      "text/plain": [
       "range(0, 10)"
      ]
     },
     "execution_count": 11,
     "metadata": {},
     "output_type": "execute_result"
    }
   ],
   "source": [
    "range(10)"
   ]
  },
  {
   "cell_type": "code",
   "execution_count": 10,
   "id": "6d337693-f667-4e76-8968-8a27209bc91e",
   "metadata": {},
   "outputs": [
    {
     "data": {
      "text/plain": [
       "range"
      ]
     },
     "execution_count": 10,
     "metadata": {},
     "output_type": "execute_result"
    }
   ],
   "source": [
    "type(range(10))"
   ]
  },
  {
   "cell_type": "code",
   "execution_count": 13,
   "id": "af82691a-a62b-47c5-8c2b-165988ed2776",
   "metadata": {},
   "outputs": [
    {
     "name": "stdout",
     "output_type": "stream",
     "text": [
      "0\n",
      "1\n",
      "2\n",
      "3\n",
      "4\n",
      "5\n",
      "6\n",
      "7\n",
      "8\n",
      "9\n"
     ]
    }
   ],
   "source": [
    "for i in range(10):\n",
    "    print(i)"
   ]
  },
  {
   "cell_type": "code",
   "execution_count": 15,
   "id": "0b4cca1b-3420-4181-82df-cdae96f678a5",
   "metadata": {},
   "outputs": [
    {
     "data": {
      "text/plain": [
       "range(1, 11)"
      ]
     },
     "execution_count": 15,
     "metadata": {},
     "output_type": "execute_result"
    }
   ],
   "source": [
    "range(1,11)"
   ]
  },
  {
   "cell_type": "code",
   "execution_count": 16,
   "id": "8347925c-c36e-42fe-99ed-5dacd259de5e",
   "metadata": {},
   "outputs": [
    {
     "name": "stdout",
     "output_type": "stream",
     "text": [
      "1\n",
      "2\n",
      "3\n",
      "4\n",
      "5\n",
      "6\n",
      "7\n",
      "8\n",
      "9\n",
      "10\n"
     ]
    }
   ],
   "source": [
    "for i in range(1,11):\n",
    "    print(i)"
   ]
  },
  {
   "cell_type": "markdown",
   "id": "28f9db25-779a-457c-accc-70d594498c19",
   "metadata": {},
   "source": [
    "## 1부터 10까지 더하는 프로그램"
   ]
  },
  {
   "cell_type": "code",
   "execution_count": 18,
   "id": "cd67b28d-b536-4412-9bbf-bac42336a92f",
   "metadata": {},
   "outputs": [
    {
     "name": "stdout",
     "output_type": "stream",
     "text": [
      "2\n",
      "4\n",
      "6\n",
      "8\n",
      "10\n",
      "12\n",
      "14\n",
      "16\n",
      "18\n",
      "20\n"
     ]
    }
   ],
   "source": [
    "for i in range(1,11):\n",
    "    i = i+i\n",
    "    print(i)"
   ]
  },
  {
   "cell_type": "code",
   "execution_count": 19,
   "id": "84034237-f476-4224-a2b8-73ae9c84546f",
   "metadata": {},
   "outputs": [
    {
     "name": "stdout",
     "output_type": "stream",
     "text": [
      "1\n",
      "3\n",
      "6\n",
      "10\n",
      "15\n",
      "21\n",
      "28\n",
      "36\n",
      "45\n",
      "55\n"
     ]
    }
   ],
   "source": [
    "sum = 0\n",
    "for i in range(1, 11):\n",
    "    sum += i\n",
    "    print(sum)"
   ]
  },
  {
   "cell_type": "code",
   "execution_count": null,
   "id": "9d2d8420-564e-4b5e-9c74-eaec3976f66e",
   "metadata": {},
   "outputs": [],
   "source": [
    "marks = [90, 25, 67, 45, 80]\n",
    "for number in range(len(marks)):\n",
    "    if marks[number] < 60: \n",
    "        continue\n",
    "    print(\"%d번 학생 축하합니다. 합격입니다.\" % (number+1))"
   ]
  },
  {
   "cell_type": "markdown",
   "id": "16ba8bac-f664-4b78-8c97-82c8c9b7c10f",
   "metadata": {},
   "source": [
    "## quiz 구구단 프로그램"
   ]
  },
  {
   "cell_type": "code",
   "execution_count": 34,
   "id": "62cb9939-df31-4d1e-ad65-696deeacfc9f",
   "metadata": {},
   "outputs": [
    {
     "name": "stdout",
     "output_type": "stream",
     "text": [
      "2\n",
      "4\n",
      "6\n",
      "8\n",
      "10\n",
      "12\n",
      "14\n",
      "16\n",
      "18\n",
      "3\n",
      "6\n",
      "9\n",
      "12\n",
      "15\n",
      "18\n",
      "21\n",
      "24\n",
      "27\n",
      "4\n",
      "8\n",
      "12\n",
      "16\n",
      "20\n",
      "24\n",
      "28\n",
      "32\n",
      "36\n",
      "5\n",
      "10\n",
      "15\n",
      "20\n",
      "25\n",
      "30\n",
      "35\n",
      "40\n",
      "45\n",
      "6\n",
      "12\n",
      "18\n",
      "24\n",
      "30\n",
      "36\n",
      "42\n",
      "48\n",
      "54\n",
      "7\n",
      "14\n",
      "21\n",
      "28\n",
      "35\n",
      "42\n",
      "49\n",
      "56\n",
      "63\n",
      "8\n",
      "16\n",
      "24\n",
      "32\n",
      "40\n",
      "48\n",
      "56\n",
      "64\n",
      "72\n",
      "9\n",
      "18\n",
      "27\n",
      "36\n",
      "45\n",
      "54\n",
      "63\n",
      "72\n",
      "81\n"
     ]
    }
   ],
   "source": [
    "for a in range(2,10):\n",
    "    for b in range(1,10):\n",
    "        print(a*b)"
   ]
  },
  {
   "cell_type": "code",
   "execution_count": null,
   "id": "921d4743-7671-45ee-98ee-9920c15a52f3",
   "metadata": {},
   "outputs": [],
   "source": []
  },
  {
   "cell_type": "code",
   "execution_count": 35,
   "id": "c6d0ddac-dc68-4e3d-a618-e54fc952c83e",
   "metadata": {},
   "outputs": [
    {
     "name": "stdout",
     "output_type": "stream",
     "text": [
      "List Comprehension Time: 0.06908726692199707\n",
      "For loop Time: 0.1912839412689209\n"
     ]
    }
   ],
   "source": [
    "# 시간 측정을 위한 코드, 2배넘게 차이남\n",
    "import time\n",
    "\n",
    "start = time.time() \n",
    "numbers = [i for i in range(1000000)] \n",
    "end = time.time() \n",
    "print('List Comprehension Time:', end-start)\n",
    "\n",
    "start = time.time() \n",
    "numbers = []\n",
    "for i in range(1000000):\n",
    "    numbers.append(i)\n",
    "end = time.time() \n",
    "print('For loop Time:', end-start)"
   ]
  },
  {
   "cell_type": "code",
   "execution_count": null,
   "id": "febd9cd1-b2b5-4c1a-a4b7-c4d2d7ae24b3",
   "metadata": {},
   "outputs": [],
   "source": [
    "# 전화번호 프로그램 만들기\n",
    "\n",
    "홍길동 010-123-4567\n",
    "기능1: 연락처추가\n",
    "기능2: 연락처 전체보기\n",
    "기능3: 검색, 이름을 입력받아서 전화번호 조회\n",
    "기능4: 수정, 이름을 입력받아서 전화번호 입력수정\n",
    "기능5: 삭제, 이름 입력받아서 삭제\n",
    "기능6: 프로그램 종"
   ]
  },
  {
   "cell_type": "code",
   "execution_count": 36,
   "id": "64702454-b04c-46d5-9c80-04025b14aed4",
   "metadata": {},
   "outputs": [
    {
     "name": "stderr",
     "output_type": "stream",
     "text": [
      "<>:26: SyntaxWarning: 'str' object is not callable; perhaps you missed a comma?\n",
      "<>:28: SyntaxWarning: 'str' object is not callable; perhaps you missed a comma?\n",
      "<>:26: SyntaxWarning: 'str' object is not callable; perhaps you missed a comma?\n",
      "<>:28: SyntaxWarning: 'str' object is not callable; perhaps you missed a comma?\n",
      "C:\\Users\\heejc\\AppData\\Local\\Temp\\ipykernel_5964\\4206902966.py:26: SyntaxWarning: 'str' object is not callable; perhaps you missed a comma?\n",
      "  print(\"이름\",(\" \"(11-len(\"이름\"))),\"연락처\")\n",
      "C:\\Users\\heejc\\AppData\\Local\\Temp\\ipykernel_5964\\4206902966.py:28: SyntaxWarning: 'str' object is not callable; perhaps you missed a comma?\n",
      "  print(man, (\" \"(10-len(man))),Phone_book[man])\n"
     ]
    },
    {
     "name": "stdout",
     "output_type": "stream",
     "text": [
      "########## 연락처 관리 시스템 메뉴 ##########\n",
      "1. 연락처 등록\n",
      "2. 연락처 전체보기\n",
      "3. 이름으로 연락처 조회\n",
      "4. 연락처 수정\n",
      "5. 연락처 삭제\n",
      "6. 종료\n",
      "##########################################\n"
     ]
    },
    {
     "ename": "KeyboardInterrupt",
     "evalue": "Interrupted by user",
     "output_type": "error",
     "traceback": [
      "\u001b[1;31m---------------------------------------------------------------------------\u001b[0m",
      "\u001b[1;31mKeyboardInterrupt\u001b[0m                         Traceback (most recent call last)",
      "Cell \u001b[1;32mIn[36], line 15\u001b[0m\n\u001b[0;32m     13\u001b[0m \u001b[38;5;28mprint\u001b[39m(\u001b[38;5;124m\"\u001b[39m\u001b[38;5;124m6. 종료\u001b[39m\u001b[38;5;124m\"\u001b[39m)\n\u001b[0;32m     14\u001b[0m \u001b[38;5;28mprint\u001b[39m(\u001b[38;5;124m\"\u001b[39m\u001b[38;5;124m##########################################\u001b[39m\u001b[38;5;124m\"\u001b[39m)\n\u001b[1;32m---> 15\u001b[0m num \u001b[38;5;241m=\u001b[39m \u001b[38;5;28mint\u001b[39m(\u001b[38;5;28minput\u001b[39m(\u001b[38;5;124m\"\u001b[39m\u001b[38;5;124m원하는 작업을 번호를 입력해주세요: \u001b[39m\u001b[38;5;124m\"\u001b[39m))\n\u001b[0;32m     16\u001b[0m \u001b[38;5;28;01mif\u001b[39;00m num \u001b[38;5;241m==\u001b[39m \u001b[38;5;241m1\u001b[39m:\n\u001b[0;32m     17\u001b[0m     man \u001b[38;5;241m=\u001b[39m \u001b[38;5;28minput\u001b[39m(\u001b[38;5;124m\"\u001b[39m\u001b[38;5;124m등록할 사람의 이름을 입력하세요: \u001b[39m\u001b[38;5;124m\"\u001b[39m)\n",
      "File \u001b[1;32m~\\anaconda3\\Lib\\site-packages\\ipykernel\\kernelbase.py:1262\u001b[0m, in \u001b[0;36mKernel.raw_input\u001b[1;34m(self, prompt)\u001b[0m\n\u001b[0;32m   1260\u001b[0m     msg \u001b[38;5;241m=\u001b[39m \u001b[38;5;124m\"\u001b[39m\u001b[38;5;124mraw_input was called, but this frontend does not support input requests.\u001b[39m\u001b[38;5;124m\"\u001b[39m\n\u001b[0;32m   1261\u001b[0m     \u001b[38;5;28;01mraise\u001b[39;00m StdinNotImplementedError(msg)\n\u001b[1;32m-> 1262\u001b[0m \u001b[38;5;28;01mreturn\u001b[39;00m \u001b[38;5;28mself\u001b[39m\u001b[38;5;241m.\u001b[39m_input_request(\n\u001b[0;32m   1263\u001b[0m     \u001b[38;5;28mstr\u001b[39m(prompt),\n\u001b[0;32m   1264\u001b[0m     \u001b[38;5;28mself\u001b[39m\u001b[38;5;241m.\u001b[39m_parent_ident[\u001b[38;5;124m\"\u001b[39m\u001b[38;5;124mshell\u001b[39m\u001b[38;5;124m\"\u001b[39m],\n\u001b[0;32m   1265\u001b[0m     \u001b[38;5;28mself\u001b[39m\u001b[38;5;241m.\u001b[39mget_parent(\u001b[38;5;124m\"\u001b[39m\u001b[38;5;124mshell\u001b[39m\u001b[38;5;124m\"\u001b[39m),\n\u001b[0;32m   1266\u001b[0m     password\u001b[38;5;241m=\u001b[39m\u001b[38;5;28;01mFalse\u001b[39;00m,\n\u001b[0;32m   1267\u001b[0m )\n",
      "File \u001b[1;32m~\\anaconda3\\Lib\\site-packages\\ipykernel\\kernelbase.py:1305\u001b[0m, in \u001b[0;36mKernel._input_request\u001b[1;34m(self, prompt, ident, parent, password)\u001b[0m\n\u001b[0;32m   1302\u001b[0m \u001b[38;5;28;01mexcept\u001b[39;00m \u001b[38;5;167;01mKeyboardInterrupt\u001b[39;00m:\n\u001b[0;32m   1303\u001b[0m     \u001b[38;5;66;03m# re-raise KeyboardInterrupt, to truncate traceback\u001b[39;00m\n\u001b[0;32m   1304\u001b[0m     msg \u001b[38;5;241m=\u001b[39m \u001b[38;5;124m\"\u001b[39m\u001b[38;5;124mInterrupted by user\u001b[39m\u001b[38;5;124m\"\u001b[39m\n\u001b[1;32m-> 1305\u001b[0m     \u001b[38;5;28;01mraise\u001b[39;00m \u001b[38;5;167;01mKeyboardInterrupt\u001b[39;00m(msg) \u001b[38;5;28;01mfrom\u001b[39;00m \u001b[38;5;28;01mNone\u001b[39;00m\n\u001b[0;32m   1306\u001b[0m \u001b[38;5;28;01mexcept\u001b[39;00m \u001b[38;5;167;01mException\u001b[39;00m:\n\u001b[0;32m   1307\u001b[0m     \u001b[38;5;28mself\u001b[39m\u001b[38;5;241m.\u001b[39mlog\u001b[38;5;241m.\u001b[39mwarning(\u001b[38;5;124m\"\u001b[39m\u001b[38;5;124mInvalid Message:\u001b[39m\u001b[38;5;124m\"\u001b[39m, exc_info\u001b[38;5;241m=\u001b[39m\u001b[38;5;28;01mTrue\u001b[39;00m)\n",
      "\u001b[1;31mKeyboardInterrupt\u001b[0m: Interrupted by user"
     ]
    }
   ],
   "source": [
    "num = 0\n",
    "man = \"\"\n",
    "phone_num = \"\"\n",
    "Phone_book = {}\n",
    "\n",
    "while True:\n",
    "    print(\"########## 연락처 관리 시스템 메뉴 ##########\")\n",
    "    print(\"1. 연락처 등록\")\n",
    "    print(\"2. 연락처 전체보기\")\n",
    "    print(\"3. 이름으로 연락처 조회\")\n",
    "    print(\"4. 연락처 수정\")\n",
    "    print(\"5. 연락처 삭제\")\n",
    "    print(\"6. 종료\")\n",
    "    print(\"##########################################\")\n",
    "    num = int(input(\"원하는 작업을 번호를 입력해주세요: \"))\n",
    "    if num == 1:\n",
    "        man = input(\"등록할 사람의 이름을 입력하세요: \")\n",
    "        if man in Phone_book:\n",
    "            print(\"이미 등록되어 있습니다. 전화번호 수정이 필요하시면 4번 작업을 선택해 주세요.\")\n",
    "        else:\n",
    "            phone_num = input(\"등록할 전화번호를 '-'을(를) 제외하고 입력하세요: \")\n",
    "            Phone_book[man] = phone_num\n",
    "            print(\"등록 완료!\")\n",
    "    elif num == 2:\n",
    "        print(\"** 연락처 등록 현황 **\")\n",
    "        print(\"이름\",(\" \"(11-len(\"이름\"))),\"연락처\")\n",
    "        for man in Phone_book:\n",
    "            print(man, (\" \"(10-len(man))),Phone_book[man])\n",
    "        print(\"**\")\n",
    "    elif num == 3:\n",
    "        man = input(\"연락처를 검색할 사람의 이름을 입력하세요: \")\n",
    "        print(\"** 조회 결과 **\")\n",
    "        if man in Phone_book:\n",
    "            phone_num = Phone_book[man]\n",
    "        else:\n",
    "            phone_num = \"등록된 역락처가 없습니다.\"\n",
    "        print(phone_num)\n",
    "        print(\"**\") \n",
    "    elif num == 4:\n",
    "        man = input(\"연락처를 수정할 사람의 이름을 입력하세요: \")\n",
    "        if man in Phone_book:\n",
    "            phone_num = input(\"새로운 엽락처를 입력하세요: \")\n",
    "            Phone_book[man] = phone_num\n",
    "            print(\"수정 완료!\")\n",
    "        else:\n",
    "            print(\"등록된 역락처가 없습니다. 추가를 원하시면 1번 작업을 선택해 주세요.\")\n",
    "    elif num == 5:\n",
    "        man = input(\"연락처를 삭제할 사람의 이름을 입력하세요: \")\n",
    "        if man in Phone_book:\n",
    "            del Phone_book[man]\n",
    "            print(\"삭제 완료!\")\n",
    "        else:\n",
    "            print(\"등록된 역락처가 없습니다.\")\n",
    "    elif num >= 6:\n",
    "        break\n",
    "    print()"
   ]
  },
  {
   "cell_type": "code",
   "execution_count": null,
   "id": "856e287f-64bc-4656-aa8b-6b0cfd8ad97d",
   "metadata": {},
   "outputs": [
    {
     "name": "stdout",
     "output_type": "stream",
     "text": [
      "-----전화번호부 프로그램-----\n",
      "1.추가   2.보기   3.검색   4.수정   5.삭제   9.종료\n"
     ]
    }
   ],
   "source": [
    "contact = {}\n",
    "\n",
    "while True:\n",
    "    print('-----전화번호부 프로그램-----')\n",
    "    print('1.추가   2.보기   3.검색   4.수정   5.삭제   9.종료')\n",
    "    menu = int(input('메뉴를 선택해주세요.(숫자only): ' ))\n",
    "\n",
    "    if menu == 1:\n",
    "        print('연락처를 추가합니다.')\n",
    "        new_name = input('이름: ')\n",
    "        new_tel = input('전화번호: ')\n",
    "        print(new_name, new_tel)\n",
    "        # contact[new_name] = new_tel\n",
    "        contact.setdefault(new_name, new_tel)\n",
    "\n",
    "    elif menu == 2: #완성\n",
    "        print('연락처를 조회합니다.')\n",
    "        # print(contact)\n",
    "        for name, tel in contact.items():\n",
    "            print(name, '=', tel )\n",
    "\n",
    "    elif menu == 3: # 완성\n",
    "        print('연락처를 검색합니다.')\n",
    "        search_name = input('검색 이름: ')\n",
    "        # print(contact[search_name])\n",
    "        print(contact.get(search_name, '없는 이름입니다.'))\n",
    "\n",
    "\n",
    "    elif menu == 4: # 완성\n",
    "        print('연락처를 수정합니다.')\n",
    "        mod_name = input('수정 이름 : ')\n",
    "\n",
    "        if mod_name in contact:\n",
    "            mod_tel = input('새 전화번호 : ')\n",
    "            contact[mod_name] = mod_tel\n",
    "        else :\n",
    "            print('등록되지 않은 이름입니다.')\n",
    "\n",
    "    elif menu == 5: # 완성\n",
    "        print('연락처를 삭제합니다.')\n",
    "        del_name = input('삭제 이름: ')\n",
    "\n",
    "        if del_name in contact:\n",
    "            del contact[del_name]\n",
    "        else :\n",
    "            print('등록되지 않은 이름입니다.')\n",
    "\n",
    "\n",
    "    elif menu == 9: # 완성\n",
    "        print('연락처를 종료합니다.')\n",
    "        break\n",
    "\n",
    "    else :\n",
    "        print('잘못된 입력입니다.')"
   ]
  }
 ],
 "metadata": {
  "kernelspec": {
   "display_name": "Python 3 (ipykernel)",
   "language": "python",
   "name": "python3"
  },
  "language_info": {
   "codemirror_mode": {
    "name": "ipython",
    "version": 3
   },
   "file_extension": ".py",
   "mimetype": "text/x-python",
   "name": "python",
   "nbconvert_exporter": "python",
   "pygments_lexer": "ipython3",
   "version": "3.11.7"
  }
 },
 "nbformat": 4,
 "nbformat_minor": 5
}
