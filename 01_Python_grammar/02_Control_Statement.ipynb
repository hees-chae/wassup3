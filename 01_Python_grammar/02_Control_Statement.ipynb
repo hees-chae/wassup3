{
 "cells": [
  {
   "cell_type": "markdown",
   "id": "efcee8c7-3299-4590-93e1-1bfdfd49d863",
   "metadata": {},
   "source": [
    "# if 분기문"
   ]
  },
  {
   "cell_type": "code",
   "execution_count": 2,
   "id": "2a7296e1-b5c9-4a51-8351-b240dd4319da",
   "metadata": {},
   "outputs": [
    {
     "name": "stdout",
     "output_type": "stream",
     "text": [
      "택시를 타고 가라\n"
     ]
    }
   ],
   "source": [
    "money = True\n",
    "if money:\n",
    "    print(\"택시를 타고 가라\")\n",
    "else:\n",
    "    print(\"걸어 가라\")"
   ]
  },
  {
   "cell_type": "code",
   "execution_count": 3,
   "id": "b7706862-111d-4ac8-b977-a7e5187d1469",
   "metadata": {},
   "outputs": [
    {
     "ename": "IndentationError",
     "evalue": "unexpected indent (1841204671.py, line 5)",
     "output_type": "error",
     "traceback": [
      "\u001b[1;36m  Cell \u001b[1;32mIn[3], line 5\u001b[1;36m\u001b[0m\n\u001b[1;33m    print(\"가라\")\u001b[0m\n\u001b[1;37m    ^\u001b[0m\n\u001b[1;31mIndentationError\u001b[0m\u001b[1;31m:\u001b[0m unexpected indent\n"
     ]
    }
   ],
   "source": [
    "money = True\n",
    "if money:\n",
    "    print(\"택시를\")\n",
    "print(\"타고\")\n",
    "    print(\"가라\")"
   ]
  },
  {
   "cell_type": "code",
   "execution_count": 4,
   "id": "77cba7a8-1abc-4a1f-89fa-37c6dbee77fc",
   "metadata": {},
   "outputs": [
    {
     "ename": "IndentationError",
     "evalue": "unexpected indent (73570325.py, line 5)",
     "output_type": "error",
     "traceback": [
      "\u001b[1;36m  Cell \u001b[1;32mIn[4], line 5\u001b[1;36m\u001b[0m\n\u001b[1;33m    print(\"가라\")\u001b[0m\n\u001b[1;37m    ^\u001b[0m\n\u001b[1;31mIndentationError\u001b[0m\u001b[1;31m:\u001b[0m unexpected indent\n"
     ]
    }
   ],
   "source": [
    "money = True\n",
    "if money:\n",
    "    print(\"택시를\")\n",
    "    print(\"타고\")\n",
    "        print(\"가라\")"
   ]
  },
  {
   "cell_type": "markdown",
   "id": "da1a38d0-f997-4958-854e-9025c836c0e7",
   "metadata": {},
   "source": [
    "## 조건문이란 무엇인가?\n",
    "참과 거짓을 판단하는 문장"
   ]
  },
  {
   "cell_type": "code",
   "execution_count": 7,
   "id": "da8c82b9-1cc2-41a8-93a7-7cb7eada8e88",
   "metadata": {},
   "outputs": [
    {
     "data": {
      "text/plain": [
       "True"
      ]
     },
     "execution_count": 7,
     "metadata": {},
     "output_type": "execute_result"
    }
   ],
   "source": [
    "# 비교연산자\n",
    "x = 3\n",
    "y = 2\n",
    "x > y"
   ]
  },
  {
   "cell_type": "code",
   "execution_count": 10,
   "id": "66e2cf15-fd54-4dcc-93f9-5ed16c09072c",
   "metadata": {},
   "outputs": [
    {
     "name": "stdout",
     "output_type": "stream",
     "text": [
      "택시를 타고 가라\n"
     ]
    }
   ],
   "source": [
    "money = 4000\n",
    "if money >= 3000:\n",
    "    print(\"택시를 타고 가라\")\n",
    "else:\n",
    "    print(\"걸어 가라\")"
   ]
  },
  {
   "cell_type": "code",
   "execution_count": 18,
   "id": "80f9fcef-3289-40f1-9712-0514f9e555bd",
   "metadata": {},
   "outputs": [
    {
     "name": "stdout",
     "output_type": "stream",
     "text": [
      "택시를 타고 가라\n"
     ]
    }
   ],
   "source": [
    "money = 2000\n",
    "card = True\n",
    "\n",
    "if money >= 3000 or card:\n",
    "    print(\"택시를 타고 가라\")\n",
    "else:\n",
    "    print(\"걸어 가라\")"
   ]
  },
  {
   "cell_type": "markdown",
   "id": "98189d4e-a4ab-4844-bb21-3d3be4640024",
   "metadata": {},
   "source": [
    "## in, not in"
   ]
  },
  {
   "cell_type": "code",
   "execution_count": 23,
   "id": "0eb7400b-fe76-442d-9c0f-758ed3ec9eb5",
   "metadata": {},
   "outputs": [
    {
     "name": "stdout",
     "output_type": "stream",
     "text": [
      "택시를 타고 가라\n"
     ]
    }
   ],
   "source": [
    "주머니 = ['영수증', '돈', '차키']\n",
    "if '돈' in 주머니:\n",
    "    print(\"택시를 타고 가라\")\n",
    "else:\n",
    "   print(\"걸어 가라\")"
   ]
  },
  {
   "cell_type": "markdown",
   "id": "3b6da0fe-62db-44a8-a32f-eddd0c04791f",
   "metadata": {},
   "source": [
    "## 다양한 조건을 판단하는 elif"
   ]
  },
  {
   "cell_type": "code",
   "execution_count": 26,
   "id": "15390cf7-8c27-4959-90b5-79eb3cfe395f",
   "metadata": {},
   "outputs": [
    {
     "name": "stdout",
     "output_type": "stream",
     "text": [
      "걸어 가라\n"
     ]
    }
   ],
   "source": [
    "pocket = ['receipt', 'key']\n",
    "card = False\n",
    "\n",
    "if 'money' in pocket:\n",
    "    print(\"택시를 타고 가라\")\n",
    "else:\n",
    "    if 'card' in pocket:\n",
    "        print(\"택시를 타고 가라\")\n",
    "    else:\n",
    "        print(\"걸어 가라\")"
   ]
  },
  {
   "cell_type": "code",
   "execution_count": 27,
   "id": "dfbb4f98-e4d9-4281-83ec-b41463d0e1ab",
   "metadata": {},
   "outputs": [
    {
     "name": "stdout",
     "output_type": "stream",
     "text": [
      "걸어 가라\n"
     ]
    }
   ],
   "source": [
    "pocket = ['receipt', 'key']\n",
    "card = False\n",
    "\n",
    "if 'money' in pocket:\n",
    "    print(\"택시를 타고 가라\")\n",
    "elif 'card' in pocket:\n",
    "        print(\"택시를 타고 가라\")\n",
    "else:\n",
    "    print(\"걸어 가라\")"
   ]
  },
  {
   "cell_type": "code",
   "execution_count": 30,
   "id": "a95c58e1-7b68-425d-98eb-44ccc8ed645c",
   "metadata": {},
   "outputs": [
    {
     "name": "stdout",
     "output_type": "stream",
     "text": [
      "카드를 꺼내라\n"
     ]
    }
   ],
   "source": [
    "# if 문 한줄로 작성하기\n",
    "if 'money' in pocket:\n",
    "    pass \n",
    "else:\n",
    "    print(\"카드를 꺼내라\")"
   ]
  },
  {
   "cell_type": "code",
   "execution_count": null,
   "id": "9ebf7f62-5acd-4dc5-9710-51e5741de8e2",
   "metadata": {},
   "outputs": [],
   "source": []
  },
  {
   "cell_type": "markdown",
   "id": "7b3fd1a3-1fb9-4f6b-aeb6-1da72e960d0a",
   "metadata": {},
   "source": [
    "## 조건부 표현식"
   ]
  },
  {
   "cell_type": "code",
   "execution_count": 32,
   "id": "2563020b-3f3d-489b-a7bd-702c0a5886cb",
   "metadata": {},
   "outputs": [
    {
     "name": "stdout",
     "output_type": "stream",
     "text": [
      "success\n"
     ]
    }
   ],
   "source": [
    "score = 88\n",
    "if score >= 60:\n",
    "    message = \"success\"\n",
    "else:\n",
    "    message = \"failure\"\n",
    "print(message)"
   ]
  },
  {
   "cell_type": "code",
   "execution_count": 33,
   "id": "68a39e4a-389c-490c-9d9a-9601cf64cf3d",
   "metadata": {},
   "outputs": [
    {
     "name": "stdout",
     "output_type": "stream",
     "text": [
      "success\n"
     ]
    }
   ],
   "source": [
    "message = \"success\" if score >= 60 else \"failure\"\n",
    "print(message)"
   ]
  },
  {
   "cell_type": "code",
   "execution_count": null,
   "id": "8608aa78-8938-43f8-80ee-0cba50159ab5",
   "metadata": {},
   "outputs": [],
   "source": []
  },
  {
   "cell_type": "code",
   "execution_count": null,
   "id": "41901beb-fd3a-48a9-aada-69efc657e9ab",
   "metadata": {},
   "outputs": [],
   "source": []
  },
  {
   "cell_type": "code",
   "execution_count": null,
   "id": "1b08bfa0-89d4-408f-b4a4-f4ca7e319208",
   "metadata": {},
   "outputs": [],
   "source": []
  },
  {
   "cell_type": "markdown",
   "id": "f40f23df-ee04-454f-b19a-3997f16d6a86",
   "metadata": {},
   "source": [
    "## While 조건반복문"
   ]
  },
  {
   "cell_type": "code",
   "execution_count": 35,
   "id": "ba453f8c-437e-4cee-a9b9-2487812242bf",
   "metadata": {},
   "outputs": [
    {
     "name": "stdout",
     "output_type": "stream",
     "text": [
      "나무를 1번 찍었습니다.\n",
      "나무를 2번 찍었습니다.\n",
      "나무를 3번 찍었습니다.\n",
      "나무를 4번 찍었습니다.\n",
      "나무를 5번 찍었습니다.\n",
      "나무를 6번 찍었습니다.\n",
      "나무를 7번 찍었습니다.\n",
      "나무를 8번 찍었습니다.\n",
      "나무를 9번 찍었습니다.\n",
      "나무를 10번 찍었습니다.\n",
      "나무 넘어갑니다.\n"
     ]
    }
   ],
   "source": [
    "treeHit = 0\n",
    "while treeHit < 10:\n",
    "    treeHit = treeHit +1\n",
    "    print(\"나무를 %d번 찍었습니다.\" % treeHit)\n",
    "    if treeHit == 10:\n",
    "        print(\"나무 넘어갑니다.\")"
   ]
  },
  {
   "cell_type": "markdown",
   "id": "8e34c9ed-d7c7-474a-b13c-437f7a4b0687",
   "metadata": {},
   "source": [
    "## while문 만들기"
   ]
  },
  {
   "cell_type": "code",
   "execution_count": 37,
   "id": "dfc056e2-9e4a-413e-abe9-8bee2caeb4f2",
   "metadata": {},
   "outputs": [],
   "source": [
    "prompt = \"\"\"\n",
    "1. Add\n",
    "2. Del\n",
    "3. List\n",
    "4. Quit\n",
    "\n",
    "Enter number :\"\"\""
   ]
  },
  {
   "cell_type": "code",
   "execution_count": 38,
   "id": "40081515-5be7-4364-89ad-dade1ba7deaa",
   "metadata": {},
   "outputs": [
    {
     "name": "stdout",
     "output_type": "stream",
     "text": [
      "\n",
      "1. Add\n",
      "2. Del\n",
      "3. List\n",
      "4. Quit\n",
      "\n",
      "Enter number :\n"
     ]
    }
   ],
   "source": [
    "print(prompt)"
   ]
  },
  {
   "cell_type": "code",
   "execution_count": 41,
   "id": "04e6cc36-e9e6-4336-92bb-57fa757a66bb",
   "metadata": {},
   "outputs": [
    {
     "name": "stdout",
     "output_type": "stream",
     "text": [
      "\n",
      "1. Add\n",
      "2. Del\n",
      "3. List\n",
      "4. Quit\n",
      "\n",
      "Enter number :\n"
     ]
    },
    {
     "name": "stdin",
     "output_type": "stream",
     "text": [
      " 1\n"
     ]
    },
    {
     "name": "stdout",
     "output_type": "stream",
     "text": [
      "\n",
      "1. Add\n",
      "2. Del\n",
      "3. List\n",
      "4. Quit\n",
      "\n",
      "Enter number :\n"
     ]
    },
    {
     "name": "stdin",
     "output_type": "stream",
     "text": [
      " 2\n"
     ]
    },
    {
     "name": "stdout",
     "output_type": "stream",
     "text": [
      "\n",
      "1. Add\n",
      "2. Del\n",
      "3. List\n",
      "4. Quit\n",
      "\n",
      "Enter number :\n"
     ]
    },
    {
     "name": "stdin",
     "output_type": "stream",
     "text": [
      " 3\n"
     ]
    },
    {
     "name": "stdout",
     "output_type": "stream",
     "text": [
      "\n",
      "1. Add\n",
      "2. Del\n",
      "3. List\n",
      "4. Quit\n",
      "\n",
      "Enter number :\n"
     ]
    },
    {
     "name": "stdin",
     "output_type": "stream",
     "text": [
      " 4\n"
     ]
    }
   ],
   "source": [
    "number = 0\n",
    "while number != 4:\n",
    "    print(prompt)\n",
    "    number = int(input())"
   ]
  },
  {
   "cell_type": "markdown",
   "id": "0cdade2f-449b-43ff-881a-709e3a950efa",
   "metadata": {},
   "source": [
    "## while 문 강제로 빠져나가기"
   ]
  },
  {
   "cell_type": "code",
   "execution_count": 43,
   "id": "baf0fe4f-ed7d-4d8c-a3e5-4469fca8bd39",
   "metadata": {},
   "outputs": [
    {
     "name": "stdout",
     "output_type": "stream",
     "text": [
      "돈을 받았으니 커피를 줍니다.\n",
      "남은 커피의 양은 9입니다.\n",
      "돈을 받았으니 커피를 줍니다.\n",
      "남은 커피의 양은 8입니다.\n",
      "돈을 받았으니 커피를 줍니다.\n",
      "남은 커피의 양은 7입니다.\n",
      "돈을 받았으니 커피를 줍니다.\n",
      "남은 커피의 양은 6입니다.\n",
      "돈을 받았으니 커피를 줍니다.\n",
      "남은 커피의 양은 5입니다.\n",
      "돈을 받았으니 커피를 줍니다.\n",
      "남은 커피의 양은 4입니다.\n",
      "돈을 받았으니 커피를 줍니다.\n",
      "남은 커피의 양은 3입니다.\n",
      "돈을 받았으니 커피를 줍니다.\n",
      "남은 커피의 양은 2입니다.\n",
      "돈을 받았으니 커피를 줍니다.\n",
      "남은 커피의 양은 1입니다.\n",
      "돈을 받았으니 커피를 줍니다.\n",
      "남은 커피의 양은 0입니다.\n",
      "커피가 다 떨어져서 판매를 중지합니다.\n"
     ]
    }
   ],
   "source": [
    "coffee = 10\n",
    "money = 300\n",
    "\n",
    "while money :\n",
    "    print('돈을 받았으니 커피를 줍니다.')\n",
    "    coffee = coffee - 1\n",
    "    print(f'남은 커피의 양은 {coffee}입니다.')\n",
    "    if coffee == 0:\n",
    "        print('커피가 다 떨어져서 판매를 중지합니다.')\n",
    "        break"
   ]
  },
  {
   "cell_type": "code",
   "execution_count": null,
   "id": "d2ef4144-e388-460d-9d5c-7ed714cb2a79",
   "metadata": {},
   "outputs": [],
   "source": [
    "### quiz\n",
    "money를 사용자가 입력하고,\n",
    "커피 가격은 300원입니다.\n",
    "커피 가격이 일치하지 않으면 잔돈을 거슬러줍니다.\n",
    "커피 재고가 떨어지면 종료합니다."
   ]
  },
  {
   "cell_type": "code",
   "execution_count": null,
   "id": "166f615f-575b-4fbc-85ad-17d66df1ff5a",
   "metadata": {},
   "outputs": [],
   "source": []
  },
  {
   "cell_type": "code",
   "execution_count": null,
   "id": "e6732607-84ca-4809-aeed-8530cb34084a",
   "metadata": {},
   "outputs": [],
   "source": [
    "coffee = 10\n",
    "\n",
    "while True :\n",
    "    money = int(input('돈을 넣어주세요.'))\n",
    "    if money == 300:\n",
    "        print('300원 받았습니다. 커피를 줍니다.')\n",
    "    elif money > 300:\n",
    "        print('거스름돈을 주고 커피를 줍니다.')\n",
    "    else : # money <300\n",
    "        print('돈이 부족합니다. 커피를 주지 않습니다.')\n",
    "    if coffee == 0:\n",
    "        print('커피가 다 떨어졌습니다. 판매를 중지합니다.')\n",
    "        print()\n",
    "\n",
    "    break"
   ]
  },
  {
   "cell_type": "code",
   "execution_count": null,
   "id": "fe147878-8d7c-40de-a1ca-da993268eb19",
   "metadata": {},
   "outputs": [],
   "source": []
  }
 ],
 "metadata": {
  "kernelspec": {
   "display_name": "Python 3 (ipykernel)",
   "language": "python",
   "name": "python3"
  },
  "language_info": {
   "codemirror_mode": {
    "name": "ipython",
    "version": 3
   },
   "file_extension": ".py",
   "mimetype": "text/x-python",
   "name": "python",
   "nbconvert_exporter": "python",
   "pygments_lexer": "ipython3",
   "version": "3.11.7"
  }
 },
 "nbformat": 4,
 "nbformat_minor": 5
}
