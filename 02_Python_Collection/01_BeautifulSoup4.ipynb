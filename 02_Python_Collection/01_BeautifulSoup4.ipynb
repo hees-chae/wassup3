{
 "cells": [
  {
   "cell_type": "markdown",
   "id": "a643322f-5be7-45a5-aaad-deb1e94045a6",
   "metadata": {},
   "source": [
    "## Beautifulsoup"
   ]
  },
  {
   "cell_type": "code",
   "execution_count": null,
   "id": "f07d166d-644b-49c6-ae74-15b18a848516",
   "metadata": {},
   "outputs": [],
   "source": []
  },
  {
   "cell_type": "code",
   "execution_count": null,
   "id": "30ecb2a2-5b47-4997-ae08-173918163489",
   "metadata": {
    "scrolled": true
   },
   "outputs": [],
   "source": [
    "pip list"
   ]
  },
  {
   "cell_type": "code",
   "execution_count": 4,
   "id": "159a7088-e2f6-4bf1-b911-97afa00cb1fe",
   "metadata": {
    "collapsed": true,
    "jupyter": {
     "outputs_hidden": true
    },
    "scrolled": true
   },
   "outputs": [
    {
     "name": "stdout",
     "output_type": "stream",
     "text": [
      "Collecting bs4\n",
      "  Downloading bs4-0.0.2-py2.py3-none-any.whl.metadata (411 bytes)\n",
      "Requirement already satisfied: beautifulsoup4 in c:\\users\\heejc\\anaconda3\\lib\\site-packages (from bs4) (4.12.2)\n",
      "Requirement already satisfied: soupsieve>1.2 in c:\\users\\heejc\\anaconda3\\lib\\site-packages (from beautifulsoup4->bs4) (2.5)\n",
      "Downloading bs4-0.0.2-py2.py3-none-any.whl (1.2 kB)\n",
      "Installing collected packages: bs4\n",
      "Successfully installed bs4-0.0.2\n",
      "Note: you may need to restart the kernel to use updated packages.\n"
     ]
    }
   ],
   "source": [
    "pip install bs4"
   ]
  },
  {
   "cell_type": "code",
   "execution_count": 5,
   "id": "5857c8c1-5c31-4708-8358-32969401c11f",
   "metadata": {
    "scrolled": true
   },
   "outputs": [
    {
     "name": "stdout",
     "output_type": "stream",
     "text": [
      "Requirement already satisfied: lxml in c:\\users\\heejc\\anaconda3\\lib\\site-packages (4.9.3)\n",
      "Note: you may need to restart the kernel to use updated packages.\n"
     ]
    }
   ],
   "source": [
    "pip install lxml"
   ]
  },
  {
   "cell_type": "markdown",
   "id": "9185bdf7-2b47-4fd2-ae1d-879ecbd62763",
   "metadata": {},
   "source": [
    "## Parser"
   ]
  },
  {
   "cell_type": "code",
   "execution_count": 16,
   "id": "8c926582-830e-496d-81f3-8e2c6fd22c93",
   "metadata": {},
   "outputs": [],
   "source": [
    "from bs4 import BeautifulSoup\n",
    "import lxml"
   ]
  },
  {
   "cell_type": "code",
   "execution_count": 10,
   "id": "7054e0b1-b7e5-48eb-af67-94ed2a1b21db",
   "metadata": {
    "collapsed": true,
    "jupyter": {
     "outputs_hidden": true
    }
   },
   "outputs": [
    {
     "data": {
      "text/plain": [
       "\u001b[1;31mInit signature:\u001b[0m\n",
       "\u001b[0mBeautifulSoup\u001b[0m\u001b[1;33m(\u001b[0m\u001b[1;33m\n",
       "\u001b[0m    \u001b[0mmarkup\u001b[0m\u001b[1;33m=\u001b[0m\u001b[1;34m''\u001b[0m\u001b[1;33m,\u001b[0m\u001b[1;33m\n",
       "\u001b[0m    \u001b[0mfeatures\u001b[0m\u001b[1;33m=\u001b[0m\u001b[1;32mNone\u001b[0m\u001b[1;33m,\u001b[0m\u001b[1;33m\n",
       "\u001b[0m    \u001b[0mbuilder\u001b[0m\u001b[1;33m=\u001b[0m\u001b[1;32mNone\u001b[0m\u001b[1;33m,\u001b[0m\u001b[1;33m\n",
       "\u001b[0m    \u001b[0mparse_only\u001b[0m\u001b[1;33m=\u001b[0m\u001b[1;32mNone\u001b[0m\u001b[1;33m,\u001b[0m\u001b[1;33m\n",
       "\u001b[0m    \u001b[0mfrom_encoding\u001b[0m\u001b[1;33m=\u001b[0m\u001b[1;32mNone\u001b[0m\u001b[1;33m,\u001b[0m\u001b[1;33m\n",
       "\u001b[0m    \u001b[0mexclude_encodings\u001b[0m\u001b[1;33m=\u001b[0m\u001b[1;32mNone\u001b[0m\u001b[1;33m,\u001b[0m\u001b[1;33m\n",
       "\u001b[0m    \u001b[0melement_classes\u001b[0m\u001b[1;33m=\u001b[0m\u001b[1;32mNone\u001b[0m\u001b[1;33m,\u001b[0m\u001b[1;33m\n",
       "\u001b[0m    \u001b[1;33m**\u001b[0m\u001b[0mkwargs\u001b[0m\u001b[1;33m,\u001b[0m\u001b[1;33m\n",
       "\u001b[0m\u001b[1;33m)\u001b[0m\u001b[1;33m\u001b[0m\u001b[1;33m\u001b[0m\u001b[0m\n",
       "\u001b[1;31mDocstring:\u001b[0m     \n",
       "A data structure representing a parsed HTML or XML document.\n",
       "\n",
       "Most of the methods you'll call on a BeautifulSoup object are inherited from\n",
       "PageElement or Tag.\n",
       "\n",
       "Internally, this class defines the basic interface called by the\n",
       "tree builders when converting an HTML/XML document into a data\n",
       "structure. The interface abstracts away the differences between\n",
       "parsers. To write a new tree builder, you'll need to understand\n",
       "these methods as a whole.\n",
       "\n",
       "These methods will be called by the BeautifulSoup constructor:\n",
       "  * reset()\n",
       "  * feed(markup)\n",
       "\n",
       "The tree builder may call these methods from its feed() implementation:\n",
       "  * handle_starttag(name, attrs) # See note about return value\n",
       "  * handle_endtag(name)\n",
       "  * handle_data(data) # Appends to the current data node\n",
       "  * endData(containerClass) # Ends the current data node\n",
       "\n",
       "No matter how complicated the underlying parser is, you should be\n",
       "able to build a tree using 'start tag' events, 'end tag' events,\n",
       "'data' events, and \"done with data\" events.\n",
       "\n",
       "If you encounter an empty-element tag (aka a self-closing tag,\n",
       "like HTML's <br> tag), call handle_starttag and then\n",
       "handle_endtag.\n",
       "\u001b[1;31mInit docstring:\u001b[0m\n",
       "Constructor.\n",
       "\n",
       ":param markup: A string or a file-like object representing\n",
       " markup to be parsed.\n",
       "\n",
       ":param features: Desirable features of the parser to be\n",
       " used. This may be the name of a specific parser (\"lxml\",\n",
       " \"lxml-xml\", \"html.parser\", or \"html5lib\") or it may be the\n",
       " type of markup to be used (\"html\", \"html5\", \"xml\"). It's\n",
       " recommended that you name a specific parser, so that\n",
       " Beautiful Soup gives you the same results across platforms\n",
       " and virtual environments.\n",
       "\n",
       ":param builder: A TreeBuilder subclass to instantiate (or\n",
       " instance to use) instead of looking one up based on\n",
       " `features`. You only need to use this if you've implemented a\n",
       " custom TreeBuilder.\n",
       "\n",
       ":param parse_only: A SoupStrainer. Only parts of the document\n",
       " matching the SoupStrainer will be considered. This is useful\n",
       " when parsing part of a document that would otherwise be too\n",
       " large to fit into memory.\n",
       "\n",
       ":param from_encoding: A string indicating the encoding of the\n",
       " document to be parsed. Pass this in if Beautiful Soup is\n",
       " guessing wrongly about the document's encoding.\n",
       "\n",
       ":param exclude_encodings: A list of strings indicating\n",
       " encodings known to be wrong. Pass this in if you don't know\n",
       " the document's encoding but you know Beautiful Soup's guess is\n",
       " wrong.\n",
       "\n",
       ":param element_classes: A dictionary mapping BeautifulSoup\n",
       " classes like Tag and NavigableString, to other classes you'd\n",
       " like to be instantiated instead as the parse tree is\n",
       " built. This is useful for subclassing Tag or NavigableString\n",
       " to modify default behavior.\n",
       "\n",
       ":param kwargs: For backwards compatibility purposes, the\n",
       " constructor accepts certain keyword arguments used in\n",
       " Beautiful Soup 3. None of these arguments do anything in\n",
       " Beautiful Soup 4; they will result in a warning and then be\n",
       " ignored.\n",
       " \n",
       " Apart from this, any keyword arguments passed into the\n",
       " BeautifulSoup constructor are propagated to the TreeBuilder\n",
       " constructor. This makes it possible to configure a\n",
       " TreeBuilder by passing in arguments, not just by saying which\n",
       " one to use.\n",
       "\u001b[1;31mFile:\u001b[0m           c:\\users\\heejc\\anaconda3\\lib\\site-packages\\bs4\\__init__.py\n",
       "\u001b[1;31mType:\u001b[0m           type\n",
       "\u001b[1;31mSubclasses:\u001b[0m     BeautifulStoneSoup"
      ]
     },
     "metadata": {},
     "output_type": "display_data"
    }
   ],
   "source": [
    "BeautifulSoup?"
   ]
  },
  {
   "cell_type": "code",
   "execution_count": 11,
   "id": "3ba952be-ecf8-4edf-8c52-3b688a8d0c30",
   "metadata": {},
   "outputs": [],
   "source": [
    "# sample\n",
    "html = '''\n",
    "<div id=prices >\n",
    "    <table >\n",
    "        <tr class=bb>\n",
    "            <th class=\"bb lm lft\">Date\n",
    "            <th class=\"rgt bb\">Open\n",
    "            <th class=\"rgt bb\">High\n",
    "            <th class=\"rgt bb\">Low\n",
    "            <th class=\"rgt bb\">Close\n",
    "            <th class=\"rgt bb rm\">Volume\n",
    "        <tr>\n",
    "            <td class=\"lm\">Feb 28, 2014\n",
    "            <td class=\"rgt\">100.71\n",
    "            <td class=\"rgt\">100.71\n",
    "            <td class=\"rgt\">100.71\n",
    "            <td class=\"rgt\">100.71\n",
    "            <td class=\"rgt rm\">0\n",
    "     </table>\n",
    "'''"
   ]
  },
  {
   "cell_type": "code",
   "execution_count": 17,
   "id": "747ac030-2316-41e0-af56-16206270e700",
   "metadata": {
    "scrolled": true
   },
   "outputs": [
    {
     "data": {
      "text/plain": [
       "<html><body><div id=\"prices\">\n",
       "<table>\n",
       "<tr class=\"bb\">\n",
       "<th class=\"bb lm lft\">Date\n",
       "            </th><th class=\"rgt bb\">Open\n",
       "            </th><th class=\"rgt bb\">High\n",
       "            </th><th class=\"rgt bb\">Low\n",
       "            </th><th class=\"rgt bb\">Close\n",
       "            </th><th class=\"rgt bb rm\">Volume\n",
       "        </th></tr><tr>\n",
       "<td class=\"lm\">Feb 28, 2014\n",
       "            </td><td class=\"rgt\">100.71\n",
       "            </td><td class=\"rgt\">100.71\n",
       "            </td><td class=\"rgt\">100.71\n",
       "            </td><td class=\"rgt\">100.71\n",
       "            </td><td class=\"rgt rm\">0\n",
       "     </td></tr></table>\n",
       "</div></body></html>"
      ]
     },
     "execution_count": 17,
     "metadata": {},
     "output_type": "execute_result"
    }
   ],
   "source": [
    "# Lxml 의 HTML 파서\n",
    "BeautifulSoup(html, 'lxml')"
   ]
  },
  {
   "cell_type": "code",
   "execution_count": 18,
   "id": "ac13b68f-cd80-4fa2-bdf5-4fd9534ee623",
   "metadata": {},
   "outputs": [
    {
     "data": {
      "text/plain": [
       "\n",
       "<div id=\"prices\">\n",
       "<table>\n",
       "<tr class=\"bb\">\n",
       "<th class=\"bb lm lft\">Date\n",
       "            <th class=\"rgt bb\">Open\n",
       "            <th class=\"rgt bb\">High\n",
       "            <th class=\"rgt bb\">Low\n",
       "            <th class=\"rgt bb\">Close\n",
       "            <th class=\"rgt bb rm\">Volume\n",
       "        <tr>\n",
       "<td class=\"lm\">Feb 28, 2014\n",
       "            <td class=\"rgt\">100.71\n",
       "            <td class=\"rgt\">100.71\n",
       "            <td class=\"rgt\">100.71\n",
       "            <td class=\"rgt\">100.71\n",
       "            <td class=\"rgt rm\">0\n",
       "     </td></td></td></td></td></td></tr></th></th></th></th></th></th></tr></table>\n",
       "</div>"
      ]
     },
     "execution_count": 18,
     "metadata": {},
     "output_type": "execute_result"
    }
   ],
   "source": [
    "# 파이썬 표준 html 파서\n",
    "BeautifulSoup(html, 'html.parser')"
   ]
  },
  {
   "cell_type": "markdown",
   "id": "3f6dff0d-42e5-4ddc-9ed3-57ccd70072cd",
   "metadata": {},
   "source": [
    "## BS4 객체의 속성과 메서드"
   ]
  },
  {
   "cell_type": "code",
   "execution_count": 26,
   "id": "12f85cf4-83cf-4f1c-ad70-3d7e6e1234a2",
   "metadata": {},
   "outputs": [
    {
     "data": {
      "text/plain": [
       "'C:\\\\workspace\\\\wassup3\\\\02_Python_Collection'"
      ]
     },
     "execution_count": 26,
     "metadata": {},
     "output_type": "execute_result"
    }
   ],
   "source": [
    "pwd"
   ]
  },
  {
   "cell_type": "code",
   "execution_count": 29,
   "id": "785cd5e1-2394-4411-85d6-ccaf4402280e",
   "metadata": {},
   "outputs": [
    {
     "data": {
      "text/plain": [
       "<_io.TextIOWrapper name='sample/market.html' mode='r' encoding='utf-8'>"
      ]
     },
     "execution_count": 29,
     "metadata": {},
     "output_type": "execute_result"
    }
   ],
   "source": [
    "html_file = open('sample/market.html', encoding='utf-8')\n",
    "html_file"
   ]
  },
  {
   "cell_type": "code",
   "execution_count": 30,
   "id": "2261277b-49e8-4b38-ae0f-4b639c368e27",
   "metadata": {},
   "outputs": [],
   "source": [
    "html_src = html_file.read()\n",
    "html_file.close()"
   ]
  },
  {
   "cell_type": "code",
   "execution_count": 31,
   "id": "66a2e29c-c843-459c-87a0-cfafcc9a1b65",
   "metadata": {},
   "outputs": [
    {
     "data": {
      "text/plain": [
       "'<html>\\n    <body>\\n        <h1> 과일 목록 </h1>\\n        <div>\\n                <p id=\\'banana\\' class=\\'fruit\\' title=\\'바나나\\'>\\n                      <span class = \\'price\\'> 3000원 </span>\\n                      <span class = \\'count\\'> 10개 </span>\\n                      <span class = \\'store\\'> 바나나가게 </span>\\n                      <a href = \\'https://www.banana.com\\'> banana.com </a>\\n                </p>\\n                <p id=\\'cherry\\' class=\\'fruit\\' title=\\'체리\\'>\\n                    <span class = \\'price\\'> 100원 </span>\\n                    <span class = \\'count\\'> 50개 </span>\\n                    <span class = \\'store\\'> 체리가게</span>\\n                    <a href = \\'https://www.cherry.com\\'> cherry.com </a>\\n                </p>\\n                <p id=\\'orange\\' class=\\'fruit best\\' title=\\'오렌지\\'>\\n                    <span class = \\'price\\'> 500원 </span>\\n                    <span class = \\'count\\'> 20개 </span>\\n                    <span class = \\'store\\'> 오렌지가게</span>\\n                    <a href = \\'https://www.orange.com\\'> orange.com </a>\\n                    <span>\\n                        <a href=\"https://www.orange.blog/\">오렌지 효능</a>\\n                    </span>\\n                </p>\\n        </div>\\n    </body> \\n</html>'"
      ]
     },
     "execution_count": 31,
     "metadata": {},
     "output_type": "execute_result"
    }
   ],
   "source": [
    "html_src"
   ]
  },
  {
   "cell_type": "code",
   "execution_count": 32,
   "id": "3b7c2ec3-28b6-40b9-98f0-1456373f46c3",
   "metadata": {
    "collapsed": true,
    "jupyter": {
     "outputs_hidden": true
    }
   },
   "outputs": [
    {
     "name": "stdout",
     "output_type": "stream",
     "text": [
      "<html>\n",
      "    <body>\n",
      "        <h1> 과일 목록 </h1>\n",
      "        <div>\n",
      "                <p id='banana' class='fruit' title='바나나'>\n",
      "                      <span class = 'price'> 3000원 </span>\n",
      "                      <span class = 'count'> 10개 </span>\n",
      "                      <span class = 'store'> 바나나가게 </span>\n",
      "                      <a href = 'https://www.banana.com'> banana.com </a>\n",
      "                </p>\n",
      "                <p id='cherry' class='fruit' title='체리'>\n",
      "                    <span class = 'price'> 100원 </span>\n",
      "                    <span class = 'count'> 50개 </span>\n",
      "                    <span class = 'store'> 체리가게</span>\n",
      "                    <a href = 'https://www.cherry.com'> cherry.com </a>\n",
      "                </p>\n",
      "                <p id='orange' class='fruit best' title='오렌지'>\n",
      "                    <span class = 'price'> 500원 </span>\n",
      "                    <span class = 'count'> 20개 </span>\n",
      "                    <span class = 'store'> 오렌지가게</span>\n",
      "                    <a href = 'https://www.orange.com'> orange.com </a>\n",
      "                    <span>\n",
      "                        <a href=\"https://www.orange.blog/\">오렌지 효능</a>\n",
      "                    </span>\n",
      "                </p>\n",
      "        </div>\n",
      "    </body> \n",
      "</html>\n"
     ]
    }
   ],
   "source": [
    "print(html_src)"
   ]
  },
  {
   "cell_type": "code",
   "execution_count": 33,
   "id": "4fd37b9e-8dd6-4fb0-8659-64768121dfc7",
   "metadata": {},
   "outputs": [],
   "source": [
    "# DOM 구조로 변환(구문 분석)\n",
    "soup = BeautifulSoup(html_src, 'lxml')"
   ]
  },
  {
   "cell_type": "code",
   "execution_count": 34,
   "id": "147a737f-4b13-48ba-888d-3aacd8121b22",
   "metadata": {},
   "outputs": [
    {
     "data": {
      "text/plain": [
       "bs4.BeautifulSoup"
      ]
     },
     "execution_count": 34,
     "metadata": {},
     "output_type": "execute_result"
    }
   ],
   "source": [
    "type(soup)"
   ]
  },
  {
   "cell_type": "code",
   "execution_count": 35,
   "id": "b96ca5e7-5922-42b2-993a-65ae218d7970",
   "metadata": {
    "collapsed": true,
    "jupyter": {
     "outputs_hidden": true
    }
   },
   "outputs": [
    {
     "data": {
      "text/plain": [
       "<html>\n",
       "<body>\n",
       "<h1> 과일 목록 </h1>\n",
       "<div>\n",
       "<p class=\"fruit\" id=\"banana\" title=\"바나나\">\n",
       "<span class=\"price\"> 3000원 </span>\n",
       "<span class=\"count\"> 10개 </span>\n",
       "<span class=\"store\"> 바나나가게 </span>\n",
       "<a href=\"https://www.banana.com\"> banana.com </a>\n",
       "</p>\n",
       "<p class=\"fruit\" id=\"cherry\" title=\"체리\">\n",
       "<span class=\"price\"> 100원 </span>\n",
       "<span class=\"count\"> 50개 </span>\n",
       "<span class=\"store\"> 체리가게</span>\n",
       "<a href=\"https://www.cherry.com\"> cherry.com </a>\n",
       "</p>\n",
       "<p class=\"fruit best\" id=\"orange\" title=\"오렌지\">\n",
       "<span class=\"price\"> 500원 </span>\n",
       "<span class=\"count\"> 20개 </span>\n",
       "<span class=\"store\"> 오렌지가게</span>\n",
       "<a href=\"https://www.orange.com\"> orange.com </a>\n",
       "<span>\n",
       "<a href=\"https://www.orange.blog/\">오렌지 효능</a>\n",
       "</span>\n",
       "</p>\n",
       "</div>\n",
       "</body>\n",
       "</html>"
      ]
     },
     "execution_count": 35,
     "metadata": {},
     "output_type": "execute_result"
    }
   ],
   "source": [
    "soup"
   ]
  },
  {
   "cell_type": "code",
   "execution_count": 36,
   "id": "c6a8e1e9-9b6e-4a50-80ca-892ab139aef2",
   "metadata": {},
   "outputs": [
    {
     "ename": "SyntaxError",
     "evalue": "invalid syntax (3299483301.py, line 1)",
     "output_type": "error",
     "traceback": [
      "\u001b[1;36m  Cell \u001b[1;32mIn[36], line 1\u001b[1;36m\u001b[0m\n\u001b[1;33m    soup.\u001b[0m\n\u001b[1;37m         ^\u001b[0m\n\u001b[1;31mSyntaxError\u001b[0m\u001b[1;31m:\u001b[0m invalid syntax\n"
     ]
    }
   ],
   "source": [
    "## 메서드를 이용\n"
   ]
  },
  {
   "cell_type": "code",
   "execution_count": 37,
   "id": "8b8f4f84-691a-4ffb-9bdb-b1af2bef2270",
   "metadata": {},
   "outputs": [
    {
     "data": {
      "text/plain": [
       "[<p class=\"fruit\" id=\"banana\" title=\"바나나\">\n",
       " <span class=\"price\"> 3000원 </span>\n",
       " <span class=\"count\"> 10개 </span>\n",
       " <span class=\"store\"> 바나나가게 </span>\n",
       " <a href=\"https://www.banana.com\"> banana.com </a>\n",
       " </p>,\n",
       " <p class=\"fruit\" id=\"cherry\" title=\"체리\">\n",
       " <span class=\"price\"> 100원 </span>\n",
       " <span class=\"count\"> 50개 </span>\n",
       " <span class=\"store\"> 체리가게</span>\n",
       " <a href=\"https://www.cherry.com\"> cherry.com </a>\n",
       " </p>,\n",
       " <p class=\"fruit best\" id=\"orange\" title=\"오렌지\">\n",
       " <span class=\"price\"> 500원 </span>\n",
       " <span class=\"count\"> 20개 </span>\n",
       " <span class=\"store\"> 오렌지가게</span>\n",
       " <a href=\"https://www.orange.com\"> orange.com </a>\n",
       " <span>\n",
       " <a href=\"https://www.orange.blog/\">오렌지 효능</a>\n",
       " </span>\n",
       " </p>]"
      ]
     },
     "execution_count": 37,
     "metadata": {},
     "output_type": "execute_result"
    }
   ],
   "source": [
    "soup.select('p')"
   ]
  },
  {
   "cell_type": "code",
   "execution_count": 38,
   "id": "3dff0db6-7a43-4b33-8e61-17f334949ae4",
   "metadata": {},
   "outputs": [
    {
     "data": {
      "text/plain": [
       "<p class=\"fruit\" id=\"banana\" title=\"바나나\">\n",
       "<span class=\"price\"> 3000원 </span>\n",
       "<span class=\"count\"> 10개 </span>\n",
       "<span class=\"store\"> 바나나가게 </span>\n",
       "<a href=\"https://www.banana.com\"> banana.com </a>\n",
       "</p>"
      ]
     },
     "execution_count": 38,
     "metadata": {},
     "output_type": "execute_result"
    }
   ],
   "source": [
    "soup.select_one('p')"
   ]
  },
  {
   "cell_type": "code",
   "execution_count": 39,
   "id": "cfc8a358-1a70-4ad8-ad6e-70a7708fe354",
   "metadata": {},
   "outputs": [
    {
     "data": {
      "text/plain": [
       "[<p class=\"fruit best\" id=\"orange\" title=\"오렌지\">\n",
       " <span class=\"price\"> 500원 </span>\n",
       " <span class=\"count\"> 20개 </span>\n",
       " <span class=\"store\"> 오렌지가게</span>\n",
       " <a href=\"https://www.orange.com\"> orange.com </a>\n",
       " <span>\n",
       " <a href=\"https://www.orange.blog/\">오렌지 효능</a>\n",
       " </span>\n",
       " </p>]"
      ]
     },
     "execution_count": 39,
     "metadata": {},
     "output_type": "execute_result"
    }
   ],
   "source": [
    "## css 셀렉터 문법\n",
    "soup.select('#orange') #id속성"
   ]
  },
  {
   "cell_type": "code",
   "execution_count": 40,
   "id": "69b1dee7-03fa-456a-97eb-9a56e2626fe2",
   "metadata": {},
   "outputs": [
    {
     "data": {
      "text/plain": [
       "<p class=\"fruit best\" id=\"orange\" title=\"오렌지\">\n",
       "<span class=\"price\"> 500원 </span>\n",
       "<span class=\"count\"> 20개 </span>\n",
       "<span class=\"store\"> 오렌지가게</span>\n",
       "<a href=\"https://www.orange.com\"> orange.com </a>\n",
       "<span>\n",
       "<a href=\"https://www.orange.blog/\">오렌지 효능</a>\n",
       "</span>\n",
       "</p>"
      ]
     },
     "execution_count": 40,
     "metadata": {},
     "output_type": "execute_result"
    }
   ],
   "source": [
    "soup.select_one('#orange') #id속성"
   ]
  },
  {
   "cell_type": "code",
   "execution_count": 41,
   "id": "8a3c9667-f615-4418-9870-9d845908a3ff",
   "metadata": {},
   "outputs": [
    {
     "data": {
      "text/plain": [
       "[<span class=\"price\"> 3000원 </span>,\n",
       " <span class=\"price\"> 100원 </span>,\n",
       " <span class=\"price\"> 500원 </span>]"
      ]
     },
     "execution_count": 41,
     "metadata": {},
     "output_type": "execute_result"
    }
   ],
   "source": [
    "soup.select('.price') # class 속성"
   ]
  },
  {
   "cell_type": "code",
   "execution_count": 42,
   "id": "6c58d301-c09c-480b-a690-196610acb857",
   "metadata": {},
   "outputs": [
    {
     "data": {
      "text/plain": [
       "bs4.element.ResultSet"
      ]
     },
     "execution_count": 42,
     "metadata": {},
     "output_type": "execute_result"
    }
   ],
   "source": [
    "type(soup.select('.price'))"
   ]
  },
  {
   "cell_type": "code",
   "execution_count": 43,
   "id": "d002a7f4-c5a9-42de-a733-dc104577f5f2",
   "metadata": {},
   "outputs": [
    {
     "data": {
      "text/plain": [
       "[<p class=\"fruit best\" id=\"orange\" title=\"오렌지\">\n",
       " <span class=\"price\"> 500원 </span>\n",
       " <span class=\"count\"> 20개 </span>\n",
       " <span class=\"store\"> 오렌지가게</span>\n",
       " <a href=\"https://www.orange.com\"> orange.com </a>\n",
       " <span>\n",
       " <a href=\"https://www.orange.blog/\">오렌지 효능</a>\n",
       " </span>\n",
       " </p>]"
      ]
     },
     "execution_count": 43,
     "metadata": {},
     "output_type": "execute_result"
    }
   ],
   "source": [
    "# AND 관계\n",
    "soup.select('p#orange')"
   ]
  },
  {
   "cell_type": "code",
   "execution_count": 44,
   "id": "45abd012-c861-415b-b056-f59bf61d39cf",
   "metadata": {},
   "outputs": [
    {
     "data": {
      "text/plain": [
       "[<a href=\"https://www.banana.com\"> banana.com </a>,\n",
       " <a href=\"https://www.cherry.com\"> cherry.com </a>,\n",
       " <a href=\"https://www.orange.com\"> orange.com </a>,\n",
       " <a href=\"https://www.orange.blog/\">오렌지 효능</a>]"
      ]
     },
     "execution_count": 44,
     "metadata": {},
     "output_type": "execute_result"
    }
   ],
   "source": [
    "# OR관계\n",
    "soup.select('a, store')"
   ]
  },
  {
   "cell_type": "code",
   "execution_count": 45,
   "id": "e2663e22-5175-499a-94e5-802790212d7d",
   "metadata": {},
   "outputs": [
    {
     "data": {
      "text/plain": [
       "[<p class=\"fruit best\" id=\"orange\" title=\"오렌지\">\n",
       " <span class=\"price\"> 500원 </span>\n",
       " <span class=\"count\"> 20개 </span>\n",
       " <span class=\"store\"> 오렌지가게</span>\n",
       " <a href=\"https://www.orange.com\"> orange.com </a>\n",
       " <span>\n",
       " <a href=\"https://www.orange.blog/\">오렌지 효능</a>\n",
       " </span>\n",
       " </p>]"
      ]
     },
     "execution_count": 45,
     "metadata": {},
     "output_type": "execute_result"
    }
   ],
   "source": [
    "soup.select('.fruit.best')"
   ]
  },
  {
   "cell_type": "code",
   "execution_count": 53,
   "id": "858aa025-f713-4b9a-a0fb-32250cabb959",
   "metadata": {},
   "outputs": [
    {
     "data": {
      "text/plain": [
       "[]"
      ]
     },
     "execution_count": 53,
     "metadata": {},
     "output_type": "execute_result"
    }
   ],
   "source": [
    "soup.select('.fruit.best>a') # > = 자식관계"
   ]
  },
  {
   "cell_type": "code",
   "execution_count": 59,
   "id": "79037a01-99c1-4f52-9708-93cd670329b2",
   "metadata": {},
   "outputs": [
    {
     "ename": "IndexError",
     "evalue": "list index out of range",
     "output_type": "error",
     "traceback": [
      "\u001b[1;31m---------------------------------------------------------------------------\u001b[0m",
      "\u001b[1;31mIndexError\u001b[0m                                Traceback (most recent call last)",
      "Cell \u001b[1;32mIn[59], line 1\u001b[0m\n\u001b[1;32m----> 1\u001b[0m \u001b[38;5;28mtype\u001b[39m(soup\u001b[38;5;241m.\u001b[39mselect(\u001b[38;5;124m'\u001b[39m\u001b[38;5;124m.fruit.best a\u001b[39m\u001b[38;5;124m'\u001b[39m)[\u001b[38;5;241m0\u001b[39m])\n",
      "\u001b[1;31mIndexError\u001b[0m: list index out of range"
     ]
    }
   ],
   "source": [
    "type(soup.select('.fruit.best a')[0])"
   ]
  },
  {
   "cell_type": "code",
   "execution_count": 50,
   "id": "39a6ac60-5b0d-4772-a813-99735c9f7472",
   "metadata": {},
   "outputs": [
    {
     "ename": "IndexError",
     "evalue": "list index out of range",
     "output_type": "error",
     "traceback": [
      "\u001b[1;31m---------------------------------------------------------------------------\u001b[0m",
      "\u001b[1;31mIndexError\u001b[0m                                Traceback (most recent call last)",
      "Cell \u001b[1;32mIn[50], line 1\u001b[0m\n\u001b[1;32m----> 1\u001b[0m soup\u001b[38;5;241m.\u001b[39mselect(\u001b[38;5;124m'\u001b[39m\u001b[38;5;124m.fruit.best a\u001b[39m\u001b[38;5;124m'\u001b[39m)[\u001b[38;5;241m0\u001b[39m]\u001b[38;5;241m.\u001b[39mtxt\n",
      "\u001b[1;31mIndexError\u001b[0m: list index out of range"
     ]
    }
   ],
   "source": [
    "soup.select('.fruit.best a')[0].txt"
   ]
  },
  {
   "cell_type": "code",
   "execution_count": 55,
   "id": "b5bca998-1004-4089-9b35-b8f5b956f059",
   "metadata": {},
   "outputs": [
    {
     "ename": "SyntaxError",
     "evalue": "unterminated string literal (detected at line 1) (344990002.py, line 1)",
     "output_type": "error",
     "traceback": [
      "\u001b[1;36m  Cell \u001b[1;32mIn[55], line 1\u001b[1;36m\u001b[0m\n\u001b[1;33m    mylist = soup.select('.fruit.best a)[0]\u001b[0m\n\u001b[1;37m                         ^\u001b[0m\n\u001b[1;31mSyntaxError\u001b[0m\u001b[1;31m:\u001b[0m unterminated string literal (detected at line 1)\n"
     ]
    }
   ],
   "source": [
    "mylist = soup.select('.fruit.best a)[0]"
   ]
  },
  {
   "cell_type": "code",
   "execution_count": null,
   "id": "18d1c913-8f6a-4aad-9601-3c26d8754f66",
   "metadata": {},
   "outputs": [],
   "source": []
  },
  {
   "cell_type": "code",
   "execution_count": null,
   "id": "35819988-9ce2-489f-9e9b-ffd3ef4729dc",
   "metadata": {},
   "outputs": [],
   "source": []
  },
  {
   "cell_type": "code",
   "execution_count": null,
   "id": "bbc7c291-07ec-4bda-892b-09dc9728117f",
   "metadata": {},
   "outputs": [],
   "source": []
  },
  {
   "cell_type": "code",
   "execution_count": null,
   "id": "efb09d4f-0f5b-4302-a3d5-acac52521a0c",
   "metadata": {},
   "outputs": [],
   "source": []
  },
  {
   "cell_type": "code",
   "execution_count": null,
   "id": "8fdae3bf-1dba-4de0-a031-fe99341ad5ac",
   "metadata": {},
   "outputs": [],
   "source": []
  },
  {
   "cell_type": "code",
   "execution_count": null,
   "id": "b7dce97d-2f56-4435-8e30-49ec079e3a5b",
   "metadata": {},
   "outputs": [],
   "source": []
  },
  {
   "cell_type": "code",
   "execution_count": null,
   "id": "fd42b8a0-37c6-40cc-b179-35ee89a696cf",
   "metadata": {},
   "outputs": [],
   "source": []
  },
  {
   "cell_type": "code",
   "execution_count": null,
   "id": "6cb6d64f-cfe4-4607-8369-73d21674549c",
   "metadata": {},
   "outputs": [],
   "source": []
  },
  {
   "cell_type": "code",
   "execution_count": null,
   "id": "0220a574-eddd-4bae-9998-3ec70e3aae56",
   "metadata": {},
   "outputs": [],
   "source": []
  }
 ],
 "metadata": {
  "kernelspec": {
   "display_name": "Python 3 (ipykernel)",
   "language": "python",
   "name": "python3"
  },
  "language_info": {
   "codemirror_mode": {
    "name": "ipython",
    "version": 3
   },
   "file_extension": ".py",
   "mimetype": "text/x-python",
   "name": "python",
   "nbconvert_exporter": "python",
   "pygments_lexer": "ipython3",
   "version": "3.11.7"
  }
 },
 "nbformat": 4,
 "nbformat_minor": 5
}
