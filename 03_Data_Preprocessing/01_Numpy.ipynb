{
 "cells": [
  {
   "cell_type": "markdown",
   "id": "bf79b2b6-8234-4a5c-80a7-f8cb58f74f4a",
   "metadata": {},
   "source": [
    "## Numpy 개요\n",
    "Numeric + Python = Numpy\n",
    "수학 및 과학 연산을 위한 파이썬 패키지\n",
    "배열이나 행렬 계산에 용이한 메서드를 제공\n",
    "한글로 넘파이로 주로 통칭, 넘피/늄파이라고 부르기도 함\n",
    "관련 사이트 : http://www.numpy.org\n",
    "일반 List에 비해 빠르고, 메모리 효율적\n",
    "\n",
    "반복문 없이 데이터 배열에 대한 처리를 지원함\n",
    "선형대수와 관련된 다양한 기능을 제공함\n",
    "Reference Site\n",
    "cs231 : http://cs231n.github.io/python-numpy-tutorial/#numpy\n",
    "https://docs.scipy.org/doc/numpy-dev/user/quickstart.html\n",
    "데이터사이언스스쿨(파이썬버전) - https://goo.gl/3hsjbS\n",
    "설치 및 임포트\n",
    "넘파이는 외부 라이브러리이므로 설치 필요.(아나콘다는 사전 설치됨)\n",
    "pip install numpy"
   ]
  },
  {
   "cell_type": "code",
   "execution_count": 12,
   "id": "4f2937bf-c453-437b-9632-3af0606bec62",
   "metadata": {},
   "outputs": [
    {
     "data": {
      "text/plain": [
       "'1.26.4'"
      ]
     },
     "execution_count": 12,
     "metadata": {},
     "output_type": "execute_result"
    }
   ],
   "source": [
    "import numpy as np\n",
    "np.__version__"
   ]
  },
  {
   "cell_type": "markdown",
   "id": "02a16f4c-3364-4a02-821d-1d7bf75ec678",
   "metadata": {},
   "source": [
    "## 넘파이 배열 이해하기\n",
    "### ndim(dimention, rank)\n",
    "\n",
    "몇 차원인지 반환"
   ]
  },
  {
   "cell_type": "code",
   "execution_count": 14,
   "id": "dc97d0f8-5a97-420c-9a58-6f0b132a9e93",
   "metadata": {},
   "outputs": [
    {
     "data": {
      "text/plain": [
       "(array(0), 0, numpy.ndarray)"
      ]
     },
     "execution_count": 14,
     "metadata": {},
     "output_type": "execute_result"
    }
   ],
   "source": [
    "a = np.array(0)\n",
    "a, a.ndim, type(a)"
   ]
  },
  {
   "cell_type": "code",
   "execution_count": 15,
   "id": "6b66dbbe-5696-42fe-b73d-28c5163c8429",
   "metadata": {},
   "outputs": [
    {
     "data": {
      "text/plain": [
       "(array([2, 4, 6]), 1, numpy.ndarray)"
      ]
     },
     "execution_count": 15,
     "metadata": {},
     "output_type": "execute_result"
    }
   ],
   "source": [
    "a = np.array([2, 4, 6])\n",
    "a, a.ndim, type(a)"
   ]
  },
  {
   "cell_type": "code",
   "execution_count": 16,
   "id": "3dfcbdbb-0dcb-4333-9ba7-da23021a7654",
   "metadata": {},
   "outputs": [
    {
     "data": {
      "text/plain": [
       "[[1, 2, 3], [4, 5, 6]]"
      ]
     },
     "execution_count": 16,
     "metadata": {},
     "output_type": "execute_result"
    }
   ],
   "source": [
    "a = [[1,2,3], [4,5,6]]\n",
    "a"
   ]
  },
  {
   "cell_type": "code",
   "execution_count": 17,
   "id": "e8aa4f4c-44f6-4c62-b3d4-703765ae985a",
   "metadata": {},
   "outputs": [
    {
     "data": {
      "text/plain": [
       "(array([[1, 2, 3],\n",
       "        [4, 5, 6]]),\n",
       " 2,\n",
       " numpy.ndarray)"
      ]
     },
     "execution_count": 17,
     "metadata": {},
     "output_type": "execute_result"
    }
   ],
   "source": [
    "a = np.array( [[1,2,3], [4,5,6]] )\n",
    "a, a.ndim, type(a)"
   ]
  },
  {
   "cell_type": "code",
   "execution_count": 18,
   "id": "b7101c82-f8c0-479e-805a-4a76fe91a314",
   "metadata": {},
   "outputs": [
    {
     "data": {
      "text/plain": [
       "(array([[[1, 2, 3],\n",
       "         [4, 5, 6]],\n",
       " \n",
       "        [[1, 2, 3],\n",
       "         [4, 5, 6]]]),\n",
       " 3,\n",
       " numpy.ndarray)"
      ]
     },
     "execution_count": 18,
     "metadata": {},
     "output_type": "execute_result"
    }
   ],
   "source": [
    "a = np.array( [ [[1,2,3], [4,5,6]], [[1,2,3], [4,5,6]] ] )\n",
    "a, a.ndim, type(a)"
   ]
  },
  {
   "cell_type": "markdown",
   "id": "0f113ed3-3252-4670-9d6d-0c21bab0dc15",
   "metadata": {},
   "source": [
    "## shape\n",
    "행렬의 차원으로, 몇행 몇열인지 반환\n",
    "\n",
    "아래의 경우 1차원에 4, 2차원에 2로 (4,2)로 표현됨"
   ]
  },
  {
   "cell_type": "code",
   "execution_count": 19,
   "id": "eebfef44-907e-46b1-b81f-d2d4ff0f92b1",
   "metadata": {},
   "outputs": [
    {
     "data": {
      "text/plain": [
       "(2, 2, 3)"
      ]
     },
     "execution_count": 19,
     "metadata": {},
     "output_type": "execute_result"
    }
   ],
   "source": [
    "a.shape"
   ]
  },
  {
   "cell_type": "code",
   "execution_count": 11,
   "id": "8af1b696-3e45-4665-8d0d-dde328337713",
   "metadata": {},
   "outputs": [
    {
     "data": {
      "text/plain": [
       "\u001b[1;31mType:\u001b[0m        tuple\n",
       "\u001b[1;31mString form:\u001b[0m (2, 2, 3)\n",
       "\u001b[1;31mLength:\u001b[0m      3\n",
       "\u001b[1;31mDocstring:\u001b[0m  \n",
       "Built-in immutable sequence.\n",
       "\n",
       "If no argument is given, the constructor returns an empty tuple.\n",
       "If iterable is specified the tuple is initialized from iterable's items.\n",
       "\n",
       "If the argument is a tuple, the return value is the same object."
      ]
     },
     "metadata": {},
     "output_type": "display_data"
    }
   ],
   "source": [
    "a.shape?"
   ]
  },
  {
   "cell_type": "code",
   "execution_count": 13,
   "id": "de4bb9bb-c99a-4895-bacf-7b4b8d4e1328",
   "metadata": {},
   "outputs": [
    {
     "data": {
      "text/plain": [
       "(array(3), ())"
      ]
     },
     "execution_count": 13,
     "metadata": {},
     "output_type": "execute_result"
    }
   ],
   "source": [
    "a = np.array(3)\n",
    "a, a.shape # 행렬아님"
   ]
  },
  {
   "cell_type": "code",
   "execution_count": 14,
   "id": "dcbda2a8-36e5-4301-9f78-456ec9d2e0bf",
   "metadata": {},
   "outputs": [
    {
     "data": {
      "text/plain": [
       "(array([1, 3, 5, 7, 9]), (5,))"
      ]
     },
     "execution_count": 14,
     "metadata": {},
     "output_type": "execute_result"
    }
   ],
   "source": [
    "a = np.array([ 1, 3, 5, 7, 9 ])\n",
    "a, a.shape"
   ]
  },
  {
   "cell_type": "code",
   "execution_count": 15,
   "id": "0049816f-905b-4f53-8a29-f6d7ee6954d1",
   "metadata": {},
   "outputs": [
    {
     "data": {
      "text/plain": [
       "(array([[1, 2, 3],\n",
       "        [4, 5, 6]]),\n",
       " (2, 3))"
      ]
     },
     "execution_count": 15,
     "metadata": {},
     "output_type": "execute_result"
    }
   ],
   "source": [
    "a = np.array( [[1,2,3], [4,5,6]] )\n",
    "a, a.shape"
   ]
  },
  {
   "cell_type": "code",
   "execution_count": 16,
   "id": "19dbdc7e-4055-4f72-8902-b0f9069fe3ba",
   "metadata": {},
   "outputs": [
    {
     "data": {
      "text/plain": [
       "2"
      ]
     },
     "execution_count": 16,
     "metadata": {},
     "output_type": "execute_result"
    }
   ],
   "source": [
    "a.ndim"
   ]
  },
  {
   "cell_type": "code",
   "execution_count": 20,
   "id": "10824056-8d75-4a26-86a2-8cd43916a234",
   "metadata": {},
   "outputs": [
    {
     "data": {
      "text/plain": [
       "(array([[[0, 0, 0, 0],\n",
       "         [0, 0, 0, 0],\n",
       "         [0, 0, 0, 0]],\n",
       " \n",
       "        [[0, 0, 0, 0],\n",
       "         [0, 0, 0, 0],\n",
       "         [0, 0, 0, 0]]]),\n",
       " (2, 3, 4))"
      ]
     },
     "execution_count": 20,
     "metadata": {},
     "output_type": "execute_result"
    }
   ],
   "source": [
    "a = np.array([[[0, 0, 0, 0], [0, 0, 0, 0], [0, 0, 0, 0]], [[0, 0, 0, 0], [0, 0, 0, 0], [0, 0, 0, 0]]])\n",
    "a, a.shape # 2개의 3행 4열"
   ]
  },
  {
   "cell_type": "code",
   "execution_count": 18,
   "id": "eb6a8c7d-2572-4f69-ad3b-ab6f5b02fc2a",
   "metadata": {},
   "outputs": [
    {
     "data": {
      "text/plain": [
       "3"
      ]
     },
     "execution_count": 18,
     "metadata": {},
     "output_type": "execute_result"
    }
   ],
   "source": [
    "a.ndim"
   ]
  },
  {
   "cell_type": "markdown",
   "id": "e9538d8c-09a9-44bd-85ad-070447b5108e",
   "metadata": {},
   "source": [
    "## 넘파이 배열\n",
    "리스트를 넘파이 배열로 생성 np.array(리스트)\n",
    "관련 속성 : ndim 차원 반환 int , size 전체 길이 반환 int, shape 구조 반환 tuple"
   ]
  },
  {
   "cell_type": "code",
   "execution_count": 21,
   "id": "ef426f9a-ef91-430e-b7ff-39637304cd6a",
   "metadata": {},
   "outputs": [
    {
     "name": "stdout",
     "output_type": "stream",
     "text": [
      "[10, 56, 77, 23, 44] <class 'list'> 5\n"
     ]
    }
   ],
   "source": [
    "# 1차원 리스트 객체(이터러블)\n",
    "myList = [10, 56, 77, 23, 44]\n",
    "print(myList, type(myList), len(myList))"
   ]
  },
  {
   "cell_type": "code",
   "execution_count": 29,
   "id": "cb3cfe07-65ee-4917-bed5-4715f4a71032",
   "metadata": {},
   "outputs": [
    {
     "name": "stdout",
     "output_type": "stream",
     "text": [
      "[10 56 77 23 44] <class 'numpy.ndarray'> 5\n",
      "차원=1, 구조=(5,), size=5, 길이=5\n"
     ]
    }
   ],
   "source": [
    "myArr = np.array(myList)\n",
    "print(myArr, type(myArr), len(myArr))\n",
    "print(f'차원={myArr.ndim}, 구조={myArr.shape}, size={myArr.size}, 길이={len(myArr)}')"
   ]
  },
  {
   "cell_type": "code",
   "execution_count": 30,
   "id": "eb0c3a3c-ec7d-4cac-8a89-a581119604fa",
   "metadata": {},
   "outputs": [
    {
     "data": {
      "text/plain": [
       "array([10, 56, 77, 23, 44])"
      ]
     },
     "execution_count": 30,
     "metadata": {},
     "output_type": "execute_result"
    }
   ],
   "source": [
    "myArr"
   ]
  },
  {
   "cell_type": "code",
   "execution_count": 31,
   "id": "d7bc6685-c2f6-4006-be3c-398d87a103d4",
   "metadata": {},
   "outputs": [
    {
     "data": {
      "text/plain": [
       "([[1, 2, 3], [10, 20, 30], [100, 200, 300]], 3)"
      ]
     },
     "execution_count": 31,
     "metadata": {},
     "output_type": "execute_result"
    }
   ],
   "source": [
    "# 2차원 리스트 객체(이터러블)\n",
    "myList2 = [[1,2,3 ],[10,20,30],[100,200,300]]\n",
    "myList2, len(myList2)"
   ]
  },
  {
   "cell_type": "code",
   "execution_count": 32,
   "id": "c003f210-d688-4d49-adb0-460c8f287bbc",
   "metadata": {},
   "outputs": [
    {
     "name": "stdout",
     "output_type": "stream",
     "text": [
      "[[  1   2   3]\n",
      " [ 10  20  30]\n",
      " [100 200 300]] <class 'numpy.ndarray'> 3\n",
      "차원= 2, 구조 = (3, 3), size = 9, 길이=3\n"
     ]
    }
   ],
   "source": [
    "myArr2 = np.array(myList2)\n",
    "print(myArr2, type(myArr2), len(myArr2))\n",
    "print(f'차원= {myArr2.ndim}, 구조 = {myArr2.shape}, size = {myArr2.size}, 길이={len(myArr2)}' )"
   ]
  },
  {
   "cell_type": "code",
   "execution_count": 33,
   "id": "3ad4ecd8-fadf-4da4-88f9-564fa98d5756",
   "metadata": {},
   "outputs": [
    {
     "name": "stdout",
     "output_type": "stream",
     "text": [
      "[[1, 2, 3, 4], [10, 20, 30, 40, 50], [100, 200]] <class 'list'> 3\n"
     ]
    }
   ],
   "source": [
    "# 2차원 리스트에서 각 행의 수가 다를 경우?\n",
    "myList21 = [ [1,2,3,4],[10,20,30,40,50],[100,200,]]\n",
    "print(myList21, type(myList21), len(myList21))"
   ]
  },
  {
   "cell_type": "code",
   "execution_count": 34,
   "id": "3f7e7af7-2888-41d9-9bee-325f327733c3",
   "metadata": {},
   "outputs": [
    {
     "ename": "ValueError",
     "evalue": "setting an array element with a sequence. The requested array has an inhomogeneous shape after 1 dimensions. The detected shape was (3,) + inhomogeneous part.",
     "output_type": "error",
     "traceback": [
      "\u001b[1;31m---------------------------------------------------------------------------\u001b[0m",
      "\u001b[1;31mValueError\u001b[0m                                Traceback (most recent call last)",
      "Cell \u001b[1;32mIn[34], line 2\u001b[0m\n\u001b[0;32m      1\u001b[0m \u001b[38;5;66;03m# 길이가 달라 에러 리턴\u001b[39;00m\n\u001b[1;32m----> 2\u001b[0m myArr21 \u001b[38;5;241m=\u001b[39m np\u001b[38;5;241m.\u001b[39marray(myList21)\n\u001b[0;32m      3\u001b[0m \u001b[38;5;28mprint\u001b[39m(myArr21, \u001b[38;5;28mtype\u001b[39m(myArr21), \u001b[38;5;28mlen\u001b[39m(myArr21))\n\u001b[0;32m      4\u001b[0m \u001b[38;5;28mprint\u001b[39m(\u001b[38;5;124mf\u001b[39m\u001b[38;5;124m'\u001b[39m\u001b[38;5;124m차원= \u001b[39m\u001b[38;5;132;01m{\u001b[39;00mmyArr21\u001b[38;5;241m.\u001b[39mndim\u001b[38;5;132;01m}\u001b[39;00m\u001b[38;5;124m, 구조 = \u001b[39m\u001b[38;5;132;01m{\u001b[39;00mmyArr21\u001b[38;5;241m.\u001b[39mshape\u001b[38;5;132;01m}\u001b[39;00m\u001b[38;5;124m, size = \u001b[39m\u001b[38;5;132;01m{\u001b[39;00mmyArr21\u001b[38;5;241m.\u001b[39msize\u001b[38;5;132;01m}\u001b[39;00m\u001b[38;5;124m'\u001b[39m)\n",
      "\u001b[1;31mValueError\u001b[0m: setting an array element with a sequence. The requested array has an inhomogeneous shape after 1 dimensions. The detected shape was (3,) + inhomogeneous part."
     ]
    }
   ],
   "source": [
    "# 길이가 달라 에러 리턴\n",
    "myArr21 = np.array(myList21)\n",
    "print(myArr21, type(myArr21), len(myArr21))\n",
    "print(f'차원= {myArr21.ndim}, 구조 = {myArr21.shape}, size = {myArr21.size}')"
   ]
  },
  {
   "cell_type": "markdown",
   "id": "0cc621b2-29c7-42e3-8d84-6dd260dd6d75",
   "metadata": {},
   "source": [
    "## 넘파이 배열과 리스트와의 차이점\n",
    "배열간의 연산 가능 \"브로드캐스팅\", 요소별 연산(element-wise)\n",
    "넘파이 메서드 사용 가능 : 평균, 상관계수, 분산, 표준편차 등\n",
    "리스트는 자료형 혼합 가능, 넘파이배열은 하나의 자료형만 가능"
   ]
  },
  {
   "cell_type": "code",
   "execution_count": 36,
   "id": "b1eac6de-74f7-452d-be99-aa91a2b4d87f",
   "metadata": {},
   "outputs": [
    {
     "name": "stdout",
     "output_type": "stream",
     "text": [
      "[10, 30, 50, 1, 2, 3]\n"
     ]
    },
    {
     "ename": "TypeError",
     "evalue": "can only concatenate list (not \"int\") to list",
     "output_type": "error",
     "traceback": [
      "\u001b[1;31m---------------------------------------------------------------------------\u001b[0m",
      "\u001b[1;31mTypeError\u001b[0m                                 Traceback (most recent call last)",
      "Cell \u001b[1;32mIn[36], line 5\u001b[0m\n\u001b[0;32m      3\u001b[0m listB \u001b[38;5;241m=\u001b[39m [\u001b[38;5;241m1\u001b[39m, \u001b[38;5;241m2\u001b[39m, \u001b[38;5;241m3\u001b[39m]\n\u001b[0;32m      4\u001b[0m \u001b[38;5;28mprint\u001b[39m(listA \u001b[38;5;241m+\u001b[39m listB) \u001b[38;5;66;03m# 리스트의 + 연산자는 조인역할\u001b[39;00m\n\u001b[1;32m----> 5\u001b[0m \u001b[38;5;28mprint\u001b[39m(listA \u001b[38;5;241m+\u001b[39m \u001b[38;5;241m2\u001b[39m)\n",
      "\u001b[1;31mTypeError\u001b[0m: can only concatenate list (not \"int\") to list"
     ]
    }
   ],
   "source": [
    "# 리스트의 산술연산자 +, * \n",
    "listA = [10, 30, 50]\n",
    "listB = [1, 2, 3]\n",
    "print(listA + listB) # 리스트의 + 연산자는 조인역할\n",
    "print(listA + 2) # 불가"
   ]
  },
  {
   "cell_type": "code",
   "execution_count": 37,
   "id": "9ee22b2e-a9b2-47dc-98f7-7416f49dd567",
   "metadata": {},
   "outputs": [
    {
     "name": "stdout",
     "output_type": "stream",
     "text": [
      "[10, 30, 50, 10, 30, 50]\n"
     ]
    },
    {
     "ename": "TypeError",
     "evalue": "can't multiply sequence by non-int of type 'list'",
     "output_type": "error",
     "traceback": [
      "\u001b[1;31m---------------------------------------------------------------------------\u001b[0m",
      "\u001b[1;31mTypeError\u001b[0m                                 Traceback (most recent call last)",
      "Cell \u001b[1;32mIn[37], line 2\u001b[0m\n\u001b[0;32m      1\u001b[0m \u001b[38;5;28mprint\u001b[39m(listA \u001b[38;5;241m*\u001b[39m \u001b[38;5;241m2\u001b[39m) \u001b[38;5;66;03m# 해당 리스트의 반복\u001b[39;00m\n\u001b[1;32m----> 2\u001b[0m \u001b[38;5;28mprint\u001b[39m(listA \u001b[38;5;241m*\u001b[39m listB)\n",
      "\u001b[1;31mTypeError\u001b[0m: can't multiply sequence by non-int of type 'list'"
     ]
    }
   ],
   "source": [
    "print(listA * 2) # 해당 리스트의 반복\n",
    "print(listA * listB) # 불가"
   ]
  },
  {
   "cell_type": "code",
   "execution_count": 31,
   "id": "897a0aae-4e29-4ed9-824d-dedd771140ea",
   "metadata": {},
   "outputs": [
    {
     "name": "stdout",
     "output_type": "stream",
     "text": [
      "[3 4 5]\n",
      "[2 4 6]\n"
     ]
    }
   ],
   "source": [
    "# 넘파이의 산술연산\n",
    "arrA = np.array([1, 2, 3])\n",
    "print(arrA + 2)\n",
    "print(arrA * 2)"
   ]
  },
  {
   "cell_type": "code",
   "execution_count": 32,
   "id": "bbfc5698-0096-4818-8e74-14727a212669",
   "metadata": {},
   "outputs": [
    {
     "name": "stdout",
     "output_type": "stream",
     "text": [
      "[5 7 9]\n",
      "[ 4 10 18]\n",
      "[0.25 0.4  0.5 ]\n",
      "[0 0 0]\n",
      "[1 2 3]\n"
     ]
    }
   ],
   "source": [
    "arrB = np.array([4, 5, 6])\n",
    "print(arrA + arrB)\n",
    "print(arrA * arrB)\n",
    "print(arrA / arrB)\n",
    "print(arrA // arrB) # 몫\n",
    "print(arrA % arrB) # 나머지"
   ]
  },
  {
   "cell_type": "markdown",
   "id": "fa86f174-098a-4b04-b317-6cc250a45775",
   "metadata": {},
   "source": [
    "## dtype\n",
    "https://numpy.org/doc/stable/reference/arrays.dtypes.html\n",
    "데이터 U유형은 각 유니코드 문자를 32비트 정수(예: 4바이트)로 저장합니다. (유니코드 스트링 dtype 인수로 지정할 자료형은 다음 표에 보인것과 같은 “dtype 접두사”로 시작하는 문자열이고 이 글자 뒤에 오는 숫자는 바이트 수 혹은 글자 수를 의미한다.\n",
    "예를 들어 f8은 8바이트(64비트) 부동소수점 실수를 뜻하고 U4 는 4글자 유니코드 문자열을 뜻한다"
   ]
  },
  {
   "cell_type": "code",
   "execution_count": 35,
   "id": "ca271b66-7743-4c40-9174-ea787c04f172",
   "metadata": {},
   "outputs": [
    {
     "name": "stdout",
     "output_type": "stream",
     "text": [
      "['안녕', 100, 3.14, True, False]\n"
     ]
    }
   ],
   "source": [
    "# 자료형 테스트\n",
    "myList_c = ['안녕', 100, 3.14, True, False] # 리스트는 혼합된 형 그대로 유지\n",
    "print(myList_c)"
   ]
  },
  {
   "cell_type": "code",
   "execution_count": 36,
   "id": "91b622d1-0207-46cf-927a-b40ed1b1960a",
   "metadata": {},
   "outputs": [
    {
     "name": "stdout",
     "output_type": "stream",
     "text": [
      "['안녕' '100' '3.14' 'True' 'False'] <class 'numpy.ndarray'> <U32\n"
     ]
    }
   ],
   "source": [
    "myArr_c = np.array(myList_c) # 넘파이배열은 '문자열'로 통일 자동형변환\n",
    "print(myArr_c, type(myArr_c), myArr_c.dtype)"
   ]
  },
  {
   "cell_type": "code",
   "execution_count": 37,
   "id": "0b0b00da-6457-4679-bd71-6a057c1a8380",
   "metadata": {},
   "outputs": [
    {
     "name": "stdout",
     "output_type": "stream",
     "text": [
      "[100.     3.14  23.5    0.  ] <class 'numpy.ndarray'> float64\n"
     ]
    }
   ],
   "source": [
    "# 정수와 실수가 혼합된 넘파이 배열\n",
    "myArr_d = np.array([100, 3.14, 23.5, 0])\n",
    "print(myArr_d, type(myArr_d), myArr_d.dtype) # 정수와 실수 혼합시, 더 큰 실수형으로 통일 자동형변환"
   ]
  },
  {
   "cell_type": "markdown",
   "id": "3ff2d5d0-eeee-4fa9-9c61-0fbd1ecb9c40",
   "metadata": {},
   "source": [
    "## Inf와 NaN\n",
    "넘파이에서는 무한대를 표현하기 위한 np.inf(infinity)와 정의할 수 없는 숫자를 나타내는 np.nan(not a number)을 사용할 수 있다.\n",
    "다음 예와 같이 1을 0으로 나누려고 하거나 0에 대한 로그 값을 계산하면 무한대인 np.inf이 나온다.\n",
    "0을 0으로 나누려고 시도하면 np.nan이 나온다."
   ]
  },
  {
   "cell_type": "code",
   "execution_count": 39,
   "id": "58aa603d-f3c6-4746-af19-43df6e8801c4",
   "metadata": {},
   "outputs": [
    {
     "name": "stderr",
     "output_type": "stream",
     "text": [
      "C:\\Users\\Public\\Documents\\ESTsoft\\CreatorTemp\\ipykernel_28244\\2068585620.py:1: RuntimeWarning: divide by zero encountered in divide\n",
      "  np.array([0, 1, -1, 0]) / np.array([1, 0, 0, 0])\n",
      "C:\\Users\\Public\\Documents\\ESTsoft\\CreatorTemp\\ipykernel_28244\\2068585620.py:1: RuntimeWarning: invalid value encountered in divide\n",
      "  np.array([0, 1, -1, 0]) / np.array([1, 0, 0, 0])\n"
     ]
    },
    {
     "data": {
      "text/plain": [
       "array([  0.,  inf, -inf,  nan])"
      ]
     },
     "execution_count": 39,
     "metadata": {},
     "output_type": "execute_result"
    }
   ],
   "source": [
    "np.array([0, 1, -1, 0]) / np.array([1, 0, 0, 0])"
   ]
  },
  {
   "cell_type": "code",
   "execution_count": 40,
   "id": "bd5ef644-cac3-4af8-b0ed-85df5d9e552a",
   "metadata": {},
   "outputs": [
    {
     "name": "stderr",
     "output_type": "stream",
     "text": [
      "C:\\Users\\Public\\Documents\\ESTsoft\\CreatorTemp\\ipykernel_28244\\1608527138.py:1: RuntimeWarning: divide by zero encountered in log\n",
      "  np.log(0)\n"
     ]
    },
    {
     "data": {
      "text/plain": [
       "-inf"
      ]
     },
     "execution_count": 40,
     "metadata": {},
     "output_type": "execute_result"
    }
   ],
   "source": [
    "np.log(0)\n"
   ]
  },
  {
   "cell_type": "code",
   "execution_count": 41,
   "id": "58dcb4b1-9a25-46aa-8e6a-ae758c092a6a",
   "metadata": {},
   "outputs": [
    {
     "data": {
      "text/plain": [
       "0.0"
      ]
     },
     "execution_count": 41,
     "metadata": {},
     "output_type": "execute_result"
    }
   ],
   "source": [
    "np.exp(-np.inf)\n"
   ]
  },
  {
   "cell_type": "markdown",
   "id": "f09175c0-fb0d-4a8b-a1c6-599ba900399d",
   "metadata": {},
   "source": [
    "## 기술통계"
   ]
  },
  {
   "cell_type": "code",
   "execution_count": 43,
   "id": "fa05e550-2339-4790-bdfc-12a932ba3275",
   "metadata": {},
   "outputs": [],
   "source": [
    "x = np.array([18,   5,  10,  23,  19,  -8,  10,   0,   0,   5,   2,  15,   8,\n",
    "              2,   5,   4,  15,  -1,   4,  -7, -24,   7,   9,  -6,  23, -13])"
   ]
  },
  {
   "cell_type": "code",
   "execution_count": 44,
   "id": "524ec0ba-9e7f-4542-babe-d894df15d43f",
   "metadata": {},
   "outputs": [
    {
     "data": {
      "text/plain": [
       "4.8076923076923075"
      ]
     },
     "execution_count": 44,
     "metadata": {},
     "output_type": "execute_result"
    }
   ],
   "source": [
    "x.mean()"
   ]
  },
  {
   "cell_type": "code",
   "execution_count": 45,
   "id": "93ec265d-918e-4e8a-a6a2-1b1ebc3da4fd",
   "metadata": {},
   "outputs": [
    {
     "data": {
      "text/plain": [
       "4.8076923076923075"
      ]
     },
     "execution_count": 45,
     "metadata": {},
     "output_type": "execute_result"
    }
   ],
   "source": [
    "np.mean(x)  # 평균"
   ]
  },
  {
   "cell_type": "code",
   "execution_count": 46,
   "id": "e9af554b-4944-43e1-8386-702c9f16a32d",
   "metadata": {},
   "outputs": [
    {
     "data": {
      "text/plain": [
       "115.23224852071006"
      ]
     },
     "execution_count": 46,
     "metadata": {},
     "output_type": "execute_result"
    }
   ],
   "source": [
    "np.var(x)  # 분산"
   ]
  },
  {
   "cell_type": "code",
   "execution_count": 47,
   "id": "0645368d-26d3-481d-94f4-8bba8c070c53",
   "metadata": {},
   "outputs": [
    {
     "data": {
      "text/plain": [
       "10.734628476137871"
      ]
     },
     "execution_count": 47,
     "metadata": {},
     "output_type": "execute_result"
    }
   ],
   "source": [
    "np.std(x)  # 표준 편차"
   ]
  },
  {
   "cell_type": "code",
   "execution_count": 48,
   "id": "34957440-a6ca-49d6-ba21-fb30d515b099",
   "metadata": {},
   "outputs": [
    {
     "data": {
      "text/plain": [
       "23"
      ]
     },
     "execution_count": 48,
     "metadata": {},
     "output_type": "execute_result"
    }
   ],
   "source": [
    "np.max(x)  # 최댓값"
   ]
  },
  {
   "cell_type": "code",
   "execution_count": 49,
   "id": "2454fda1-f19d-405a-8758-3403d241428b",
   "metadata": {},
   "outputs": [
    {
     "data": {
      "text/plain": [
       "-24"
      ]
     },
     "execution_count": 49,
     "metadata": {},
     "output_type": "execute_result"
    }
   ],
   "source": [
    "np.min(x)  # 최소값"
   ]
  },
  {
   "cell_type": "code",
   "execution_count": 50,
   "id": "385b37b1-9d35-4acc-bad5-8bb7420b581b",
   "metadata": {},
   "outputs": [
    {
     "data": {
      "text/plain": [
       "5.0"
      ]
     },
     "execution_count": 50,
     "metadata": {},
     "output_type": "execute_result"
    }
   ],
   "source": [
    "np.median(x)  # 중앙값"
   ]
  },
  {
   "cell_type": "markdown",
   "id": "e8c48e2e-217f-4f1a-8c57-dc01a6751af8",
   "metadata": {},
   "source": [
    "## 사분위수\n",
    "사분위수(quartile)는 데이터를 가장 작은 수부터 가장 큰 수까지 크기가 커지는 순서대로 정렬하였을 때 1/4, 2/4, 3/4 위치에 있는 수를 말한다.\n",
    "각각 1사분위수, 2사분위수, 3사분위수라고 한다.\n",
    "1/4의 위치란 전체 데이터의 수가 만약 100개이면 25번째 순서, 즉 하위 25%를 말한다. 따라서 2사분위수는 중앙값과 같다.\n",
    "\n",
    "때로는 위치를 1/100 단위로 나눈 백분위수(percentile)을 사용하기도 한다. 1사분위수는 25% 백분위수와 같다."
   ]
  },
  {
   "cell_type": "code",
   "execution_count": 52,
   "id": "c85f4869-b3f2-4292-8dae-56e48d28c4cb",
   "metadata": {},
   "outputs": [
    {
     "data": {
      "text/plain": [
       "-24.0"
      ]
     },
     "execution_count": 52,
     "metadata": {},
     "output_type": "execute_result"
    }
   ],
   "source": [
    "np.percentile(x, 0)  # 최소값"
   ]
  },
  {
   "cell_type": "code",
   "execution_count": 53,
   "id": "bca87748-2977-4db3-959f-b32ef06a61a5",
   "metadata": {},
   "outputs": [
    {
     "data": {
      "text/plain": [
       "0.0"
      ]
     },
     "execution_count": 53,
     "metadata": {},
     "output_type": "execute_result"
    }
   ],
   "source": [
    "np.percentile(x, 25)  # 1사분위 수"
   ]
  },
  {
   "cell_type": "code",
   "execution_count": 54,
   "id": "48a871b3-8c40-40ed-bcb1-0883037c951c",
   "metadata": {},
   "outputs": [
    {
     "data": {
      "text/plain": [
       "5.0"
      ]
     },
     "execution_count": 54,
     "metadata": {},
     "output_type": "execute_result"
    }
   ],
   "source": [
    "np.percentile(x, 50)  # 2사분위 수"
   ]
  },
  {
   "cell_type": "code",
   "execution_count": 56,
   "id": "945dd7bb-4ac7-4d44-8cd7-cc6824abbfee",
   "metadata": {},
   "outputs": [
    {
     "data": {
      "text/plain": [
       "10.0"
      ]
     },
     "execution_count": 56,
     "metadata": {},
     "output_type": "execute_result"
    }
   ],
   "source": [
    "np.percentile(x, 75)  # 3사분위 수"
   ]
  },
  {
   "cell_type": "code",
   "execution_count": 57,
   "id": "04cf2c4c-9da5-42ff-9762-31cfc7eaa06c",
   "metadata": {},
   "outputs": [
    {
     "data": {
      "text/plain": [
       "23.0"
      ]
     },
     "execution_count": 57,
     "metadata": {},
     "output_type": "execute_result"
    }
   ],
   "source": [
    "np.percentile(x, 100)  # 최댓값"
   ]
  },
  {
   "cell_type": "markdown",
   "id": "ee19bcf2-98c4-4087-92c3-537dd593fc4b",
   "metadata": {},
   "source": [
    "## 넘파이 함수로 배열 만들기\n",
    "\n",
    "np.ones(n) , np.ones((x, y))\n",
    "np.zeros(n) , np.zeros((x, y))\n",
    "np.empty(n) , np.empty((x, y))\n",
    "np.aranges(start, end step)\n",
    "\n",
    "reshape(x, y) # 차원 확대\n",
    "flatten(x, y) # 차원 축소"
   ]
  },
  {
   "cell_type": "code",
   "execution_count": 11,
   "id": "e2fda801-1517-4d61-9188-d057a1ed9396",
   "metadata": {},
   "outputs": [
    {
     "ename": "NameError",
     "evalue": "name 'np' is not defined",
     "output_type": "error",
     "traceback": [
      "\u001b[1;31m---------------------------------------------------------------------------\u001b[0m",
      "\u001b[1;31mNameError\u001b[0m                                 Traceback (most recent call last)",
      "Cell \u001b[1;32mIn[11], line 2\u001b[0m\n\u001b[0;32m      1\u001b[0m \u001b[38;5;66;03m# 1로 메모리 초기화, 넘파이 함수로 배열을 만들때에는 디폴트가 실수형\u001b[39;00m\n\u001b[1;32m----> 2\u001b[0m \u001b[38;5;28mprint\u001b[39m(np\u001b[38;5;241m.\u001b[39mones(\u001b[38;5;241m10\u001b[39m), np\u001b[38;5;241m.\u001b[39mones(\u001b[38;5;241m10\u001b[39m)\u001b[38;5;241m.\u001b[39mdtype)\n",
      "\u001b[1;31mNameError\u001b[0m: name 'np' is not defined"
     ]
    }
   ],
   "source": [
    "# 1로 메모리 초기화, 넘파이 함수로 배열을 만들때에는 디폴트가 실수형\n",
    "print(np.ones(10), np.ones(10).dtype) "
   ]
  },
  {
   "cell_type": "code",
   "execution_count": 61,
   "id": "67353c01-fedb-4f7d-860f-9c5df8b75b91",
   "metadata": {},
   "outputs": [
    {
     "name": "stdout",
     "output_type": "stream",
     "text": [
      "[[1. 1. 1. 1.]\n",
      " [1. 1. 1. 1.]] float64\n"
     ]
    }
   ],
   "source": [
    "print(np.ones((2,4)), np.ones((2,4)).dtype)"
   ]
  },
  {
   "cell_type": "code",
   "execution_count": 62,
   "id": "926d8a02-2fce-4130-b6d8-48c4d86297e3",
   "metadata": {
    "collapsed": true,
    "jupyter": {
     "outputs_hidden": true
    }
   },
   "outputs": [
    {
     "data": {
      "text/plain": [
       "\u001b[1;31mSignature:\u001b[0m \u001b[0mnp\u001b[0m\u001b[1;33m.\u001b[0m\u001b[0mones\u001b[0m\u001b[1;33m(\u001b[0m\u001b[0mshape\u001b[0m\u001b[1;33m,\u001b[0m \u001b[0mdtype\u001b[0m\u001b[1;33m=\u001b[0m\u001b[1;32mNone\u001b[0m\u001b[1;33m,\u001b[0m \u001b[0morder\u001b[0m\u001b[1;33m=\u001b[0m\u001b[1;34m'C'\u001b[0m\u001b[1;33m,\u001b[0m \u001b[1;33m*\u001b[0m\u001b[1;33m,\u001b[0m \u001b[0mlike\u001b[0m\u001b[1;33m=\u001b[0m\u001b[1;32mNone\u001b[0m\u001b[1;33m)\u001b[0m\u001b[1;33m\u001b[0m\u001b[1;33m\u001b[0m\u001b[0m\n",
       "\u001b[1;31mDocstring:\u001b[0m\n",
       "Return a new array of given shape and type, filled with ones.\n",
       "\n",
       "Parameters\n",
       "----------\n",
       "shape : int or sequence of ints\n",
       "    Shape of the new array, e.g., ``(2, 3)`` or ``2``.\n",
       "dtype : data-type, optional\n",
       "    The desired data-type for the array, e.g., `numpy.int8`.  Default is\n",
       "    `numpy.float64`.\n",
       "order : {'C', 'F'}, optional, default: C\n",
       "    Whether to store multi-dimensional data in row-major\n",
       "    (C-style) or column-major (Fortran-style) order in\n",
       "    memory.\n",
       "like : array_like, optional\n",
       "    Reference object to allow the creation of arrays which are not\n",
       "    NumPy arrays. If an array-like passed in as ``like`` supports\n",
       "    the ``__array_function__`` protocol, the result will be defined\n",
       "    by it. In this case, it ensures the creation of an array object\n",
       "    compatible with that passed in via this argument.\n",
       "\n",
       "    .. versionadded:: 1.20.0\n",
       "\n",
       "Returns\n",
       "-------\n",
       "out : ndarray\n",
       "    Array of ones with the given shape, dtype, and order.\n",
       "\n",
       "See Also\n",
       "--------\n",
       "ones_like : Return an array of ones with shape and type of input.\n",
       "empty : Return a new uninitialized array.\n",
       "zeros : Return a new array setting values to zero.\n",
       "full : Return a new array of given shape filled with value.\n",
       "\n",
       "\n",
       "Examples\n",
       "--------\n",
       ">>> np.ones(5)\n",
       "array([1., 1., 1., 1., 1.])\n",
       "\n",
       ">>> np.ones((5,), dtype=int)\n",
       "array([1, 1, 1, 1, 1])\n",
       "\n",
       ">>> np.ones((2, 1))\n",
       "array([[1.],\n",
       "       [1.]])\n",
       "\n",
       ">>> s = (2,2)\n",
       ">>> np.ones(s)\n",
       "array([[1.,  1.],\n",
       "       [1.,  1.]])\n",
       "\u001b[1;31mFile:\u001b[0m      c:\\users\\user\\anaconda3\\lib\\site-packages\\numpy\\core\\numeric.py\n",
       "\u001b[1;31mType:\u001b[0m      function"
      ]
     },
     "metadata": {},
     "output_type": "display_data"
    }
   ],
   "source": [
    "np.ones?"
   ]
  },
  {
   "cell_type": "code",
   "execution_count": 63,
   "id": "04b47791-dc95-4dff-88f7-2dddb035f35c",
   "metadata": {},
   "outputs": [
    {
     "name": "stdout",
     "output_type": "stream",
     "text": [
      "[1 1 1 1 1 1 1 1 1 1] int32\n"
     ]
    }
   ],
   "source": [
    "print(np.ones(10, dtype = int), np.ones(10, dtype = int).dtype)"
   ]
  },
  {
   "cell_type": "code",
   "execution_count": 64,
   "id": "2f763813-34ce-4d47-9697-2b53af759d37",
   "metadata": {},
   "outputs": [
    {
     "name": "stdout",
     "output_type": "stream",
     "text": [
      "[0. 0. 0. 0. 0. 0. 0. 0. 0. 0.] float64\n"
     ]
    }
   ],
   "source": [
    "# 0으로 메모리 초기화\n",
    "print(np.zeros(10), np.zeros(10).dtype)"
   ]
  },
  {
   "cell_type": "code",
   "execution_count": 65,
   "id": "3a34f30e-a345-4f2c-9ecd-38abb1ad7bfc",
   "metadata": {},
   "outputs": [
    {
     "name": "stdout",
     "output_type": "stream",
     "text": [
      "[[0. 0. 0.]\n",
      " [0. 0. 0.]\n",
      " [0. 0. 0.]] float64\n"
     ]
    }
   ],
   "source": [
    "print(np.zeros((3,3)), np.zeros((3,3)).dtype)"
   ]
  },
  {
   "cell_type": "code",
   "execution_count": 66,
   "id": "aeb77b01-21a3-4f62-8e3b-9675b562c9a8",
   "metadata": {
    "collapsed": true,
    "jupyter": {
     "outputs_hidden": true
    }
   },
   "outputs": [
    {
     "data": {
      "text/plain": [
       "\u001b[1;31mDocstring:\u001b[0m\n",
       "empty(shape, dtype=float, order='C', *, like=None)\n",
       "\n",
       "Return a new array of given shape and type, without initializing entries.\n",
       "\n",
       "Parameters\n",
       "----------\n",
       "shape : int or tuple of int\n",
       "    Shape of the empty array, e.g., ``(2, 3)`` or ``2``.\n",
       "dtype : data-type, optional\n",
       "    Desired output data-type for the array, e.g, `numpy.int8`. Default is\n",
       "    `numpy.float64`.\n",
       "order : {'C', 'F'}, optional, default: 'C'\n",
       "    Whether to store multi-dimensional data in row-major\n",
       "    (C-style) or column-major (Fortran-style) order in\n",
       "    memory.\n",
       "like : array_like, optional\n",
       "    Reference object to allow the creation of arrays which are not\n",
       "    NumPy arrays. If an array-like passed in as ``like`` supports\n",
       "    the ``__array_function__`` protocol, the result will be defined\n",
       "    by it. In this case, it ensures the creation of an array object\n",
       "    compatible with that passed in via this argument.\n",
       "\n",
       "    .. versionadded:: 1.20.0\n",
       "\n",
       "Returns\n",
       "-------\n",
       "out : ndarray\n",
       "    Array of uninitialized (arbitrary) data of the given shape, dtype, and\n",
       "    order.  Object arrays will be initialized to None.\n",
       "\n",
       "See Also\n",
       "--------\n",
       "empty_like : Return an empty array with shape and type of input.\n",
       "ones : Return a new array setting values to one.\n",
       "zeros : Return a new array setting values to zero.\n",
       "full : Return a new array of given shape filled with value.\n",
       "\n",
       "\n",
       "Notes\n",
       "-----\n",
       "`empty`, unlike `zeros`, does not set the array values to zero,\n",
       "and may therefore be marginally faster.  On the other hand, it requires\n",
       "the user to manually set all the values in the array, and should be\n",
       "used with caution.\n",
       "\n",
       "Examples\n",
       "--------\n",
       ">>> np.empty([2, 2])\n",
       "array([[ -9.74499359e+001,   6.69583040e-309],\n",
       "       [  2.13182611e-314,   3.06959433e-309]])         #uninitialized\n",
       "\n",
       ">>> np.empty([2, 2], dtype=int)\n",
       "array([[-1073741821, -1067949133],\n",
       "       [  496041986,    19249760]])                     #uninitialized\n",
       "\u001b[1;31mType:\u001b[0m      builtin_function_or_method"
      ]
     },
     "metadata": {},
     "output_type": "display_data"
    }
   ],
   "source": [
    "np.empty?"
   ]
  },
  {
   "cell_type": "code",
   "execution_count": 10,
   "id": "a5f354ae-38d3-43c0-a99f-92c1a63907fe",
   "metadata": {},
   "outputs": [
    {
     "ename": "NameError",
     "evalue": "name 'np' is not defined",
     "output_type": "error",
     "traceback": [
      "\u001b[1;31m---------------------------------------------------------------------------\u001b[0m",
      "\u001b[1;31mNameError\u001b[0m                                 Traceback (most recent call last)",
      "Cell \u001b[1;32mIn[10], line 2\u001b[0m\n\u001b[0;32m      1\u001b[0m \u001b[38;5;66;03m# 메모리가 비어있음 -> 메모리가 초기화 되지 않는다.\u001b[39;00m\n\u001b[1;32m----> 2\u001b[0m \u001b[38;5;28mprint\u001b[39m(np\u001b[38;5;241m.\u001b[39mempty(\u001b[38;5;241m10\u001b[39m), np\u001b[38;5;241m.\u001b[39mempty(\u001b[38;5;241m10\u001b[39m)\u001b[38;5;241m.\u001b[39mdtype)\n\u001b[0;32m      3\u001b[0m \u001b[38;5;28mprint\u001b[39m(np\u001b[38;5;241m.\u001b[39mempty((\u001b[38;5;241m3\u001b[39m,\u001b[38;5;241m3\u001b[39m)), np\u001b[38;5;241m.\u001b[39mempty((\u001b[38;5;241m3\u001b[39m,\u001b[38;5;241m3\u001b[39m))\u001b[38;5;241m.\u001b[39mdtype)\n\u001b[0;32m      4\u001b[0m \u001b[38;5;28mprint\u001b[39m(np\u001b[38;5;241m.\u001b[39mempty((\u001b[38;5;241m3\u001b[39m,\u001b[38;5;241m3\u001b[39m)))\n",
      "\u001b[1;31mNameError\u001b[0m: name 'np' is not defined"
     ]
    }
   ],
   "source": [
    "# 메모리가 비어있음 -> 메모리가 초기화 되지 않는다.\n",
    "print(np.empty(10), np.empty(10).dtype)\n",
    "print(np.empty((3,3)), np.empty((3,3)).dtype)\n",
    "print(np.empty((3,3)))\n",
    "print(np.empty((3,3), dtype=int))  # 기존 메모리에 있던 값을 출력한다.(정확히 알수 없음)"
   ]
  },
  {
   "cell_type": "code",
   "execution_count": 9,
   "id": "8b94af8f-e816-4a2d-a259-6dae43c2b751",
   "metadata": {},
   "outputs": [
    {
     "name": "stdout",
     "output_type": "stream",
     "text": [
      "[1, 2, 3, 4, 5, 6, 7, 8, 9, 10, 11, 12, 13, 14, 15, 16, 17, 18, 19, 20] <class 'list'>\n"
     ]
    }
   ],
   "source": [
    "# 리스트+레인지\n",
    "print( list(range(1,21)), type(list(range(1,21))) )"
   ]
  },
  {
   "cell_type": "code",
   "execution_count": 8,
   "id": "8752a064-0c3a-4e4b-9277-d85377d7c77d",
   "metadata": {},
   "outputs": [
    {
     "ename": "NameError",
     "evalue": "name 'np' is not defined",
     "output_type": "error",
     "traceback": [
      "\u001b[1;31m---------------------------------------------------------------------------\u001b[0m",
      "\u001b[1;31mNameError\u001b[0m                                 Traceback (most recent call last)",
      "Cell \u001b[1;32mIn[8], line 2\u001b[0m\n\u001b[0;32m      1\u001b[0m \u001b[38;5;66;03m# 1~20으로 구성된 4행 5열의 넘파이 배열print(np.array(list(range(1,21))), type(list(range(1,21))))\u001b[39;00m\n\u001b[1;32m----> 2\u001b[0m \u001b[38;5;28mprint\u001b[39m(np\u001b[38;5;241m.\u001b[39marange(\u001b[38;5;241m20\u001b[39m), \u001b[38;5;28mtype\u001b[39m(np\u001b[38;5;241m.\u001b[39marange(\u001b[38;5;241m20\u001b[39m)))\n\u001b[0;32m      3\u001b[0m \u001b[38;5;28mprint\u001b[39m(np\u001b[38;5;241m.\u001b[39marange(\u001b[38;5;241m1\u001b[39m, \u001b[38;5;241m20\u001b[39m), \u001b[38;5;28mtype\u001b[39m(np\u001b[38;5;241m.\u001b[39marange(\u001b[38;5;241m1\u001b[39m, \u001b[38;5;241m20\u001b[39m)))\n\u001b[0;32m      4\u001b[0m \u001b[38;5;28mprint\u001b[39m(np\u001b[38;5;241m.\u001b[39marange(\u001b[38;5;241m1\u001b[39m, \u001b[38;5;241m20\u001b[39m, \u001b[38;5;241m2\u001b[39m), \u001b[38;5;28mtype\u001b[39m(np\u001b[38;5;241m.\u001b[39marange(\u001b[38;5;241m1\u001b[39m, \u001b[38;5;241m20\u001b[39m,\u001b[38;5;241m2\u001b[39m)))\n",
      "\u001b[1;31mNameError\u001b[0m: name 'np' is not defined"
     ]
    }
   ],
   "source": [
    "# 1~20으로 구성된 4행 5열의 넘파이 배열print(np.array(list(range(1,21))), type(list(range(1,21))))\n",
    "print(np.arange(20), type(np.arange(20)))\n",
    "print(np.arange(1, 20), type(np.arange(1, 20)))\n",
    "print(np.arange(1, 20, 2), type(np.arange(1, 20,2)))"
   ]
  },
  {
   "cell_type": "code",
   "execution_count": 70,
   "id": "d015e058-1cb4-4ecc-9859-fbefb3c5f284",
   "metadata": {},
   "outputs": [
    {
     "name": "stdout",
     "output_type": "stream",
     "text": [
      "[ 0  1  2  3  4  5  6  7  8  9 10 11 12 13 14 15 16 17 18 19 20 21 22 23\n",
      " 24 25 26 27 28 29 30 31 32 33 34 35 36 37 38 39 40 41 42 43 44 45 46 47\n",
      " 48 49] 50 50\n"
     ]
    }
   ],
   "source": [
    "# 0~49까지 구성된 넘파이 배열\n",
    "arr = np.arange(50)\n",
    "print(arr, len(arr), arr.size)"
   ]
  },
  {
   "cell_type": "code",
   "execution_count": 71,
   "id": "d223234e-a06e-4dde-8804-54ab3cffe71d",
   "metadata": {},
   "outputs": [
    {
     "data": {
      "text/plain": [
       "array([  0.,  25.,  50.,  75., 100.])"
      ]
     },
     "execution_count": 71,
     "metadata": {},
     "output_type": "execute_result"
    }
   ],
   "source": [
    "# linspace 명령이나 logspace 명령은 선형 구간 혹은 로그 구간을 지정한 구간의 수만큼 분할한다.\n",
    "np.linspace(0, 100, 5)  # 시작, 끝(포함), 갯수"
   ]
  },
  {
   "cell_type": "code",
   "execution_count": 72,
   "id": "33469f0b-a970-4e68-9cc0-65a51284faa5",
   "metadata": {
    "collapsed": true,
    "jupyter": {
     "outputs_hidden": true
    }
   },
   "outputs": [
    {
     "data": {
      "text/plain": [
       "\u001b[1;31mSignature:\u001b[0m      \n",
       "\u001b[0mnp\u001b[0m\u001b[1;33m.\u001b[0m\u001b[0mlinspace\u001b[0m\u001b[1;33m(\u001b[0m\u001b[1;33m\n",
       "\u001b[0m    \u001b[0mstart\u001b[0m\u001b[1;33m,\u001b[0m\u001b[1;33m\n",
       "\u001b[0m    \u001b[0mstop\u001b[0m\u001b[1;33m,\u001b[0m\u001b[1;33m\n",
       "\u001b[0m    \u001b[0mnum\u001b[0m\u001b[1;33m=\u001b[0m\u001b[1;36m50\u001b[0m\u001b[1;33m,\u001b[0m\u001b[1;33m\n",
       "\u001b[0m    \u001b[0mendpoint\u001b[0m\u001b[1;33m=\u001b[0m\u001b[1;32mTrue\u001b[0m\u001b[1;33m,\u001b[0m\u001b[1;33m\n",
       "\u001b[0m    \u001b[0mretstep\u001b[0m\u001b[1;33m=\u001b[0m\u001b[1;32mFalse\u001b[0m\u001b[1;33m,\u001b[0m\u001b[1;33m\n",
       "\u001b[0m    \u001b[0mdtype\u001b[0m\u001b[1;33m=\u001b[0m\u001b[1;32mNone\u001b[0m\u001b[1;33m,\u001b[0m\u001b[1;33m\n",
       "\u001b[0m    \u001b[0maxis\u001b[0m\u001b[1;33m=\u001b[0m\u001b[1;36m0\u001b[0m\u001b[1;33m,\u001b[0m\u001b[1;33m\n",
       "\u001b[0m\u001b[1;33m)\u001b[0m\u001b[1;33m\u001b[0m\u001b[1;33m\u001b[0m\u001b[0m\n",
       "\u001b[1;31mCall signature:\u001b[0m  \u001b[0mnp\u001b[0m\u001b[1;33m.\u001b[0m\u001b[0mlinspace\u001b[0m\u001b[1;33m(\u001b[0m\u001b[1;33m*\u001b[0m\u001b[0margs\u001b[0m\u001b[1;33m,\u001b[0m \u001b[1;33m**\u001b[0m\u001b[0mkwargs\u001b[0m\u001b[1;33m)\u001b[0m\u001b[1;33m\u001b[0m\u001b[1;33m\u001b[0m\u001b[0m\n",
       "\u001b[1;31mType:\u001b[0m            _ArrayFunctionDispatcher\n",
       "\u001b[1;31mString form:\u001b[0m     <function linspace at 0x000001697A9BE8E0>\n",
       "\u001b[1;31mFile:\u001b[0m            c:\\users\\user\\anaconda3\\lib\\site-packages\\numpy\\core\\function_base.py\n",
       "\u001b[1;31mDocstring:\u001b[0m      \n",
       "Return evenly spaced numbers over a specified interval.\n",
       "\n",
       "Returns `num` evenly spaced samples, calculated over the\n",
       "interval [`start`, `stop`].\n",
       "\n",
       "The endpoint of the interval can optionally be excluded.\n",
       "\n",
       ".. versionchanged:: 1.16.0\n",
       "    Non-scalar `start` and `stop` are now supported.\n",
       "\n",
       ".. versionchanged:: 1.20.0\n",
       "    Values are rounded towards ``-inf`` instead of ``0`` when an\n",
       "    integer ``dtype`` is specified. The old behavior can\n",
       "    still be obtained with ``np.linspace(start, stop, num).astype(int)``\n",
       "\n",
       "Parameters\n",
       "----------\n",
       "start : array_like\n",
       "    The starting value of the sequence.\n",
       "stop : array_like\n",
       "    The end value of the sequence, unless `endpoint` is set to False.\n",
       "    In that case, the sequence consists of all but the last of ``num + 1``\n",
       "    evenly spaced samples, so that `stop` is excluded.  Note that the step\n",
       "    size changes when `endpoint` is False.\n",
       "num : int, optional\n",
       "    Number of samples to generate. Default is 50. Must be non-negative.\n",
       "endpoint : bool, optional\n",
       "    If True, `stop` is the last sample. Otherwise, it is not included.\n",
       "    Default is True.\n",
       "retstep : bool, optional\n",
       "    If True, return (`samples`, `step`), where `step` is the spacing\n",
       "    between samples.\n",
       "dtype : dtype, optional\n",
       "    The type of the output array.  If `dtype` is not given, the data type\n",
       "    is inferred from `start` and `stop`. The inferred dtype will never be\n",
       "    an integer; `float` is chosen even if the arguments would produce an\n",
       "    array of integers.\n",
       "\n",
       "    .. versionadded:: 1.9.0\n",
       "\n",
       "axis : int, optional\n",
       "    The axis in the result to store the samples.  Relevant only if start\n",
       "    or stop are array-like.  By default (0), the samples will be along a\n",
       "    new axis inserted at the beginning. Use -1 to get an axis at the end.\n",
       "\n",
       "    .. versionadded:: 1.16.0\n",
       "\n",
       "Returns\n",
       "-------\n",
       "samples : ndarray\n",
       "    There are `num` equally spaced samples in the closed interval\n",
       "    ``[start, stop]`` or the half-open interval ``[start, stop)``\n",
       "    (depending on whether `endpoint` is True or False).\n",
       "step : float, optional\n",
       "    Only returned if `retstep` is True\n",
       "\n",
       "    Size of spacing between samples.\n",
       "\n",
       "\n",
       "See Also\n",
       "--------\n",
       "arange : Similar to `linspace`, but uses a step size (instead of the\n",
       "         number of samples).\n",
       "geomspace : Similar to `linspace`, but with numbers spaced evenly on a log\n",
       "            scale (a geometric progression).\n",
       "logspace : Similar to `geomspace`, but with the end points specified as\n",
       "           logarithms.\n",
       ":ref:`how-to-partition`\n",
       "\n",
       "Examples\n",
       "--------\n",
       ">>> np.linspace(2.0, 3.0, num=5)\n",
       "array([2.  , 2.25, 2.5 , 2.75, 3.  ])\n",
       ">>> np.linspace(2.0, 3.0, num=5, endpoint=False)\n",
       "array([2. ,  2.2,  2.4,  2.6,  2.8])\n",
       ">>> np.linspace(2.0, 3.0, num=5, retstep=True)\n",
       "(array([2.  ,  2.25,  2.5 ,  2.75,  3.  ]), 0.25)\n",
       "\n",
       "Graphical illustration:\n",
       "\n",
       ">>> import matplotlib.pyplot as plt\n",
       ">>> N = 8\n",
       ">>> y = np.zeros(N)\n",
       ">>> x1 = np.linspace(0, 10, N, endpoint=True)\n",
       ">>> x2 = np.linspace(0, 10, N, endpoint=False)\n",
       ">>> plt.plot(x1, y, 'o')\n",
       "[<matplotlib.lines.Line2D object at 0x...>]\n",
       ">>> plt.plot(x2, y + 0.5, 'o')\n",
       "[<matplotlib.lines.Line2D object at 0x...>]\n",
       ">>> plt.ylim([-0.5, 1])\n",
       "(-0.5, 1)\n",
       ">>> plt.show()\n",
       "\u001b[1;31mClass docstring:\u001b[0m\n",
       "Class to wrap functions with checks for __array_function__ overrides.\n",
       "\n",
       "All arguments are required, and can only be passed by position.\n",
       "\n",
       "Parameters\n",
       "----------\n",
       "dispatcher : function or None\n",
       "    The dispatcher function that returns a single sequence-like object\n",
       "    of all arguments relevant.  It must have the same signature (except\n",
       "    the default values) as the actual implementation.\n",
       "    If ``None``, this is a ``like=`` dispatcher and the\n",
       "    ``_ArrayFunctionDispatcher`` must be called with ``like`` as the\n",
       "    first (additional and positional) argument.\n",
       "implementation : function\n",
       "    Function that implements the operation on NumPy arrays without\n",
       "    overrides.  Arguments passed calling the ``_ArrayFunctionDispatcher``\n",
       "    will be forwarded to this (and the ``dispatcher``) as if using\n",
       "    ``*args, **kwargs``.\n",
       "\n",
       "Attributes\n",
       "----------\n",
       "_implementation : function\n",
       "    The original implementation passed in."
      ]
     },
     "metadata": {},
     "output_type": "display_data"
    }
   ],
   "source": [
    "np.linspace?"
   ]
  },
  {
   "cell_type": "code",
   "execution_count": 73,
   "id": "3343c488-4125-45e8-a66b-3e522571f2c4",
   "metadata": {
    "collapsed": true,
    "jupyter": {
     "outputs_hidden": true
    }
   },
   "outputs": [
    {
     "data": {
      "text/plain": [
       "\u001b[1;31mSignature:\u001b[0m      \n",
       "\u001b[0mnp\u001b[0m\u001b[1;33m.\u001b[0m\u001b[0mlogspace\u001b[0m\u001b[1;33m(\u001b[0m\u001b[1;33m\n",
       "\u001b[0m    \u001b[0mstart\u001b[0m\u001b[1;33m,\u001b[0m\u001b[1;33m\n",
       "\u001b[0m    \u001b[0mstop\u001b[0m\u001b[1;33m,\u001b[0m\u001b[1;33m\n",
       "\u001b[0m    \u001b[0mnum\u001b[0m\u001b[1;33m=\u001b[0m\u001b[1;36m50\u001b[0m\u001b[1;33m,\u001b[0m\u001b[1;33m\n",
       "\u001b[0m    \u001b[0mendpoint\u001b[0m\u001b[1;33m=\u001b[0m\u001b[1;32mTrue\u001b[0m\u001b[1;33m,\u001b[0m\u001b[1;33m\n",
       "\u001b[0m    \u001b[0mbase\u001b[0m\u001b[1;33m=\u001b[0m\u001b[1;36m10.0\u001b[0m\u001b[1;33m,\u001b[0m\u001b[1;33m\n",
       "\u001b[0m    \u001b[0mdtype\u001b[0m\u001b[1;33m=\u001b[0m\u001b[1;32mNone\u001b[0m\u001b[1;33m,\u001b[0m\u001b[1;33m\n",
       "\u001b[0m    \u001b[0maxis\u001b[0m\u001b[1;33m=\u001b[0m\u001b[1;36m0\u001b[0m\u001b[1;33m,\u001b[0m\u001b[1;33m\n",
       "\u001b[0m\u001b[1;33m)\u001b[0m\u001b[1;33m\u001b[0m\u001b[1;33m\u001b[0m\u001b[0m\n",
       "\u001b[1;31mCall signature:\u001b[0m  \u001b[0mnp\u001b[0m\u001b[1;33m.\u001b[0m\u001b[0mlogspace\u001b[0m\u001b[1;33m(\u001b[0m\u001b[1;33m*\u001b[0m\u001b[0margs\u001b[0m\u001b[1;33m,\u001b[0m \u001b[1;33m**\u001b[0m\u001b[0mkwargs\u001b[0m\u001b[1;33m)\u001b[0m\u001b[1;33m\u001b[0m\u001b[1;33m\u001b[0m\u001b[0m\n",
       "\u001b[1;31mType:\u001b[0m            _ArrayFunctionDispatcher\n",
       "\u001b[1;31mString form:\u001b[0m     <function logspace at 0x000001697A9BEAC0>\n",
       "\u001b[1;31mFile:\u001b[0m            c:\\users\\user\\anaconda3\\lib\\site-packages\\numpy\\core\\function_base.py\n",
       "\u001b[1;31mDocstring:\u001b[0m      \n",
       "Return numbers spaced evenly on a log scale.\n",
       "\n",
       "In linear space, the sequence starts at ``base ** start``\n",
       "(`base` to the power of `start`) and ends with ``base ** stop``\n",
       "(see `endpoint` below).\n",
       "\n",
       ".. versionchanged:: 1.16.0\n",
       "    Non-scalar `start` and `stop` are now supported.\n",
       "\n",
       ".. versionchanged:: 1.25.0\n",
       "    Non-scalar 'base` is now supported\n",
       "\n",
       "Parameters\n",
       "----------\n",
       "start : array_like\n",
       "    ``base ** start`` is the starting value of the sequence.\n",
       "stop : array_like\n",
       "    ``base ** stop`` is the final value of the sequence, unless `endpoint`\n",
       "    is False.  In that case, ``num + 1`` values are spaced over the\n",
       "    interval in log-space, of which all but the last (a sequence of\n",
       "    length `num`) are returned.\n",
       "num : integer, optional\n",
       "    Number of samples to generate.  Default is 50.\n",
       "endpoint : boolean, optional\n",
       "    If true, `stop` is the last sample. Otherwise, it is not included.\n",
       "    Default is True.\n",
       "base : array_like, optional\n",
       "    The base of the log space. The step size between the elements in\n",
       "    ``ln(samples) / ln(base)`` (or ``log_base(samples)``) is uniform.\n",
       "    Default is 10.0.\n",
       "dtype : dtype\n",
       "    The type of the output array.  If `dtype` is not given, the data type\n",
       "    is inferred from `start` and `stop`. The inferred type will never be\n",
       "    an integer; `float` is chosen even if the arguments would produce an\n",
       "    array of integers.\n",
       "axis : int, optional\n",
       "    The axis in the result to store the samples.  Relevant only if start,\n",
       "    stop, or base are array-like.  By default (0), the samples will be\n",
       "    along a new axis inserted at the beginning. Use -1 to get an axis at\n",
       "    the end.\n",
       "\n",
       "    .. versionadded:: 1.16.0\n",
       "\n",
       "\n",
       "Returns\n",
       "-------\n",
       "samples : ndarray\n",
       "    `num` samples, equally spaced on a log scale.\n",
       "\n",
       "See Also\n",
       "--------\n",
       "arange : Similar to linspace, with the step size specified instead of the\n",
       "         number of samples. Note that, when used with a float endpoint, the\n",
       "         endpoint may or may not be included.\n",
       "linspace : Similar to logspace, but with the samples uniformly distributed\n",
       "           in linear space, instead of log space.\n",
       "geomspace : Similar to logspace, but with endpoints specified directly.\n",
       ":ref:`how-to-partition`\n",
       "\n",
       "Notes\n",
       "-----\n",
       "If base is a scalar, logspace is equivalent to the code\n",
       "\n",
       ">>> y = np.linspace(start, stop, num=num, endpoint=endpoint)\n",
       "... # doctest: +SKIP\n",
       ">>> power(base, y).astype(dtype)\n",
       "... # doctest: +SKIP\n",
       "\n",
       "Examples\n",
       "--------\n",
       ">>> np.logspace(2.0, 3.0, num=4)\n",
       "array([ 100.        ,  215.443469  ,  464.15888336, 1000.        ])\n",
       ">>> np.logspace(2.0, 3.0, num=4, endpoint=False)\n",
       "array([100.        ,  177.827941  ,  316.22776602,  562.34132519])\n",
       ">>> np.logspace(2.0, 3.0, num=4, base=2.0)\n",
       "array([4.        ,  5.0396842 ,  6.34960421,  8.        ])\n",
       ">>> np.logspace(2.0, 3.0, num=4, base=[2.0, 3.0], axis=-1)\n",
       "array([[ 4.        ,  5.0396842 ,  6.34960421,  8.        ],\n",
       "       [ 9.        , 12.98024613, 18.72075441, 27.        ]])\n",
       "\n",
       "Graphical illustration:\n",
       "\n",
       ">>> import matplotlib.pyplot as plt\n",
       ">>> N = 10\n",
       ">>> x1 = np.logspace(0.1, 1, N, endpoint=True)\n",
       ">>> x2 = np.logspace(0.1, 1, N, endpoint=False)\n",
       ">>> y = np.zeros(N)\n",
       ">>> plt.plot(x1, y, 'o')\n",
       "[<matplotlib.lines.Line2D object at 0x...>]\n",
       ">>> plt.plot(x2, y + 0.5, 'o')\n",
       "[<matplotlib.lines.Line2D object at 0x...>]\n",
       ">>> plt.ylim([-0.5, 1])\n",
       "(-0.5, 1)\n",
       ">>> plt.show()\n",
       "\u001b[1;31mClass docstring:\u001b[0m\n",
       "Class to wrap functions with checks for __array_function__ overrides.\n",
       "\n",
       "All arguments are required, and can only be passed by position.\n",
       "\n",
       "Parameters\n",
       "----------\n",
       "dispatcher : function or None\n",
       "    The dispatcher function that returns a single sequence-like object\n",
       "    of all arguments relevant.  It must have the same signature (except\n",
       "    the default values) as the actual implementation.\n",
       "    If ``None``, this is a ``like=`` dispatcher and the\n",
       "    ``_ArrayFunctionDispatcher`` must be called with ``like`` as the\n",
       "    first (additional and positional) argument.\n",
       "implementation : function\n",
       "    Function that implements the operation on NumPy arrays without\n",
       "    overrides.  Arguments passed calling the ``_ArrayFunctionDispatcher``\n",
       "    will be forwarded to this (and the ``dispatcher``) as if using\n",
       "    ``*args, **kwargs``.\n",
       "\n",
       "Attributes\n",
       "----------\n",
       "_implementation : function\n",
       "    The original implementation passed in."
      ]
     },
     "metadata": {},
     "output_type": "display_data"
    }
   ],
   "source": [
    "np.logspace?"
   ]
  },
  {
   "cell_type": "code",
   "execution_count": 74,
   "id": "5c764f04-89a6-407b-b4d9-0f17903d32be",
   "metadata": {},
   "outputs": [
    {
     "data": {
      "text/plain": [
       "array([ 1.25892541,  1.58489319,  1.99526231,  2.51188643,  3.16227766,\n",
       "        3.98107171,  5.01187234,  6.30957344,  7.94328235, 10.        ])"
      ]
     },
     "execution_count": 74,
     "metadata": {},
     "output_type": "execute_result"
    }
   ],
   "source": [
    "np.logspace(0.1, 1, 10)\n"
   ]
  },
  {
   "cell_type": "markdown",
   "id": "22fe35ce-78bb-4a27-81f7-3560f3eae3e2",
   "metadata": {},
   "source": [
    "## reshape 구조의 재배열\n",
    "reshape함수는 np.reshape(변경할 배열, 차원) 또는 배열.reshape(차원)으로 사용 할 수 있으며,\n",
    "현재의 배열의 차원(1차원,2차원,3차원)을 변경하여 행렬을 반환하거나 하는 경우에 많이 이용되는 함수이다."
   ]
  },
  {
   "cell_type": "code",
   "execution_count": 5,
   "id": "052f2e7a-1cc3-4681-92e5-ccee764c424c",
   "metadata": {},
   "outputs": [
    {
     "ename": "NameError",
     "evalue": "name 'np' is not defined",
     "output_type": "error",
     "traceback": [
      "\u001b[1;31m---------------------------------------------------------------------------\u001b[0m",
      "\u001b[1;31mNameError\u001b[0m                                 Traceback (most recent call last)",
      "Cell \u001b[1;32mIn[5], line 2\u001b[0m\n\u001b[0;32m      1\u001b[0m \u001b[38;5;66;03m# 0~49까지 구성된 넘파이 배열\u001b[39;00m\n\u001b[1;32m----> 2\u001b[0m arr \u001b[38;5;241m=\u001b[39m np\u001b[38;5;241m.\u001b[39marange(\u001b[38;5;241m50\u001b[39m)\n\u001b[0;32m      3\u001b[0m \u001b[38;5;28mprint\u001b[39m(arr, \u001b[38;5;28mlen\u001b[39m(arr), arr\u001b[38;5;241m.\u001b[39msize)\n",
      "\u001b[1;31mNameError\u001b[0m: name 'np' is not defined"
     ]
    }
   ],
   "source": [
    "# 0~49까지 구성된 넘파이 배열\n",
    "arr = np.arange(50)\n",
    "print(arr, len(arr), arr.size)"
   ]
  },
  {
   "cell_type": "code",
   "execution_count": 80,
   "id": "16ecf5ff-b41b-490f-b8a7-15ecbe7007cb",
   "metadata": {},
   "outputs": [
    {
     "data": {
      "text/plain": [
       "(array([ 0,  1,  2,  3,  4,  5,  6,  7,  8,  9, 10, 11, 12, 13, 14, 15, 16,\n",
       "        17, 18, 19, 20, 21, 22, 23, 24, 25, 26, 27, 28, 29, 30, 31, 32, 33,\n",
       "        34, 35, 36, 37, 38, 39, 40, 41, 42, 43, 44, 45, 46, 47, 48, 49]),\n",
       " 1,\n",
       " (50,))"
      ]
     },
     "execution_count": 80,
     "metadata": {},
     "output_type": "execute_result"
    }
   ],
   "source": [
    "arr, arr.ndim, arr.shape"
   ]
  },
  {
   "cell_type": "code",
   "execution_count": 81,
   "id": "71ee8cdb-03e5-4468-a2c1-823eeda0c3da",
   "metadata": {},
   "outputs": [
    {
     "data": {
      "text/plain": [
       "(array([[ 0,  1,  2,  3,  4],\n",
       "        [ 5,  6,  7,  8,  9],\n",
       "        [10, 11, 12, 13, 14],\n",
       "        [15, 16, 17, 18, 19],\n",
       "        [20, 21, 22, 23, 24],\n",
       "        [25, 26, 27, 28, 29],\n",
       "        [30, 31, 32, 33, 34],\n",
       "        [35, 36, 37, 38, 39],\n",
       "        [40, 41, 42, 43, 44],\n",
       "        [45, 46, 47, 48, 49]]),\n",
       " 2,\n",
       " (10, 5))"
      ]
     },
     "execution_count": 81,
     "metadata": {},
     "output_type": "execute_result"
    }
   ],
   "source": [
    "arr = arr.reshape(10,5)\n",
    "arr, arr.ndim, arr.shape"
   ]
  },
  {
   "cell_type": "code",
   "execution_count": 85,
   "id": "66fbe038-2808-4b92-bb82-a6706933fc1e",
   "metadata": {},
   "outputs": [
    {
     "data": {
      "text/plain": [
       "(array([[ 0,  1,  2,  3,  4,  5,  6,  7,  8,  9],\n",
       "        [10, 11, 12, 13, 14, 15, 16, 17, 18, 19],\n",
       "        [20, 21, 22, 23, 24, 25, 26, 27, 28, 29],\n",
       "        [30, 31, 32, 33, 34, 35, 36, 37, 38, 39],\n",
       "        [40, 41, 42, 43, 44, 45, 46, 47, 48, 49]]),\n",
       " 2,\n",
       " (5, 10))"
      ]
     },
     "execution_count": 85,
     "metadata": {},
     "output_type": "execute_result"
    }
   ],
   "source": [
    "arr2 = arr.reshape(5,10)\n",
    "arr2, arr2.ndim, arr2.shape"
   ]
  },
  {
   "cell_type": "code",
   "execution_count": 86,
   "id": "1b0e7cba-b34b-4e27-84c6-4f518a747f06",
   "metadata": {},
   "outputs": [
    {
     "data": {
      "text/plain": [
       "(array([ 0,  1,  2,  3,  4,  5,  6,  7,  8,  9, 10, 11, 12, 13, 14, 15, 16,\n",
       "        17, 18, 19, 20, 21, 22, 23, 24, 25, 26, 27, 28, 29, 30, 31, 32, 33,\n",
       "        34, 35, 36, 37, 38, 39, 40, 41, 42, 43, 44, 45, 46, 47, 48, 49]),\n",
       " (50,),\n",
       " 1)"
      ]
     },
     "execution_count": 86,
     "metadata": {},
     "output_type": "execute_result"
    }
   ],
   "source": [
    "# 2차원 -> 1차원\n",
    "# 넘파이배열.flatten()\n",
    "arr3 = arr2.flatten()\n",
    "arr3, arr3.shape, arr3.ndim"
   ]
  },
  {
   "cell_type": "code",
   "execution_count": 87,
   "id": "2850ec25-fe4c-4eae-bcf3-cda0a07eae57",
   "metadata": {},
   "outputs": [
    {
     "data": {
      "text/plain": [
       "array([  2,   4,   6,   8,  10,  12,  14,  16,  18,  20,  22,  24,  26,\n",
       "        28,  30,  32,  34,  36,  38,  40,  42,  44,  46,  48,  50,  52,\n",
       "        54,  56,  58,  60,  62,  64,  66,  68,  70,  72,  74,  76,  78,\n",
       "        80,  82,  84,  86,  88,  90,  92,  94,  96,  98, 100])"
      ]
     },
     "execution_count": 87,
     "metadata": {},
     "output_type": "execute_result"
    }
   ],
   "source": [
    "# 1~100 사이의 짝수로 된 넘파이 배열 생성\n",
    "np.arange(2,101,2)"
   ]
  },
  {
   "cell_type": "code",
   "execution_count": 91,
   "id": "088437f1-ec63-4c16-a31e-2a1a52b5b6eb",
   "metadata": {},
   "outputs": [
    {
     "name": "stdout",
     "output_type": "stream",
     "text": [
      "[[  2   4   6   8  10]\n",
      " [ 12  14  16  18  20]\n",
      " [ 22  24  26  28  30]\n",
      " [ 32  34  36  38  40]\n",
      " [ 42  44  46  48  50]\n",
      " [ 52  54  56  58  60]\n",
      " [ 62  64  66  68  70]\n",
      " [ 72  74  76  78  80]\n",
      " [ 82  84  86  88  90]\n",
      " [ 92  94  96  98 100]]\n"
     ]
    }
   ],
   "source": [
    "print(np.arange(2,101,2).reshape(10,5))"
   ]
  },
  {
   "cell_type": "code",
   "execution_count": 88,
   "id": "15d23ea9-f029-4cd4-a7ce-7437ee157d95",
   "metadata": {},
   "outputs": [
    {
     "name": "stdout",
     "output_type": "stream",
     "text": [
      "[[  2   4   6   8  10  12  14  16  18  20]\n",
      " [ 22  24  26  28  30  32  34  36  38  40]\n",
      " [ 42  44  46  48  50  52  54  56  58  60]\n",
      " [ 62  64  66  68  70  72  74  76  78  80]\n",
      " [ 82  84  86  88  90  92  94  96  98 100]]\n"
     ]
    }
   ],
   "source": [
    "print(np.arange(2,101,2).reshape(5,10))"
   ]
  },
  {
   "cell_type": "code",
   "execution_count": 89,
   "id": "e1310689-f139-4fa8-9661-48b6746d0541",
   "metadata": {},
   "outputs": [
    {
     "data": {
      "text/plain": [
       "array([ 1,  2,  3,  4,  5,  6,  7,  8,  9, 10, 11, 12, 13, 14, 15, 16, 17,\n",
       "       18, 19, 20, 21, 22, 23, 24, 25, 26, 27, 28, 29, 30])"
      ]
     },
     "execution_count": 89,
     "metadata": {},
     "output_type": "execute_result"
    }
   ],
   "source": [
    "np.arange(1, 31)"
   ]
  },
  {
   "cell_type": "code",
   "execution_count": 90,
   "id": "24b07a97-8c05-4269-881a-91aacd55eb11",
   "metadata": {
    "scrolled": true
   },
   "outputs": [
    {
     "data": {
      "text/plain": [
       "(array([[ 1],\n",
       "        [ 2],\n",
       "        [ 3],\n",
       "        [ 4],\n",
       "        [ 5],\n",
       "        [ 6],\n",
       "        [ 7],\n",
       "        [ 8],\n",
       "        [ 9],\n",
       "        [10],\n",
       "        [11],\n",
       "        [12],\n",
       "        [13],\n",
       "        [14],\n",
       "        [15],\n",
       "        [16],\n",
       "        [17],\n",
       "        [18],\n",
       "        [19],\n",
       "        [20],\n",
       "        [21],\n",
       "        [22],\n",
       "        [23],\n",
       "        [24],\n",
       "        [25],\n",
       "        [26],\n",
       "        [27],\n",
       "        [28],\n",
       "        [29],\n",
       "        [30]]),\n",
       " 2,\n",
       " (30, 1))"
      ]
     },
     "execution_count": 90,
     "metadata": {},
     "output_type": "execute_result"
    }
   ],
   "source": [
    "# 2차원인데 1개 칼럼의 모형을 만들어보자\n",
    "# reshape(-1, n) : 2차원 n개의 컬럼으로 구성, -1을 넣으면 자동으로 사이즈를 맞춰준다.\n",
    "arr4 = np.arange(1, 31).reshape(-1, 1)\n",
    "arr4, arr4.ndim, arr4.shape"
   ]
  },
  {
   "cell_type": "code",
   "execution_count": 97,
   "id": "cd6e0626-bb9e-461f-b71d-ec122c079921",
   "metadata": {},
   "outputs": [
    {
     "name": "stdout",
     "output_type": "stream",
     "text": [
      "[[ 1  2  3  4]\n",
      " [ 5  6  7  8]\n",
      " [ 9 10 11 12]\n",
      " [13 14 15 16]\n",
      " [17 18 19 20]]\n"
     ]
    }
   ],
   "source": [
    "print(np.arange(1,21).reshape(5,-1))"
   ]
  },
  {
   "cell_type": "code",
   "execution_count": 98,
   "id": "fcecabf6-09a5-48ae-965e-752ed17bc5dc",
   "metadata": {},
   "outputs": [
    {
     "data": {
      "text/plain": [
       "(array([[0, 0, 0, 0, 0, 0, 0, 0, 0, 0, 0, 0],\n",
       "        [0, 0, 0, 0, 0, 0, 0, 0, 0, 0, 0, 0]]),\n",
       " (2, 12))"
      ]
     },
     "execution_count": 98,
     "metadata": {},
     "output_type": "execute_result"
    }
   ],
   "source": [
    "# 원본 값이 바뀜\n",
    "a.shape = 2, -1\n",
    "a, a.shape"
   ]
  },
  {
   "cell_type": "code",
   "execution_count": 99,
   "id": "d33f98a4-3e8d-46e3-bd34-97df3dee5c46",
   "metadata": {},
   "outputs": [
    {
     "data": {
      "text/plain": [
       "(array([[0, 0, 0, 0, 0, 0, 0, 0],\n",
       "        [0, 0, 0, 0, 0, 0, 0, 0],\n",
       "        [0, 0, 0, 0, 0, 0, 0, 0]]),\n",
       " (3, 8))"
      ]
     },
     "execution_count": 99,
     "metadata": {},
     "output_type": "execute_result"
    }
   ],
   "source": [
    "a.shape = 3, -1\n",
    "a, a.shape"
   ]
  },
  {
   "cell_type": "code",
   "execution_count": 100,
   "id": "d285e09f-6d02-428c-ad54-bd6f1070b2b7",
   "metadata": {
    "collapsed": true,
    "jupyter": {
     "outputs_hidden": true
    }
   },
   "outputs": [
    {
     "data": {
      "text/plain": [
       "(array([[0],\n",
       "        [0],\n",
       "        [0],\n",
       "        [0],\n",
       "        [0],\n",
       "        [0],\n",
       "        [0],\n",
       "        [0],\n",
       "        [0],\n",
       "        [0],\n",
       "        [0],\n",
       "        [0],\n",
       "        [0],\n",
       "        [0],\n",
       "        [0],\n",
       "        [0],\n",
       "        [0],\n",
       "        [0],\n",
       "        [0],\n",
       "        [0],\n",
       "        [0],\n",
       "        [0],\n",
       "        [0],\n",
       "        [0]]),\n",
       " (24, 1))"
      ]
     },
     "execution_count": 100,
     "metadata": {},
     "output_type": "execute_result"
    }
   ],
   "source": [
    "a.shape = -1, 1\n",
    "a, a.shape"
   ]
  },
  {
   "cell_type": "code",
   "execution_count": 101,
   "id": "996c2b76-f5d0-4314-9986-69076752f5ae",
   "metadata": {},
   "outputs": [
    {
     "data": {
      "text/plain": [
       "(array([[0, 0],\n",
       "        [0, 0],\n",
       "        [0, 0],\n",
       "        [0, 0],\n",
       "        [0, 0],\n",
       "        [0, 0],\n",
       "        [0, 0],\n",
       "        [0, 0],\n",
       "        [0, 0],\n",
       "        [0, 0],\n",
       "        [0, 0],\n",
       "        [0, 0]]),\n",
       " (12, 2))"
      ]
     },
     "execution_count": 101,
     "metadata": {},
     "output_type": "execute_result"
    }
   ],
   "source": [
    "a.shape = -1, 2\n",
    "a, a.shape"
   ]
  },
  {
   "cell_type": "code",
   "execution_count": 102,
   "id": "ab9c49b4-621b-43dd-b33d-b9805ef325cb",
   "metadata": {},
   "outputs": [
    {
     "data": {
      "text/plain": [
       "(array([ 0,  1,  2,  3,  4,  5,  6,  7,  8,  9, 10, 11]), (12,))"
      ]
     },
     "execution_count": 102,
     "metadata": {},
     "output_type": "execute_result"
    }
   ],
   "source": [
    "a = np.arange(12)\n",
    "a, a.shape"
   ]
  },
  {
   "cell_type": "code",
   "execution_count": 103,
   "id": "3d36c563-f542-49b8-a571-fd4fe66df466",
   "metadata": {},
   "outputs": [
    {
     "data": {
      "text/plain": [
       "(array([ 0,  1,  2,  3,  4,  5,  6,  7,  8,  9, 10, 11]), (12,))"
      ]
     },
     "execution_count": 103,
     "metadata": {},
     "output_type": "execute_result"
    }
   ],
   "source": [
    "# flatten\n",
    "a.shape = -1\n",
    "a, a.shape"
   ]
  },
  {
   "cell_type": "markdown",
   "id": "66b2ecba-8945-48bb-8bfd-237727e8ff1f",
   "metadata": {},
   "source": [
    "## 넘파이배열의 자료형 형변환\n",
    "배열명2 = 배열명1.astype(자료형)\n",
    "\n",
    "자료형 = np.float64, np.int32"
   ]
  },
  {
   "cell_type": "code",
   "execution_count": 105,
   "id": "8b2b8297-2889-4dd2-8f90-2ad4b7bce23e",
   "metadata": {},
   "outputs": [
    {
     "data": {
      "text/plain": [
       "(array([1, 2, 3, 4, 5, 6, 7, 8, 9]), dtype('int32'))"
      ]
     },
     "execution_count": 105,
     "metadata": {},
     "output_type": "execute_result"
    }
   ],
   "source": [
    "matrix1 = np.arange(1, 10)\n",
    "matrix1, matrix1.dtype"
   ]
  },
  {
   "cell_type": "code",
   "execution_count": 106,
   "id": "0c360fda-5bc6-4c30-9368-86b611b4dcf2",
   "metadata": {},
   "outputs": [
    {
     "data": {
      "text/plain": [
       "(array([[1, 2, 3],\n",
       "        [4, 5, 6],\n",
       "        [7, 8, 9]]),\n",
       " dtype('int32'))"
      ]
     },
     "execution_count": 106,
     "metadata": {},
     "output_type": "execute_result"
    }
   ],
   "source": [
    "# 정수형, 3행 3열\n",
    "matrix = np.arange(1, 10).reshape(3,3)\n",
    "matrix, matrix.dtype"
   ]
  },
  {
   "cell_type": "code",
   "execution_count": 107,
   "id": "e05beb09-8f3b-437c-b9b4-101100360274",
   "metadata": {},
   "outputs": [
    {
     "data": {
      "text/plain": [
       "(array([[1., 2., 3.],\n",
       "        [4., 5., 6.],\n",
       "        [7., 8., 9.]]),\n",
       " dtype('float64'))"
      ]
     },
     "execution_count": 107,
     "metadata": {},
     "output_type": "execute_result"
    }
   ],
   "source": [
    "# 실수형, 3행 3열\n",
    "matrix = np.arange(1, 10, dtype=float).reshape(3,3)\n",
    "matrix, matrix.dtype"
   ]
  },
  {
   "cell_type": "code",
   "execution_count": 108,
   "id": "13401ee3-972e-4070-bf34-a5a046092a4e",
   "metadata": {},
   "outputs": [
    {
     "ename": "TypeError",
     "evalue": "arange() not supported for inputs with DType <class 'numpy.dtypes.StrDType'>.",
     "output_type": "error",
     "traceback": [
      "\u001b[1;31m---------------------------------------------------------------------------\u001b[0m",
      "\u001b[1;31mTypeError\u001b[0m                                 Traceback (most recent call last)",
      "Cell \u001b[1;32mIn[108], line 2\u001b[0m\n\u001b[0;32m      1\u001b[0m \u001b[38;5;66;03m# 문자열형, 3행 3열 -> 불가\u001b[39;00m\n\u001b[1;32m----> 2\u001b[0m matrix \u001b[38;5;241m=\u001b[39m np\u001b[38;5;241m.\u001b[39marange(\u001b[38;5;241m1\u001b[39m, \u001b[38;5;241m10\u001b[39m, dtype\u001b[38;5;241m=\u001b[39m\u001b[38;5;124m'\u001b[39m\u001b[38;5;124mstr\u001b[39m\u001b[38;5;124m'\u001b[39m)\u001b[38;5;241m.\u001b[39mreshape(\u001b[38;5;241m3\u001b[39m,\u001b[38;5;241m3\u001b[39m)\n\u001b[0;32m      3\u001b[0m matrix, matrix\u001b[38;5;241m.\u001b[39mdtype\n",
      "\u001b[1;31mTypeError\u001b[0m: arange() not supported for inputs with DType <class 'numpy.dtypes.StrDType'>."
     ]
    }
   ],
   "source": [
    "# 문자열형, 3행 3열 -> 불가\n",
    "matrix = np.arange(1, 10, dtype='str').reshape(3,3)\n",
    "matrix, matrix.dtype"
   ]
  },
  {
   "cell_type": "code",
   "execution_count": 109,
   "id": "8d05cb4a-eec5-449c-a5e1-e10e8e4b9f00",
   "metadata": {},
   "outputs": [
    {
     "data": {
      "text/plain": [
       "array([['1.0', '2.0', '3.0'],\n",
       "       ['4.0', '5.0', '6.0'],\n",
       "       ['7.0', '8.0', '9.0']], dtype='<U5')"
      ]
     },
     "execution_count": 109,
     "metadata": {},
     "output_type": "execute_result"
    }
   ],
   "source": [
    "# 정수형 => 문자열\n",
    "matrix.astype('<U5')"
   ]
  },
  {
   "cell_type": "code",
   "execution_count": 110,
   "id": "a5a9a00a-0337-4b19-95f1-962008046cf6",
   "metadata": {},
   "outputs": [
    {
     "data": {
      "text/plain": [
       "(array([ True, False,  True,  True]), dtype('bool'))"
      ]
     },
     "execution_count": 110,
     "metadata": {},
     "output_type": "execute_result"
    }
   ],
   "source": [
    "# 논리형으로 구성된 넘파이 배열 생성\n",
    "matrix2 = np.array([True, False, True, True])\n",
    "matrix2, matrix2.dtype"
   ]
  },
  {
   "cell_type": "code",
   "execution_count": 111,
   "id": "aded8622-f206-48bf-8346-03240ec227c5",
   "metadata": {},
   "outputs": [
    {
     "data": {
      "text/plain": [
       "array([1, 0, 1, 1])"
      ]
     },
     "execution_count": 111,
     "metadata": {},
     "output_type": "execute_result"
    }
   ],
   "source": [
    "# 불린 -> 정수\n",
    "matrix2.astype(int)"
   ]
  },
  {
   "cell_type": "code",
   "execution_count": 112,
   "id": "4f218c25-93ac-4fdd-ac9a-87c10b97c066",
   "metadata": {},
   "outputs": [
    {
     "data": {
      "text/plain": [
       "array(['True', 'False', 'True', 'True'], dtype='<U5')"
      ]
     },
     "execution_count": 112,
     "metadata": {},
     "output_type": "execute_result"
    }
   ],
   "source": [
    "# 불린형 -> 문자열\n",
    "matrix2.astype('<U5')"
   ]
  },
  {
   "cell_type": "code",
   "execution_count": 113,
   "id": "dcf809d4-1544-43be-b6f9-23e0cc06d142",
   "metadata": {},
   "outputs": [
    {
     "data": {
      "text/plain": [
       "(array(['3.14', '5.5', '0.78'], dtype='<U4'), dtype('<U4'))"
      ]
     },
     "execution_count": 113,
     "metadata": {},
     "output_type": "execute_result"
    }
   ],
   "source": [
    "# 문자열 숫자 => 정수 , 실수\n",
    "matrix3 = np.array(['3.14', '5.5', '0.78'])\n",
    "matrix3, matrix3.dtype"
   ]
  },
  {
   "cell_type": "code",
   "execution_count": 114,
   "id": "c2c28f75-88d8-4e99-9d02-45b8ea85ec8b",
   "metadata": {},
   "outputs": [
    {
     "name": "stdout",
     "output_type": "stream",
     "text": [
      "[3.14 5.5  0.78]\n"
     ]
    },
    {
     "ename": "ValueError",
     "evalue": "invalid literal for int() with base 10: '3.14'",
     "output_type": "error",
     "traceback": [
      "\u001b[1;31m---------------------------------------------------------------------------\u001b[0m",
      "\u001b[1;31mValueError\u001b[0m                                Traceback (most recent call last)",
      "Cell \u001b[1;32mIn[114], line 3\u001b[0m\n\u001b[0;32m      1\u001b[0m \u001b[38;5;28mprint\u001b[39m(matrix3\u001b[38;5;241m.\u001b[39mastype(\u001b[38;5;28mfloat\u001b[39m))\n\u001b[1;32m----> 3\u001b[0m \u001b[38;5;28mprint\u001b[39m(matrix3\u001b[38;5;241m.\u001b[39mastype(\u001b[38;5;28mint\u001b[39m)) \u001b[38;5;66;03m# 불가\u001b[39;00m\n\u001b[0;32m      4\u001b[0m \u001b[38;5;28mprint\u001b[39m(matrix3\u001b[38;5;241m.\u001b[39mastype(\u001b[38;5;28mbool\u001b[39m))\n",
      "\u001b[1;31mValueError\u001b[0m: invalid literal for int() with base 10: '3.14'"
     ]
    }
   ],
   "source": [
    "print(matrix3.astype(float))\n",
    "\n",
    "print(matrix3.astype(int)) # 불가\n",
    "print(matrix3.astype(bool)) # 불가"
   ]
  },
  {
   "cell_type": "code",
   "execution_count": 115,
   "id": "f52a10f6-0441-4eba-8eb7-607264dfa5c9",
   "metadata": {},
   "outputs": [
    {
     "data": {
      "text/plain": [
       "array([3, 5, 7])"
      ]
     },
     "execution_count": 115,
     "metadata": {},
     "output_type": "execute_result"
    }
   ],
   "source": [
    "matrix4 = np.array(['3', '5', '7'])\n",
    "matrix4.astype(int)  # 가능, 값이 유효하기 때문"
   ]
  },
  {
   "cell_type": "markdown",
   "id": "d0795b4b-e534-4b1a-9e84-a8bda911ae94",
   "metadata": {},
   "source": [
    "## 넘파이 배열의 인덱싱\n",
    "넘파이배열[index] 넘파이배열[i, j], 넘파이배열[i][j] : i행 j 열\n",
    "\n",
    "### 1D array"
   ]
  },
  {
   "cell_type": "code",
   "execution_count": 117,
   "id": "bd40e95f-23be-4f69-9aa1-0c96ae3b8d85",
   "metadata": {},
   "outputs": [
    {
     "data": {
      "text/plain": [
       "(array([1, 3, 5, 7, 9]), 1, (5,), 5)"
      ]
     },
     "execution_count": 117,
     "metadata": {},
     "output_type": "execute_result"
    }
   ],
   "source": [
    "a = np.array([1, 3, 5, 7, 9])\n",
    "a, a.ndim, a.shape, a.size"
   ]
  },
  {
   "cell_type": "code",
   "execution_count": 118,
   "id": "4bc91649-4f11-4eb3-8ee5-1c99fd1bfae6",
   "metadata": {},
   "outputs": [
    {
     "data": {
      "text/plain": [
       "1"
      ]
     },
     "execution_count": 118,
     "metadata": {},
     "output_type": "execute_result"
    }
   ],
   "source": [
    "a[0]"
   ]
  },
  {
   "cell_type": "code",
   "execution_count": 119,
   "id": "cc148d4e-b22a-47aa-bb6b-d39f109036d7",
   "metadata": {},
   "outputs": [
    {
     "data": {
      "text/plain": [
       "5"
      ]
     },
     "execution_count": 119,
     "metadata": {},
     "output_type": "execute_result"
    }
   ],
   "source": [
    "a[2]"
   ]
  },
  {
   "cell_type": "code",
   "execution_count": 120,
   "id": "1329f226-85d0-42c8-96b1-36b9af2fc8f8",
   "metadata": {},
   "outputs": [
    {
     "data": {
      "text/plain": [
       "9"
      ]
     },
     "execution_count": 120,
     "metadata": {},
     "output_type": "execute_result"
    }
   ],
   "source": [
    "a[4]"
   ]
  },
  {
   "cell_type": "code",
   "execution_count": 121,
   "id": "0f81cb83-aed8-4171-8292-679361b66083",
   "metadata": {},
   "outputs": [
    {
     "data": {
      "text/plain": [
       "9"
      ]
     },
     "execution_count": 121,
     "metadata": {},
     "output_type": "execute_result"
    }
   ],
   "source": [
    "a[-1]"
   ]
  },
  {
   "cell_type": "code",
   "execution_count": 122,
   "id": "eef4db66-a430-4884-ae81-cb5b3eafae22",
   "metadata": {},
   "outputs": [
    {
     "data": {
      "text/plain": [
       "5"
      ]
     },
     "execution_count": 122,
     "metadata": {},
     "output_type": "execute_result"
    }
   ],
   "source": [
    "a[-3]"
   ]
  },
  {
   "cell_type": "code",
   "execution_count": 123,
   "id": "d679c89c-26bb-415e-b4a9-c2ca2d5b52ff",
   "metadata": {},
   "outputs": [
    {
     "data": {
      "text/plain": [
       "1"
      ]
     },
     "execution_count": 123,
     "metadata": {},
     "output_type": "execute_result"
    }
   ],
   "source": [
    "a[-5]"
   ]
  },
  {
   "cell_type": "code",
   "execution_count": 124,
   "id": "82ba8ff0-f36d-452f-8f61-92b50c553546",
   "metadata": {},
   "outputs": [
    {
     "data": {
      "text/plain": [
       "array([1, 5, 9])"
      ]
     },
     "execution_count": 124,
     "metadata": {},
     "output_type": "execute_result"
    }
   ],
   "source": [
    "a[[0, 2, 4]]"
   ]
  },
  {
   "cell_type": "code",
   "execution_count": 126,
   "id": "3a5783d2-113d-4ea6-b82d-2b719d3ce3d7",
   "metadata": {},
   "outputs": [
    {
     "data": {
      "text/plain": [
       "array([1, 3, 5, 7, 9])"
      ]
     },
     "execution_count": 126,
     "metadata": {},
     "output_type": "execute_result"
    }
   ],
   "source": [
    "a"
   ]
  },
  {
   "cell_type": "code",
   "execution_count": 135,
   "id": "94f4b4b4-b87c-469f-8847-db2c933721c5",
   "metadata": {},
   "outputs": [
    {
     "data": {
      "text/plain": [
       "array([[1, 3],\n",
       "       [4, 2]])"
      ]
     },
     "execution_count": 135,
     "metadata": {},
     "output_type": "execute_result"
    }
   ],
   "source": [
    "# 행렬 구조로 인덱싱도 가능하다\n",
    "b = np.array( [[1,3], [4,2]] )\n",
    "b"
   ]
  },
  {
   "cell_type": "code",
   "execution_count": 136,
   "id": "cbe41080-99e9-47d7-ac6e-507010cb0610",
   "metadata": {},
   "outputs": [
    {
     "data": {
      "text/plain": [
       "array([[7, 7],\n",
       "       [9, 0]])"
      ]
     },
     "execution_count": 136,
     "metadata": {},
     "output_type": "execute_result"
    }
   ],
   "source": [
    "# 넘파이배열1을 넘파이배열2로 인덱싱하는 경우. 넘파이배열2는 인덱스 번호로 인식\n",
    "a[b]"
   ]
  },
  {
   "cell_type": "code",
   "execution_count": 137,
   "id": "23ad79bd-16b4-4d79-9617-de5ce2b7f284",
   "metadata": {},
   "outputs": [
    {
     "data": {
      "text/plain": [
       "array([6, 7, 0, 7, 9])"
      ]
     },
     "execution_count": 137,
     "metadata": {},
     "output_type": "execute_result"
    }
   ],
   "source": [
    "a[2] = 0\n",
    "a\n"
   ]
  },
  {
   "cell_type": "code",
   "execution_count": 138,
   "id": "41cb61df-6ca0-4497-8668-d2157cc83c67",
   "metadata": {},
   "outputs": [
    {
     "data": {
      "text/plain": [
       "array([6, 9, 0, 7, 9])"
      ]
     },
     "execution_count": 138,
     "metadata": {},
     "output_type": "execute_result"
    }
   ],
   "source": [
    "a[1] += 2\n",
    "a"
   ]
  },
  {
   "cell_type": "code",
   "execution_count": 131,
   "id": "0c45e24f-1160-4875-b838-7b0e63e026e6",
   "metadata": {},
   "outputs": [
    {
     "data": {
      "text/plain": [
       "array([6, 5, 0, 7, 9])"
      ]
     },
     "execution_count": 131,
     "metadata": {},
     "output_type": "execute_result"
    }
   ],
   "source": [
    "a[0] *= 6\n",
    "a"
   ]
  },
  {
   "cell_type": "markdown",
   "id": "ce7a5817-1f3f-49cb-a3d5-58170ff44b7c",
   "metadata": {},
   "source": [
    "## 2D array"
   ]
  },
  {
   "cell_type": "code",
   "execution_count": 158,
   "id": "2f1d6235-55f2-4feb-b937-0440df2876f4",
   "metadata": {},
   "outputs": [
    {
     "data": {
      "text/plain": [
       "(array([[ 0,  1,  2,  3,  4],\n",
       "        [ 5,  6,  7,  8,  9],\n",
       "        [10, 11, 12, 13, 14]]),\n",
       " 2,\n",
       " (3, 5),\n",
       " 15)"
      ]
     },
     "execution_count": 158,
     "metadata": {},
     "output_type": "execute_result"
    }
   ],
   "source": [
    "a = np.arange(15).reshape(3, 5)\n",
    "a, a.ndim, a.shape, a.size"
   ]
  },
  {
   "cell_type": "code",
   "execution_count": 144,
   "id": "ad3a33fc-2b46-4612-ab52-9a5d97aa0d87",
   "metadata": {},
   "outputs": [
    {
     "data": {
      "text/plain": [
       "array([0, 1, 2, 3, 4])"
      ]
     },
     "execution_count": 144,
     "metadata": {},
     "output_type": "execute_result"
    }
   ],
   "source": [
    "# 2차원 인덱싱할 때, 값을 하나면 넣으면 행인덱싱\n",
    "a[0]"
   ]
  },
  {
   "cell_type": "code",
   "execution_count": 142,
   "id": "37dda06f-1d93-4975-9194-f5e7b650f34b",
   "metadata": {},
   "outputs": [
    {
     "data": {
      "text/plain": [
       "array([5, 6, 7, 8, 9])"
      ]
     },
     "execution_count": 142,
     "metadata": {},
     "output_type": "execute_result"
    }
   ],
   "source": [
    "a[1]"
   ]
  },
  {
   "cell_type": "code",
   "execution_count": 159,
   "id": "d3ad8007-5170-40ea-a384-07c49975d326",
   "metadata": {},
   "outputs": [
    {
     "data": {
      "text/plain": [
       "array([10, 11, 12, 13, 14])"
      ]
     },
     "execution_count": 159,
     "metadata": {},
     "output_type": "execute_result"
    }
   ],
   "source": [
    "a[-1]"
   ]
  },
  {
   "cell_type": "code",
   "execution_count": 160,
   "id": "4b953df2-9e29-4d89-923c-3fc52a0ea75e",
   "metadata": {},
   "outputs": [
    {
     "data": {
      "text/plain": [
       "0"
      ]
     },
     "execution_count": 160,
     "metadata": {},
     "output_type": "execute_result"
    }
   ],
   "source": [
    "# 값이 2개 들어가면, 행/열 인덱싱\n",
    "a[0, 0]"
   ]
  },
  {
   "cell_type": "code",
   "execution_count": 150,
   "id": "435a335f-c539-47db-9bbc-24de6bcad1f5",
   "metadata": {},
   "outputs": [
    {
     "data": {
      "text/plain": [
       "14"
      ]
     },
     "execution_count": 150,
     "metadata": {},
     "output_type": "execute_result"
    }
   ],
   "source": [
    "a[2, 4]"
   ]
  },
  {
   "cell_type": "code",
   "execution_count": 161,
   "id": "2b20a2d1-50c8-4364-a52f-78008ddceee8",
   "metadata": {},
   "outputs": [
    {
     "data": {
      "text/plain": [
       "14"
      ]
     },
     "execution_count": 161,
     "metadata": {},
     "output_type": "execute_result"
    }
   ],
   "source": [
    "a[-1, -1]"
   ]
  },
  {
   "cell_type": "code",
   "execution_count": 162,
   "id": "670cc0a3-f042-48a6-a93d-484036326bc2",
   "metadata": {},
   "outputs": [
    {
     "data": {
      "text/plain": [
       "14"
      ]
     },
     "execution_count": 162,
     "metadata": {},
     "output_type": "execute_result"
    }
   ],
   "source": [
    "a[-1][-1]"
   ]
  },
  {
   "cell_type": "code",
   "execution_count": 153,
   "id": "ae162a7f-c2f8-4de3-83af-ff3bf026f75c",
   "metadata": {},
   "outputs": [
    {
     "data": {
      "text/plain": [
       "array([[ 0,  1,  2,  3,  4],\n",
       "       [ 1,  3,  5,  7,  9],\n",
       "       [10, 11, 12, 13, 14]])"
      ]
     },
     "execution_count": 153,
     "metadata": {},
     "output_type": "execute_result"
    }
   ],
   "source": [
    "a[1] = [1, 3, 5, 7, 9]\n",
    "a"
   ]
  },
  {
   "cell_type": "code",
   "execution_count": 154,
   "id": "517afb1c-79c0-40c4-b43c-f76e7d938336",
   "metadata": {},
   "outputs": [
    {
     "data": {
      "text/plain": [
       "array([[ 0,  1,  2,  3,  4],\n",
       "       [ 1,  3,  5,  7,  9],\n",
       "       [10, 10, 10, 10, 10]])"
      ]
     },
     "execution_count": 154,
     "metadata": {},
     "output_type": "execute_result"
    }
   ],
   "source": [
    "a[-1] = 10\n",
    "a"
   ]
  },
  {
   "cell_type": "code",
   "execution_count": 155,
   "id": "25452b95-8610-45fe-902c-0071b3502bbf",
   "metadata": {},
   "outputs": [
    {
     "data": {
      "text/plain": [
       "array([[ 1,  3,  5,  7,  9],\n",
       "       [ 1,  3,  5,  7,  9],\n",
       "       [10, 10, 10, 10, 10]])"
      ]
     },
     "execution_count": 155,
     "metadata": {},
     "output_type": "execute_result"
    }
   ],
   "source": [
    "a[0] += [1, 2, 3, 4, 5]\n",
    "a"
   ]
  },
  {
   "cell_type": "markdown",
   "id": "9a8cd41e-7139-4dca-aa49-1396fa4f9a4e",
   "metadata": {},
   "source": [
    "## 넘파이배열 슬라이싱\n",
    "- 1차원\n",
    "- 넘파이배열[:end]\n",
    "- 넘파이배열[start:]\n",
    "- 넘파이배열[start:end]\n",
    "- 넘파이배열[start:end:step]\n",
    "\n",
    "- 2차원\n",
    "\n",
    "- 넘파이배열[행, 열] = [start:end:step, start2:end2:step2]\n",
    "### 1D array"
   ]
  },
  {
   "cell_type": "code",
   "execution_count": 164,
   "id": "f04a1bd5-c599-426b-9530-53140b552b95",
   "metadata": {},
   "outputs": [
    {
     "data": {
      "text/plain": [
       "(array([1, 3, 5, 7, 9]), 1, (5,), 5)"
      ]
     },
     "execution_count": 164,
     "metadata": {},
     "output_type": "execute_result"
    }
   ],
   "source": [
    "a = np.array([1, 3, 5, 7, 9])\n",
    "a, a.ndim, a.shape, a.size"
   ]
  },
  {
   "cell_type": "code",
   "execution_count": 165,
   "id": "78cbbf68-91d7-43d1-a750-c22b70d33201",
   "metadata": {},
   "outputs": [
    {
     "data": {
      "text/plain": [
       "array([1, 3, 5, 7, 9])"
      ]
     },
     "execution_count": 165,
     "metadata": {},
     "output_type": "execute_result"
    }
   ],
   "source": [
    "a[:]"
   ]
  },
  {
   "cell_type": "code",
   "execution_count": 166,
   "id": "436d2594-ae70-4149-9d81-f4957412d0ac",
   "metadata": {},
   "outputs": [
    {
     "data": {
      "text/plain": [
       "array([3, 5, 7, 9])"
      ]
     },
     "execution_count": 166,
     "metadata": {},
     "output_type": "execute_result"
    }
   ],
   "source": [
    " a[1:]"
   ]
  },
  {
   "cell_type": "code",
   "execution_count": 167,
   "id": "d59f1209-0558-40f6-a8f5-14490c25d815",
   "metadata": {},
   "outputs": [
    {
     "data": {
      "text/plain": [
       "array([9])"
      ]
     },
     "execution_count": 167,
     "metadata": {},
     "output_type": "execute_result"
    }
   ],
   "source": [
    "a[-1:]"
   ]
  },
  {
   "cell_type": "code",
   "execution_count": 168,
   "id": "45009209-bbc4-4b1c-8589-733ccf0f4017",
   "metadata": {},
   "outputs": [
    {
     "data": {
      "text/plain": [
       "array([1, 3, 5])"
      ]
     },
     "execution_count": 168,
     "metadata": {},
     "output_type": "execute_result"
    }
   ],
   "source": [
    "a[:3]"
   ]
  },
  {
   "cell_type": "code",
   "execution_count": 169,
   "id": "fd39c2d1-baba-47b3-bda0-b35f7513e851",
   "metadata": {},
   "outputs": [
    {
     "data": {
      "text/plain": [
       "array([1, 3, 5, 7])"
      ]
     },
     "execution_count": 169,
     "metadata": {},
     "output_type": "execute_result"
    }
   ],
   "source": [
    "a[:-1]"
   ]
  },
  {
   "cell_type": "code",
   "execution_count": 170,
   "id": "b111decc-2be6-4a2f-8584-eda81094fe1f",
   "metadata": {},
   "outputs": [
    {
     "data": {
      "text/plain": [
       "array([0, 1, 2, 3, 4, 5, 6, 7, 8, 9])"
      ]
     },
     "execution_count": 170,
     "metadata": {},
     "output_type": "execute_result"
    }
   ],
   "source": [
    "a = np.arange(10)\n",
    "a"
   ]
  },
  {
   "cell_type": "code",
   "execution_count": 172,
   "id": "cc55dfd3-7a04-4e88-9214-33599cf53f0d",
   "metadata": {},
   "outputs": [
    {
     "data": {
      "text/plain": [
       "array([1, 3, 5, 7, 9])"
      ]
     },
     "execution_count": 172,
     "metadata": {},
     "output_type": "execute_result"
    }
   ],
   "source": [
    "a[1::2]"
   ]
  },
  {
   "cell_type": "code",
   "execution_count": 174,
   "id": "3e267733-d787-4165-9ef8-1abbe7714899",
   "metadata": {},
   "outputs": [
    {
     "data": {
      "text/plain": [
       "array([9, 8, 7, 6, 5, 4, 3, 2, 1, 0])"
      ]
     },
     "execution_count": 174,
     "metadata": {},
     "output_type": "execute_result"
    }
   ],
   "source": [
    "a[::-1]"
   ]
  },
  {
   "cell_type": "markdown",
   "id": "2450dfb4-a247-412b-b810-e8d7f9bd8bcf",
   "metadata": {},
   "source": [
    "## 2D array"
   ]
  },
  {
   "cell_type": "code",
   "execution_count": 39,
   "id": "7128ffc2-e5b1-48eb-aa17-42810979b033",
   "metadata": {},
   "outputs": [
    {
     "data": {
      "text/plain": [
       "(array([[10, 11, 12, 13, 14],\n",
       "        [15, 16, 17, 18, 19],\n",
       "        [20, 21, 22, 23, 24]]),\n",
       " 2,\n",
       " (3, 5),\n",
       " 15)"
      ]
     },
     "execution_count": 39,
     "metadata": {},
     "output_type": "execute_result"
    }
   ],
   "source": [
    "a = np.arange(10, 25).reshape(3, 5)\n",
    "a, a.ndim, a.shape, a.size"
   ]
  },
  {
   "cell_type": "code",
   "execution_count": 179,
   "id": "a3dd851a-6606-4c4b-bf1f-bc387295b969",
   "metadata": {},
   "outputs": [
    {
     "data": {
      "text/plain": [
       "array([[15, 16, 17, 18, 19],\n",
       "       [20, 21, 22, 23, 24]])"
      ]
     },
     "execution_count": 179,
     "metadata": {},
     "output_type": "execute_result"
    }
   ],
   "source": [
    "a[1:]"
   ]
  },
  {
   "cell_type": "code",
   "execution_count": 181,
   "id": "ab153dfc-a229-4d73-9b17-f8b967f57c4b",
   "metadata": {},
   "outputs": [
    {
     "data": {
      "text/plain": [
       "array([], shape=(0, 5), dtype=int32)"
      ]
     },
     "execution_count": 181,
     "metadata": {},
     "output_type": "execute_result"
    }
   ],
   "source": [
    "a[:-3]"
   ]
  },
  {
   "cell_type": "code",
   "execution_count": 182,
   "id": "96d3372d-51fa-46d8-ace5-a633db543304",
   "metadata": {},
   "outputs": [
    {
     "data": {
      "text/plain": [
       "array([[10, 11, 12, 13, 14],\n",
       "       [15, 16, 17, 18, 19],\n",
       "       [20, 21, 22, 23, 24]])"
      ]
     },
     "execution_count": 182,
     "metadata": {},
     "output_type": "execute_result"
    }
   ],
   "source": [
    "a[:, :] # 행의 범위, 열의 범위\n"
   ]
  },
  {
   "cell_type": "code",
   "execution_count": 185,
   "id": "e6db3d03-42f6-460a-b05c-6f7f0924c5a7",
   "metadata": {},
   "outputs": [
    {
     "data": {
      "text/plain": [
       "array([[11, 12, 13, 14],\n",
       "       [16, 17, 18, 19],\n",
       "       [21, 22, 23, 24]])"
      ]
     },
     "execution_count": 185,
     "metadata": {},
     "output_type": "execute_result"
    }
   ],
   "source": [
    "a[:, 1:]"
   ]
  },
  {
   "cell_type": "code",
   "execution_count": 186,
   "id": "5f78e6fe-0246-4d03-84d2-f88f20496b3d",
   "metadata": {},
   "outputs": [
    {
     "data": {
      "text/plain": [
       "array([[14],\n",
       "       [19],\n",
       "       [24]])"
      ]
     },
     "execution_count": 186,
     "metadata": {},
     "output_type": "execute_result"
    }
   ],
   "source": [
    "a[:, 4:]"
   ]
  },
  {
   "cell_type": "code",
   "execution_count": 187,
   "id": "5678a495-9250-435c-bf83-01a382386814",
   "metadata": {},
   "outputs": [
    {
     "data": {
      "text/plain": [
       "array([[14],\n",
       "       [19],\n",
       "       [24]])"
      ]
     },
     "execution_count": 187,
     "metadata": {},
     "output_type": "execute_result"
    }
   ],
   "source": [
    "a[:, -1:]"
   ]
  },
  {
   "cell_type": "code",
   "execution_count": 199,
   "id": "5da0f084-4987-4545-87b5-50d801b8a628",
   "metadata": {},
   "outputs": [
    {
     "data": {
      "text/plain": [
       "array([[17],\n",
       "       [22]])"
      ]
     },
     "execution_count": 199,
     "metadata": {},
     "output_type": "execute_result"
    }
   ],
   "source": [
    "a[1:, 2:3]"
   ]
  },
  {
   "cell_type": "code",
   "execution_count": 203,
   "id": "bda28542-6e61-44c8-a2e5-3157f277a174",
   "metadata": {},
   "outputs": [
    {
     "data": {
      "text/plain": [
       "array([[11, 12, 13],\n",
       "       [16, 17, 18]])"
      ]
     },
     "execution_count": 203,
     "metadata": {},
     "output_type": "execute_result"
    }
   ],
   "source": [
    "a[:-1, 1:4]"
   ]
  },
  {
   "cell_type": "code",
   "execution_count": 202,
   "id": "739fe857-2be2-402e-88b9-e6e4fc3c3a76",
   "metadata": {},
   "outputs": [
    {
     "data": {
      "text/plain": [
       "array([[11, 12, 13],\n",
       "       [16, 17, 18]])"
      ]
     },
     "execution_count": 202,
     "metadata": {},
     "output_type": "execute_result"
    }
   ],
   "source": [
    "a[:-1, 1:-1]"
   ]
  },
  {
   "cell_type": "code",
   "execution_count": 207,
   "id": "5083fa78-aefe-4996-b34b-59430e7b119b",
   "metadata": {},
   "outputs": [
    {
     "data": {
      "text/plain": [
       "array([[17]])"
      ]
     },
     "execution_count": 207,
     "metadata": {},
     "output_type": "execute_result"
    }
   ],
   "source": [
    "a[1:2, 2:3]"
   ]
  },
  {
   "cell_type": "code",
   "execution_count": null,
   "id": "a75583a9-6e96-4da6-a4b9-b52ec81bfded",
   "metadata": {},
   "outputs": [],
   "source": []
  },
  {
   "cell_type": "markdown",
   "id": "3b2c4600-03f3-4b55-8b3a-e03c203f8624",
   "metadata": {},
   "source": [
    "# 0628"
   ]
  },
  {
   "cell_type": "code",
   "execution_count": 40,
   "id": "22b45253-da9a-4807-bc89-b743a63d27a2",
   "metadata": {},
   "outputs": [
    {
     "data": {
      "text/plain": [
       "array([[10, 11, 12, 13, 14],\n",
       "       [15, 16, 17, 18, 19],\n",
       "       [20, 21, 22, 23, 24]])"
      ]
     },
     "execution_count": 40,
     "metadata": {},
     "output_type": "execute_result"
    }
   ],
   "source": [
    "# 행 뒤집기\n",
    "a[::]"
   ]
  },
  {
   "cell_type": "markdown",
   "id": "2cf9ca2a-47d5-4572-b0bf-fd92d7bb5638",
   "metadata": {},
   "source": [
    "## 전치행렬\n"
   ]
  },
  {
   "cell_type": "code",
   "execution_count": 42,
   "id": "e86e9a10-8694-4e52-8e05-73480a314387",
   "metadata": {},
   "outputs": [
    {
     "data": {
      "text/plain": [
       "array([[1, 2],\n",
       "       [3, 4],\n",
       "       [5, 6]])"
      ]
     },
     "execution_count": 42,
     "metadata": {},
     "output_type": "execute_result"
    }
   ],
   "source": [
    "# 3행 2열\n",
    "matrix_d = np.arange(1,7).reshape(3,2)\n",
    "matrix_d"
   ]
  },
  {
   "cell_type": "code",
   "execution_count": 43,
   "id": "494035a1-c9c0-47e4-8dab-e3e24024246b",
   "metadata": {},
   "outputs": [
    {
     "name": "stdout",
     "output_type": "stream",
     "text": [
      "[[1 3 5]\n",
      " [2 4 6]]\n"
     ]
    }
   ],
   "source": [
    "# 2행 3열로 변환\n",
    "print(matrix_d.T)"
   ]
  },
  {
   "cell_type": "code",
   "execution_count": 44,
   "id": "bad8ca35-ebe8-4a6d-b3ad-aeee47404e19",
   "metadata": {},
   "outputs": [
    {
     "name": "stdout",
     "output_type": "stream",
     "text": [
      "[[1 2 3]\n",
      " [4 5 6]]\n"
     ]
    }
   ],
   "source": [
    "# reshape과 transpose은 값이 다름을 유의\n",
    "print(matrix_d.reshape(2,3)) "
   ]
  },
  {
   "cell_type": "markdown",
   "id": "eaac7764-d8d9-46a9-9f06-100dcad6105c",
   "metadata": {},
   "source": [
    "## 난수로 구성된 넘파이 배열\n",
    "np.random.randint(start, end, n) : 정수 난수\n",
    "np.random.randint(start, end, (i, j))"
   ]
  },
  {
   "cell_type": "code",
   "execution_count": 45,
   "id": "18a32de4-1e63-4e87-bab1-952aba214c80",
   "metadata": {
    "collapsed": true,
    "jupyter": {
     "outputs_hidden": true
    }
   },
   "outputs": [
    {
     "data": {
      "text/plain": [
       "\u001b[1;31mType:\u001b[0m        module\n",
       "\u001b[1;31mString form:\u001b[0m <module 'numpy.random' from 'C:\\\\Users\\\\user\\\\anaconda3\\\\Lib\\\\site-packages\\\\numpy\\\\random\\\\__init__.py'>\n",
       "\u001b[1;31mFile:\u001b[0m        c:\\users\\user\\anaconda3\\lib\\site-packages\\numpy\\random\\__init__.py\n",
       "\u001b[1;31mDocstring:\u001b[0m  \n",
       "========================\n",
       "Random Number Generation\n",
       "========================\n",
       "\n",
       "Use ``default_rng()`` to create a `Generator` and call its methods.\n",
       "\n",
       "=============== =========================================================\n",
       "Generator\n",
       "--------------- ---------------------------------------------------------\n",
       "Generator       Class implementing all of the random number distributions\n",
       "default_rng     Default constructor for ``Generator``\n",
       "=============== =========================================================\n",
       "\n",
       "============================================= ===\n",
       "BitGenerator Streams that work with Generator\n",
       "--------------------------------------------- ---\n",
       "MT19937\n",
       "PCG64\n",
       "PCG64DXSM\n",
       "Philox\n",
       "SFC64\n",
       "============================================= ===\n",
       "\n",
       "============================================= ===\n",
       "Getting entropy to initialize a BitGenerator\n",
       "--------------------------------------------- ---\n",
       "SeedSequence\n",
       "============================================= ===\n",
       "\n",
       "\n",
       "Legacy\n",
       "------\n",
       "\n",
       "For backwards compatibility with previous versions of numpy before 1.17, the\n",
       "various aliases to the global `RandomState` methods are left alone and do not\n",
       "use the new `Generator` API.\n",
       "\n",
       "==================== =========================================================\n",
       "Utility functions\n",
       "-------------------- ---------------------------------------------------------\n",
       "random               Uniformly distributed floats over ``[0, 1)``\n",
       "bytes                Uniformly distributed random bytes.\n",
       "permutation          Randomly permute a sequence / generate a random sequence.\n",
       "shuffle              Randomly permute a sequence in place.\n",
       "choice               Random sample from 1-D array.\n",
       "==================== =========================================================\n",
       "\n",
       "==================== =========================================================\n",
       "Compatibility\n",
       "functions - removed\n",
       "in the new API\n",
       "-------------------- ---------------------------------------------------------\n",
       "rand                 Uniformly distributed values.\n",
       "randn                Normally distributed values.\n",
       "ranf                 Uniformly distributed floating point numbers.\n",
       "random_integers      Uniformly distributed integers in a given range.\n",
       "                     (deprecated, use ``integers(..., closed=True)`` instead)\n",
       "random_sample        Alias for `random_sample`\n",
       "randint              Uniformly distributed integers in a given range\n",
       "seed                 Seed the legacy random number generator.\n",
       "==================== =========================================================\n",
       "\n",
       "==================== =========================================================\n",
       "Univariate\n",
       "distributions\n",
       "-------------------- ---------------------------------------------------------\n",
       "beta                 Beta distribution over ``[0, 1]``.\n",
       "binomial             Binomial distribution.\n",
       "chisquare            :math:`\\chi^2` distribution.\n",
       "exponential          Exponential distribution.\n",
       "f                    F (Fisher-Snedecor) distribution.\n",
       "gamma                Gamma distribution.\n",
       "geometric            Geometric distribution.\n",
       "gumbel               Gumbel distribution.\n",
       "hypergeometric       Hypergeometric distribution.\n",
       "laplace              Laplace distribution.\n",
       "logistic             Logistic distribution.\n",
       "lognormal            Log-normal distribution.\n",
       "logseries            Logarithmic series distribution.\n",
       "negative_binomial    Negative binomial distribution.\n",
       "noncentral_chisquare Non-central chi-square distribution.\n",
       "noncentral_f         Non-central F distribution.\n",
       "normal               Normal / Gaussian distribution.\n",
       "pareto               Pareto distribution.\n",
       "poisson              Poisson distribution.\n",
       "power                Power distribution.\n",
       "rayleigh             Rayleigh distribution.\n",
       "triangular           Triangular distribution.\n",
       "uniform              Uniform distribution.\n",
       "vonmises             Von Mises circular distribution.\n",
       "wald                 Wald (inverse Gaussian) distribution.\n",
       "weibull              Weibull distribution.\n",
       "zipf                 Zipf's distribution over ranked data.\n",
       "==================== =========================================================\n",
       "\n",
       "==================== ==========================================================\n",
       "Multivariate\n",
       "distributions\n",
       "-------------------- ----------------------------------------------------------\n",
       "dirichlet            Multivariate generalization of Beta distribution.\n",
       "multinomial          Multivariate generalization of the binomial distribution.\n",
       "multivariate_normal  Multivariate generalization of the normal distribution.\n",
       "==================== ==========================================================\n",
       "\n",
       "==================== =========================================================\n",
       "Standard\n",
       "distributions\n",
       "-------------------- ---------------------------------------------------------\n",
       "standard_cauchy      Standard Cauchy-Lorentz distribution.\n",
       "standard_exponential Standard exponential distribution.\n",
       "standard_gamma       Standard Gamma distribution.\n",
       "standard_normal      Standard normal distribution.\n",
       "standard_t           Standard Student's t-distribution.\n",
       "==================== =========================================================\n",
       "\n",
       "==================== =========================================================\n",
       "Internal functions\n",
       "-------------------- ---------------------------------------------------------\n",
       "get_state            Get tuple representing internal state of generator.\n",
       "set_state            Set state of generator.\n",
       "==================== ========================================================="
      ]
     },
     "metadata": {},
     "output_type": "display_data"
    }
   ],
   "source": [
    "np.random?"
   ]
  },
  {
   "cell_type": "code",
   "execution_count": 47,
   "id": "82e9a2e7-5713-4365-b3ef-2f65b4354459",
   "metadata": {},
   "outputs": [
    {
     "data": {
      "text/plain": [
       "array([2, 5, 3, 1, 5, 8, 6, 6, 9, 2])"
      ]
     },
     "execution_count": 47,
     "metadata": {},
     "output_type": "execute_result"
    }
   ],
   "source": [
    "# 1~10 사이의 숫자중에서 10개 출력\n",
    "np.random.randint(1, 10, 10)"
   ]
  },
  {
   "cell_type": "code",
   "execution_count": 48,
   "id": "bd8a33de-b75a-4e6b-a540-ce8145c6d930",
   "metadata": {},
   "outputs": [
    {
     "data": {
      "text/plain": [
       "array([[8, 7, 6, 8, 9],\n",
       "       [8, 7, 4, 5, 2]])"
      ]
     },
     "execution_count": 48,
     "metadata": {},
     "output_type": "execute_result"
    }
   ],
   "source": [
    "# 2행 5열로 츨력\n",
    "np.random.randint(1, 10, (2,5))\n"
   ]
  },
  {
   "cell_type": "code",
   "execution_count": 49,
   "id": "3ca6f290-2c5f-4449-871f-4ef6da1e91ef",
   "metadata": {
    "collapsed": true,
    "jupyter": {
     "outputs_hidden": true
    }
   },
   "outputs": [
    {
     "data": {
      "text/plain": [
       "\u001b[1;31mDocstring:\u001b[0m\n",
       "shuffle(x)\n",
       "\n",
       "Modify a sequence in-place by shuffling its contents.\n",
       "\n",
       "This function only shuffles the array along the first axis of a\n",
       "multi-dimensional array. The order of sub-arrays is changed but\n",
       "their contents remains the same.\n",
       "\n",
       ".. note::\n",
       "    New code should use the `~numpy.random.Generator.shuffle`\n",
       "    method of a `~numpy.random.Generator` instance instead;\n",
       "    please see the :ref:`random-quick-start`.\n",
       "\n",
       "Parameters\n",
       "----------\n",
       "x : ndarray or MutableSequence\n",
       "    The array, list or mutable sequence to be shuffled.\n",
       "\n",
       "Returns\n",
       "-------\n",
       "None\n",
       "\n",
       "See Also\n",
       "--------\n",
       "random.Generator.shuffle: which should be used for new code.\n",
       "\n",
       "Examples\n",
       "--------\n",
       ">>> arr = np.arange(10)\n",
       ">>> np.random.shuffle(arr)\n",
       ">>> arr\n",
       "[1 7 5 2 9 4 3 6 0 8] # random\n",
       "\n",
       "Multi-dimensional arrays are only shuffled along the first axis:\n",
       "\n",
       ">>> arr = np.arange(9).reshape((3, 3))\n",
       ">>> np.random.shuffle(arr)\n",
       ">>> arr\n",
       "array([[3, 4, 5], # random\n",
       "       [6, 7, 8],\n",
       "       [0, 1, 2]])\n",
       "\u001b[1;31mType:\u001b[0m      builtin_function_or_method"
      ]
     },
     "metadata": {},
     "output_type": "display_data"
    }
   ],
   "source": [
    "np.random.shuffle?"
   ]
  },
  {
   "cell_type": "code",
   "execution_count": 50,
   "id": "ff7e12a3-869e-4676-b2db-713a403823b2",
   "metadata": {},
   "outputs": [
    {
     "data": {
      "text/plain": [
       "array([ 1,  2,  3,  4,  5,  6,  7,  8,  9, 10])"
      ]
     },
     "execution_count": 50,
     "metadata": {},
     "output_type": "execute_result"
    }
   ],
   "source": [
    "# 10개 무작위 값 만들기\n",
    "matrix_e = np.arange(1,11)\n",
    "matrix_e"
   ]
  },
  {
   "cell_type": "code",
   "execution_count": 51,
   "id": "01fcabe9-ba81-4f2b-af4a-be34fd2ab3a5",
   "metadata": {},
   "outputs": [
    {
     "data": {
      "text/plain": [
       "array([ 5,  1, 10,  8,  6,  4,  2,  7,  3,  9])"
      ]
     },
     "execution_count": 51,
     "metadata": {},
     "output_type": "execute_result"
    }
   ],
   "source": [
    "np.random.shuffle(matrix_e)\n",
    "matrix_e"
   ]
  },
  {
   "cell_type": "markdown",
   "id": "7644a73f-62fa-4057-a8df-e0a126c77bdf",
   "metadata": {},
   "source": [
    "### Quiz : 1~45까지 구성된 숫자 중에서 6개를 뽑아서 로또 번호를 생성하라"
   ]
  },
  {
   "cell_type": "code",
   "execution_count": 53,
   "id": "d1c74a26-5206-4ddf-9e50-3f282cde9821",
   "metadata": {},
   "outputs": [
    {
     "data": {
      "text/plain": [
       "array([36, 39, 37, 41, 19,  6])"
      ]
     },
     "execution_count": 53,
     "metadata": {},
     "output_type": "execute_result"
    }
   ],
   "source": [
    "num= np.arange(1,46)\n",
    "np.random.shuffle(num)\n",
    "num[:6]"
   ]
  },
  {
   "cell_type": "code",
   "execution_count": 54,
   "id": "81c89be4-7d67-44a3-9cc0-422d868997b4",
   "metadata": {},
   "outputs": [
    {
     "data": {
      "text/plain": [
       "array([41, 39, 21, 35, 23, 45])"
      ]
     },
     "execution_count": 54,
     "metadata": {},
     "output_type": "execute_result"
    }
   ],
   "source": [
    "np.random.randint(1,46,6)"
   ]
  },
  {
   "cell_type": "markdown",
   "id": "725df4c2-8830-4847-8f50-a829211de2b1",
   "metadata": {},
   "source": [
    "## 실수 난수\n",
    "np.random.randn(n) np.random.randn(i, j)"
   ]
  },
  {
   "cell_type": "code",
   "execution_count": 55,
   "id": "62546949-d2d9-404c-8fa6-5b1ce6d631ec",
   "metadata": {
    "collapsed": true,
    "jupyter": {
     "outputs_hidden": true
    }
   },
   "outputs": [
    {
     "data": {
      "text/plain": [
       "\u001b[1;31mDocstring:\u001b[0m\n",
       "randn(d0, d1, ..., dn)\n",
       "\n",
       "Return a sample (or samples) from the \"standard normal\" distribution.\n",
       "\n",
       ".. note::\n",
       "    This is a convenience function for users porting code from Matlab,\n",
       "    and wraps `standard_normal`. That function takes a\n",
       "    tuple to specify the size of the output, which is consistent with\n",
       "    other NumPy functions like `numpy.zeros` and `numpy.ones`.\n",
       "\n",
       ".. note::\n",
       "    New code should use the\n",
       "    `~numpy.random.Generator.standard_normal`\n",
       "    method of a `~numpy.random.Generator` instance instead;\n",
       "    please see the :ref:`random-quick-start`.\n",
       "\n",
       "If positive int_like arguments are provided, `randn` generates an array\n",
       "of shape ``(d0, d1, ..., dn)``, filled\n",
       "with random floats sampled from a univariate \"normal\" (Gaussian)\n",
       "distribution of mean 0 and variance 1. A single float randomly sampled\n",
       "from the distribution is returned if no argument is provided.\n",
       "\n",
       "Parameters\n",
       "----------\n",
       "d0, d1, ..., dn : int, optional\n",
       "    The dimensions of the returned array, must be non-negative.\n",
       "    If no argument is given a single Python float is returned.\n",
       "\n",
       "Returns\n",
       "-------\n",
       "Z : ndarray or float\n",
       "    A ``(d0, d1, ..., dn)``-shaped array of floating-point samples from\n",
       "    the standard normal distribution, or a single such float if\n",
       "    no parameters were supplied.\n",
       "\n",
       "See Also\n",
       "--------\n",
       "standard_normal : Similar, but takes a tuple as its argument.\n",
       "normal : Also accepts mu and sigma arguments.\n",
       "random.Generator.standard_normal: which should be used for new code.\n",
       "\n",
       "Notes\n",
       "-----\n",
       "For random samples from the normal distribution with mean ``mu`` and\n",
       "standard deviation ``sigma``, use::\n",
       "\n",
       "    sigma * np.random.randn(...) + mu\n",
       "\n",
       "Examples\n",
       "--------\n",
       ">>> np.random.randn()\n",
       "2.1923875335537315  # random\n",
       "\n",
       "Two-by-four array of samples from the normal distribution with\n",
       "mean 3 and standard deviation 2.5:\n",
       "\n",
       ">>> 3 + 2.5 * np.random.randn(2, 4)\n",
       "array([[-4.49401501,  4.00950034, -1.81814867,  7.29718677],   # random\n",
       "       [ 0.39924804,  4.68456316,  4.99394529,  4.84057254]])  # random\n",
       "\u001b[1;31mType:\u001b[0m      builtin_function_or_method"
      ]
     },
     "metadata": {},
     "output_type": "display_data"
    }
   ],
   "source": [
    "np.random.randn?"
   ]
  },
  {
   "cell_type": "code",
   "execution_count": 57,
   "id": "51be73d0-089a-43bd-aa1a-a4a33d863842",
   "metadata": {},
   "outputs": [
    {
     "data": {
      "text/plain": [
       "array([ 0.95659027,  1.63045832,  0.19478994,  0.71385097,  0.95454246,\n",
       "       -0.86245352, -0.25550277, -0.6952045 ,  0.09112835, -0.82337379])"
      ]
     },
     "execution_count": 57,
     "metadata": {},
     "output_type": "execute_result"
    }
   ],
   "source": [
    "matrix1 = np.random.randn(10) # 표준정규분포 0 ~ 분산1\n",
    "matrix1"
   ]
  },
  {
   "cell_type": "code",
   "execution_count": 58,
   "id": "7ce5a03b-ff30-4a59-b39c-60e467ccc8de",
   "metadata": {},
   "outputs": [
    {
     "data": {
      "text/plain": [
       "array([[-1.36290924, -1.81896569,  0.29967095, -0.28114919],\n",
       "       [ 1.44404349,  0.39893192, -0.47826379, -0.04514994],\n",
       "       [-0.45697926,  0.4393397 , -1.55734866, -0.42043148],\n",
       "       [ 0.63316922,  0.26193895,  1.67037158, -0.47354574]])"
      ]
     },
     "execution_count": 58,
     "metadata": {},
     "output_type": "execute_result"
    }
   ],
   "source": [
    "matrix2 = np.random.randn(4, 4)\n",
    "matrix2"
   ]
  },
  {
   "cell_type": "code",
   "execution_count": 60,
   "id": "f673172c-5327-4ec7-9041-2a1bc0486b5c",
   "metadata": {},
   "outputs": [
    {
     "data": {
      "text/plain": [
       "(1.6304583234878498, -0.8624535183038275)"
      ]
     },
     "execution_count": 60,
     "metadata": {},
     "output_type": "execute_result"
    }
   ],
   "source": [
    "matrix1.max(), matrix1.min()\n"
   ]
  },
  {
   "cell_type": "markdown",
   "id": "516c5826-0932-4caf-aaa3-b2490fc22bcb",
   "metadata": {},
   "source": [
    "## 집계함수에서의 축\n",
    "2차원에서의 집계합수(sum, mean)\n",
    "axis = 0, 1\n",
    "np.sum(넘파이배열, axis=0/1)\n",
    "np.mean(넘파이배열, axis=0/1)\n",
    "np.sort(넘파이배열, axis=0/1)"
   ]
  },
  {
   "cell_type": "code",
   "execution_count": 66,
   "id": "22fbfa6f-2499-47e3-9044-0e15cfa85e39",
   "metadata": {
    "collapsed": true,
    "jupyter": {
     "outputs_hidden": true
    },
    "scrolled": true
   },
   "outputs": [
    {
     "data": {
      "text/plain": [
       "\u001b[1;31mSignature:\u001b[0m      \n",
       "\u001b[0mnp\u001b[0m\u001b[1;33m.\u001b[0m\u001b[0msum\u001b[0m\u001b[1;33m(\u001b[0m\u001b[1;33m\n",
       "\u001b[0m    \u001b[0ma\u001b[0m\u001b[1;33m,\u001b[0m\u001b[1;33m\n",
       "\u001b[0m    \u001b[0maxis\u001b[0m\u001b[1;33m=\u001b[0m\u001b[1;32mNone\u001b[0m\u001b[1;33m,\u001b[0m\u001b[1;33m\n",
       "\u001b[0m    \u001b[0mdtype\u001b[0m\u001b[1;33m=\u001b[0m\u001b[1;32mNone\u001b[0m\u001b[1;33m,\u001b[0m\u001b[1;33m\n",
       "\u001b[0m    \u001b[0mout\u001b[0m\u001b[1;33m=\u001b[0m\u001b[1;32mNone\u001b[0m\u001b[1;33m,\u001b[0m\u001b[1;33m\n",
       "\u001b[0m    \u001b[0mkeepdims\u001b[0m\u001b[1;33m=\u001b[0m\u001b[1;33m<\u001b[0m\u001b[0mno\u001b[0m \u001b[0mvalue\u001b[0m\u001b[1;33m>\u001b[0m\u001b[1;33m,\u001b[0m\u001b[1;33m\n",
       "\u001b[0m    \u001b[0minitial\u001b[0m\u001b[1;33m=\u001b[0m\u001b[1;33m<\u001b[0m\u001b[0mno\u001b[0m \u001b[0mvalue\u001b[0m\u001b[1;33m>\u001b[0m\u001b[1;33m,\u001b[0m\u001b[1;33m\n",
       "\u001b[0m    \u001b[0mwhere\u001b[0m\u001b[1;33m=\u001b[0m\u001b[1;33m<\u001b[0m\u001b[0mno\u001b[0m \u001b[0mvalue\u001b[0m\u001b[1;33m>\u001b[0m\u001b[1;33m,\u001b[0m\u001b[1;33m\n",
       "\u001b[0m\u001b[1;33m)\u001b[0m\u001b[1;33m\u001b[0m\u001b[1;33m\u001b[0m\u001b[0m\n",
       "\u001b[1;31mCall signature:\u001b[0m  \u001b[0mnp\u001b[0m\u001b[1;33m.\u001b[0m\u001b[0msum\u001b[0m\u001b[1;33m(\u001b[0m\u001b[1;33m*\u001b[0m\u001b[0margs\u001b[0m\u001b[1;33m,\u001b[0m \u001b[1;33m**\u001b[0m\u001b[0mkwargs\u001b[0m\u001b[1;33m)\u001b[0m\u001b[1;33m\u001b[0m\u001b[1;33m\u001b[0m\u001b[0m\n",
       "\u001b[1;31mType:\u001b[0m            _ArrayFunctionDispatcher\n",
       "\u001b[1;31mString form:\u001b[0m     <function sum at 0x000001B43F01C0E0>\n",
       "\u001b[1;31mFile:\u001b[0m            c:\\users\\user\\anaconda3\\lib\\site-packages\\numpy\\core\\fromnumeric.py\n",
       "\u001b[1;31mDocstring:\u001b[0m      \n",
       "Sum of array elements over a given axis.\n",
       "\n",
       "Parameters\n",
       "----------\n",
       "a : array_like\n",
       "    Elements to sum.\n",
       "axis : None or int or tuple of ints, optional\n",
       "    Axis or axes along which a sum is performed.  The default,\n",
       "    axis=None, will sum all of the elements of the input array.  If\n",
       "    axis is negative it counts from the last to the first axis.\n",
       "\n",
       "    .. versionadded:: 1.7.0\n",
       "\n",
       "    If axis is a tuple of ints, a sum is performed on all of the axes\n",
       "    specified in the tuple instead of a single axis or all the axes as\n",
       "    before.\n",
       "dtype : dtype, optional\n",
       "    The type of the returned array and of the accumulator in which the\n",
       "    elements are summed.  The dtype of `a` is used by default unless `a`\n",
       "    has an integer dtype of less precision than the default platform\n",
       "    integer.  In that case, if `a` is signed then the platform integer\n",
       "    is used while if `a` is unsigned then an unsigned integer of the\n",
       "    same precision as the platform integer is used.\n",
       "out : ndarray, optional\n",
       "    Alternative output array in which to place the result. It must have\n",
       "    the same shape as the expected output, but the type of the output\n",
       "    values will be cast if necessary.\n",
       "keepdims : bool, optional\n",
       "    If this is set to True, the axes which are reduced are left\n",
       "    in the result as dimensions with size one. With this option,\n",
       "    the result will broadcast correctly against the input array.\n",
       "\n",
       "    If the default value is passed, then `keepdims` will not be\n",
       "    passed through to the `sum` method of sub-classes of\n",
       "    `ndarray`, however any non-default value will be.  If the\n",
       "    sub-class' method does not implement `keepdims` any\n",
       "    exceptions will be raised.\n",
       "initial : scalar, optional\n",
       "    Starting value for the sum. See `~numpy.ufunc.reduce` for details.\n",
       "\n",
       "    .. versionadded:: 1.15.0\n",
       "\n",
       "where : array_like of bool, optional\n",
       "    Elements to include in the sum. See `~numpy.ufunc.reduce` for details.\n",
       "\n",
       "    .. versionadded:: 1.17.0\n",
       "\n",
       "Returns\n",
       "-------\n",
       "sum_along_axis : ndarray\n",
       "    An array with the same shape as `a`, with the specified\n",
       "    axis removed.   If `a` is a 0-d array, or if `axis` is None, a scalar\n",
       "    is returned.  If an output array is specified, a reference to\n",
       "    `out` is returned.\n",
       "\n",
       "See Also\n",
       "--------\n",
       "ndarray.sum : Equivalent method.\n",
       "\n",
       "add.reduce : Equivalent functionality of `add`.\n",
       "\n",
       "cumsum : Cumulative sum of array elements.\n",
       "\n",
       "trapz : Integration of array values using the composite trapezoidal rule.\n",
       "\n",
       "mean, average\n",
       "\n",
       "Notes\n",
       "-----\n",
       "Arithmetic is modular when using integer types, and no error is\n",
       "raised on overflow.\n",
       "\n",
       "The sum of an empty array is the neutral element 0:\n",
       "\n",
       ">>> np.sum([])\n",
       "0.0\n",
       "\n",
       "For floating point numbers the numerical precision of sum (and\n",
       "``np.add.reduce``) is in general limited by directly adding each number\n",
       "individually to the result causing rounding errors in every step.\n",
       "However, often numpy will use a  numerically better approach (partial\n",
       "pairwise summation) leading to improved precision in many use-cases.\n",
       "This improved precision is always provided when no ``axis`` is given.\n",
       "When ``axis`` is given, it will depend on which axis is summed.\n",
       "Technically, to provide the best speed possible, the improved precision\n",
       "is only used when the summation is along the fast axis in memory.\n",
       "Note that the exact precision may vary depending on other parameters.\n",
       "In contrast to NumPy, Python's ``math.fsum`` function uses a slower but\n",
       "more precise approach to summation.\n",
       "Especially when summing a large number of lower precision floating point\n",
       "numbers, such as ``float32``, numerical errors can become significant.\n",
       "In such cases it can be advisable to use `dtype=\"float64\"` to use a higher\n",
       "precision for the output.\n",
       "\n",
       "Examples\n",
       "--------\n",
       ">>> np.sum([0.5, 1.5])\n",
       "2.0\n",
       ">>> np.sum([0.5, 0.7, 0.2, 1.5], dtype=np.int32)\n",
       "1\n",
       ">>> np.sum([[0, 1], [0, 5]])\n",
       "6\n",
       ">>> np.sum([[0, 1], [0, 5]], axis=0)\n",
       "array([0, 6])\n",
       ">>> np.sum([[0, 1], [0, 5]], axis=1)\n",
       "array([1, 5])\n",
       ">>> np.sum([[0, 1], [np.nan, 5]], where=[False, True], axis=1)\n",
       "array([1., 5.])\n",
       "\n",
       "If the accumulator is too small, overflow occurs:\n",
       "\n",
       ">>> np.ones(128, dtype=np.int8).sum(dtype=np.int8)\n",
       "-128\n",
       "\n",
       "You can also start the sum with a value other than zero:\n",
       "\n",
       ">>> np.sum([10], initial=5)\n",
       "15\n",
       "\u001b[1;31mClass docstring:\u001b[0m\n",
       "Class to wrap functions with checks for __array_function__ overrides.\n",
       "\n",
       "All arguments are required, and can only be passed by position.\n",
       "\n",
       "Parameters\n",
       "----------\n",
       "dispatcher : function or None\n",
       "    The dispatcher function that returns a single sequence-like object\n",
       "    of all arguments relevant.  It must have the same signature (except\n",
       "    the default values) as the actual implementation.\n",
       "    If ``None``, this is a ``like=`` dispatcher and the\n",
       "    ``_ArrayFunctionDispatcher`` must be called with ``like`` as the\n",
       "    first (additional and positional) argument.\n",
       "implementation : function\n",
       "    Function that implements the operation on NumPy arrays without\n",
       "    overrides.  Arguments passed calling the ``_ArrayFunctionDispatcher``\n",
       "    will be forwarded to this (and the ``dispatcher``) as if using\n",
       "    ``*args, **kwargs``.\n",
       "\n",
       "Attributes\n",
       "----------\n",
       "_implementation : function\n",
       "    The original implementation passed in."
      ]
     },
     "metadata": {},
     "output_type": "display_data"
    }
   ],
   "source": [
    "np.sum?"
   ]
  },
  {
   "cell_type": "code",
   "execution_count": 63,
   "id": "1889dcb1-200a-4983-8bbb-9624df16e281",
   "metadata": {},
   "outputs": [
    {
     "data": {
      "text/plain": [
       "array([[26, 11, 15, 22, 48],\n",
       "       [ 7,  6,  9, 41,  7],\n",
       "       [27, 40, 44, 41, 17],\n",
       "       [28, 16, 25,  5, 36],\n",
       "       [ 8,  8, 28, 34, 17]])"
      ]
     },
     "execution_count": 63,
     "metadata": {},
     "output_type": "execute_result"
    }
   ],
   "source": [
    "m1 = np.random.randint(1, 50, (5,5))\n",
    "m1"
   ]
  },
  {
   "cell_type": "code",
   "execution_count": 64,
   "id": "c1b78669-af2e-4e24-8468-5aef562c3620",
   "metadata": {},
   "outputs": [
    {
     "data": {
      "text/plain": [
       "array([ 96,  81, 121, 143, 125])"
      ]
     },
     "execution_count": 64,
     "metadata": {},
     "output_type": "execute_result"
    }
   ],
   "source": [
    "np.sum(m1, axis=0) # (x)행 합계"
   ]
  },
  {
   "cell_type": "code",
   "execution_count": 65,
   "id": "ce3a0143-410d-49e1-814a-437ef8027885",
   "metadata": {},
   "outputs": [
    {
     "data": {
      "text/plain": [
       "array([122,  70, 169, 110,  95])"
      ]
     },
     "execution_count": 65,
     "metadata": {},
     "output_type": "execute_result"
    }
   ],
   "source": [
    "np.sum(m1, axis=1) # 열(y) 합계"
   ]
  },
  {
   "cell_type": "code",
   "execution_count": 74,
   "id": "c69fe2d1-5231-4fa0-9def-8fcba27d7cbb",
   "metadata": {},
   "outputs": [
    {
     "data": {
      "text/plain": [
       "array([26, 11, 15, 22, 48])"
      ]
     },
     "execution_count": 74,
     "metadata": {},
     "output_type": "execute_result"
    }
   ],
   "source": [
    "# 1번째행의 합계는\n",
    "m1[0,:]"
   ]
  },
  {
   "cell_type": "code",
   "execution_count": 75,
   "id": "432d147e-1a4c-4210-9782-6b27ed668629",
   "metadata": {},
   "outputs": [
    {
     "data": {
      "text/plain": [
       "122"
      ]
     },
     "execution_count": 75,
     "metadata": {},
     "output_type": "execute_result"
    }
   ],
   "source": [
    "# 1번째행의 합계는\n",
    "np.sum(m1[0,:], axis=0) # x축(행 방향) 합계"
   ]
  },
  {
   "cell_type": "code",
   "execution_count": 81,
   "id": "83bd3a35-ec97-4ede-89f4-6de80b854618",
   "metadata": {},
   "outputs": [
    {
     "data": {
      "text/plain": [
       "121"
      ]
     },
     "execution_count": 81,
     "metadata": {},
     "output_type": "execute_result"
    }
   ],
   "source": [
    "np.sum(m1[:,2], axis=0)"
   ]
  },
  {
   "cell_type": "markdown",
   "id": "aec39373-0252-4cc8-9593-02db82ba7054",
   "metadata": {},
   "source": [
    "## np.sort()"
   ]
  },
  {
   "cell_type": "code",
   "execution_count": 83,
   "id": "c3f8248e-0b75-4d13-b485-e0af3715e6ca",
   "metadata": {},
   "outputs": [],
   "source": [
    "import numpy as np"
   ]
  },
  {
   "cell_type": "code",
   "execution_count": 87,
   "id": "d4450be4-bcd6-486e-b398-fb779dd6e940",
   "metadata": {},
   "outputs": [
    {
     "data": {
      "text/plain": [
       "array([[41, 13, 20],\n",
       "       [ 3,  4, 47],\n",
       "       [ 9,  4, 30],\n",
       "       [23,  8, 39]])"
      ]
     },
     "execution_count": 87,
     "metadata": {},
     "output_type": "execute_result"
    }
   ],
   "source": [
    "# 정수 난수로 구성된 4x3\n",
    "m2 = np.random.randint(1, 50,(4,3))\n",
    "m2"
   ]
  },
  {
   "cell_type": "code",
   "execution_count": 85,
   "id": "f3f3ec22-19df-43d2-80cf-8b9d135a0349",
   "metadata": {
    "collapsed": true,
    "jupyter": {
     "outputs_hidden": true
    }
   },
   "outputs": [
    {
     "data": {
      "text/plain": [
       "\u001b[1;31mSignature:\u001b[0m       \u001b[0mnp\u001b[0m\u001b[1;33m.\u001b[0m\u001b[0msort\u001b[0m\u001b[1;33m(\u001b[0m\u001b[0ma\u001b[0m\u001b[1;33m,\u001b[0m \u001b[0maxis\u001b[0m\u001b[1;33m=\u001b[0m\u001b[1;33m-\u001b[0m\u001b[1;36m1\u001b[0m\u001b[1;33m,\u001b[0m \u001b[0mkind\u001b[0m\u001b[1;33m=\u001b[0m\u001b[1;32mNone\u001b[0m\u001b[1;33m,\u001b[0m \u001b[0morder\u001b[0m\u001b[1;33m=\u001b[0m\u001b[1;32mNone\u001b[0m\u001b[1;33m)\u001b[0m\u001b[1;33m\u001b[0m\u001b[1;33m\u001b[0m\u001b[0m\n",
       "\u001b[1;31mCall signature:\u001b[0m  \u001b[0mnp\u001b[0m\u001b[1;33m.\u001b[0m\u001b[0msort\u001b[0m\u001b[1;33m(\u001b[0m\u001b[1;33m*\u001b[0m\u001b[0margs\u001b[0m\u001b[1;33m,\u001b[0m \u001b[1;33m**\u001b[0m\u001b[0mkwargs\u001b[0m\u001b[1;33m)\u001b[0m\u001b[1;33m\u001b[0m\u001b[1;33m\u001b[0m\u001b[0m\n",
       "\u001b[1;31mType:\u001b[0m            _ArrayFunctionDispatcher\n",
       "\u001b[1;31mString form:\u001b[0m     <function sort at 0x000001B43EFFAF20>\n",
       "\u001b[1;31mFile:\u001b[0m            c:\\users\\user\\anaconda3\\lib\\site-packages\\numpy\\core\\fromnumeric.py\n",
       "\u001b[1;31mDocstring:\u001b[0m      \n",
       "Return a sorted copy of an array.\n",
       "\n",
       "Parameters\n",
       "----------\n",
       "a : array_like\n",
       "    Array to be sorted.\n",
       "axis : int or None, optional\n",
       "    Axis along which to sort. If None, the array is flattened before\n",
       "    sorting. The default is -1, which sorts along the last axis.\n",
       "kind : {'quicksort', 'mergesort', 'heapsort', 'stable'}, optional\n",
       "    Sorting algorithm. The default is 'quicksort'. Note that both 'stable'\n",
       "    and 'mergesort' use timsort or radix sort under the covers and, in general,\n",
       "    the actual implementation will vary with data type. The 'mergesort' option\n",
       "    is retained for backwards compatibility.\n",
       "\n",
       "    .. versionchanged:: 1.15.0.\n",
       "       The 'stable' option was added.\n",
       "\n",
       "order : str or list of str, optional\n",
       "    When `a` is an array with fields defined, this argument specifies\n",
       "    which fields to compare first, second, etc.  A single field can\n",
       "    be specified as a string, and not all fields need be specified,\n",
       "    but unspecified fields will still be used, in the order in which\n",
       "    they come up in the dtype, to break ties.\n",
       "\n",
       "Returns\n",
       "-------\n",
       "sorted_array : ndarray\n",
       "    Array of the same type and shape as `a`.\n",
       "\n",
       "See Also\n",
       "--------\n",
       "ndarray.sort : Method to sort an array in-place.\n",
       "argsort : Indirect sort.\n",
       "lexsort : Indirect stable sort on multiple keys.\n",
       "searchsorted : Find elements in a sorted array.\n",
       "partition : Partial sort.\n",
       "\n",
       "Notes\n",
       "-----\n",
       "The various sorting algorithms are characterized by their average speed,\n",
       "worst case performance, work space size, and whether they are stable. A\n",
       "stable sort keeps items with the same key in the same relative\n",
       "order. The four algorithms implemented in NumPy have the following\n",
       "properties:\n",
       "\n",
       "=========== ======= ============= ============ ========\n",
       "   kind      speed   worst case    work space   stable\n",
       "=========== ======= ============= ============ ========\n",
       "'quicksort'    1     O(n^2)            0          no\n",
       "'heapsort'     3     O(n*log(n))       0          no\n",
       "'mergesort'    2     O(n*log(n))      ~n/2        yes\n",
       "'timsort'      2     O(n*log(n))      ~n/2        yes\n",
       "=========== ======= ============= ============ ========\n",
       "\n",
       ".. note:: The datatype determines which of 'mergesort' or 'timsort'\n",
       "   is actually used, even if 'mergesort' is specified. User selection\n",
       "   at a finer scale is not currently available.\n",
       "\n",
       "All the sort algorithms make temporary copies of the data when\n",
       "sorting along any but the last axis.  Consequently, sorting along\n",
       "the last axis is faster and uses less space than sorting along\n",
       "any other axis.\n",
       "\n",
       "The sort order for complex numbers is lexicographic. If both the real\n",
       "and imaginary parts are non-nan then the order is determined by the\n",
       "real parts except when they are equal, in which case the order is\n",
       "determined by the imaginary parts.\n",
       "\n",
       "Previous to numpy 1.4.0 sorting real and complex arrays containing nan\n",
       "values led to undefined behaviour. In numpy versions >= 1.4.0 nan\n",
       "values are sorted to the end. The extended sort order is:\n",
       "\n",
       "  * Real: [R, nan]\n",
       "  * Complex: [R + Rj, R + nanj, nan + Rj, nan + nanj]\n",
       "\n",
       "where R is a non-nan real value. Complex values with the same nan\n",
       "placements are sorted according to the non-nan part if it exists.\n",
       "Non-nan values are sorted as before.\n",
       "\n",
       ".. versionadded:: 1.12.0\n",
       "\n",
       "quicksort has been changed to `introsort <https://en.wikipedia.org/wiki/Introsort>`_.\n",
       "When sorting does not make enough progress it switches to\n",
       "`heapsort <https://en.wikipedia.org/wiki/Heapsort>`_.\n",
       "This implementation makes quicksort O(n*log(n)) in the worst case.\n",
       "\n",
       "'stable' automatically chooses the best stable sorting algorithm\n",
       "for the data type being sorted.\n",
       "It, along with 'mergesort' is currently mapped to\n",
       "`timsort <https://en.wikipedia.org/wiki/Timsort>`_\n",
       "or `radix sort <https://en.wikipedia.org/wiki/Radix_sort>`_\n",
       "depending on the data type.\n",
       "API forward compatibility currently limits the\n",
       "ability to select the implementation and it is hardwired for the different\n",
       "data types.\n",
       "\n",
       ".. versionadded:: 1.17.0\n",
       "\n",
       "Timsort is added for better performance on already or nearly\n",
       "sorted data. On random data timsort is almost identical to\n",
       "mergesort. It is now used for stable sort while quicksort is still the\n",
       "default sort if none is chosen. For timsort details, refer to\n",
       "`CPython listsort.txt <https://github.com/python/cpython/blob/3.7/Objects/listsort.txt>`_.\n",
       "'mergesort' and 'stable' are mapped to radix sort for integer data types. Radix sort is an\n",
       "O(n) sort instead of O(n log n).\n",
       "\n",
       ".. versionchanged:: 1.18.0\n",
       "\n",
       "NaT now sorts to the end of arrays for consistency with NaN.\n",
       "\n",
       "Examples\n",
       "--------\n",
       ">>> a = np.array([[1,4],[3,1]])\n",
       ">>> np.sort(a)                # sort along the last axis\n",
       "array([[1, 4],\n",
       "       [1, 3]])\n",
       ">>> np.sort(a, axis=None)     # sort the flattened array\n",
       "array([1, 1, 3, 4])\n",
       ">>> np.sort(a, axis=0)        # sort along the first axis\n",
       "array([[1, 1],\n",
       "       [3, 4]])\n",
       "\n",
       "Use the `order` keyword to specify a field to use when sorting a\n",
       "structured array:\n",
       "\n",
       ">>> dtype = [('name', 'S10'), ('height', float), ('age', int)]\n",
       ">>> values = [('Arthur', 1.8, 41), ('Lancelot', 1.9, 38),\n",
       "...           ('Galahad', 1.7, 38)]\n",
       ">>> a = np.array(values, dtype=dtype)       # create a structured array\n",
       ">>> np.sort(a, order='height')                        # doctest: +SKIP\n",
       "array([('Galahad', 1.7, 38), ('Arthur', 1.8, 41),\n",
       "       ('Lancelot', 1.8999999999999999, 38)],\n",
       "      dtype=[('name', '|S10'), ('height', '<f8'), ('age', '<i4')])\n",
       "\n",
       "Sort by age, then height if ages are equal:\n",
       "\n",
       ">>> np.sort(a, order=['age', 'height'])               # doctest: +SKIP\n",
       "array([('Galahad', 1.7, 38), ('Lancelot', 1.8999999999999999, 38),\n",
       "       ('Arthur', 1.8, 41)],\n",
       "      dtype=[('name', '|S10'), ('height', '<f8'), ('age', '<i4')])\n",
       "\u001b[1;31mClass docstring:\u001b[0m\n",
       "Class to wrap functions with checks for __array_function__ overrides.\n",
       "\n",
       "All arguments are required, and can only be passed by position.\n",
       "\n",
       "Parameters\n",
       "----------\n",
       "dispatcher : function or None\n",
       "    The dispatcher function that returns a single sequence-like object\n",
       "    of all arguments relevant.  It must have the same signature (except\n",
       "    the default values) as the actual implementation.\n",
       "    If ``None``, this is a ``like=`` dispatcher and the\n",
       "    ``_ArrayFunctionDispatcher`` must be called with ``like`` as the\n",
       "    first (additional and positional) argument.\n",
       "implementation : function\n",
       "    Function that implements the operation on NumPy arrays without\n",
       "    overrides.  Arguments passed calling the ``_ArrayFunctionDispatcher``\n",
       "    will be forwarded to this (and the ``dispatcher``) as if using\n",
       "    ``*args, **kwargs``.\n",
       "\n",
       "Attributes\n",
       "----------\n",
       "_implementation : function\n",
       "    The original implementation passed in."
      ]
     },
     "metadata": {},
     "output_type": "display_data"
    }
   ],
   "source": [
    "np.sort?\n"
   ]
  },
  {
   "cell_type": "code",
   "execution_count": 89,
   "id": "bbfef955-6742-461d-8a97-33a3f2d6d305",
   "metadata": {},
   "outputs": [
    {
     "data": {
      "text/plain": [
       "array([[13, 20, 41],\n",
       "       [ 3,  4, 47],\n",
       "       [ 4,  9, 30],\n",
       "       [ 8, 23, 39]])"
      ]
     },
     "execution_count": 89,
     "metadata": {},
     "output_type": "execute_result"
    }
   ],
   "source": [
    "np.sort(m2)  # 행안에서 열정렬"
   ]
  },
  {
   "cell_type": "code",
   "execution_count": 90,
   "id": "138c1f8f-3ef7-4b95-8bb6-a23b1476e294",
   "metadata": {},
   "outputs": [
    {
     "data": {
      "text/plain": [
       "array([[ 3,  4, 20],\n",
       "       [ 9,  4, 30],\n",
       "       [23,  8, 39],\n",
       "       [41, 13, 47]])"
      ]
     },
     "execution_count": 90,
     "metadata": {},
     "output_type": "execute_result"
    }
   ],
   "source": [
    "np.sort(m2, axis=0) # 행방향 오름차순(요소별로)"
   ]
  },
  {
   "cell_type": "code",
   "execution_count": 91,
   "id": "611de089-3267-4a9f-b789-c0c8d4545345",
   "metadata": {},
   "outputs": [
    {
     "data": {
      "text/plain": [
       "array([[23,  8, 39],\n",
       "       [ 9,  4, 30],\n",
       "       [ 3,  4, 47],\n",
       "       [41, 13, 20]])"
      ]
     },
     "execution_count": 91,
     "metadata": {},
     "output_type": "execute_result"
    }
   ],
   "source": [
    "m2[::-1, ::] # 행전체가 역순으로 바뀌는 것과는 다르다"
   ]
  },
  {
   "cell_type": "code",
   "execution_count": 92,
   "id": "ae35609a-cfd7-4a70-9944-a045e83d63ad",
   "metadata": {},
   "outputs": [
    {
     "data": {
      "text/plain": [
       "array([[41, 13, 20],\n",
       "       [ 3,  4, 47],\n",
       "       [ 9,  4, 30],\n",
       "       [23,  8, 39]])"
      ]
     },
     "execution_count": 92,
     "metadata": {},
     "output_type": "execute_result"
    }
   ],
   "source": [
    "m2"
   ]
  },
  {
   "cell_type": "code",
   "execution_count": 93,
   "id": "ed143aec-cdc5-4b13-b6e0-336cc9dfb44b",
   "metadata": {},
   "outputs": [
    {
     "data": {
      "text/plain": [
       "array([[13, 20, 41],\n",
       "       [ 3,  4, 47],\n",
       "       [ 4,  9, 30],\n",
       "       [ 8, 23, 39]])"
      ]
     },
     "execution_count": 93,
     "metadata": {},
     "output_type": "execute_result"
    }
   ],
   "source": [
    "np.sort(m2, axis=1) # 열방향 오름차순\n"
   ]
  },
  {
   "cell_type": "code",
   "execution_count": 94,
   "id": "be93496d-b572-4cc9-8c68-0b577ad4d190",
   "metadata": {},
   "outputs": [
    {
     "data": {
      "text/plain": [
       "array([[39,  8, 23],\n",
       "       [30,  4,  9],\n",
       "       [47,  4,  3],\n",
       "       [20, 13, 41]])"
      ]
     },
     "execution_count": 94,
     "metadata": {},
     "output_type": "execute_result"
    }
   ],
   "source": [
    "m2[::-1, ::-1] "
   ]
  },
  {
   "cell_type": "markdown",
   "id": "d5624767-03ff-4599-8c46-c071f0a872d3",
   "metadata": {},
   "source": [
    "## 인덱스 소팅"
   ]
  },
  {
   "cell_type": "code",
   "execution_count": 96,
   "id": "1e58ab2c-70c6-4240-a121-de47eaed1858",
   "metadata": {},
   "outputs": [
    {
     "data": {
      "text/plain": [
       "array([2, 1, 0], dtype=int64)"
      ]
     },
     "execution_count": 96,
     "metadata": {},
     "output_type": "execute_result"
    }
   ],
   "source": [
    "x = np.array([9,5,4])\n",
    "np.argsort(x) # 오름차순 정렬 4 5 9 의 인덱스 값 "
   ]
  },
  {
   "cell_type": "code",
   "execution_count": 97,
   "id": "f6315436-83f5-4a85-9a99-816531d3d5e5",
   "metadata": {},
   "outputs": [
    {
     "data": {
      "text/plain": [
       "array([4, 5, 9])"
      ]
     },
     "execution_count": 97,
     "metadata": {},
     "output_type": "execute_result"
    }
   ],
   "source": [
    "x[np.argsort(x)] # 인덱스값으로 실제 값 출력"
   ]
  },
  {
   "cell_type": "markdown",
   "id": "ca700c72-7f8c-47a7-89d5-f55a6b826030",
   "metadata": {},
   "source": [
    "넘파이 배열 요소 추가와 삭제\n",
    "* 삽입\n",
    "  * np.insert(배열, 위치인덱스, 값, axis=0/1)  * 2차원인 경우 axis를 설정하지 않으면 1차원 배열로 변경되어 삽입출력\n",
    "\n",
    "- 삭제\n",
    "\n",
    "- np.delete(배열명, 위치인덱스, axis=0/1)"
   ]
  },
  {
   "cell_type": "markdown",
   "id": "00ac6442-7408-4189-918c-3d5d33b02cdc",
   "metadata": {},
   "source": [
    "## 넘파이 배열 요소 추가와 삭제\n",
    "삽입\n",
    "\n",
    "np.insert(배열, 위치인덱스, 값, axis=0/1)\n",
    "2차원인 경우 axis를 설정하지 않으면 1차원 배열로 변경되어 삽입출력\n",
    "삭제\n",
    "\n",
    "np.delete(배열명, 위치인덱스, axis=0/1)"
   ]
  },
  {
   "cell_type": "code",
   "execution_count": 101,
   "id": "1d66028c-1d35-4f7d-aa5c-479712a0888e",
   "metadata": {},
   "outputs": [
    {
     "data": {
      "text/plain": [
       "array([ 1,  2,  3,  4,  5,  6,  7,  8,  9, 10])"
      ]
     },
     "execution_count": 101,
     "metadata": {},
     "output_type": "execute_result"
    }
   ],
   "source": [
    "m3 = np.arange(1,11)\n",
    "m3"
   ]
  },
  {
   "cell_type": "code",
   "execution_count": 102,
   "id": "0fb5f9ea-6e36-4121-9edb-c2563c7e4e72",
   "metadata": {},
   "outputs": [
    {
     "data": {
      "text/plain": [
       "array([100,   1,   2,   3,   4,   5,   6,   7,   8,   9,  10])"
      ]
     },
     "execution_count": 102,
     "metadata": {},
     "output_type": "execute_result"
    }
   ],
   "source": [
    "np.insert(m3, 0, 100)"
   ]
  },
  {
   "cell_type": "code",
   "execution_count": 103,
   "id": "f93a3aa1-1be3-4b91-be34-26292d15528f",
   "metadata": {},
   "outputs": [
    {
     "data": {
      "text/plain": [
       "1"
      ]
     },
     "execution_count": 103,
     "metadata": {},
     "output_type": "execute_result"
    }
   ],
   "source": [
    "m3[0]"
   ]
  },
  {
   "cell_type": "code",
   "execution_count": 104,
   "id": "a795f4fb-e302-4eeb-9f42-28573760c379",
   "metadata": {},
   "outputs": [
    {
     "data": {
      "text/plain": [
       "10"
      ]
     },
     "execution_count": 104,
     "metadata": {},
     "output_type": "execute_result"
    }
   ],
   "source": [
    "m3[-1]"
   ]
  },
  {
   "cell_type": "code",
   "execution_count": 105,
   "id": "fb7a711c-b216-4b5f-98ad-b2fcb0b1de96",
   "metadata": {},
   "outputs": [
    {
     "data": {
      "text/plain": [
       "array([  1,   2,   3,   4,   5,   6,   7,   8,   9, 500,  10])"
      ]
     },
     "execution_count": 105,
     "metadata": {},
     "output_type": "execute_result"
    }
   ],
   "source": [
    "np.insert(m3, -1, 500)  # 인덱싱/슬라이싱 end처럼 인식"
   ]
  },
  {
   "cell_type": "code",
   "execution_count": 106,
   "id": "17faea16-167f-4a23-8c6a-c5db7a1e7d91",
   "metadata": {},
   "outputs": [
    {
     "data": {
      "text/plain": [
       "array([  1,   2,   3,   4,   5,   6,   7,   8,   9,  10, 500])"
      ]
     },
     "execution_count": 106,
     "metadata": {},
     "output_type": "execute_result"
    }
   ],
   "source": [
    "np.insert(m3, len(m3), 500) "
   ]
  },
  {
   "cell_type": "code",
   "execution_count": 107,
   "id": "bfa4dccc-c69a-48f5-999a-08caa37306b0",
   "metadata": {},
   "outputs": [
    {
     "data": {
      "text/plain": [
       "array([[1, 2, 3],\n",
       "       [4, 5, 6],\n",
       "       [7, 8, 9]])"
      ]
     },
     "execution_count": 107,
     "metadata": {},
     "output_type": "execute_result"
    }
   ],
   "source": [
    "m4 = np.arange(1,10).reshape(3,3)\n",
    "m4"
   ]
  },
  {
   "cell_type": "code",
   "execution_count": 108,
   "id": "f795b79c-cf66-4971-a4a8-60b1002d303b",
   "metadata": {},
   "outputs": [
    {
     "data": {
      "text/plain": [
       "array([100,   1,   2,   3,   4,   5,   6,   7,   8,   9])"
      ]
     },
     "execution_count": 108,
     "metadata": {},
     "output_type": "execute_result"
    }
   ],
   "source": [
    "np.insert(m4, 0, 100) # 2차원배열의 경우 axis 미설정시 1차원으로 변경되어 삽입\n"
   ]
  },
  {
   "cell_type": "code",
   "execution_count": 109,
   "id": "8901a709-527c-486e-a057-1fef11451046",
   "metadata": {},
   "outputs": [
    {
     "data": {
      "text/plain": [
       "array([[100,   1,   2,   3],\n",
       "       [100,   4,   5,   6],\n",
       "       [100,   7,   8,   9]])"
      ]
     },
     "execution_count": 109,
     "metadata": {},
     "output_type": "execute_result"
    }
   ],
   "source": [
    "# 1열으로 [100,100,100] 삽입\n",
    "np.insert(m4, 0, 100, axis=1)"
   ]
  },
  {
   "cell_type": "code",
   "execution_count": 110,
   "id": "4f43d388-6901-4b3c-8f87-d6f0675f027b",
   "metadata": {},
   "outputs": [
    {
     "data": {
      "text/plain": [
       "array([[100,   1,   2,   3],\n",
       "       [200,   4,   5,   6],\n",
       "       [300,   7,   8,   9]])"
      ]
     },
     "execution_count": 110,
     "metadata": {},
     "output_type": "execute_result"
    }
   ],
   "source": [
    "# 리스트로 삽입\n",
    "np.insert(m4, 0, [100,200,300], axis=1)"
   ]
  },
  {
   "cell_type": "code",
   "execution_count": 111,
   "id": "94c435ab-12c1-4ed2-a65e-b5fa3dfb4e0b",
   "metadata": {},
   "outputs": [
    {
     "data": {
      "text/plain": [
       "((3, 3), 3, 3)"
      ]
     },
     "execution_count": 111,
     "metadata": {},
     "output_type": "execute_result"
    }
   ],
   "source": [
    "m4.shape, m4.shape[1], len(m4)"
   ]
  },
  {
   "cell_type": "code",
   "execution_count": 112,
   "id": "bcee9c35-f71a-40f9-9070-1b7810e76060",
   "metadata": {},
   "outputs": [
    {
     "data": {
      "text/plain": [
       "array([[  1,   2,   3, 100],\n",
       "       [  4,   5,   6, 200],\n",
       "       [  7,   8,   9, 300]])"
      ]
     },
     "execution_count": 112,
     "metadata": {},
     "output_type": "execute_result"
    }
   ],
   "source": [
    "# 마지막 컬럼으로 삽입\n",
    "# 배열명.shape[1] 칼럼 길이\n",
    "np.insert(m4, m4.shape[1], [100,200,300], axis=1)"
   ]
  },
  {
   "cell_type": "code",
   "execution_count": 113,
   "id": "bb04d7b2-520c-42f8-bb41-4d07c2bfb564",
   "metadata": {},
   "outputs": [
    {
     "data": {
      "text/plain": [
       "array([[  1,   2,   3],\n",
       "       [  4,   5,   6],\n",
       "       [  7,   8,   9],\n",
       "       [100, 200, 300]])"
      ]
     },
     "execution_count": 113,
     "metadata": {},
     "output_type": "execute_result"
    }
   ],
   "source": [
    "# 마지막 행에 삽입\n",
    "np.insert(m4, m4.shape[0], [100,200,300], axis=0)"
   ]
  },
  {
   "cell_type": "code",
   "execution_count": 114,
   "id": "4af5c349-f145-4923-9963-7b3057c08ca8",
   "metadata": {},
   "outputs": [
    {
     "data": {
      "text/plain": [
       "array([[1, 2, 3],\n",
       "       [4, 5, 6],\n",
       "       [7, 8, 9]])"
      ]
     },
     "execution_count": 114,
     "metadata": {},
     "output_type": "execute_result"
    }
   ],
   "source": [
    "m4"
   ]
  },
  {
   "cell_type": "code",
   "execution_count": 115,
   "id": "9b970f26-5a56-4f02-90e6-9b8369a75409",
   "metadata": {},
   "outputs": [
    {
     "data": {
      "text/plain": [
       "array([[4, 5, 6],\n",
       "       [7, 8, 9]])"
      ]
     },
     "execution_count": 115,
     "metadata": {},
     "output_type": "execute_result"
    }
   ],
   "source": [
    "np.delete(m4, 0, axis=0)\n"
   ]
  },
  {
   "cell_type": "markdown",
   "id": "969ad177-2d5e-4e9d-92da-a314f50dc1bb",
   "metadata": {},
   "source": [
    "## 배열 합치기\n",
    "*  np.vstack((배열1,배열2....)) : 세로 합치기\n",
    "*  np.hstack((배열1,배열2....)) : 가로 합치기\n",
    "*  np.concatenate((배열1, 배열2), axis=0/1 ) 2차원만 가능"
   ]
  },
  {
   "cell_type": "code",
   "execution_count": 117,
   "id": "ba3221a7-4301-4b89-b37a-821613c76bc8",
   "metadata": {},
   "outputs": [
    {
     "data": {
      "text/plain": [
       "array([[1, 2, 3],\n",
       "       [4, 5, 6]])"
      ]
     },
     "execution_count": 117,
     "metadata": {},
     "output_type": "execute_result"
    }
   ],
   "source": [
    "a = np.array([1,2,3])\n",
    "b = np.array([4,5,6])\n",
    "np.vstack((a,b))"
   ]
  },
  {
   "cell_type": "code",
   "execution_count": 118,
   "id": "ad70b0ca-1e6e-4e77-9c4e-3ea70adb8065",
   "metadata": {},
   "outputs": [
    {
     "data": {
      "text/plain": [
       "array([1, 2, 3, 4, 5, 6])"
      ]
     },
     "execution_count": 118,
     "metadata": {},
     "output_type": "execute_result"
    }
   ],
   "source": [
    "np.hstack((a,b))"
   ]
  },
  {
   "cell_type": "code",
   "execution_count": 119,
   "id": "2629ca14-a29e-452c-a9eb-823ab6077b2d",
   "metadata": {},
   "outputs": [
    {
     "data": {
      "text/plain": [
       "(array([[1, 2, 3]]), 2, (1, 3))"
      ]
     },
     "execution_count": 119,
     "metadata": {},
     "output_type": "execute_result"
    }
   ],
   "source": [
    "c = np.array([[1,2,3]]) # 2차원\n",
    "c, c.ndim, c.shape"
   ]
  },
  {
   "cell_type": "code",
   "execution_count": 120,
   "id": "e0ece96f-2043-460e-964a-ae3ac06b3e6b",
   "metadata": {},
   "outputs": [
    {
     "data": {
      "text/plain": [
       "(array([[4, 5, 6]]), 2, (1, 3))"
      ]
     },
     "execution_count": 120,
     "metadata": {},
     "output_type": "execute_result"
    }
   ],
   "source": [
    "d = np.array([[4,5,6]]) # 2차원\n",
    "d, d.ndim, d.shape"
   ]
  },
  {
   "cell_type": "code",
   "execution_count": 121,
   "id": "f236a834-4d20-4e62-a4ce-4a41a4b168f1",
   "metadata": {},
   "outputs": [
    {
     "data": {
      "text/plain": [
       "(array([[1, 2, 3],\n",
       "        [4, 5, 6]]),\n",
       " 2,\n",
       " (2, 3))"
      ]
     },
     "execution_count": 121,
     "metadata": {},
     "output_type": "execute_result"
    }
   ],
   "source": [
    "f = np.concatenate((c,d), axis=0) #\n",
    "f, f.ndim, f.shape"
   ]
  },
  {
   "cell_type": "code",
   "execution_count": 122,
   "id": "e08c0455-4bad-48af-94e1-36fc015263cb",
   "metadata": {},
   "outputs": [
    {
     "data": {
      "text/plain": [
       "(array([[1, 2, 3, 4, 5, 6]]), 2, (1, 6))"
      ]
     },
     "execution_count": 122,
     "metadata": {},
     "output_type": "execute_result"
    }
   ],
   "source": [
    "f = np.concatenate((c,d), axis=1) #\n",
    "f, f.ndim, f.shape"
   ]
  },
  {
   "cell_type": "markdown",
   "id": "487f436f-b1ec-4fcf-97a5-043cf5f804bb",
   "metadata": {},
   "source": [
    "## boolean indexing, mask\n",
    "*  조건절의 결과는 True, False로 반환\n",
    "*  True인 결과의 데이터 반환\n",
    "*  넘파이배열[조건절] : ==, !=, <=, >=, &, |, ~"
   ]
  },
  {
   "cell_type": "code",
   "execution_count": 125,
   "id": "86d1d019-b681-4123-8d12-bbf828656e56",
   "metadata": {},
   "outputs": [
    {
     "data": {
      "text/plain": [
       "array([ 1,  2,  3,  4,  5,  6,  7,  8,  9, 10, 11, 12, 13, 14, 15, 16, 17,\n",
       "       18, 19, 20])"
      ]
     },
     "execution_count": 125,
     "metadata": {},
     "output_type": "execute_result"
    }
   ],
   "source": [
    "matrix = np.arange(1, 21)\n",
    "matrix"
   ]
  },
  {
   "cell_type": "code",
   "execution_count": 126,
   "id": "c860e297-24ce-4f7f-830e-c43bc286f254",
   "metadata": {},
   "outputs": [
    {
     "data": {
      "text/plain": [
       "array([False, False, False, False, False, False, False, False, False,\n",
       "       False,  True,  True,  True,  True,  True,  True,  True,  True,\n",
       "        True,  True])"
      ]
     },
     "execution_count": 126,
     "metadata": {},
     "output_type": "execute_result"
    }
   ],
   "source": [
    "matrix > 10"
   ]
  },
  {
   "cell_type": "code",
   "execution_count": 127,
   "id": "ad0f75c0-e5db-4dd4-84d9-ba14488bf71c",
   "metadata": {},
   "outputs": [
    {
     "data": {
      "text/plain": [
       "array([11, 12, 13, 14, 15, 16, 17, 18, 19, 20])"
      ]
     },
     "execution_count": 127,
     "metadata": {},
     "output_type": "execute_result"
    }
   ],
   "source": [
    "matrix[matrix > 10]\n"
   ]
  },
  {
   "cell_type": "code",
   "execution_count": 128,
   "id": "902b7213-3463-4e55-b50e-1c5a8a531157",
   "metadata": {},
   "outputs": [
    {
     "data": {
      "text/plain": [
       "10"
      ]
     },
     "execution_count": 128,
     "metadata": {},
     "output_type": "execute_result"
    }
   ],
   "source": [
    "(matrix > 10).sum()\n"
   ]
  },
  {
   "cell_type": "code",
   "execution_count": 130,
   "id": "0e246610-1517-41df-b10d-815c4ebb11dc",
   "metadata": {},
   "outputs": [
    {
     "data": {
      "text/plain": [
       "10"
      ]
     },
     "execution_count": 130,
     "metadata": {},
     "output_type": "execute_result"
    }
   ],
   "source": [
    "np.sum(matrix > 10)"
   ]
  },
  {
   "cell_type": "markdown",
   "id": "1df93da1-1ec7-4b6d-82ce-b97548124a19",
   "metadata": {},
   "source": [
    "### Quiz : 1~100사이 난수 30개를 추출하여 넘파이 배열을 생성하고, 30보다 크거나 70보다 작은 수를 출력하라\n"
   ]
  },
  {
   "cell_type": "code",
   "execution_count": 136,
   "id": "80efbfcb-0cd4-4b61-9485-c01f5fcb7fee",
   "metadata": {},
   "outputs": [
    {
     "data": {
      "text/plain": [
       "array([False,  True,  True, False, False,  True, False,  True,  True,\n",
       "        True,  True, False,  True, False, False,  True, False, False,\n",
       "       False,  True, False, False, False, False,  True, False, False,\n",
       "        True, False, False])"
      ]
     },
     "execution_count": 136,
     "metadata": {},
     "output_type": "execute_result"
    }
   ],
   "source": [
    "matrix = np.random.randint(1, 100, 30)\n",
    "(matrix> 30) & (matrix< 70)"
   ]
  },
  {
   "cell_type": "code",
   "execution_count": 139,
   "id": "f2b6fcdf-7791-4db8-b235-2c47e9fef274",
   "metadata": {},
   "outputs": [
    {
     "data": {
      "text/plain": [
       "array([33, 40, 39, 54, 38, 35, 39, 59, 34, 39, 40, 50])"
      ]
     },
     "execution_count": 139,
     "metadata": {},
     "output_type": "execute_result"
    }
   ],
   "source": [
    "matrix[(matrix> 30) & (matrix< 70)]"
   ]
  },
  {
   "cell_type": "code",
   "execution_count": 152,
   "id": "e316f001-0498-47b1-a52c-ef621fb5eb22",
   "metadata": {},
   "outputs": [
    {
     "data": {
      "text/plain": [
       "array([ True,  True,  True,  True,  True,  True,  True,  True,  True,\n",
       "       False, False, False, False, False, False, False, False, False,\n",
       "       False, False, False, False, False, False, False, False, False,\n",
       "       False, False, False, False, False, False, False, False, False,\n",
       "       False, False, False, False, False, False, False, False, False,\n",
       "       False, False, False, False, False, False, False, False, False,\n",
       "       False, False, False, False, False, False, False, False, False,\n",
       "       False, False, False, False, False, False, False, False, False,\n",
       "       False, False, False, False, False, False, False, False, False,\n",
       "       False, False, False, False, False, False, False, False])"
      ]
     },
     "execution_count": 152,
     "metadata": {},
     "output_type": "execute_result"
    }
   ],
   "source": [
    "#10보다 작거나 90보다큰수\n",
    "matrix = np.arange(1, 90)\n",
    "(matrix> 90) + (matrix< 10)"
   ]
  },
  {
   "cell_type": "code",
   "execution_count": 150,
   "id": "a92f34cf-1429-4228-92af-66c86cbd43ad",
   "metadata": {},
   "outputs": [
    {
     "data": {
      "text/plain": [
       "array([1, 2, 3, 4, 5, 6, 7, 8, 9])"
      ]
     },
     "execution_count": 150,
     "metadata": {},
     "output_type": "execute_result"
    }
   ],
   "source": [
    "matrix[(matrix> 90)+ (matrix< 10)]"
   ]
  },
  {
   "cell_type": "code",
   "execution_count": 154,
   "id": "c97cfe51-d522-42a6-8c37-5261fbf35acf",
   "metadata": {},
   "outputs": [
    {
     "data": {
      "text/plain": [
       "(array([ 1,  2,  3,  4,  5,  6,  7,  8,  9, 10, 11, 12, 13, 14, 15, 16, 17,\n",
       "        18, 19, 20, 21, 22, 23, 24, 25, 26, 27, 28, 29, 30, 31, 32, 33, 34,\n",
       "        35, 36, 37, 38, 39, 40, 41, 42, 43, 44, 45, 46, 47, 48, 49, 50, 51,\n",
       "        52, 53, 54, 55, 56, 57, 58, 59, 60, 61, 62, 63, 64, 65, 66, 67, 68,\n",
       "        69, 70, 71, 72, 73, 74, 75, 76, 77, 78, 79, 80, 81, 82, 83, 84, 85,\n",
       "        86, 87, 88, 89]),\n",
       " array([1, 2, 3, 4, 5, 6, 7, 8, 9]))"
      ]
     },
     "execution_count": 154,
     "metadata": {},
     "output_type": "execute_result"
    }
   ],
   "source": [
    "matrix, matrix[(matrix < 10) | (matrix > 90)]"
   ]
  },
  {
   "cell_type": "markdown",
   "id": "77e1e685-4712-4dc4-a019-739764c30cdb",
   "metadata": {},
   "source": [
    "## np.where()를 이용한 필터링\n",
    "* np.where(조건식) : 조건식 만족하는 인덱스 반환\n",
    "* np.where(조건식, T, F) : 조건식 만족하면 T값, 아니면F값\n",
    "* 배열[np.where(조건식)] : 조건식 만족하는 실제 배열값"
   ]
  },
  {
   "cell_type": "code",
   "execution_count": 156,
   "id": "e9e93045-da7d-46d7-b38d-379af048fbba",
   "metadata": {
    "collapsed": true,
    "jupyter": {
     "outputs_hidden": true
    }
   },
   "outputs": [
    {
     "data": {
      "text/plain": [
       "\u001b[1;31mCall signature:\u001b[0m  \u001b[0mnp\u001b[0m\u001b[1;33m.\u001b[0m\u001b[0mwhere\u001b[0m\u001b[1;33m(\u001b[0m\u001b[1;33m*\u001b[0m\u001b[0margs\u001b[0m\u001b[1;33m,\u001b[0m \u001b[1;33m**\u001b[0m\u001b[0mkwargs\u001b[0m\u001b[1;33m)\u001b[0m\u001b[1;33m\u001b[0m\u001b[1;33m\u001b[0m\u001b[0m\n",
       "\u001b[1;31mType:\u001b[0m            _ArrayFunctionDispatcher\n",
       "\u001b[1;31mString form:\u001b[0m     <built-in function where>\n",
       "\u001b[1;31mDocstring:\u001b[0m      \n",
       "where(condition, [x, y], /)\n",
       "\n",
       "Return elements chosen from `x` or `y` depending on `condition`.\n",
       "\n",
       ".. note::\n",
       "    When only `condition` is provided, this function is a shorthand for\n",
       "    ``np.asarray(condition).nonzero()``. Using `nonzero` directly should be\n",
       "    preferred, as it behaves correctly for subclasses. The rest of this\n",
       "    documentation covers only the case where all three arguments are\n",
       "    provided.\n",
       "\n",
       "Parameters\n",
       "----------\n",
       "condition : array_like, bool\n",
       "    Where True, yield `x`, otherwise yield `y`.\n",
       "x, y : array_like\n",
       "    Values from which to choose. `x`, `y` and `condition` need to be\n",
       "    broadcastable to some shape.\n",
       "\n",
       "Returns\n",
       "-------\n",
       "out : ndarray\n",
       "    An array with elements from `x` where `condition` is True, and elements\n",
       "    from `y` elsewhere.\n",
       "\n",
       "See Also\n",
       "--------\n",
       "choose\n",
       "nonzero : The function that is called when x and y are omitted\n",
       "\n",
       "Notes\n",
       "-----\n",
       "If all the arrays are 1-D, `where` is equivalent to::\n",
       "\n",
       "    [xv if c else yv\n",
       "     for c, xv, yv in zip(condition, x, y)]\n",
       "\n",
       "Examples\n",
       "--------\n",
       ">>> a = np.arange(10)\n",
       ">>> a\n",
       "array([0, 1, 2, 3, 4, 5, 6, 7, 8, 9])\n",
       ">>> np.where(a < 5, a, 10*a)\n",
       "array([ 0,  1,  2,  3,  4, 50, 60, 70, 80, 90])\n",
       "\n",
       "This can be used on multidimensional arrays too:\n",
       "\n",
       ">>> np.where([[True, False], [True, True]],\n",
       "...          [[1, 2], [3, 4]],\n",
       "...          [[9, 8], [7, 6]])\n",
       "array([[1, 8],\n",
       "       [3, 4]])\n",
       "\n",
       "The shapes of x, y, and the condition are broadcast together:\n",
       "\n",
       ">>> x, y = np.ogrid[:3, :4]\n",
       ">>> np.where(x < y, x, 10 + y)  # both x and 10+y are broadcast\n",
       "array([[10,  0,  0,  0],\n",
       "       [10, 11,  1,  1],\n",
       "       [10, 11, 12,  2]])\n",
       "\n",
       ">>> a = np.array([[0, 1, 2],\n",
       "...               [0, 2, 4],\n",
       "...               [0, 3, 6]])\n",
       ">>> np.where(a < 4, a, -1)  # -1 is broadcast\n",
       "array([[ 0,  1,  2],\n",
       "       [ 0,  2, -1],\n",
       "       [ 0,  3, -1]])\n",
       "\u001b[1;31mClass docstring:\u001b[0m\n",
       "Class to wrap functions with checks for __array_function__ overrides.\n",
       "\n",
       "All arguments are required, and can only be passed by position.\n",
       "\n",
       "Parameters\n",
       "----------\n",
       "dispatcher : function or None\n",
       "    The dispatcher function that returns a single sequence-like object\n",
       "    of all arguments relevant.  It must have the same signature (except\n",
       "    the default values) as the actual implementation.\n",
       "    If ``None``, this is a ``like=`` dispatcher and the\n",
       "    ``_ArrayFunctionDispatcher`` must be called with ``like`` as the\n",
       "    first (additional and positional) argument.\n",
       "implementation : function\n",
       "    Function that implements the operation on NumPy arrays without\n",
       "    overrides.  Arguments passed calling the ``_ArrayFunctionDispatcher``\n",
       "    will be forwarded to this (and the ``dispatcher``) as if using\n",
       "    ``*args, **kwargs``.\n",
       "\n",
       "Attributes\n",
       "----------\n",
       "_implementation : function\n",
       "    The original implementation passed in."
      ]
     },
     "metadata": {},
     "output_type": "display_data"
    }
   ],
   "source": [
    "np.where?\n"
   ]
  },
  {
   "cell_type": "code",
   "execution_count": 157,
   "id": "dc85530c-d6e4-4ec5-8a0c-976ce732fc00",
   "metadata": {},
   "outputs": [
    {
     "data": {
      "text/plain": [
       "(array([0, 1, 2, 3, 4, 5, 6, 7, 8, 9]),\n",
       " array([ 0,  1,  2,  3,  4, 50, 60, 70, 80, 90]))"
      ]
     },
     "execution_count": 157,
     "metadata": {},
     "output_type": "execute_result"
    }
   ],
   "source": [
    "a = np.arange(10)\n",
    "a, np.where(a < 5, a, 10*a)\n",
    "# a가 5보다 작으면 a를, 아니면 10을 곱하여 출력"
   ]
  },
  {
   "cell_type": "code",
   "execution_count": 158,
   "id": "2c79eca8-aa02-4906-b3e2-60c3ced553b4",
   "metadata": {},
   "outputs": [
    {
     "data": {
      "text/plain": [
       "(array([20, 21, 22, 23, 24, 25, 26, 27, 28, 29, 30]),\n",
       " (array([0, 1, 2, 3, 4], dtype=int64),))"
      ]
     },
     "execution_count": 158,
     "metadata": {},
     "output_type": "execute_result"
    }
   ],
   "source": [
    "b = np.arange(20, 31)\n",
    "b, np.where(b<25) # 조건을 하나만 주면 인덱스를 반환함"
   ]
  },
  {
   "cell_type": "code",
   "execution_count": null,
   "id": "f2cc164d-321b-4bd3-9b80-e86a48e729cc",
   "metadata": {},
   "outputs": [],
   "source": []
  },
  {
   "cell_type": "markdown",
   "id": "09c50bc6-b591-4db5-898a-91be638930be",
   "metadata": {},
   "source": [
    "# 판다스"
   ]
  },
  {
   "cell_type": "markdown",
   "id": "c5e6c9d4-fc14-4342-987e-2e3ffa9a8929",
   "metadata": {},
   "source": [
    "## 판다스 패키지 임포트\n",
    "판다스 패키지를 사용하기 위해 우선 임포트를 해야 한다.\n",
    "판다스 패키지는 pd라는 별칭으로 임포트하는 것이 관례이므로 여기에서도 해당 관례를 따르도록 한다."
   ]
  },
  {
   "cell_type": "code",
   "execution_count": 162,
   "id": "68908541-f577-4fa1-a48f-5f94f3202e9c",
   "metadata": {
    "jupyter": {
     "source_hidden": true
    }
   },
   "outputs": [],
   "source": [
    "import pandas as pd"
   ]
  },
  {
   "cell_type": "markdown",
   "id": "18fa31ff-5871-4ce3-a5d6-58f58aee1ccb",
   "metadata": {},
   "source": [
    "## 시리즈 생성¶"
   ]
  },
  {
   "cell_type": "code",
   "execution_count": 166,
   "id": "2ecf6281-47b4-48cd-872e-41c8ad10189a",
   "metadata": {},
   "outputs": [
    {
     "data": {
      "text/plain": [
       "서울    9904312\n",
       "부산    3448737\n",
       "인천    2890451\n",
       "대구    2466052\n",
       "dtype: int64"
      ]
     },
     "execution_count": 166,
     "metadata": {},
     "output_type": "execute_result"
    }
   ],
   "source": [
    "s = pd.Series([9904312, 3448737, 2890451, 2466052],\n",
    "              index=[\"서울\", \"부산\", \"인천\", \"대구\"])\n",
    "s"
   ]
  },
  {
   "cell_type": "code",
   "execution_count": 167,
   "id": "42f4c132-d87f-41f2-bc1c-0050f4a386e5",
   "metadata": {},
   "outputs": [
    {
     "data": {
      "text/plain": [
       "0    10\n",
       "1    11\n",
       "2    12\n",
       "3    13\n",
       "dtype: int64"
      ]
     },
     "execution_count": 167,
     "metadata": {},
     "output_type": "execute_result"
    }
   ],
   "source": [
    "pd.Series(range(10, 14))"
   ]
  },
  {
   "cell_type": "code",
   "execution_count": 168,
   "id": "a1a7f382-4e03-41b3-814f-9942e0bc29f6",
   "metadata": {},
   "outputs": [
    {
     "data": {
      "text/plain": [
       "Index(['서울', '부산', '인천', '대구'], dtype='object')"
      ]
     },
     "execution_count": 168,
     "metadata": {},
     "output_type": "execute_result"
    }
   ],
   "source": [
    "s.index"
   ]
  },
  {
   "cell_type": "code",
   "execution_count": 169,
   "id": "2ed45c67-5704-4612-a2ec-ce7344b72633",
   "metadata": {},
   "outputs": [
    {
     "data": {
      "text/plain": [
       "array([9904312, 3448737, 2890451, 2466052], dtype=int64)"
      ]
     },
     "execution_count": 169,
     "metadata": {},
     "output_type": "execute_result"
    }
   ],
   "source": [
    "s.values"
   ]
  },
  {
   "cell_type": "code",
   "execution_count": 171,
   "id": "b0a38634-65da-4e8e-a36f-068a389f8d18",
   "metadata": {},
   "outputs": [
    {
     "data": {
      "text/plain": [
       "도시\n",
       "서울    9904312\n",
       "부산    3448737\n",
       "인천    2890451\n",
       "대구    2466052\n",
       "Name: 인구, dtype: int64"
      ]
     },
     "execution_count": 171,
     "metadata": {},
     "output_type": "execute_result"
    }
   ],
   "source": [
    "s.name = \"인구\"\n",
    "s.index.name = \"도시\"\n",
    "s"
   ]
  },
  {
   "cell_type": "markdown",
   "id": "bacb0a58-b61e-41bf-ad03-26f7b60aa360",
   "metadata": {},
   "source": [
    "## 시리즈 연산\n",
    "넘파이 배열처럼 시리즈도 벡터화 연산을 할 수 있다.  \n",
    "다만 연산은 시리즈의 값에만 적용되며 인덱스 값은 변하지 않는다.  \n",
    "예를 들어 인구 숫자를 백만 단위로 만들기 위해 시리즈 객체를 1,000,000 으로 나누어도 인덱스 라벨에는 영향을 미치지 않는 것을 볼 수 있다."
   ]
  },
  {
   "cell_type": "code",
   "execution_count": 180,
   "id": "181958d7-7ce6-405d-9220-8fc5a31442dd",
   "metadata": {},
   "outputs": [
    {
     "data": {
      "text/plain": [
       "도시\n",
       "서울    9.904312\n",
       "부산    3.448737\n",
       "인천    2.890451\n",
       "대구    2.466052\n",
       "Name: 인구, dtype: float64"
      ]
     },
     "execution_count": 180,
     "metadata": {},
     "output_type": "execute_result"
    }
   ],
   "source": [
    "s / 1000000"
   ]
  },
  {
   "cell_type": "code",
   "execution_count": 181,
   "id": "3a70275b-783c-453f-afc1-3b40d83ab29a",
   "metadata": {},
   "outputs": [
    {
     "data": {
      "text/plain": [
       "도시\n",
       "서울    9904312\n",
       "부산    3448737\n",
       "인천    2890451\n",
       "대구    2466052\n",
       "Name: 인구, dtype: int64"
      ]
     },
     "execution_count": 181,
     "metadata": {},
     "output_type": "execute_result"
    }
   ],
   "source": [
    "s"
   ]
  },
  {
   "cell_type": "code",
   "execution_count": 182,
   "id": "63292bdb-33e5-45e0-8f0e-e0cd6dd65108",
   "metadata": {},
   "outputs": [
    {
     "name": "stderr",
     "output_type": "stream",
     "text": [
      "C:\\Users\\Public\\Documents\\ESTsoft\\CreatorTemp\\ipykernel_11528\\878419959.py:1: FutureWarning: Series.__getitem__ treating keys as positions is deprecated. In a future version, integer keys will always be treated as labels (consistent with DataFrame behavior). To access a value by position, use `ser.iloc[pos]`\n",
      "  s[1]\n"
     ]
    },
    {
     "data": {
      "text/plain": [
       "3448737"
      ]
     },
     "execution_count": 182,
     "metadata": {},
     "output_type": "execute_result"
    }
   ],
   "source": [
    "s[1]"
   ]
  },
  {
   "cell_type": "code",
   "execution_count": 178,
   "id": "dc37fe1a-2e7a-47cf-a8b9-101631cc9965",
   "metadata": {},
   "outputs": [
    {
     "data": {
      "text/plain": [
       "3448737"
      ]
     },
     "execution_count": 178,
     "metadata": {},
     "output_type": "execute_result"
    }
   ],
   "source": [
    "s[\"부산\"]"
   ]
  },
  {
   "cell_type": "code",
   "execution_count": 183,
   "id": "eba8e7b9-3fa4-4b47-85d7-1c441fbd8a0d",
   "metadata": {},
   "outputs": [
    {
     "name": "stderr",
     "output_type": "stream",
     "text": [
      "C:\\Users\\Public\\Documents\\ESTsoft\\CreatorTemp\\ipykernel_11528\\3517280113.py:1: FutureWarning: Series.__getitem__ treating keys as positions is deprecated. In a future version, integer keys will always be treated as labels (consistent with DataFrame behavior). To access a value by position, use `ser.iloc[pos]`\n",
      "  s[ [0, 3, 1] ]\n"
     ]
    },
    {
     "data": {
      "text/plain": [
       "도시\n",
       "서울    9904312\n",
       "대구    2466052\n",
       "부산    3448737\n",
       "Name: 인구, dtype: int64"
      ]
     },
     "execution_count": 183,
     "metadata": {},
     "output_type": "execute_result"
    }
   ],
   "source": [
    "s[ [0, 3, 1] ]"
   ]
  },
  {
   "cell_type": "code",
   "execution_count": 185,
   "id": "327133dc-45ce-4a6b-9f29-f9c589359ebe",
   "metadata": {},
   "outputs": [
    {
     "data": {
      "text/plain": [
       "도시\n",
       "부산    3448737\n",
       "인천    2890451\n",
       "Name: 인구, dtype: int64"
      ]
     },
     "execution_count": 185,
     "metadata": {},
     "output_type": "execute_result"
    }
   ],
   "source": [
    "s[1:3]  # 두번째(1)부터 세번째(2)까지 (네번째(3) 미포함)"
   ]
  },
  {
   "cell_type": "code",
   "execution_count": 186,
   "id": "c9baa27b-e735-4f4b-b855-b3ebbbfc009f",
   "metadata": {},
   "outputs": [
    {
     "data": {
      "text/plain": [
       "도시\n",
       "부산    3448737\n",
       "인천    2890451\n",
       "대구    2466052\n",
       "Name: 인구, dtype: int64"
      ]
     },
     "execution_count": 186,
     "metadata": {},
     "output_type": "execute_result"
    }
   ],
   "source": [
    "s[\"부산\":\"대구\"]  # 부산에서 대구까지 (대구도 포함)"
   ]
  },
  {
   "cell_type": "code",
   "execution_count": 187,
   "id": "fdc99f03-6f52-4563-b8ea-1d6607f17c6c",
   "metadata": {},
   "outputs": [
    {
     "data": {
      "text/plain": [
       "a    0\n",
       "b    1\n",
       "c    2\n",
       "dtype: int64"
      ]
     },
     "execution_count": 187,
     "metadata": {},
     "output_type": "execute_result"
    }
   ],
   "source": [
    "s0 = pd.Series(range(3), index=[\"a\", \"b\", \"c\"])\n",
    "s0"
   ]
  },
  {
   "cell_type": "code",
   "execution_count": 188,
   "id": "6e98e744-ba0f-4f34-946a-85f5d539d2fc",
   "metadata": {},
   "outputs": [
    {
     "data": {
      "text/plain": [
       "0"
      ]
     },
     "execution_count": 188,
     "metadata": {},
     "output_type": "execute_result"
    }
   ],
   "source": [
    "s0.a"
   ]
  },
  {
   "cell_type": "code",
   "execution_count": 189,
   "id": "db100aad-19ca-4d97-8498-d467ca4b28fe",
   "metadata": {},
   "outputs": [
    {
     "data": {
      "text/plain": [
       "3448737"
      ]
     },
     "execution_count": 189,
     "metadata": {},
     "output_type": "execute_result"
    }
   ],
   "source": [
    "s.부산"
   ]
  },
  {
   "cell_type": "markdown",
   "id": "1a03e493-e81c-49e4-9654-d20c88ec8327",
   "metadata": {},
   "source": [
    "## 시리즈와 딕셔너리 자료형\n",
    "시리즈 객체는 라벨 값에 의해 인덱싱이 가능하므로 실질적으로 인덱스 라벨 값을 키(key)로 가지는 딕셔너리 자료형과 같다고 볼 수 있다.\n",
    "따라서 딕셔너리 자료형에서 제공하는 in 연산도 가능하고 items 메서드를 사용하면 for 루프를 통해 각 원소의 키(key)와 값(value)을 접근할 수도 있다."
   ]
  },
  {
   "cell_type": "code",
   "execution_count": 191,
   "id": "70c961ff-152b-46bb-ac49-6a877ab3e342",
   "metadata": {},
   "outputs": [
    {
     "data": {
      "text/plain": [
       "도시\n",
       "서울    9904312\n",
       "부산    3448737\n",
       "인천    2890451\n",
       "대구    2466052\n",
       "Name: 인구, dtype: int64"
      ]
     },
     "execution_count": 191,
     "metadata": {},
     "output_type": "execute_result"
    }
   ],
   "source": [
    "s"
   ]
  },
  {
   "cell_type": "code",
   "execution_count": 192,
   "id": "082a8c7c-bb92-43b6-b91c-3f14ed6bbb5d",
   "metadata": {},
   "outputs": [
    {
     "data": {
      "text/plain": [
       "True"
      ]
     },
     "execution_count": 192,
     "metadata": {},
     "output_type": "execute_result"
    }
   ],
   "source": [
    "\"서울\" in s  # 인덱스 라벨 중에 서울이 있는가"
   ]
  },
  {
   "cell_type": "code",
   "execution_count": 193,
   "id": "74d1de42-8a99-4c69-907f-f795c7841a32",
   "metadata": {},
   "outputs": [
    {
     "data": {
      "text/plain": [
       "False"
      ]
     },
     "execution_count": 193,
     "metadata": {},
     "output_type": "execute_result"
    }
   ],
   "source": [
    "\"대전\" in s  # 인덱스 라벨 중에 대전이 있는가"
   ]
  },
  {
   "cell_type": "code",
   "execution_count": 194,
   "id": "57b8fddc-8f78-4ba4-97b0-9d7d92f76372",
   "metadata": {},
   "outputs": [
    {
     "name": "stdout",
     "output_type": "stream",
     "text": [
      "서울 = 9904312\n",
      "부산 = 3448737\n",
      "인천 = 2890451\n",
      "대구 = 2466052\n"
     ]
    }
   ],
   "source": [
    "for k, v in s.items():\n",
    "    print(\"%s = %d\" % (k, v))"
   ]
  },
  {
   "cell_type": "code",
   "execution_count": 195,
   "id": "432dad6e-edd7-41b3-afd8-6a151be1eab7",
   "metadata": {},
   "outputs": [
    {
     "data": {
      "text/plain": [
       "서울    9631482\n",
       "부산    3393191\n",
       "인천    2632035\n",
       "대전    1490158\n",
       "dtype: int64"
      ]
     },
     "execution_count": 195,
     "metadata": {},
     "output_type": "execute_result"
    }
   ],
   "source": [
    "s2 = pd.Series({\"서울\": 9631482, \"부산\": 3393191, \"인천\": 2632035, \"대전\": 1490158})\n",
    "s2"
   ]
  },
  {
   "cell_type": "code",
   "execution_count": 196,
   "id": "13c18ca3-1517-426b-8729-50ae2d14c7e3",
   "metadata": {},
   "outputs": [
    {
     "data": {
      "text/plain": [
       "부산    3393191\n",
       "서울    9631482\n",
       "인천    2632035\n",
       "대전    1490158\n",
       "dtype: int64"
      ]
     },
     "execution_count": 196,
     "metadata": {},
     "output_type": "execute_result"
    }
   ],
   "source": [
    "s2 = pd.Series({\"서울\": 9631482, \"부산\": 3393191, \"인천\": 2632035, \"대전\": 1490158},\n",
    "               index=[\"부산\", \"서울\", \"인천\", \"대전\"])\n",
    "s2"
   ]
  },
  {
   "cell_type": "markdown",
   "id": "125695ab-1a20-469d-83e1-4e95bf12a00c",
   "metadata": {},
   "source": [
    "## 인덱스 기반 연산\n",
    "이번에는 2015년도와 2010년의 인구 증가를 계산해 보자. 두 개의 시리즈의 차이를 구하면 된다.\n",
    "두 시리즈에 대해 연산을 하는 경우 인덱스가 같은 데이터에 대해서만 차이를 구한다."
   ]
  },
  {
   "cell_type": "code",
   "execution_count": 198,
   "id": "36144a79-dc79-4734-aeea-322a4da130fa",
   "metadata": {},
   "outputs": [
    {
     "data": {
      "text/plain": [
       "도시\n",
       "서울    9904312\n",
       "부산    3448737\n",
       "인천    2890451\n",
       "대구    2466052\n",
       "Name: 인구, dtype: int64"
      ]
     },
     "execution_count": 198,
     "metadata": {},
     "output_type": "execute_result"
    }
   ],
   "source": [
    "s #2015년 인구\n"
   ]
  },
  {
   "cell_type": "code",
   "execution_count": 199,
   "id": "aa8aed06-467c-4f24-90ab-b9fd5185e878",
   "metadata": {},
   "outputs": [
    {
     "data": {
      "text/plain": [
       "부산    3393191\n",
       "서울    9631482\n",
       "인천    2632035\n",
       "대전    1490158\n",
       "dtype: int64"
      ]
     },
     "execution_count": 199,
     "metadata": {},
     "output_type": "execute_result"
    }
   ],
   "source": [
    "s2 #2010년 인구"
   ]
  },
  {
   "cell_type": "code",
   "execution_count": 200,
   "id": "364f6ceb-1cdc-403b-86b0-b8809e495e4e",
   "metadata": {},
   "outputs": [
    {
     "data": {
      "text/plain": [
       "대구         NaN\n",
       "대전         NaN\n",
       "부산     55546.0\n",
       "서울    272830.0\n",
       "인천    258416.0\n",
       "dtype: float64"
      ]
     },
     "execution_count": 200,
     "metadata": {},
     "output_type": "execute_result"
    }
   ],
   "source": [
    "ds = s - s2\n",
    "ds"
   ]
  },
  {
   "cell_type": "code",
   "execution_count": 201,
   "id": "08d94b41-8d48-47d0-bf39-283e11df5c7d",
   "metadata": {},
   "outputs": [
    {
     "data": {
      "text/plain": [
       "array([ 6511121, -6182745,   258416,   975894], dtype=int64)"
      ]
     },
     "execution_count": 201,
     "metadata": {},
     "output_type": "execute_result"
    }
   ],
   "source": [
    "s.values - s2.values"
   ]
  },
  {
   "cell_type": "markdown",
   "id": "93a12363-993e-4bac-9897-c8dbb74df972",
   "metadata": {},
   "source": [
    "```{margin}\n",
    "`Series.notnull`\n",
    "```"
   ]
  },
  {
   "cell_type": "markdown",
   "id": "71baf717-f4b4-4f93-9b25-0e13181e3c64",
   "metadata": {},
   "source": [
    "대구와 대전의 경우에는 2010년 자료와 2015년 자료가 모두 존재하지 않기 때문에 계산이 불가능하므로 ``NaN``(Not a Number)이라는 값을 가지게 된다.   \n",
    "또한 ``NaN`` 값이 ``float`` 자료형에서만 가능하므로 다른 계산 결과도 모두 ``float`` 자료형이 되었다는 점에 주의한다.   \n",
    "``NaN``이 아닌 값을 구하려면 ``notnull`` 메서드를 사용한다."
   ]
  },
  {
   "cell_type": "code",
   "execution_count": 204,
   "id": "6660b509-24a8-4e51-9ecc-dc5f98cffdf3",
   "metadata": {},
   "outputs": [
    {
     "data": {
      "text/plain": [
       "대구    False\n",
       "대전    False\n",
       "부산     True\n",
       "서울     True\n",
       "인천     True\n",
       "dtype: bool"
      ]
     },
     "execution_count": 204,
     "metadata": {},
     "output_type": "execute_result"
    }
   ],
   "source": [
    "ds.notnull()"
   ]
  },
  {
   "cell_type": "code",
   "execution_count": 205,
   "id": "6bb073b9-d4b5-4996-a703-c6b111f80eb1",
   "metadata": {},
   "outputs": [
    {
     "data": {
      "text/plain": [
       "3"
      ]
     },
     "execution_count": 205,
     "metadata": {},
     "output_type": "execute_result"
    }
   ],
   "source": [
    "ds.notnull().sum()"
   ]
  },
  {
   "cell_type": "code",
   "execution_count": 206,
   "id": "ab305719-68d8-4542-951a-cffab33e6053",
   "metadata": {},
   "outputs": [
    {
     "data": {
      "text/plain": [
       "부산     55546.0\n",
       "서울    272830.0\n",
       "인천    258416.0\n",
       "dtype: float64"
      ]
     },
     "execution_count": 206,
     "metadata": {},
     "output_type": "execute_result"
    }
   ],
   "source": [
    "ds[ds.notnull()]"
   ]
  },
  {
   "cell_type": "markdown",
   "id": "39ffbff1-0b2f-41f8-b0e4-718ff1f0b61a",
   "metadata": {},
   "source": [
    "마찬가지로 인구 증가율(%)은 다음과 같이 구할 수 있다."
   ]
  },
  {
   "cell_type": "code",
   "execution_count": 208,
   "id": "a9f312d5-18c1-42a2-991a-8fbc2c40632f",
   "metadata": {},
   "outputs": [
    {
     "data": {
      "text/plain": [
       "대구         NaN\n",
       "대전         NaN\n",
       "부산    1.636984\n",
       "서울    2.832690\n",
       "인천    9.818107\n",
       "dtype: float64"
      ]
     },
     "execution_count": 208,
     "metadata": {},
     "output_type": "execute_result"
    }
   ],
   "source": [
    "# s : 2015,  s2 : 2010\n",
    "rs = ( (s - s2)/s2 ) * 100\n",
    "rs"
   ]
  },
  {
   "cell_type": "code",
   "execution_count": 209,
   "id": "f35e4317-ff37-4858-a887-644b1ca8cd3a",
   "metadata": {},
   "outputs": [
    {
     "data": {
      "text/plain": [
       "부산    1.636984\n",
       "서울    2.832690\n",
       "인천    9.818107\n",
       "dtype: float64"
      ]
     },
     "execution_count": 209,
     "metadata": {},
     "output_type": "execute_result"
    }
   ],
   "source": [
    "rs = rs[rs.notnull()]\n",
    "rs"
   ]
  },
  {
   "cell_type": "markdown",
   "id": "dccaa4e4-f069-48ca-b2b0-1d05628e1868",
   "metadata": {},
   "source": [
    "### 데이터의 갱신, 추가, 삭제"
   ]
  },
  {
   "cell_type": "markdown",
   "id": "9e398ed1-0665-4ab2-bcc0-5dc39a51581d",
   "metadata": {},
   "source": [
    "인덱싱을 이용하면 딕셔너리처럼 데이터를 갱신(update)하거나 추가(add)할 수 있다."
   ]
  },
  {
   "cell_type": "code",
   "execution_count": 214,
   "id": "0a0ffb27-6a09-49b4-96a9-8e0dfbd1d337",
   "metadata": {},
   "outputs": [
    {
     "data": {
      "text/plain": [
       "부산    1.630000\n",
       "서울    2.832690\n",
       "인천    9.818107\n",
       "dtype: float64"
      ]
     },
     "execution_count": 214,
     "metadata": {},
     "output_type": "execute_result"
    }
   ],
   "source": [
    "rs[\"부산\"] = 1.63\n",
    "rs"
   ]
  },
  {
   "cell_type": "code",
   "execution_count": 215,
   "id": "bc99f465-17ce-4d28-923a-aad68b40869d",
   "metadata": {},
   "outputs": [
    {
     "data": {
      "text/plain": [
       "부산    1.630000\n",
       "서울    2.832690\n",
       "인천    9.818107\n",
       "대구    1.410000\n",
       "dtype: float64"
      ]
     },
     "execution_count": 215,
     "metadata": {},
     "output_type": "execute_result"
    }
   ],
   "source": [
    "rs[\"대구\"] = 1.41\n",
    "rs"
   ]
  },
  {
   "cell_type": "markdown",
   "id": "0a6e6c73-3d35-45c4-9df6-c0877bd4537b",
   "metadata": {},
   "source": [
    "데이터를 삭제할 때도 딕셔너리처럼 ``del`` 명령을 사용한다."
   ]
  },
  {
   "cell_type": "code",
   "execution_count": 217,
   "id": "6792054d-b61c-4b83-bfd0-ebfa28ee8d99",
   "metadata": {},
   "outputs": [
    {
     "data": {
      "text/plain": [
       "부산    1.630000\n",
       "인천    9.818107\n",
       "대구    1.410000\n",
       "dtype: float64"
      ]
     },
     "execution_count": 217,
     "metadata": {},
     "output_type": "execute_result"
    }
   ],
   "source": [
    "del rs[\"서울\"]\n",
    "rs"
   ]
  },
  {
   "cell_type": "markdown",
   "id": "87fa462c-feed-420b-88da-56a0eaa5f2f2",
   "metadata": {},
   "source": [
    "## 데이터프레임 클래스"
   ]
  },
  {
   "cell_type": "markdown",
   "id": "d741238c-915e-47af-8eba-9053c2ca3ec4",
   "metadata": {},
   "source": [
    "```{margin}\n",
    "`DataFrame`\n",
    "```"
   ]
  },
  {
   "cell_type": "markdown",
   "id": "0736c600-4692-4af5-a2b8-c28a8723e395",
   "metadata": {},
   "source": [
    "```{margin}\n",
    "행 인덱스(row index, index)\n",
    "```"
   ]
  },
  {
   "cell_type": "markdown",
   "id": "b674f635-6a94-4628-bc49-b7e8adca5232",
   "metadata": {},
   "source": [
    "```{margin}\n",
    "열 인덱스(cplumn index, columns)\n",
    "```"
   ]
  },
  {
   "cell_type": "markdown",
   "id": "817a3959-1d77-4b53-b209-0a7bb10e450f",
   "metadata": {},
   "source": [
    "시리즈가 1차원 벡터 데이터에 행방향 인덱스(row index)를 붙인 것이라   \n",
    "데이터프레임 `DataFrame` 클래스는 2차원 행렬 데이터에 인덱스를 붙인 것과 비슷하다.   \n",
    "2차원이므로 각각의 행 데이터의 이름이 되는 행 인덱스(row index) 뿐 아니라   \n",
    "각각의 열 데이터의 이름이 되는 열 인덱스(column index)도 붙일 수 있다."
   ]
  },
  {
   "cell_type": "markdown",
   "id": "06a2695b-c0e1-489a-b467-74101d2247aa",
   "metadata": {},
   "source": [
    "### 데이터프레임 생성\n",
    "데이터프레임을 만드는 방법은 다양하다. 가장 간단한 방법은 다음과 같다.\n",
    "\n",
    "1. 우선 하나의 열이 되는 데이터를 리스트나 일차원 배열을 준비한다. \n",
    "2. 이 각각의 열에 대한 이름(라벨)을 키로 가지는 딕셔너리를 만든다.\n",
    "3. 이 데이터를 ``DataFrame`` 클래스 생성자에 넣는다. 동시에 열방향 인덱스는 ``columns`` 인수로, 행방향 인덱스는 ``index`` 인수로 지정한다."
   ]
  },
  {
   "cell_type": "code",
   "execution_count": 224,
   "id": "99165650-4a71-43e6-a7ff-da977a404c3b",
   "metadata": {},
   "outputs": [
    {
     "data": {
      "text/html": [
       "<div>\n",
       "<style scoped>\n",
       "    .dataframe tbody tr th:only-of-type {\n",
       "        vertical-align: middle;\n",
       "    }\n",
       "\n",
       "    .dataframe tbody tr th {\n",
       "        vertical-align: top;\n",
       "    }\n",
       "\n",
       "    .dataframe thead th {\n",
       "        text-align: right;\n",
       "    }\n",
       "</style>\n",
       "<table border=\"1\" class=\"dataframe\">\n",
       "  <thead>\n",
       "    <tr style=\"text-align: right;\">\n",
       "      <th></th>\n",
       "      <th>지역</th>\n",
       "      <th>2015</th>\n",
       "      <th>2010</th>\n",
       "      <th>2005</th>\n",
       "      <th>2000</th>\n",
       "      <th>2010-2015 증가율</th>\n",
       "    </tr>\n",
       "  </thead>\n",
       "  <tbody>\n",
       "    <tr>\n",
       "      <th>서울</th>\n",
       "      <td>수도권</td>\n",
       "      <td>9904312</td>\n",
       "      <td>9631482</td>\n",
       "      <td>9762546</td>\n",
       "      <td>9853972</td>\n",
       "      <td>0.0283</td>\n",
       "    </tr>\n",
       "    <tr>\n",
       "      <th>부산</th>\n",
       "      <td>경상권</td>\n",
       "      <td>3448737</td>\n",
       "      <td>3393191</td>\n",
       "      <td>3512547</td>\n",
       "      <td>3655437</td>\n",
       "      <td>0.0163</td>\n",
       "    </tr>\n",
       "    <tr>\n",
       "      <th>인천</th>\n",
       "      <td>수도권</td>\n",
       "      <td>2890451</td>\n",
       "      <td>2632035</td>\n",
       "      <td>2517680</td>\n",
       "      <td>2466338</td>\n",
       "      <td>0.0982</td>\n",
       "    </tr>\n",
       "    <tr>\n",
       "      <th>대구</th>\n",
       "      <td>경상권</td>\n",
       "      <td>2466052</td>\n",
       "      <td>2431774</td>\n",
       "      <td>2456016</td>\n",
       "      <td>2473990</td>\n",
       "      <td>0.0141</td>\n",
       "    </tr>\n",
       "  </tbody>\n",
       "</table>\n",
       "</div>"
      ],
      "text/plain": [
       "     지역     2015     2010     2005     2000  2010-2015 증가율\n",
       "서울  수도권  9904312  9631482  9762546  9853972         0.0283\n",
       "부산  경상권  3448737  3393191  3512547  3655437         0.0163\n",
       "인천  수도권  2890451  2632035  2517680  2466338         0.0982\n",
       "대구  경상권  2466052  2431774  2456016  2473990         0.0141"
      ]
     },
     "execution_count": 224,
     "metadata": {},
     "output_type": "execute_result"
    }
   ],
   "source": [
    "data = {\n",
    "    \"2015\": [9904312, 3448737, 2890451, 2466052],\n",
    "    \"2010\": [9631482, 3393191, 2632035, 2431774],\n",
    "    \"2005\": [9762546, 3512547, 2517680, 2456016],\n",
    "    \"2000\": [9853972, 3655437, 2466338, 2473990],\n",
    "    \"지역\": [\"수도권\", \"경상권\", \"수도권\", \"경상권\"],\n",
    "    \"2010-2015 증가율\": [0.0283, 0.0163, 0.0982, 0.0141]\n",
    "}\n",
    "columns = [\"지역\", \"2015\", \"2010\", \"2005\", \"2000\", \"2010-2015 증가율\"] # 순서 지정\n",
    "index = [\"서울\", \"부산\", \"인천\", \"대구\"] # 순서 지정\n",
    "df = pd.DataFrame(data, index=index, columns=columns)\n",
    "df\n"
   ]
  },
  {
   "cell_type": "code",
   "execution_count": 225,
   "id": "94ce3656-770d-4624-8519-cbcbb6db4d9f",
   "metadata": {},
   "outputs": [
    {
     "name": "stdout",
     "output_type": "stream",
     "text": [
      "     지역     2015     2010     2005     2000  2010-2015 증가율\n",
      "서울  수도권  9904312  9631482  9762546  9853972         0.0283\n",
      "부산  경상권  3448737  3393191  3512547  3655437         0.0163\n",
      "인천  수도권  2890451  2632035  2517680  2466338         0.0982\n",
      "대구  경상권  2466052  2431774  2456016  2473990         0.0141\n"
     ]
    }
   ],
   "source": [
    "print(df)"
   ]
  },
  {
   "cell_type": "code",
   "execution_count": 226,
   "id": "9204a967-cecf-4306-9e44-ce98d86ad185",
   "metadata": {},
   "outputs": [
    {
     "data": {
      "text/plain": [
       "array([['수도권', 9904312, 9631482, 9762546, 9853972, 0.0283],\n",
       "       ['경상권', 3448737, 3393191, 3512547, 3655437, 0.0163],\n",
       "       ['수도권', 2890451, 2632035, 2517680, 2466338, 0.0982],\n",
       "       ['경상권', 2466052, 2431774, 2456016, 2473990, 0.0141]], dtype=object)"
      ]
     },
     "execution_count": 226,
     "metadata": {},
     "output_type": "execute_result"
    }
   ],
   "source": [
    "df.values"
   ]
  },
  {
   "cell_type": "code",
   "execution_count": 227,
   "id": "6efeca6b-6257-425e-a2c9-dbe52f318c97",
   "metadata": {},
   "outputs": [
    {
     "data": {
      "text/plain": [
       "Index(['지역', '2015', '2010', '2005', '2000', '2010-2015 증가율'], dtype='object')"
      ]
     },
     "execution_count": 227,
     "metadata": {},
     "output_type": "execute_result"
    }
   ],
   "source": [
    "df.columns"
   ]
  },
  {
   "cell_type": "code",
   "execution_count": 228,
   "id": "8c0759a1-39ea-4e6a-83be-b47f54019d7e",
   "metadata": {},
   "outputs": [
    {
     "data": {
      "text/plain": [
       "Index(['서울', '부산', '인천', '대구'], dtype='object')"
      ]
     },
     "execution_count": 228,
     "metadata": {},
     "output_type": "execute_result"
    }
   ],
   "source": [
    "df.index"
   ]
  },
  {
   "cell_type": "code",
   "execution_count": 229,
   "id": "843df160-34ed-4a5a-b33c-c0bebdf78380",
   "metadata": {},
   "outputs": [
    {
     "data": {
      "text/html": [
       "<div>\n",
       "<style scoped>\n",
       "    .dataframe tbody tr th:only-of-type {\n",
       "        vertical-align: middle;\n",
       "    }\n",
       "\n",
       "    .dataframe tbody tr th {\n",
       "        vertical-align: top;\n",
       "    }\n",
       "\n",
       "    .dataframe thead th {\n",
       "        text-align: right;\n",
       "    }\n",
       "</style>\n",
       "<table border=\"1\" class=\"dataframe\">\n",
       "  <thead>\n",
       "    <tr style=\"text-align: right;\">\n",
       "      <th>특성</th>\n",
       "      <th>지역</th>\n",
       "      <th>2015</th>\n",
       "      <th>2010</th>\n",
       "      <th>2005</th>\n",
       "      <th>2000</th>\n",
       "      <th>2010-2015 증가율</th>\n",
       "    </tr>\n",
       "    <tr>\n",
       "      <th>도시</th>\n",
       "      <th></th>\n",
       "      <th></th>\n",
       "      <th></th>\n",
       "      <th></th>\n",
       "      <th></th>\n",
       "      <th></th>\n",
       "    </tr>\n",
       "  </thead>\n",
       "  <tbody>\n",
       "    <tr>\n",
       "      <th>서울</th>\n",
       "      <td>수도권</td>\n",
       "      <td>9904312</td>\n",
       "      <td>9631482</td>\n",
       "      <td>9762546</td>\n",
       "      <td>9853972</td>\n",
       "      <td>0.0283</td>\n",
       "    </tr>\n",
       "    <tr>\n",
       "      <th>부산</th>\n",
       "      <td>경상권</td>\n",
       "      <td>3448737</td>\n",
       "      <td>3393191</td>\n",
       "      <td>3512547</td>\n",
       "      <td>3655437</td>\n",
       "      <td>0.0163</td>\n",
       "    </tr>\n",
       "    <tr>\n",
       "      <th>인천</th>\n",
       "      <td>수도권</td>\n",
       "      <td>2890451</td>\n",
       "      <td>2632035</td>\n",
       "      <td>2517680</td>\n",
       "      <td>2466338</td>\n",
       "      <td>0.0982</td>\n",
       "    </tr>\n",
       "    <tr>\n",
       "      <th>대구</th>\n",
       "      <td>경상권</td>\n",
       "      <td>2466052</td>\n",
       "      <td>2431774</td>\n",
       "      <td>2456016</td>\n",
       "      <td>2473990</td>\n",
       "      <td>0.0141</td>\n",
       "    </tr>\n",
       "  </tbody>\n",
       "</table>\n",
       "</div>"
      ],
      "text/plain": [
       "특성   지역     2015     2010     2005     2000  2010-2015 증가율\n",
       "도시                                                        \n",
       "서울  수도권  9904312  9631482  9762546  9853972         0.0283\n",
       "부산  경상권  3448737  3393191  3512547  3655437         0.0163\n",
       "인천  수도권  2890451  2632035  2517680  2466338         0.0982\n",
       "대구  경상권  2466052  2431774  2456016  2473990         0.0141"
      ]
     },
     "execution_count": 229,
     "metadata": {},
     "output_type": "execute_result"
    }
   ],
   "source": [
    "df.index.name = \"도시\"\n",
    "df.columns.name = \"특성\"\n",
    "df"
   ]
  },
  {
   "cell_type": "code",
   "execution_count": 230,
   "id": "7a03d90e-abd6-4488-94e0-d55cb44d6098",
   "metadata": {},
   "outputs": [
    {
     "data": {
      "text/html": [
       "<div>\n",
       "<style scoped>\n",
       "    .dataframe tbody tr th:only-of-type {\n",
       "        vertical-align: middle;\n",
       "    }\n",
       "\n",
       "    .dataframe tbody tr th {\n",
       "        vertical-align: top;\n",
       "    }\n",
       "\n",
       "    .dataframe thead th {\n",
       "        text-align: right;\n",
       "    }\n",
       "</style>\n",
       "<table border=\"1\" class=\"dataframe\">\n",
       "  <thead>\n",
       "    <tr style=\"text-align: right;\">\n",
       "      <th>도시</th>\n",
       "      <th>서울</th>\n",
       "      <th>부산</th>\n",
       "      <th>인천</th>\n",
       "      <th>대구</th>\n",
       "    </tr>\n",
       "    <tr>\n",
       "      <th>특성</th>\n",
       "      <th></th>\n",
       "      <th></th>\n",
       "      <th></th>\n",
       "      <th></th>\n",
       "    </tr>\n",
       "  </thead>\n",
       "  <tbody>\n",
       "    <tr>\n",
       "      <th>지역</th>\n",
       "      <td>수도권</td>\n",
       "      <td>경상권</td>\n",
       "      <td>수도권</td>\n",
       "      <td>경상권</td>\n",
       "    </tr>\n",
       "    <tr>\n",
       "      <th>2015</th>\n",
       "      <td>9904312</td>\n",
       "      <td>3448737</td>\n",
       "      <td>2890451</td>\n",
       "      <td>2466052</td>\n",
       "    </tr>\n",
       "    <tr>\n",
       "      <th>2010</th>\n",
       "      <td>9631482</td>\n",
       "      <td>3393191</td>\n",
       "      <td>2632035</td>\n",
       "      <td>2431774</td>\n",
       "    </tr>\n",
       "    <tr>\n",
       "      <th>2005</th>\n",
       "      <td>9762546</td>\n",
       "      <td>3512547</td>\n",
       "      <td>2517680</td>\n",
       "      <td>2456016</td>\n",
       "    </tr>\n",
       "    <tr>\n",
       "      <th>2000</th>\n",
       "      <td>9853972</td>\n",
       "      <td>3655437</td>\n",
       "      <td>2466338</td>\n",
       "      <td>2473990</td>\n",
       "    </tr>\n",
       "    <tr>\n",
       "      <th>2010-2015 증가율</th>\n",
       "      <td>0.0283</td>\n",
       "      <td>0.0163</td>\n",
       "      <td>0.0982</td>\n",
       "      <td>0.0141</td>\n",
       "    </tr>\n",
       "  </tbody>\n",
       "</table>\n",
       "</div>"
      ],
      "text/plain": [
       "도시                  서울       부산       인천       대구\n",
       "특성                                               \n",
       "지역                 수도권      경상권      수도권      경상권\n",
       "2015           9904312  3448737  2890451  2466052\n",
       "2010           9631482  3393191  2632035  2431774\n",
       "2005           9762546  3512547  2517680  2456016\n",
       "2000           9853972  3655437  2466338  2473990\n",
       "2010-2015 증가율   0.0283   0.0163   0.0982   0.0141"
      ]
     },
     "execution_count": 230,
     "metadata": {},
     "output_type": "execute_result"
    }
   ],
   "source": [
    "df.T"
   ]
  },
  {
   "cell_type": "markdown",
   "id": "f12fcf08-6a26-4c91-a652-c54f8182367b",
   "metadata": {},
   "source": [
    "## 열 데이터의 갱신, 추가, 삭제\n",
    "데이터프레임은 열 시리즈의 딕셔너리으로 볼 수 있으므로 열 단위로 데이터를 갱신하거나 추가, 삭제할 수 있다."
   ]
  },
  {
   "cell_type": "code",
   "execution_count": 232,
   "id": "43e7e259-df38-4888-b739-10eff82a9ef2",
   "metadata": {},
   "outputs": [
    {
     "data": {
      "text/plain": [
       "도시\n",
       "서울    0.0283\n",
       "부산    0.0163\n",
       "인천    0.0982\n",
       "대구    0.0141\n",
       "Name: 2010-2015 증가율, dtype: float64"
      ]
     },
     "execution_count": 232,
     "metadata": {},
     "output_type": "execute_result"
    }
   ],
   "source": [
    " df[\"2010-2015 증가율\"]"
   ]
  },
  {
   "cell_type": "code",
   "execution_count": 235,
   "id": "045eddfc-f543-4487-aea2-68c4f8b71347",
   "metadata": {},
   "outputs": [
    {
     "data": {
      "text/plain": [
       "pandas.core.series.Series"
      ]
     },
     "execution_count": 235,
     "metadata": {},
     "output_type": "execute_result"
    }
   ],
   "source": [
    "type(df[\"2010-2015 증가율\"])"
   ]
  },
  {
   "cell_type": "code",
   "execution_count": 233,
   "id": "e3a92800-45b0-4e3c-842a-6097ad638178",
   "metadata": {
    "jupyter": {
     "source_hidden": true
    }
   },
   "outputs": [
    {
     "data": {
      "text/plain": [
       "도시\n",
       "서울    2.83\n",
       "부산    1.63\n",
       "인천    9.82\n",
       "대구    1.41\n",
       "Name: 2010-2015 증가율, dtype: float64"
      ]
     },
     "execution_count": 233,
     "metadata": {},
     "output_type": "execute_result"
    }
   ],
   "source": [
    " df[\"2010-2015 증가율\"] * 100"
   ]
  },
  {
   "cell_type": "code",
   "execution_count": 236,
   "id": "29b49c5c-9785-4979-adbb-2a81133bbfdb",
   "metadata": {},
   "outputs": [
    {
     "data": {
      "text/html": [
       "<div>\n",
       "<style scoped>\n",
       "    .dataframe tbody tr th:only-of-type {\n",
       "        vertical-align: middle;\n",
       "    }\n",
       "\n",
       "    .dataframe tbody tr th {\n",
       "        vertical-align: top;\n",
       "    }\n",
       "\n",
       "    .dataframe thead th {\n",
       "        text-align: right;\n",
       "    }\n",
       "</style>\n",
       "<table border=\"1\" class=\"dataframe\">\n",
       "  <thead>\n",
       "    <tr style=\"text-align: right;\">\n",
       "      <th>특성</th>\n",
       "      <th>지역</th>\n",
       "      <th>2015</th>\n",
       "      <th>2010</th>\n",
       "      <th>2005</th>\n",
       "      <th>2000</th>\n",
       "      <th>2010-2015 증가율</th>\n",
       "    </tr>\n",
       "    <tr>\n",
       "      <th>도시</th>\n",
       "      <th></th>\n",
       "      <th></th>\n",
       "      <th></th>\n",
       "      <th></th>\n",
       "      <th></th>\n",
       "      <th></th>\n",
       "    </tr>\n",
       "  </thead>\n",
       "  <tbody>\n",
       "    <tr>\n",
       "      <th>서울</th>\n",
       "      <td>수도권</td>\n",
       "      <td>9904312</td>\n",
       "      <td>9631482</td>\n",
       "      <td>9762546</td>\n",
       "      <td>9853972</td>\n",
       "      <td>2.83</td>\n",
       "    </tr>\n",
       "    <tr>\n",
       "      <th>부산</th>\n",
       "      <td>경상권</td>\n",
       "      <td>3448737</td>\n",
       "      <td>3393191</td>\n",
       "      <td>3512547</td>\n",
       "      <td>3655437</td>\n",
       "      <td>1.63</td>\n",
       "    </tr>\n",
       "    <tr>\n",
       "      <th>인천</th>\n",
       "      <td>수도권</td>\n",
       "      <td>2890451</td>\n",
       "      <td>2632035</td>\n",
       "      <td>2517680</td>\n",
       "      <td>2466338</td>\n",
       "      <td>9.82</td>\n",
       "    </tr>\n",
       "    <tr>\n",
       "      <th>대구</th>\n",
       "      <td>경상권</td>\n",
       "      <td>2466052</td>\n",
       "      <td>2431774</td>\n",
       "      <td>2456016</td>\n",
       "      <td>2473990</td>\n",
       "      <td>1.41</td>\n",
       "    </tr>\n",
       "  </tbody>\n",
       "</table>\n",
       "</div>"
      ],
      "text/plain": [
       "특성   지역     2015     2010     2005     2000  2010-2015 증가율\n",
       "도시                                                        \n",
       "서울  수도권  9904312  9631482  9762546  9853972           2.83\n",
       "부산  경상권  3448737  3393191  3512547  3655437           1.63\n",
       "인천  수도권  2890451  2632035  2517680  2466338           9.82\n",
       "대구  경상권  2466052  2431774  2456016  2473990           1.41"
      ]
     },
     "execution_count": 236,
     "metadata": {},
     "output_type": "execute_result"
    }
   ],
   "source": [
    "# \"2010-2015 증가율\"이라는 이름의 열 추가\n",
    "df[\"2010-2015 증가율\"] = df[\"2010-2015 증가율\"] * 100\n",
    "df"
   ]
  },
  {
   "cell_type": "code",
   "execution_count": 237,
   "id": "ef36f6b5-1910-46ea-a547-d056f4a10442",
   "metadata": {},
   "outputs": [
    {
     "data": {
      "text/plain": [
       "도시\n",
       "서울   -1.34\n",
       "부산   -3.40\n",
       "인천    4.54\n",
       "대구   -0.99\n",
       "dtype: float64"
      ]
     },
     "execution_count": 237,
     "metadata": {},
     "output_type": "execute_result"
    }
   ],
   "source": [
    "# \"2005-2010 증가율\"이라는 이름의 열 추가\n",
    "( ( (df[\"2010\"] - df[\"2005\"]) / df[\"2005\"] ) * 100).round(2)"
   ]
  },
  {
   "cell_type": "code",
   "execution_count": 238,
   "id": "100bdf94-4ed2-4d11-ac29-fe4109fba46d",
   "metadata": {},
   "outputs": [
    {
     "data": {
      "text/html": [
       "<div>\n",
       "<style scoped>\n",
       "    .dataframe tbody tr th:only-of-type {\n",
       "        vertical-align: middle;\n",
       "    }\n",
       "\n",
       "    .dataframe tbody tr th {\n",
       "        vertical-align: top;\n",
       "    }\n",
       "\n",
       "    .dataframe thead th {\n",
       "        text-align: right;\n",
       "    }\n",
       "</style>\n",
       "<table border=\"1\" class=\"dataframe\">\n",
       "  <thead>\n",
       "    <tr style=\"text-align: right;\">\n",
       "      <th>특성</th>\n",
       "      <th>지역</th>\n",
       "      <th>2015</th>\n",
       "      <th>2010</th>\n",
       "      <th>2005</th>\n",
       "      <th>2000</th>\n",
       "      <th>2010-2015 증가율</th>\n",
       "      <th>2005-2010 증가율</th>\n",
       "    </tr>\n",
       "    <tr>\n",
       "      <th>도시</th>\n",
       "      <th></th>\n",
       "      <th></th>\n",
       "      <th></th>\n",
       "      <th></th>\n",
       "      <th></th>\n",
       "      <th></th>\n",
       "      <th></th>\n",
       "    </tr>\n",
       "  </thead>\n",
       "  <tbody>\n",
       "    <tr>\n",
       "      <th>서울</th>\n",
       "      <td>수도권</td>\n",
       "      <td>9904312</td>\n",
       "      <td>9631482</td>\n",
       "      <td>9762546</td>\n",
       "      <td>9853972</td>\n",
       "      <td>2.83</td>\n",
       "      <td>-1.34</td>\n",
       "    </tr>\n",
       "    <tr>\n",
       "      <th>부산</th>\n",
       "      <td>경상권</td>\n",
       "      <td>3448737</td>\n",
       "      <td>3393191</td>\n",
       "      <td>3512547</td>\n",
       "      <td>3655437</td>\n",
       "      <td>1.63</td>\n",
       "      <td>-3.40</td>\n",
       "    </tr>\n",
       "    <tr>\n",
       "      <th>인천</th>\n",
       "      <td>수도권</td>\n",
       "      <td>2890451</td>\n",
       "      <td>2632035</td>\n",
       "      <td>2517680</td>\n",
       "      <td>2466338</td>\n",
       "      <td>9.82</td>\n",
       "      <td>4.54</td>\n",
       "    </tr>\n",
       "    <tr>\n",
       "      <th>대구</th>\n",
       "      <td>경상권</td>\n",
       "      <td>2466052</td>\n",
       "      <td>2431774</td>\n",
       "      <td>2456016</td>\n",
       "      <td>2473990</td>\n",
       "      <td>1.41</td>\n",
       "      <td>-0.99</td>\n",
       "    </tr>\n",
       "  </tbody>\n",
       "</table>\n",
       "</div>"
      ],
      "text/plain": [
       "특성   지역     2015     2010     2005     2000  2010-2015 증가율  2005-2010 증가율\n",
       "도시                                                                       \n",
       "서울  수도권  9904312  9631482  9762546  9853972           2.83          -1.34\n",
       "부산  경상권  3448737  3393191  3512547  3655437           1.63          -3.40\n",
       "인천  수도권  2890451  2632035  2517680  2466338           9.82           4.54\n",
       "대구  경상권  2466052  2431774  2456016  2473990           1.41          -0.99"
      ]
     },
     "execution_count": 238,
     "metadata": {},
     "output_type": "execute_result"
    }
   ],
   "source": [
    "df[\"2005-2010 증가율\"] = ((df[\"2010\"] - df[\"2005\"]) / df[\"2005\"] * 100).round(2)\n",
    "df"
   ]
  },
  {
   "cell_type": "code",
   "execution_count": 239,
   "id": "57373cda-52f0-41ee-81e9-a4527c73e10d",
   "metadata": {},
   "outputs": [
    {
     "data": {
      "text/html": [
       "<div>\n",
       "<style scoped>\n",
       "    .dataframe tbody tr th:only-of-type {\n",
       "        vertical-align: middle;\n",
       "    }\n",
       "\n",
       "    .dataframe tbody tr th {\n",
       "        vertical-align: top;\n",
       "    }\n",
       "\n",
       "    .dataframe thead th {\n",
       "        text-align: right;\n",
       "    }\n",
       "</style>\n",
       "<table border=\"1\" class=\"dataframe\">\n",
       "  <thead>\n",
       "    <tr style=\"text-align: right;\">\n",
       "      <th>특성</th>\n",
       "      <th>지역</th>\n",
       "      <th>2015</th>\n",
       "      <th>2010</th>\n",
       "      <th>2005</th>\n",
       "      <th>2000</th>\n",
       "      <th>2005-2010 증가율</th>\n",
       "    </tr>\n",
       "    <tr>\n",
       "      <th>도시</th>\n",
       "      <th></th>\n",
       "      <th></th>\n",
       "      <th></th>\n",
       "      <th></th>\n",
       "      <th></th>\n",
       "      <th></th>\n",
       "    </tr>\n",
       "  </thead>\n",
       "  <tbody>\n",
       "    <tr>\n",
       "      <th>서울</th>\n",
       "      <td>수도권</td>\n",
       "      <td>9904312</td>\n",
       "      <td>9631482</td>\n",
       "      <td>9762546</td>\n",
       "      <td>9853972</td>\n",
       "      <td>-1.34</td>\n",
       "    </tr>\n",
       "    <tr>\n",
       "      <th>부산</th>\n",
       "      <td>경상권</td>\n",
       "      <td>3448737</td>\n",
       "      <td>3393191</td>\n",
       "      <td>3512547</td>\n",
       "      <td>3655437</td>\n",
       "      <td>-3.40</td>\n",
       "    </tr>\n",
       "    <tr>\n",
       "      <th>인천</th>\n",
       "      <td>수도권</td>\n",
       "      <td>2890451</td>\n",
       "      <td>2632035</td>\n",
       "      <td>2517680</td>\n",
       "      <td>2466338</td>\n",
       "      <td>4.54</td>\n",
       "    </tr>\n",
       "    <tr>\n",
       "      <th>대구</th>\n",
       "      <td>경상권</td>\n",
       "      <td>2466052</td>\n",
       "      <td>2431774</td>\n",
       "      <td>2456016</td>\n",
       "      <td>2473990</td>\n",
       "      <td>-0.99</td>\n",
       "    </tr>\n",
       "  </tbody>\n",
       "</table>\n",
       "</div>"
      ],
      "text/plain": [
       "특성   지역     2015     2010     2005     2000  2005-2010 증가율\n",
       "도시                                                        \n",
       "서울  수도권  9904312  9631482  9762546  9853972          -1.34\n",
       "부산  경상권  3448737  3393191  3512547  3655437          -3.40\n",
       "인천  수도권  2890451  2632035  2517680  2466338           4.54\n",
       "대구  경상권  2466052  2431774  2456016  2473990          -0.99"
      ]
     },
     "execution_count": 239,
     "metadata": {},
     "output_type": "execute_result"
    }
   ],
   "source": [
    "# \"2010-2015 증가율\"이라는 이름의 열 삭제\n",
    "del df[\"2010-2015 증가율\"]\n",
    "df"
   ]
  },
  {
   "cell_type": "markdown",
   "id": "71454f9f-ed7e-4f88-ae0e-74eed63904fe",
   "metadata": {},
   "source": [
    "## 열 인덱싱\n",
    "데이터프레임은 열 라벨을 키로, 열 시리즈를 값으로 가지는 딕셔너리와 비슷하다고 하였다.\n",
    "따라서 데이터프레임을 인덱싱을 할 때도 열 라벨(column label)을 키값으로 생각하여 인덱싱을 할 수 있다.\n",
    "인덱스로 라벨 값을 하나만 넣으면 시리즈 객체가 반환되고 라벨의 배열 또는 리스트를 넣으면 부분적인 데이터프레임이 반환된다."
   ]
  },
  {
   "cell_type": "code",
   "execution_count": 241,
   "id": "952cc45d-a83f-4f57-a19d-109a84397c55",
   "metadata": {},
   "outputs": [
    {
     "data": {
      "text/plain": [
       "도시\n",
       "서울    수도권\n",
       "부산    경상권\n",
       "인천    수도권\n",
       "대구    경상권\n",
       "Name: 지역, dtype: object"
      ]
     },
     "execution_count": 241,
     "metadata": {},
     "output_type": "execute_result"
    }
   ],
   "source": [
    "# 하나의 열만 인덱싱하면 시리즈가 반환된다.\n",
    "df[\"지역\"]"
   ]
  },
  {
   "cell_type": "code",
   "execution_count": 243,
   "id": "b1b3edf7-0175-4c73-8d8f-b8a80d945954",
   "metadata": {},
   "outputs": [
    {
     "data": {
      "text/html": [
       "<div>\n",
       "<style scoped>\n",
       "    .dataframe tbody tr th:only-of-type {\n",
       "        vertical-align: middle;\n",
       "    }\n",
       "\n",
       "    .dataframe tbody tr th {\n",
       "        vertical-align: top;\n",
       "    }\n",
       "\n",
       "    .dataframe thead th {\n",
       "        text-align: right;\n",
       "    }\n",
       "</style>\n",
       "<table border=\"1\" class=\"dataframe\">\n",
       "  <thead>\n",
       "    <tr style=\"text-align: right;\">\n",
       "      <th>특성</th>\n",
       "      <th>2010</th>\n",
       "      <th>2015</th>\n",
       "    </tr>\n",
       "    <tr>\n",
       "      <th>도시</th>\n",
       "      <th></th>\n",
       "      <th></th>\n",
       "    </tr>\n",
       "  </thead>\n",
       "  <tbody>\n",
       "    <tr>\n",
       "      <th>서울</th>\n",
       "      <td>9631482</td>\n",
       "      <td>9904312</td>\n",
       "    </tr>\n",
       "    <tr>\n",
       "      <th>부산</th>\n",
       "      <td>3393191</td>\n",
       "      <td>3448737</td>\n",
       "    </tr>\n",
       "    <tr>\n",
       "      <th>인천</th>\n",
       "      <td>2632035</td>\n",
       "      <td>2890451</td>\n",
       "    </tr>\n",
       "    <tr>\n",
       "      <th>대구</th>\n",
       "      <td>2431774</td>\n",
       "      <td>2466052</td>\n",
       "    </tr>\n",
       "  </tbody>\n",
       "</table>\n",
       "</div>"
      ],
      "text/plain": [
       "특성     2010     2015\n",
       "도시                  \n",
       "서울  9631482  9904312\n",
       "부산  3393191  3448737\n",
       "인천  2632035  2890451\n",
       "대구  2431774  2466052"
      ]
     },
     "execution_count": 243,
     "metadata": {},
     "output_type": "execute_result"
    }
   ],
   "source": [
    "# 여러개의 열을 인덱싱하면 부분적인 데이터프레임이 반환된다.\n",
    "df[ [\"2010\", \"2015\"] ]"
   ]
  },
  {
   "cell_type": "code",
   "execution_count": 244,
   "id": "e88985b4-9970-4071-994a-13e953726280",
   "metadata": {},
   "outputs": [
    {
     "data": {
      "text/plain": [
       "(도시\n",
       " 서울    9631482\n",
       " 부산    3393191\n",
       " 인천    2632035\n",
       " 대구    2431774\n",
       " Name: 2010, dtype: int64,\n",
       " pandas.core.series.Series)"
      ]
     },
     "execution_count": 244,
     "metadata": {},
     "output_type": "execute_result"
    }
   ],
   "source": [
    "# 2010이라는 열을 반환하면서 시리즈 자료형으로 변환\n",
    "df[ \"2010\" ], type(df[\"2010\"])"
   ]
  },
  {
   "cell_type": "code",
   "execution_count": 245,
   "id": "d57e2213-7a8e-4b63-a843-728b5dc3d2a6",
   "metadata": {},
   "outputs": [
    {
     "data": {
      "text/html": [
       "<div>\n",
       "<style scoped>\n",
       "    .dataframe tbody tr th:only-of-type {\n",
       "        vertical-align: middle;\n",
       "    }\n",
       "\n",
       "    .dataframe tbody tr th {\n",
       "        vertical-align: top;\n",
       "    }\n",
       "\n",
       "    .dataframe thead th {\n",
       "        text-align: right;\n",
       "    }\n",
       "</style>\n",
       "<table border=\"1\" class=\"dataframe\">\n",
       "  <thead>\n",
       "    <tr style=\"text-align: right;\">\n",
       "      <th>특성</th>\n",
       "      <th>2010</th>\n",
       "    </tr>\n",
       "    <tr>\n",
       "      <th>도시</th>\n",
       "      <th></th>\n",
       "    </tr>\n",
       "  </thead>\n",
       "  <tbody>\n",
       "    <tr>\n",
       "      <th>서울</th>\n",
       "      <td>9631482</td>\n",
       "    </tr>\n",
       "    <tr>\n",
       "      <th>부산</th>\n",
       "      <td>3393191</td>\n",
       "    </tr>\n",
       "    <tr>\n",
       "      <th>인천</th>\n",
       "      <td>2632035</td>\n",
       "    </tr>\n",
       "    <tr>\n",
       "      <th>대구</th>\n",
       "      <td>2431774</td>\n",
       "    </tr>\n",
       "  </tbody>\n",
       "</table>\n",
       "</div>"
      ],
      "text/plain": [
       "특성     2010\n",
       "도시         \n",
       "서울  9631482\n",
       "부산  3393191\n",
       "인천  2632035\n",
       "대구  2431774"
      ]
     },
     "execution_count": 245,
     "metadata": {},
     "output_type": "execute_result"
    }
   ],
   "source": [
    "# 2010이라는 열을 반환하면서 데이터프레임 자료형을 유지\n",
    "df[ [\"2010\"] ]"
   ]
  },
  {
   "cell_type": "code",
   "execution_count": 246,
   "id": "76c32240-b0f8-424e-b384-f8f094942c5b",
   "metadata": {},
   "outputs": [
    {
     "data": {
      "text/plain": [
       "pandas.core.frame.DataFrame"
      ]
     },
     "execution_count": 246,
     "metadata": {},
     "output_type": "execute_result"
    }
   ],
   "source": [
    " type(df[[\"2010\"]])"
   ]
  },
  {
   "cell_type": "code",
   "execution_count": 247,
   "id": "003e5613-83da-4028-96e6-262609518982",
   "metadata": {},
   "outputs": [],
   "source": [
    "import numpy as np"
   ]
  },
  {
   "cell_type": "code",
   "execution_count": 248,
   "id": "344cd593-d16c-43d8-a048-133810892d7e",
   "metadata": {},
   "outputs": [
    {
     "data": {
      "text/html": [
       "<div>\n",
       "<style scoped>\n",
       "    .dataframe tbody tr th:only-of-type {\n",
       "        vertical-align: middle;\n",
       "    }\n",
       "\n",
       "    .dataframe tbody tr th {\n",
       "        vertical-align: top;\n",
       "    }\n",
       "\n",
       "    .dataframe thead th {\n",
       "        text-align: right;\n",
       "    }\n",
       "</style>\n",
       "<table border=\"1\" class=\"dataframe\">\n",
       "  <thead>\n",
       "    <tr style=\"text-align: right;\">\n",
       "      <th></th>\n",
       "      <th>0</th>\n",
       "      <th>1</th>\n",
       "      <th>2</th>\n",
       "      <th>3</th>\n",
       "    </tr>\n",
       "  </thead>\n",
       "  <tbody>\n",
       "    <tr>\n",
       "      <th>0</th>\n",
       "      <td>0</td>\n",
       "      <td>1</td>\n",
       "      <td>2</td>\n",
       "      <td>3</td>\n",
       "    </tr>\n",
       "    <tr>\n",
       "      <th>1</th>\n",
       "      <td>4</td>\n",
       "      <td>5</td>\n",
       "      <td>6</td>\n",
       "      <td>7</td>\n",
       "    </tr>\n",
       "    <tr>\n",
       "      <th>2</th>\n",
       "      <td>8</td>\n",
       "      <td>9</td>\n",
       "      <td>10</td>\n",
       "      <td>11</td>\n",
       "    </tr>\n",
       "  </tbody>\n",
       "</table>\n",
       "</div>"
      ],
      "text/plain": [
       "   0  1   2   3\n",
       "0  0  1   2   3\n",
       "1  4  5   6   7\n",
       "2  8  9  10  11"
      ]
     },
     "execution_count": 248,
     "metadata": {},
     "output_type": "execute_result"
    }
   ],
   "source": [
    "df2 = pd.DataFrame(np.arange(12).reshape(3, 4))\n",
    "df2"
   ]
  },
  {
   "cell_type": "code",
   "execution_count": 249,
   "id": "150b30c1-a992-43b5-b11b-01c4199cd018",
   "metadata": {},
   "outputs": [
    {
     "data": {
      "text/plain": [
       "0     2\n",
       "1     6\n",
       "2    10\n",
       "Name: 2, dtype: int32"
      ]
     },
     "execution_count": 249,
     "metadata": {},
     "output_type": "execute_result"
    }
   ],
   "source": [
    "df2[2]"
   ]
  },
  {
   "cell_type": "code",
   "execution_count": 250,
   "id": "aecddd8b-765c-4b5e-870c-cb50ce83136c",
   "metadata": {},
   "outputs": [
    {
     "data": {
      "text/html": [
       "<div>\n",
       "<style scoped>\n",
       "    .dataframe tbody tr th:only-of-type {\n",
       "        vertical-align: middle;\n",
       "    }\n",
       "\n",
       "    .dataframe tbody tr th {\n",
       "        vertical-align: top;\n",
       "    }\n",
       "\n",
       "    .dataframe thead th {\n",
       "        text-align: right;\n",
       "    }\n",
       "</style>\n",
       "<table border=\"1\" class=\"dataframe\">\n",
       "  <thead>\n",
       "    <tr style=\"text-align: right;\">\n",
       "      <th></th>\n",
       "      <th>1</th>\n",
       "      <th>2</th>\n",
       "    </tr>\n",
       "  </thead>\n",
       "  <tbody>\n",
       "    <tr>\n",
       "      <th>0</th>\n",
       "      <td>1</td>\n",
       "      <td>2</td>\n",
       "    </tr>\n",
       "    <tr>\n",
       "      <th>1</th>\n",
       "      <td>5</td>\n",
       "      <td>6</td>\n",
       "    </tr>\n",
       "    <tr>\n",
       "      <th>2</th>\n",
       "      <td>9</td>\n",
       "      <td>10</td>\n",
       "    </tr>\n",
       "  </tbody>\n",
       "</table>\n",
       "</div>"
      ],
      "text/plain": [
       "   1   2\n",
       "0  1   2\n",
       "1  5   6\n",
       "2  9  10"
      ]
     },
     "execution_count": 250,
     "metadata": {},
     "output_type": "execute_result"
    }
   ],
   "source": [
    "df2[[1, 2]]"
   ]
  },
  {
   "cell_type": "markdown",
   "id": "db7d86a1-a4ac-4ebe-b111-3c323f936952",
   "metadata": {},
   "source": [
    "## 행 인덱싱\n",
    "만약 행 단위로 인덱싱을 하고자 하면 항상 슬라이싱(slicing)을 해야 한다.\n",
    "인덱스의 값이 문자 라벨이면 라벨 슬라이싱도 가능하다."
   ]
  },
  {
   "cell_type": "code",
   "execution_count": 252,
   "id": "30572f8a-024f-433a-9b66-2d5bdbb79773",
   "metadata": {},
   "outputs": [
    {
     "data": {
      "text/html": [
       "<div>\n",
       "<style scoped>\n",
       "    .dataframe tbody tr th:only-of-type {\n",
       "        vertical-align: middle;\n",
       "    }\n",
       "\n",
       "    .dataframe tbody tr th {\n",
       "        vertical-align: top;\n",
       "    }\n",
       "\n",
       "    .dataframe thead th {\n",
       "        text-align: right;\n",
       "    }\n",
       "</style>\n",
       "<table border=\"1\" class=\"dataframe\">\n",
       "  <thead>\n",
       "    <tr style=\"text-align: right;\">\n",
       "      <th>특성</th>\n",
       "      <th>지역</th>\n",
       "      <th>2015</th>\n",
       "      <th>2010</th>\n",
       "      <th>2005</th>\n",
       "      <th>2000</th>\n",
       "      <th>2005-2010 증가율</th>\n",
       "    </tr>\n",
       "    <tr>\n",
       "      <th>도시</th>\n",
       "      <th></th>\n",
       "      <th></th>\n",
       "      <th></th>\n",
       "      <th></th>\n",
       "      <th></th>\n",
       "      <th></th>\n",
       "    </tr>\n",
       "  </thead>\n",
       "  <tbody>\n",
       "    <tr>\n",
       "      <th>서울</th>\n",
       "      <td>수도권</td>\n",
       "      <td>9904312</td>\n",
       "      <td>9631482</td>\n",
       "      <td>9762546</td>\n",
       "      <td>9853972</td>\n",
       "      <td>-1.34</td>\n",
       "    </tr>\n",
       "    <tr>\n",
       "      <th>부산</th>\n",
       "      <td>경상권</td>\n",
       "      <td>3448737</td>\n",
       "      <td>3393191</td>\n",
       "      <td>3512547</td>\n",
       "      <td>3655437</td>\n",
       "      <td>-3.40</td>\n",
       "    </tr>\n",
       "    <tr>\n",
       "      <th>인천</th>\n",
       "      <td>수도권</td>\n",
       "      <td>2890451</td>\n",
       "      <td>2632035</td>\n",
       "      <td>2517680</td>\n",
       "      <td>2466338</td>\n",
       "      <td>4.54</td>\n",
       "    </tr>\n",
       "    <tr>\n",
       "      <th>대구</th>\n",
       "      <td>경상권</td>\n",
       "      <td>2466052</td>\n",
       "      <td>2431774</td>\n",
       "      <td>2456016</td>\n",
       "      <td>2473990</td>\n",
       "      <td>-0.99</td>\n",
       "    </tr>\n",
       "  </tbody>\n",
       "</table>\n",
       "</div>"
      ],
      "text/plain": [
       "특성   지역     2015     2010     2005     2000  2005-2010 증가율\n",
       "도시                                                        \n",
       "서울  수도권  9904312  9631482  9762546  9853972          -1.34\n",
       "부산  경상권  3448737  3393191  3512547  3655437          -3.40\n",
       "인천  수도권  2890451  2632035  2517680  2466338           4.54\n",
       "대구  경상권  2466052  2431774  2456016  2473990          -0.99"
      ]
     },
     "execution_count": 252,
     "metadata": {},
     "output_type": "execute_result"
    }
   ],
   "source": [
    "df"
   ]
  },
  {
   "cell_type": "code",
   "execution_count": 253,
   "id": "84bef3dc-6f23-44bb-b4b3-1251dd573b51",
   "metadata": {
    "collapsed": true,
    "jupyter": {
     "outputs_hidden": true
    }
   },
   "outputs": [
    {
     "ename": "KeyError",
     "evalue": "1",
     "output_type": "error",
     "traceback": [
      "\u001b[1;31m---------------------------------------------------------------------------\u001b[0m",
      "\u001b[1;31mKeyError\u001b[0m                                  Traceback (most recent call last)",
      "File \u001b[1;32m~\\anaconda3\\Lib\\site-packages\\pandas\\core\\indexes\\base.py:3791\u001b[0m, in \u001b[0;36mIndex.get_loc\u001b[1;34m(self, key)\u001b[0m\n\u001b[0;32m   3790\u001b[0m \u001b[38;5;28;01mtry\u001b[39;00m:\n\u001b[1;32m-> 3791\u001b[0m     \u001b[38;5;28;01mreturn\u001b[39;00m \u001b[38;5;28mself\u001b[39m\u001b[38;5;241m.\u001b[39m_engine\u001b[38;5;241m.\u001b[39mget_loc(casted_key)\n\u001b[0;32m   3792\u001b[0m \u001b[38;5;28;01mexcept\u001b[39;00m \u001b[38;5;167;01mKeyError\u001b[39;00m \u001b[38;5;28;01mas\u001b[39;00m err:\n",
      "File \u001b[1;32mindex.pyx:152\u001b[0m, in \u001b[0;36mpandas._libs.index.IndexEngine.get_loc\u001b[1;34m()\u001b[0m\n",
      "File \u001b[1;32mindex.pyx:181\u001b[0m, in \u001b[0;36mpandas._libs.index.IndexEngine.get_loc\u001b[1;34m()\u001b[0m\n",
      "File \u001b[1;32mpandas\\_libs\\hashtable_class_helper.pxi:7080\u001b[0m, in \u001b[0;36mpandas._libs.hashtable.PyObjectHashTable.get_item\u001b[1;34m()\u001b[0m\n",
      "File \u001b[1;32mpandas\\_libs\\hashtable_class_helper.pxi:7088\u001b[0m, in \u001b[0;36mpandas._libs.hashtable.PyObjectHashTable.get_item\u001b[1;34m()\u001b[0m\n",
      "\u001b[1;31mKeyError\u001b[0m: 1",
      "\nThe above exception was the direct cause of the following exception:\n",
      "\u001b[1;31mKeyError\u001b[0m                                  Traceback (most recent call last)",
      "Cell \u001b[1;32mIn[253], line 1\u001b[0m\n\u001b[1;32m----> 1\u001b[0m df[\u001b[38;5;241m1\u001b[39m]\n",
      "File \u001b[1;32m~\\anaconda3\\Lib\\site-packages\\pandas\\core\\frame.py:3893\u001b[0m, in \u001b[0;36mDataFrame.__getitem__\u001b[1;34m(self, key)\u001b[0m\n\u001b[0;32m   3891\u001b[0m \u001b[38;5;28;01mif\u001b[39;00m \u001b[38;5;28mself\u001b[39m\u001b[38;5;241m.\u001b[39mcolumns\u001b[38;5;241m.\u001b[39mnlevels \u001b[38;5;241m>\u001b[39m \u001b[38;5;241m1\u001b[39m:\n\u001b[0;32m   3892\u001b[0m     \u001b[38;5;28;01mreturn\u001b[39;00m \u001b[38;5;28mself\u001b[39m\u001b[38;5;241m.\u001b[39m_getitem_multilevel(key)\n\u001b[1;32m-> 3893\u001b[0m indexer \u001b[38;5;241m=\u001b[39m \u001b[38;5;28mself\u001b[39m\u001b[38;5;241m.\u001b[39mcolumns\u001b[38;5;241m.\u001b[39mget_loc(key)\n\u001b[0;32m   3894\u001b[0m \u001b[38;5;28;01mif\u001b[39;00m is_integer(indexer):\n\u001b[0;32m   3895\u001b[0m     indexer \u001b[38;5;241m=\u001b[39m [indexer]\n",
      "File \u001b[1;32m~\\anaconda3\\Lib\\site-packages\\pandas\\core\\indexes\\base.py:3798\u001b[0m, in \u001b[0;36mIndex.get_loc\u001b[1;34m(self, key)\u001b[0m\n\u001b[0;32m   3793\u001b[0m     \u001b[38;5;28;01mif\u001b[39;00m \u001b[38;5;28misinstance\u001b[39m(casted_key, \u001b[38;5;28mslice\u001b[39m) \u001b[38;5;129;01mor\u001b[39;00m (\n\u001b[0;32m   3794\u001b[0m         \u001b[38;5;28misinstance\u001b[39m(casted_key, abc\u001b[38;5;241m.\u001b[39mIterable)\n\u001b[0;32m   3795\u001b[0m         \u001b[38;5;129;01mand\u001b[39;00m \u001b[38;5;28many\u001b[39m(\u001b[38;5;28misinstance\u001b[39m(x, \u001b[38;5;28mslice\u001b[39m) \u001b[38;5;28;01mfor\u001b[39;00m x \u001b[38;5;129;01min\u001b[39;00m casted_key)\n\u001b[0;32m   3796\u001b[0m     ):\n\u001b[0;32m   3797\u001b[0m         \u001b[38;5;28;01mraise\u001b[39;00m InvalidIndexError(key)\n\u001b[1;32m-> 3798\u001b[0m     \u001b[38;5;28;01mraise\u001b[39;00m \u001b[38;5;167;01mKeyError\u001b[39;00m(key) \u001b[38;5;28;01mfrom\u001b[39;00m \u001b[38;5;21;01merr\u001b[39;00m\n\u001b[0;32m   3799\u001b[0m \u001b[38;5;28;01mexcept\u001b[39;00m \u001b[38;5;167;01mTypeError\u001b[39;00m:\n\u001b[0;32m   3800\u001b[0m     \u001b[38;5;66;03m# If we have a listlike key, _check_indexing_error will raise\u001b[39;00m\n\u001b[0;32m   3801\u001b[0m     \u001b[38;5;66;03m#  InvalidIndexError. Otherwise we fall through and re-raise\u001b[39;00m\n\u001b[0;32m   3802\u001b[0m     \u001b[38;5;66;03m#  the TypeError.\u001b[39;00m\n\u001b[0;32m   3803\u001b[0m     \u001b[38;5;28mself\u001b[39m\u001b[38;5;241m.\u001b[39m_check_indexing_error(key)\n",
      "\u001b[1;31mKeyError\u001b[0m: 1"
     ]
    }
   ],
   "source": [
    "df[1] # error"
   ]
  },
  {
   "cell_type": "code",
   "execution_count": 254,
   "id": "ed30776b-c2b4-49b9-ab05-98484a55a09a",
   "metadata": {},
   "outputs": [
    {
     "data": {
      "text/html": [
       "<div>\n",
       "<style scoped>\n",
       "    .dataframe tbody tr th:only-of-type {\n",
       "        vertical-align: middle;\n",
       "    }\n",
       "\n",
       "    .dataframe tbody tr th {\n",
       "        vertical-align: top;\n",
       "    }\n",
       "\n",
       "    .dataframe thead th {\n",
       "        text-align: right;\n",
       "    }\n",
       "</style>\n",
       "<table border=\"1\" class=\"dataframe\">\n",
       "  <thead>\n",
       "    <tr style=\"text-align: right;\">\n",
       "      <th>특성</th>\n",
       "      <th>지역</th>\n",
       "      <th>2015</th>\n",
       "      <th>2010</th>\n",
       "      <th>2005</th>\n",
       "      <th>2000</th>\n",
       "      <th>2005-2010 증가율</th>\n",
       "    </tr>\n",
       "    <tr>\n",
       "      <th>도시</th>\n",
       "      <th></th>\n",
       "      <th></th>\n",
       "      <th></th>\n",
       "      <th></th>\n",
       "      <th></th>\n",
       "      <th></th>\n",
       "    </tr>\n",
       "  </thead>\n",
       "  <tbody>\n",
       "    <tr>\n",
       "      <th>서울</th>\n",
       "      <td>수도권</td>\n",
       "      <td>9904312</td>\n",
       "      <td>9631482</td>\n",
       "      <td>9762546</td>\n",
       "      <td>9853972</td>\n",
       "      <td>-1.34</td>\n",
       "    </tr>\n",
       "  </tbody>\n",
       "</table>\n",
       "</div>"
      ],
      "text/plain": [
       "특성   지역     2015     2010     2005     2000  2005-2010 증가율\n",
       "도시                                                        \n",
       "서울  수도권  9904312  9631482  9762546  9853972          -1.34"
      ]
     },
     "execution_count": 254,
     "metadata": {},
     "output_type": "execute_result"
    }
   ],
   "source": [
    "df[:1]"
   ]
  },
  {
   "cell_type": "code",
   "execution_count": 255,
   "id": "05a855c2-29d0-4474-92b2-016d12dbb023",
   "metadata": {},
   "outputs": [
    {
     "data": {
      "text/html": [
       "<div>\n",
       "<style scoped>\n",
       "    .dataframe tbody tr th:only-of-type {\n",
       "        vertical-align: middle;\n",
       "    }\n",
       "\n",
       "    .dataframe tbody tr th {\n",
       "        vertical-align: top;\n",
       "    }\n",
       "\n",
       "    .dataframe thead th {\n",
       "        text-align: right;\n",
       "    }\n",
       "</style>\n",
       "<table border=\"1\" class=\"dataframe\">\n",
       "  <thead>\n",
       "    <tr style=\"text-align: right;\">\n",
       "      <th>특성</th>\n",
       "      <th>지역</th>\n",
       "      <th>2015</th>\n",
       "      <th>2010</th>\n",
       "      <th>2005</th>\n",
       "      <th>2000</th>\n",
       "      <th>2005-2010 증가율</th>\n",
       "    </tr>\n",
       "    <tr>\n",
       "      <th>도시</th>\n",
       "      <th></th>\n",
       "      <th></th>\n",
       "      <th></th>\n",
       "      <th></th>\n",
       "      <th></th>\n",
       "      <th></th>\n",
       "    </tr>\n",
       "  </thead>\n",
       "  <tbody>\n",
       "    <tr>\n",
       "      <th>부산</th>\n",
       "      <td>경상권</td>\n",
       "      <td>3448737</td>\n",
       "      <td>3393191</td>\n",
       "      <td>3512547</td>\n",
       "      <td>3655437</td>\n",
       "      <td>-3.4</td>\n",
       "    </tr>\n",
       "  </tbody>\n",
       "</table>\n",
       "</div>"
      ],
      "text/plain": [
       "특성   지역     2015     2010     2005     2000  2005-2010 증가율\n",
       "도시                                                        \n",
       "부산  경상권  3448737  3393191  3512547  3655437           -3.4"
      ]
     },
     "execution_count": 255,
     "metadata": {},
     "output_type": "execute_result"
    }
   ],
   "source": [
    "df[1:2]"
   ]
  },
  {
   "cell_type": "code",
   "execution_count": 256,
   "id": "c3f64c53-1954-4e8d-bdfb-3917db4678af",
   "metadata": {},
   "outputs": [
    {
     "data": {
      "text/html": [
       "<div>\n",
       "<style scoped>\n",
       "    .dataframe tbody tr th:only-of-type {\n",
       "        vertical-align: middle;\n",
       "    }\n",
       "\n",
       "    .dataframe tbody tr th {\n",
       "        vertical-align: top;\n",
       "    }\n",
       "\n",
       "    .dataframe thead th {\n",
       "        text-align: right;\n",
       "    }\n",
       "</style>\n",
       "<table border=\"1\" class=\"dataframe\">\n",
       "  <thead>\n",
       "    <tr style=\"text-align: right;\">\n",
       "      <th>특성</th>\n",
       "      <th>지역</th>\n",
       "      <th>2015</th>\n",
       "      <th>2010</th>\n",
       "      <th>2005</th>\n",
       "      <th>2000</th>\n",
       "      <th>2005-2010 증가율</th>\n",
       "    </tr>\n",
       "    <tr>\n",
       "      <th>도시</th>\n",
       "      <th></th>\n",
       "      <th></th>\n",
       "      <th></th>\n",
       "      <th></th>\n",
       "      <th></th>\n",
       "      <th></th>\n",
       "    </tr>\n",
       "  </thead>\n",
       "  <tbody>\n",
       "    <tr>\n",
       "      <th>부산</th>\n",
       "      <td>경상권</td>\n",
       "      <td>3448737</td>\n",
       "      <td>3393191</td>\n",
       "      <td>3512547</td>\n",
       "      <td>3655437</td>\n",
       "      <td>-3.40</td>\n",
       "    </tr>\n",
       "    <tr>\n",
       "      <th>인천</th>\n",
       "      <td>수도권</td>\n",
       "      <td>2890451</td>\n",
       "      <td>2632035</td>\n",
       "      <td>2517680</td>\n",
       "      <td>2466338</td>\n",
       "      <td>4.54</td>\n",
       "    </tr>\n",
       "  </tbody>\n",
       "</table>\n",
       "</div>"
      ],
      "text/plain": [
       "특성   지역     2015     2010     2005     2000  2005-2010 증가율\n",
       "도시                                                        \n",
       "부산  경상권  3448737  3393191  3512547  3655437          -3.40\n",
       "인천  수도권  2890451  2632035  2517680  2466338           4.54"
      ]
     },
     "execution_count": 256,
     "metadata": {},
     "output_type": "execute_result"
    }
   ],
   "source": [
    "df[1:3]"
   ]
  },
  {
   "cell_type": "code",
   "execution_count": 257,
   "id": "c1368714-b663-48a6-8a2a-f9b2cdd2ac60",
   "metadata": {},
   "outputs": [
    {
     "data": {
      "text/html": [
       "<div>\n",
       "<style scoped>\n",
       "    .dataframe tbody tr th:only-of-type {\n",
       "        vertical-align: middle;\n",
       "    }\n",
       "\n",
       "    .dataframe tbody tr th {\n",
       "        vertical-align: top;\n",
       "    }\n",
       "\n",
       "    .dataframe thead th {\n",
       "        text-align: right;\n",
       "    }\n",
       "</style>\n",
       "<table border=\"1\" class=\"dataframe\">\n",
       "  <thead>\n",
       "    <tr style=\"text-align: right;\">\n",
       "      <th>특성</th>\n",
       "      <th>지역</th>\n",
       "      <th>2015</th>\n",
       "      <th>2010</th>\n",
       "      <th>2005</th>\n",
       "      <th>2000</th>\n",
       "      <th>2005-2010 증가율</th>\n",
       "    </tr>\n",
       "    <tr>\n",
       "      <th>도시</th>\n",
       "      <th></th>\n",
       "      <th></th>\n",
       "      <th></th>\n",
       "      <th></th>\n",
       "      <th></th>\n",
       "      <th></th>\n",
       "    </tr>\n",
       "  </thead>\n",
       "  <tbody>\n",
       "    <tr>\n",
       "      <th>서울</th>\n",
       "      <td>수도권</td>\n",
       "      <td>9904312</td>\n",
       "      <td>9631482</td>\n",
       "      <td>9762546</td>\n",
       "      <td>9853972</td>\n",
       "      <td>-1.34</td>\n",
       "    </tr>\n",
       "    <tr>\n",
       "      <th>부산</th>\n",
       "      <td>경상권</td>\n",
       "      <td>3448737</td>\n",
       "      <td>3393191</td>\n",
       "      <td>3512547</td>\n",
       "      <td>3655437</td>\n",
       "      <td>-3.40</td>\n",
       "    </tr>\n",
       "    <tr>\n",
       "      <th>인천</th>\n",
       "      <td>수도권</td>\n",
       "      <td>2890451</td>\n",
       "      <td>2632035</td>\n",
       "      <td>2517680</td>\n",
       "      <td>2466338</td>\n",
       "      <td>4.54</td>\n",
       "    </tr>\n",
       "  </tbody>\n",
       "</table>\n",
       "</div>"
      ],
      "text/plain": [
       "특성   지역     2015     2010     2005     2000  2005-2010 증가율\n",
       "도시                                                        \n",
       "서울  수도권  9904312  9631482  9762546  9853972          -1.34\n",
       "부산  경상권  3448737  3393191  3512547  3655437          -3.40\n",
       "인천  수도권  2890451  2632035  2517680  2466338           4.54"
      ]
     },
     "execution_count": 257,
     "metadata": {},
     "output_type": "execute_result"
    }
   ],
   "source": [
    "df[\"서울\":\"인천\"]"
   ]
  },
  {
   "cell_type": "code",
   "execution_count": 260,
   "id": "a88f2887-9efc-4c0d-acdb-d08e90180ea1",
   "metadata": {},
   "outputs": [
    {
     "data": {
      "text/html": [
       "<div>\n",
       "<style scoped>\n",
       "    .dataframe tbody tr th:only-of-type {\n",
       "        vertical-align: middle;\n",
       "    }\n",
       "\n",
       "    .dataframe tbody tr th {\n",
       "        vertical-align: top;\n",
       "    }\n",
       "\n",
       "    .dataframe thead th {\n",
       "        text-align: right;\n",
       "    }\n",
       "</style>\n",
       "<table border=\"1\" class=\"dataframe\">\n",
       "  <thead>\n",
       "    <tr style=\"text-align: right;\">\n",
       "      <th>특성</th>\n",
       "      <th>지역</th>\n",
       "      <th>2015</th>\n",
       "      <th>2010</th>\n",
       "      <th>2005</th>\n",
       "      <th>2000</th>\n",
       "      <th>2005-2010 증가율</th>\n",
       "    </tr>\n",
       "    <tr>\n",
       "      <th>도시</th>\n",
       "      <th></th>\n",
       "      <th></th>\n",
       "      <th></th>\n",
       "      <th></th>\n",
       "      <th></th>\n",
       "      <th></th>\n",
       "    </tr>\n",
       "  </thead>\n",
       "  <tbody>\n",
       "    <tr>\n",
       "      <th>부산</th>\n",
       "      <td>경상권</td>\n",
       "      <td>3448737</td>\n",
       "      <td>3393191</td>\n",
       "      <td>3512547</td>\n",
       "      <td>3655437</td>\n",
       "      <td>-3.40</td>\n",
       "    </tr>\n",
       "    <tr>\n",
       "      <th>인천</th>\n",
       "      <td>수도권</td>\n",
       "      <td>2890451</td>\n",
       "      <td>2632035</td>\n",
       "      <td>2517680</td>\n",
       "      <td>2466338</td>\n",
       "      <td>4.54</td>\n",
       "    </tr>\n",
       "  </tbody>\n",
       "</table>\n",
       "</div>"
      ],
      "text/plain": [
       "특성   지역     2015     2010     2005     2000  2005-2010 증가율\n",
       "도시                                                        \n",
       "부산  경상권  3448737  3393191  3512547  3655437          -3.40\n",
       "인천  수도권  2890451  2632035  2517680  2466338           4.54"
      ]
     },
     "execution_count": 260,
     "metadata": {},
     "output_type": "execute_result"
    }
   ],
   "source": [
    "df[1:-1]"
   ]
  },
  {
   "cell_type": "markdown",
   "id": "bf73acb9-a332-438e-acff-f2db12fd5069",
   "metadata": {},
   "source": [
    "## 개별 데이터 인덱싱\n",
    "데이터프레임에서 열 라벨로 시리즈를 인덱싱하면 시리즈가 된다.\n",
    "이 시리즈를 다시 행 라벨로 인덱싱하면 개별 데이터가 나온다.\n",
    "\n"
   ]
  },
  {
   "cell_type": "code",
   "execution_count": 264,
   "id": "d5181b1e-0479-4480-afca-bc9114b510e7",
   "metadata": {},
   "outputs": [
    {
     "data": {
      "text/plain": [
       "도시\n",
       "서울    9904312\n",
       "부산    3448737\n",
       "인천    2890451\n",
       "대구    2466052\n",
       "Name: 2015, dtype: int64"
      ]
     },
     "execution_count": 264,
     "metadata": {},
     "output_type": "execute_result"
    }
   ],
   "source": [
    "df[\"2015\"]"
   ]
  },
  {
   "cell_type": "code",
   "execution_count": 265,
   "id": "fa8ab03c-fe72-4543-af3d-72002c6e4fb3",
   "metadata": {},
   "outputs": [
    {
     "data": {
      "text/plain": [
       "9904312"
      ]
     },
     "execution_count": 265,
     "metadata": {},
     "output_type": "execute_result"
    }
   ],
   "source": [
    "df[\"2015\"][\"서울\"]"
   ]
  },
  {
   "cell_type": "markdown",
   "id": "724153de-96bc-411a-86e1-bd1cf57449d7",
   "metadata": {},
   "source": [
    "## 연습 문제\n",
    "다음 데이터프레임에서 지정하는 데이터를 뽑아내거나 처리하라.\n",
    "\n",
    "```\n",
    "data = {\n",
    "    \"국어\": [80, 90, 70, 30],\n",
    "    \"영어\": [90, 70, 60, 40],\n",
    "    \"수학\": [90, 60, 80, 70],\n",
    "}\n",
    "columns = [\"국어\", \"영어\", \"수학\"]\n",
    "index = [\"춘향\", \"몽룡\", \"향단\", \"방자\"]\n",
    "df = pd.DataFrame(data, index=index, columns=columns)\n",
    "```\n",
    "\n",
    "(1) 모든 학생의 수학 점수를 시리즈로 나타낸다.\n",
    "\n",
    "(2) 모든 학생의 국어와 영어 점수를 데이터 프레임으로 나타낸다.\n",
    "\n",
    "(3) 모든 학생의 각 과목 평균 점수를 새로운 열로 추가한다.\n",
    "\n",
    "(4) 방자의 영어 점수를 80점으로 수정하고 평균 점수도 다시 계산한다.\n",
    "\n",
    "(5) 춘향의 점수를 데이터프레임으로 나타낸다.\n",
    "\n",
    "(6) 향단의 점수를 시리즈로 나타낸다."
   ]
  },
  {
   "cell_type": "code",
   "execution_count": 279,
   "id": "d2174ba7-efe3-42a2-a614-84d353640a95",
   "metadata": {},
   "outputs": [],
   "source": [
    "data = {\n",
    "    \"국어\": [80, 90, 70, 30],\n",
    "    \"영어\": [90, 70, 60, 40],\n",
    "    \"수학\": [90, 60, 80, 70],\n",
    "}\n",
    "columns = [\"국어\", \"영어\", \"수학\"]\n",
    "index = [\"춘향\", \"몽룡\", \"향단\", \"방자\"]\n",
    "df = pd.DataFrame(data, index=index, columns=columns)"
   ]
  },
  {
   "cell_type": "code",
   "execution_count": 280,
   "id": "db48920f-3ecd-4168-9076-0c4b2748e042",
   "metadata": {},
   "outputs": [
    {
     "data": {
      "text/html": [
       "<div>\n",
       "<style scoped>\n",
       "    .dataframe tbody tr th:only-of-type {\n",
       "        vertical-align: middle;\n",
       "    }\n",
       "\n",
       "    .dataframe tbody tr th {\n",
       "        vertical-align: top;\n",
       "    }\n",
       "\n",
       "    .dataframe thead th {\n",
       "        text-align: right;\n",
       "    }\n",
       "</style>\n",
       "<table border=\"1\" class=\"dataframe\">\n",
       "  <thead>\n",
       "    <tr style=\"text-align: right;\">\n",
       "      <th></th>\n",
       "      <th>국어</th>\n",
       "      <th>영어</th>\n",
       "      <th>수학</th>\n",
       "    </tr>\n",
       "  </thead>\n",
       "  <tbody>\n",
       "    <tr>\n",
       "      <th>춘향</th>\n",
       "      <td>80</td>\n",
       "      <td>90</td>\n",
       "      <td>90</td>\n",
       "    </tr>\n",
       "    <tr>\n",
       "      <th>몽룡</th>\n",
       "      <td>90</td>\n",
       "      <td>70</td>\n",
       "      <td>60</td>\n",
       "    </tr>\n",
       "    <tr>\n",
       "      <th>향단</th>\n",
       "      <td>70</td>\n",
       "      <td>60</td>\n",
       "      <td>80</td>\n",
       "    </tr>\n",
       "    <tr>\n",
       "      <th>방자</th>\n",
       "      <td>30</td>\n",
       "      <td>40</td>\n",
       "      <td>70</td>\n",
       "    </tr>\n",
       "  </tbody>\n",
       "</table>\n",
       "</div>"
      ],
      "text/plain": [
       "    국어  영어  수학\n",
       "춘향  80  90  90\n",
       "몽룡  90  70  60\n",
       "향단  70  60  80\n",
       "방자  30  40  70"
      ]
     },
     "execution_count": 280,
     "metadata": {},
     "output_type": "execute_result"
    }
   ],
   "source": [
    "df"
   ]
  },
  {
   "cell_type": "code",
   "execution_count": 288,
   "id": "ec9f5306-e410-4d58-b2bb-0d29e80462be",
   "metadata": {},
   "outputs": [
    {
     "data": {
      "text/plain": [
       "춘향    90\n",
       "몽룡    60\n",
       "향단    80\n",
       "방자    70\n",
       "Name: 수학, dtype: int64"
      ]
     },
     "execution_count": 288,
     "metadata": {},
     "output_type": "execute_result"
    }
   ],
   "source": [
    "# (1) 모든 학생의 수학 점수를 시리즈로 나타낸다.\n",
    "df[\"수학\"]"
   ]
  },
  {
   "cell_type": "code",
   "execution_count": 290,
   "id": "8057161b-8731-4c8f-a955-ca0d2817b3cd",
   "metadata": {},
   "outputs": [
    {
     "data": {
      "text/html": [
       "<div>\n",
       "<style scoped>\n",
       "    .dataframe tbody tr th:only-of-type {\n",
       "        vertical-align: middle;\n",
       "    }\n",
       "\n",
       "    .dataframe tbody tr th {\n",
       "        vertical-align: top;\n",
       "    }\n",
       "\n",
       "    .dataframe thead th {\n",
       "        text-align: right;\n",
       "    }\n",
       "</style>\n",
       "<table border=\"1\" class=\"dataframe\">\n",
       "  <thead>\n",
       "    <tr style=\"text-align: right;\">\n",
       "      <th></th>\n",
       "      <th>국어</th>\n",
       "      <th>영어</th>\n",
       "    </tr>\n",
       "  </thead>\n",
       "  <tbody>\n",
       "    <tr>\n",
       "      <th>춘향</th>\n",
       "      <td>80</td>\n",
       "      <td>90</td>\n",
       "    </tr>\n",
       "    <tr>\n",
       "      <th>몽룡</th>\n",
       "      <td>90</td>\n",
       "      <td>70</td>\n",
       "    </tr>\n",
       "    <tr>\n",
       "      <th>향단</th>\n",
       "      <td>70</td>\n",
       "      <td>60</td>\n",
       "    </tr>\n",
       "    <tr>\n",
       "      <th>방자</th>\n",
       "      <td>30</td>\n",
       "      <td>40</td>\n",
       "    </tr>\n",
       "  </tbody>\n",
       "</table>\n",
       "</div>"
      ],
      "text/plain": [
       "    국어  영어\n",
       "춘향  80  90\n",
       "몽룡  90  70\n",
       "향단  70  60\n",
       "방자  30  40"
      ]
     },
     "execution_count": 290,
     "metadata": {},
     "output_type": "execute_result"
    }
   ],
   "source": [
    "# (2) 모든 학생의 국어와 영어 점수를 데이터 프레임으로 나타낸다.\n",
    "df[[\"국어\", \"영어\"]]"
   ]
  },
  {
   "cell_type": "code",
   "execution_count": 300,
   "id": "17af8fcc-9225-4b78-b307-a00be943ef2b",
   "metadata": {},
   "outputs": [
    {
     "data": {
      "text/html": [
       "<div>\n",
       "<style scoped>\n",
       "    .dataframe tbody tr th:only-of-type {\n",
       "        vertical-align: middle;\n",
       "    }\n",
       "\n",
       "    .dataframe tbody tr th {\n",
       "        vertical-align: top;\n",
       "    }\n",
       "\n",
       "    .dataframe thead th {\n",
       "        text-align: right;\n",
       "    }\n",
       "</style>\n",
       "<table border=\"1\" class=\"dataframe\">\n",
       "  <thead>\n",
       "    <tr style=\"text-align: right;\">\n",
       "      <th></th>\n",
       "      <th>국어</th>\n",
       "      <th>영어</th>\n",
       "      <th>수학</th>\n",
       "      <th>평균점수</th>\n",
       "    </tr>\n",
       "  </thead>\n",
       "  <tbody>\n",
       "    <tr>\n",
       "      <th>춘향</th>\n",
       "      <td>80</td>\n",
       "      <td>90</td>\n",
       "      <td>90</td>\n",
       "      <td>86.666719</td>\n",
       "    </tr>\n",
       "    <tr>\n",
       "      <th>몽룡</th>\n",
       "      <td>90</td>\n",
       "      <td>70</td>\n",
       "      <td>60</td>\n",
       "      <td>73.333281</td>\n",
       "    </tr>\n",
       "    <tr>\n",
       "      <th>향단</th>\n",
       "      <td>70</td>\n",
       "      <td>60</td>\n",
       "      <td>80</td>\n",
       "      <td>70.000000</td>\n",
       "    </tr>\n",
       "    <tr>\n",
       "      <th>방자</th>\n",
       "      <td>30</td>\n",
       "      <td>80</td>\n",
       "      <td>70</td>\n",
       "      <td>56.666719</td>\n",
       "    </tr>\n",
       "  </tbody>\n",
       "</table>\n",
       "</div>"
      ],
      "text/plain": [
       "    국어  영어  수학       평균점수\n",
       "춘향  80  90  90  86.666719\n",
       "몽룡  90  70  60  73.333281\n",
       "향단  70  60  80  70.000000\n",
       "방자  30  80  70  56.666719"
      ]
     },
     "execution_count": 300,
     "metadata": {},
     "output_type": "execute_result"
    }
   ],
   "source": [
    "# (3) 모든 학생의 각 과목 평균 점수를 새로운 열로 추가한다.\n",
    "df[\"평균점수\"]=df.mean(axis=1)\n",
    "df"
   ]
  },
  {
   "cell_type": "code",
   "execution_count": 302,
   "id": "03f80280-33c0-46d0-87aa-08922a4dcff7",
   "metadata": {},
   "outputs": [
    {
     "name": "stderr",
     "output_type": "stream",
     "text": [
      "C:\\Users\\Public\\Documents\\ESTsoft\\CreatorTemp\\ipykernel_11528\\486172372.py:2: SettingWithCopyWarning: \n",
      "A value is trying to be set on a copy of a slice from a DataFrame\n",
      "\n",
      "See the caveats in the documentation: https://pandas.pydata.org/pandas-docs/stable/user_guide/indexing.html#returning-a-view-versus-a-copy\n",
      "  df['영어']['방자'] = 80\n"
     ]
    },
    {
     "data": {
      "text/html": [
       "<div>\n",
       "<style scoped>\n",
       "    .dataframe tbody tr th:only-of-type {\n",
       "        vertical-align: middle;\n",
       "    }\n",
       "\n",
       "    .dataframe tbody tr th {\n",
       "        vertical-align: top;\n",
       "    }\n",
       "\n",
       "    .dataframe thead th {\n",
       "        text-align: right;\n",
       "    }\n",
       "</style>\n",
       "<table border=\"1\" class=\"dataframe\">\n",
       "  <thead>\n",
       "    <tr style=\"text-align: right;\">\n",
       "      <th></th>\n",
       "      <th>국어</th>\n",
       "      <th>영어</th>\n",
       "      <th>수학</th>\n",
       "      <th>평균점수</th>\n",
       "    </tr>\n",
       "  </thead>\n",
       "  <tbody>\n",
       "    <tr>\n",
       "      <th>춘향</th>\n",
       "      <td>80</td>\n",
       "      <td>90</td>\n",
       "      <td>90</td>\n",
       "      <td>86.66668</td>\n",
       "    </tr>\n",
       "    <tr>\n",
       "      <th>몽룡</th>\n",
       "      <td>90</td>\n",
       "      <td>70</td>\n",
       "      <td>60</td>\n",
       "      <td>73.33332</td>\n",
       "    </tr>\n",
       "    <tr>\n",
       "      <th>향단</th>\n",
       "      <td>70</td>\n",
       "      <td>60</td>\n",
       "      <td>80</td>\n",
       "      <td>70.00000</td>\n",
       "    </tr>\n",
       "    <tr>\n",
       "      <th>방자</th>\n",
       "      <td>30</td>\n",
       "      <td>80</td>\n",
       "      <td>70</td>\n",
       "      <td>59.16668</td>\n",
       "    </tr>\n",
       "  </tbody>\n",
       "</table>\n",
       "</div>"
      ],
      "text/plain": [
       "    국어  영어  수학      평균점수\n",
       "춘향  80  90  90  86.66668\n",
       "몽룡  90  70  60  73.33332\n",
       "향단  70  60  80  70.00000\n",
       "방자  30  80  70  59.16668"
      ]
     },
     "execution_count": 302,
     "metadata": {},
     "output_type": "execute_result"
    }
   ],
   "source": [
    "# (4) 방자의 영어 점수를 80점으로 수정하고 평균 점수도 다시 계산한다.\n",
    "df['영어']['방자'] = 80\n",
    "df[\"평균점수\"]=df.mean(axis=1)\n",
    "df"
   ]
  },
  {
   "cell_type": "code",
   "execution_count": 303,
   "id": "03fcf956-c09a-4888-9d2a-8dc0814e13c2",
   "metadata": {},
   "outputs": [
    {
     "data": {
      "text/html": [
       "<div>\n",
       "<style scoped>\n",
       "    .dataframe tbody tr th:only-of-type {\n",
       "        vertical-align: middle;\n",
       "    }\n",
       "\n",
       "    .dataframe tbody tr th {\n",
       "        vertical-align: top;\n",
       "    }\n",
       "\n",
       "    .dataframe thead th {\n",
       "        text-align: right;\n",
       "    }\n",
       "</style>\n",
       "<table border=\"1\" class=\"dataframe\">\n",
       "  <thead>\n",
       "    <tr style=\"text-align: right;\">\n",
       "      <th></th>\n",
       "      <th>국어</th>\n",
       "      <th>영어</th>\n",
       "      <th>수학</th>\n",
       "      <th>평균점수</th>\n",
       "    </tr>\n",
       "  </thead>\n",
       "  <tbody>\n",
       "    <tr>\n",
       "      <th>춘향</th>\n",
       "      <td>80</td>\n",
       "      <td>90</td>\n",
       "      <td>90</td>\n",
       "      <td>86.66668</td>\n",
       "    </tr>\n",
       "  </tbody>\n",
       "</table>\n",
       "</div>"
      ],
      "text/plain": [
       "    국어  영어  수학      평균점수\n",
       "춘향  80  90  90  86.66668"
      ]
     },
     "execution_count": 303,
     "metadata": {},
     "output_type": "execute_result"
    }
   ],
   "source": [
    "# (5) 춘향의 점수를 데이터프레임으로 나타낸다.\n",
    "df[:1]"
   ]
  },
  {
   "cell_type": "code",
   "execution_count": 305,
   "id": "23d77792-bbd9-4d68-8d09-b32517ff592b",
   "metadata": {},
   "outputs": [
    {
     "data": {
      "text/plain": [
       "국어      70.0\n",
       "영어      60.0\n",
       "수학      80.0\n",
       "평균점수    70.0\n",
       "Name: 향단, dtype: float64"
      ]
     },
     "execution_count": 305,
     "metadata": {},
     "output_type": "execute_result"
    }
   ],
   "source": [
    "# (6) 향단의 점수를 시리즈로 나타낸다.\n",
    "df.T['향단']"
   ]
  },
  {
   "cell_type": "code",
   "execution_count": null,
   "id": "eb88d596-8c39-41f9-81ff-2911daa7e5e4",
   "metadata": {},
   "outputs": [],
   "source": []
  },
  {
   "cell_type": "code",
   "execution_count": null,
   "id": "1a30029c-cf9c-4250-8f6d-b122efe7c44c",
   "metadata": {},
   "outputs": [],
   "source": []
  },
  {
   "cell_type": "code",
   "execution_count": null,
   "id": "2d8f47c6-7b12-461d-9e43-45fdc6223c0f",
   "metadata": {},
   "outputs": [],
   "source": []
  },
  {
   "cell_type": "code",
   "execution_count": null,
   "id": "a279d307-c680-4f3c-89aa-d957b610b4d8",
   "metadata": {},
   "outputs": [],
   "source": []
  },
  {
   "cell_type": "code",
   "execution_count": null,
   "id": "e4e469d3-cd37-41ab-b9f3-1e7b2e63ff4e",
   "metadata": {},
   "outputs": [],
   "source": []
  },
  {
   "cell_type": "code",
   "execution_count": null,
   "id": "3519de12-a448-44d8-b966-018ac27ce6ec",
   "metadata": {},
   "outputs": [],
   "source": []
  },
  {
   "cell_type": "code",
   "execution_count": null,
   "id": "7d9be552-8739-4cb6-b963-31fdd7bb3cf2",
   "metadata": {},
   "outputs": [],
   "source": []
  },
  {
   "cell_type": "code",
   "execution_count": null,
   "id": "ecc70b96-8eb0-4e52-a02b-a663270d0dd0",
   "metadata": {},
   "outputs": [],
   "source": []
  },
  {
   "cell_type": "code",
   "execution_count": null,
   "id": "460fcf03-a1fa-49c0-ae7f-7a47c3625540",
   "metadata": {},
   "outputs": [],
   "source": []
  },
  {
   "cell_type": "code",
   "execution_count": null,
   "id": "a823a310-9154-4567-ae4a-75cdde1efdc2",
   "metadata": {},
   "outputs": [],
   "source": []
  },
  {
   "cell_type": "code",
   "execution_count": null,
   "id": "27b52c79-1eb9-4b81-912d-5e1ccd48cf69",
   "metadata": {},
   "outputs": [],
   "source": []
  },
  {
   "cell_type": "code",
   "execution_count": null,
   "id": "3170226b-006d-449e-a327-94f9824f3d5b",
   "metadata": {},
   "outputs": [],
   "source": []
  },
  {
   "cell_type": "code",
   "execution_count": null,
   "id": "9315bc71-c444-48f1-a79f-9690928b319b",
   "metadata": {},
   "outputs": [],
   "source": []
  },
  {
   "cell_type": "code",
   "execution_count": null,
   "id": "58cecbfb-4f23-41d8-b0c9-0c4babc63eb8",
   "metadata": {},
   "outputs": [],
   "source": []
  },
  {
   "cell_type": "code",
   "execution_count": null,
   "id": "36befe6a-7561-4368-abc8-b2402f534ad0",
   "metadata": {},
   "outputs": [],
   "source": []
  },
  {
   "cell_type": "code",
   "execution_count": null,
   "id": "c41b6f53-3bbe-4709-8b90-4ba24149e60e",
   "metadata": {},
   "outputs": [],
   "source": []
  },
  {
   "cell_type": "code",
   "execution_count": null,
   "id": "65205e91-8709-4b66-92d7-59fd0ba8fabc",
   "metadata": {},
   "outputs": [],
   "source": []
  },
  {
   "cell_type": "code",
   "execution_count": null,
   "id": "50a144a0-9349-4931-ab5a-92f62c570db7",
   "metadata": {},
   "outputs": [],
   "source": []
  },
  {
   "cell_type": "code",
   "execution_count": null,
   "id": "13accafb-7bcf-4da6-bd7f-e935f59dfbe5",
   "metadata": {},
   "outputs": [],
   "source": []
  }
 ],
 "metadata": {
  "kernelspec": {
   "display_name": "Python 3 (ipykernel)",
   "language": "python",
   "name": "python3"
  },
  "language_info": {
   "codemirror_mode": {
    "name": "ipython",
    "version": 3
   },
   "file_extension": ".py",
   "mimetype": "text/x-python",
   "name": "python",
   "nbconvert_exporter": "python",
   "pygments_lexer": "ipython3",
   "version": "3.11.7"
  }
 },
 "nbformat": 4,
 "nbformat_minor": 5
}
